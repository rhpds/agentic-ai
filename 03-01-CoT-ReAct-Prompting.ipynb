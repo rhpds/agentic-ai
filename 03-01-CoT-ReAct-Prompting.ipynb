{
 "cells": [
  {
   "cell_type": "markdown",
   "id": "e8987006-614e-41b7-9c2f-aa6359e8e231",
   "metadata": {},
   "source": [
    "# getting started\n",
    "\n",
    "In this lab we will compare Chain of Though (Cot) and ReAct (Reason Act) Prompting"
   ]
  },
  {
   "cell_type": "code",
   "execution_count": null,
   "id": "6c55909c-3009-4319-9cb6-cbfdce425961",
   "metadata": {},
   "outputs": [],
   "source": []
  },
  {
   "cell_type": "code",
   "execution_count": 16,
   "id": "201a5506-5b38-4fcb-a0c6-45e67a8ed5c1",
   "metadata": {},
   "outputs": [],
   "source": [
    "import openai\n",
    "import re\n",
    "# import httpx\n",
    "import os\n",
    "# import rich\n",
    "import json\n",
    "from openai import OpenAI\n",
    "\n",
    "api_key = \"placeholder\" \n",
    "# model = \"llama3.2:3b-instruct-fp16\"\n",
    "model = \"qwen3:32b\"\n",
    "model = \"phi4\"\n",
    "base_url = \"http://localhost:11434/v1/\"\n",
    "\n",
    "client = OpenAI(\n",
    "    base_url=base_url,\n",
    "    api_key=api_key,\n",
    ")\n",
    "\n"
   ]
  },
  {
   "cell_type": "markdown",
   "id": "9127c382-7143-41da-8723-898f392e5db1",
   "metadata": {},
   "source": [
    "# Chain of Thought"
   ]
  },
  {
   "cell_type": "markdown",
   "id": "88c7476f-a86b-4f20-ae24-cf070b2493ec",
   "metadata": {},
   "source": [
    "A Chain of Thought (CoT) prompt is a prompting technique used with large language models (LLMs) where you explicitly guide the model to reason step-by-step before arriving at the final answer.\n",
    "\n",
    "Instead of asking the model to directly give you an answer, a CoT prompt encourages it to \"think aloud\"—breaking down the problem, analyzing it in stages, and only then giving a conclusion. This helps improve accuracy, especially for complex reasoning, math, logic, or multi-hop questions.\n",
    "\n",
    "Can be combined with few-shot prompting (i.e., giving multiple CoT examples before the actual question)"
   ]
  },
  {
   "cell_type": "code",
   "execution_count": 4,
   "id": "112d49f4-f8d6-444b-8ecf-651efc85bfbb",
   "metadata": {},
   "outputs": [],
   "source": [
    "# Static example to demonstrate format (few-shot learning)\n",
    "prompt = \"\"\"\n",
    "You are a thoughtful and logical assistant. For every question, you will:\n",
    "- Think step-by-step under a “Thought” section.\n",
    "- Then write the final result under “Answer”.\n",
    "- Always follow the structure shown below.\n",
    "\n",
    "Use this format:\n",
    "Question: <the question>\n",
    "Thought: <your detailed reasoning>\n",
    "Answer: <final answer>\n",
    "\n",
    "Here are some examples:\n",
    "\n",
    "Question: If a train leaves at 2 PM and takes 3 hours to reach its destination, what time does it arrive?\n",
    "Thought: The train departs at 2 PM. If it travels for 3 hours, it will arrive at 2 + 3 = 5 PM.\n",
    "Answer: 5 PM\n",
    "\n",
    "Question: What is the capital of the country whose official language is French and borders Germany?\n",
    "Thought: France is a country that borders Germany and has French as its official language. The capital of France is Paris.\n",
    "Answer: Paris\n",
    "\n",
    "Question: What is the sum of the first three even numbers?\n",
    "Thought: The first three even numbers are 2, 4, and 6. Their sum is 2 + 4 + 6 = 12.\n",
    "Answer: 12\n",
    "\n",
    "Now answer the next question using the same format:\n",
    "\"\"\"\n",
    "\n",
    "#question = \"what is elevation range for the area that the eastern sector of colorado orogeny extends into?\"\n",
    "question = \"If Tom has 5 cookies and eats 2, how many does he have left?\""
   ]
  },
  {
   "cell_type": "code",
   "execution_count": 5,
   "id": "52a50050-9798-44a8-82c5-82fdae00453f",
   "metadata": {},
   "outputs": [],
   "source": []
  },
  {
   "cell_type": "code",
   "execution_count": 6,
   "id": "396450d2-8b34-4b47-b297-0671cf892409",
   "metadata": {},
   "outputs": [],
   "source": []
  },
  {
   "cell_type": "code",
   "execution_count": 15,
   "id": "3e07f566-492c-4b77-9e0e-5a10eac67a22",
   "metadata": {},
   "outputs": [
    {
     "name": "stdout",
     "output_type": "stream",
     "text": [
      "<think>\n",
      "Okay, let's tackle this question. The user is asking about the elevation range of an area that the eastern sector of the Colorado orogeny extends into. First, I need to make sure I understand what the Colorado orogeny is. I remember that orogeny refers to a mountain-building event. The Colorado orogeny was an ancient geological process that affected the region in the US where the Colorado Plateau is now. \n",
      "\n",
      "I think the Colorado orogeny is related to the Ancestral Rocky Mountains. Let me confirm that. A quick search in my mind... Yes, the Colorado orogeny happened during the Paleozoic era, leading to the uplift of areas that would later form parts of the Rocky Mountains. The eastern sector of this orogeny probably extends into certain regions. The user is asking which area it extends into and what the elevation range of that area is.\n",
      "\n",
      "Wait, the Colorado Plateau is a stable region with high elevations, but I'm not sure if that's where the eastern sector extends into. I should check the specific regions affected by the Colorado orogeny. The eastern sector might affect areas in Colorado, New Mexico, Kansas, perhaps even Texas. \n",
      "\n",
      "I recall that the Ancestral Rockies were eroded away, but their uplift influenced the deposition of sediments in surrounding basins. The area affected by the eastern sector might be the Appalachian Basin? But I'm not certain. Wait, the Appalachian Mountains are in the eastern US, but the Colorado orogeny is in the west. Maybe it's the Illinois Basin? No, I need to get this right. \n",
      "\n",
      "Alternatively, the eastern sector of the Colorado orogeny could extend into the Great Plains region. The Great Plains in the central US are relatively flat and have lower elevations. The elevation range there is generally between 1,000 to 5,000 feet (300 to 1,500 meters), but I need to confirm if that's the area the question refers to. \n",
      "\n",
      "Wait, the problem is that the user is asking for the elevation range of the area into which the eastern sector extends, not the orogeny itself. So I need to first identify which area is affected by the eastern sector of the Colorado orogeny. \n",
      "\n",
      "Looking up some geological resources... The Colorado orogeny is part of the Ancestral Rocky Mountains, whose eastern sector extended into what is now Texas and Oklahoma. The uplift during this orogeny affected the surrounding sedimentary basins. The area that got extended into by the eastern sector would be the Midland Basin or the Delaware Basin in Texas, perhaps? Those areas are in the Permian Basin. But I need to check if that's correct.\n",
      "\n",
      "Wait, the Permian Basin is a sedimentary basin, so it might be related to the orogenic activity. However, the Permian Basin is in Texas and New Mexico. The elevation range there is generally lower, as it's a basin. However, I need to find the elevation range of the area into which the eastern sector extended.\n",
      "\n",
      "If the eastern sector extended into Texas, then perhaps the elevation range of that area is relatively low. The Permian Basin's elevation is around 1,500 to 2,500 feet (450 to 750 meters). But I'm not entirely sure. Maybe it's better to refer to the Appalachian Basin again. Wait, the Appalachian Basin is in the eastern US, which is further from Colorado.\n",
      "\n",
      "Another angle: The Colorado orogeny caused the formation of the Ancestral Rockies, and the eastern part of that would be in the area that now is the Texas Panhandle, Oklahoma, possibly into Kansas. The elevation range here would be part of the Great Plains. The Great Plains in the central US have elevations ranging from around 1,000 feet (300 meters) in the east to over 6,000 feet (1,800 meters) in the west. So if the eastern sector extended into parts of the Great Plains, the elevation range would depend on the specific region affected.\n",
      "\n",
      "Alternatively, perhaps the area in question is the basin that was influenced by the orogeny's uplift. For instance, the uplift might have created a basin that was filled with sediments from the eroded mountains. The basin's elevation range would then vary. Let me think of specific places. The Anadarko Basin in Oklahoma is a sedimentary basin that was influenced by the Ancestral Rockies. The elevation there could be as low as 800 feet (240 meters) in the basin to higher elevations around the edges. However, this is getting into more specific geological knowledge, which I might not have in detail. \n",
      "\n",
      "Since I'm a bit uncertain about the exact area, I need to structure my answer step by step. First, identify the area into which the eastern sector extends. Then determine its elevation range. Given the time constraints, I'll proceed with the most probable answer based on available knowledge.\n",
      "</think>\n",
      "\n",
      "The Colorado orogeny is part of the formation of the Ancestral Rocky Mountains during the Paleozoic era. The **eastern sector** of this orogeny extended into what are now **Texas and Oklahoma**, influencing the deposition of sediments in surrounding basins. The uplift and subsequent erosion from this event affected regions like the **Permian Basin** (in West Texas and southeastern New Mexico) and the **Anadarko Basin** (primarily in Oklahoma). \n",
      "\n",
      "The **elevation range** of the affected area, particularly in the central Texas Panhandle and adjacent Oklahoma regions, varies due to uplift and sedimentation. In these areas, elevations generally range from **1,000 to 4,000 feet (300–1,200 meters)**, with higher elevations in uplifted zones and lower elevations in basins. The specific range can vary depending on the sedimentary layers and post-orogenic changes over millions of years. \n",
      "\n",
      "### Key Points:\n",
      "- **Area Affected**: Texas Panhandle, Oklahoma, and parts of Kansas.\n",
      "- **Elevation Range**: ~1,000–4,000 feet (300–1,200 meters), varying with basins and uplifts.\n"
     ]
    }
   ],
   "source": [
    "messages=[\n",
    "        {\"role\": \"system\", \"content\": prompt},\n",
    "        {\"role\": \"user\", \"content\": question}\n",
    "    ]\n",
    "\n",
    "completion = client.chat.completions.create(\n",
    "    model=model,\n",
    "    messages=messages,\n",
    ")\n",
    "\n",
    "print(completion.choices[0].message.content)"
   ]
  },
  {
   "cell_type": "markdown",
   "id": "b93353aa-5f03-46ba-bbaf-20a24e963403",
   "metadata": {},
   "source": [
    "# ReAct Style\n",
    "1. Encourages explicit reasoning, not just end answers\n",
    "1. Allows the model to interleave thoughts and actions\n",
    "1. Great for use with tools or plugins (e.g., search, code exec, database)\n",
    "1. Makes model behavior transparent and verifiable\n",
    "\n",
    "## Template\n",
    "\n",
    "1. Question: [user question]\n",
    "1. Thought: [model's internal reasoning]\n",
    "1. Action: [some action like Search(), Calculator(), API call]\n",
    "1. Observation: [result of the action]\n",
    "\n",
    "...repeat Thought → Action → Observation...\n",
    "\n",
    "Answer: [final response to the question]"
   ]
  },
  {
   "cell_type": "markdown",
   "id": "6f79fa18-b317-4614-b282-83134b135359",
   "metadata": {},
   "source": [
    "TODO: Explain/introduce \"few shot prompting\""
   ]
  },
  {
   "cell_type": "code",
   "execution_count": 19,
   "id": "3f08e9f4-90e1-4b76-acbb-bd7d20fcc411",
   "metadata": {},
   "outputs": [],
   "source": [
    "# Static example to demonstrate format (few-shot learning)\n",
    "\n",
    "few_shot_example = (\n",
    "    \"Question: What is the capital of the country that borders Germany and has Vienna as its capital?\\n\"\n",
    "    \"Thought: I need to find which country has Vienna as its capital.\\n\"\n",
    "    \"Action:  Lookup('country with capital Vienna')\\n\"\n",
    "    \"Observation: Austria\\n\"\n",
    "    \"Thought: Now check if Austria borders Germany.\\n\"\n",
    "    \"Action:  Lookup('Does Austria border Germany?')\\n\"\n",
    "    \"Observation: Yes\\n\"    \n",
    "    \"Answer: The capital of Austria, which borders Germany, is Vienna.\"\n",
    "    )\n",
    "\n",
    "question = \"what is elevation range for the area that the eastern sector of colorado orogeny extends into?\"\n"
   ]
  },
  {
   "cell_type": "markdown",
   "id": "840d9bad-abda-43fc-a60b-1e9102095c0a",
   "metadata": {},
   "source": [
    "Note - \n",
    "- In the last example for CoT, the system prompt got the examples.\n",
    "- In this example, we keep pass the example data with each questions.\n",
    "It is just 2 different styles to play with."
   ]
  },
  {
   "cell_type": "code",
   "execution_count": 20,
   "id": "9ee5e962-da45-489e-97ad-2aace3c4809c",
   "metadata": {},
   "outputs": [
    {
     "name": "stdout",
     "output_type": "stream",
     "text": [
      "To answer this question, I need to find out where the eastern sector of the Colorado orogeny extends and its corresponding elevation range. Let's start by identifying this region.\n",
      "\n",
      "### Thought:\n",
      "Identify the southeastern area where the Colorado orogeny extends.\n",
      "\n",
      "### Action:\n",
      "Lookup(\"eastern sector of Colorado orogeny location\")\n",
      "\n",
      "### Observation:\n",
      "The eastern sector of the Colorado orogeny extends into regions that likely include parts of eastern Utah, northeastern Arizona, and possibly parts of New Mexico.\n",
      "\n",
      "### Thought:\n",
      "Now, I need to determine the elevation range for this area. Since it involves multiple states/regions, the general elevation range will have variations but should be identifiable from each region's typical altitudes in these areas.\n",
      "\n",
      "### Action:\n",
      "Lookup(\"elevation range Utah northeastern Arizona\")\n",
      "\n",
      "### Observation:\n",
      "The elevation in eastern Utah and northeastern Arizona generally ranges from about 4,000 feet (1,200 meters) to as high as 13,000 feet (about 4,000 meters), especially near the mountains.\n",
      "\n",
      "### Answer:\n",
      "The elevation range for areas into which the eastern sector of the Colorado orogeny extends is approximately 4,000 - 13,000 feet (1,200 - 4,000 meters).\n"
     ]
    }
   ],
   "source": [
    "prompt = f\"\"\"{few_shot_example}\n",
    "\n",
    "Question: {question}\n",
    "Thought:\"\"\"\n",
    "\n",
    "messages=[\n",
    "        {\"role\": \"system\", \"content\": \"Answer questions using a ReAct format: Thought → Action → Observation → Answer.\"},\n",
    "        {\"role\": \"user\", \"content\": prompt}\n",
    "    ]\n",
    "\n",
    "completion = client.chat.completions.create(\n",
    "    model=model,\n",
    "    messages=messages,\n",
    ")\n",
    "\n",
    "print(completion.choices[0].message.content)"
   ]
  },
  {
   "cell_type": "markdown",
   "id": "783e86f2-6d0b-4d01-9a61-c0cbe078eb20",
   "metadata": {},
   "source": [
    "# Chain of Thought (CoT) vs ReAct (Reasoning + Acting)\n",
    "\n",
    "## Chain of Thought (CoT)\n",
    "What it is:\n",
    "Just reasoning — step-by-step thoughts leading to an answer.\n",
    "\n",
    "\n",
    "|Strengths|Limitations|\n",
    "|---|---|\n",
    "|Good for pure reasoning tasks (math, logic, factual multi-step questions).|Doesn’t interact with external tools or sources.|\n",
    "|Easy to implement.|Limited when answers need fresh data, search, or database queries.|\n",
    "|Transparent: you can see the reasoning path.||\n",
    "\n",
    "\n",
    "## ReAct (Reasoning + Acting)\n",
    "What it is:\n",
    "A prompt style that combines reasoning (like CoT) with actions, such as calling tools, web searches, or internal functions. Often used with agents.\n",
    "\n",
    "\n",
    "|Strengths|Limitations|\n",
    "|---|---|\n",
    "|Perfect for agent workflows, e.g., answering based on tool output, RAG systems, browsing, calling APIs.|More complex to implement (you need tool handlers or agents).|\n",
    "|Enables decision-making with dynamic data.|Harder to debug if the chain gets too long or recursive.|\n",
    "|You can plug in your own tools, like databases, vector search, etc.||\n",
    "\n",
    "\n",
    "\n"
   ]
  }
 ],
 "metadata": {
  "kernelspec": {
   "display_name": "Python 3 (ipykernel)",
   "language": "python",
   "name": "python3"
  },
  "language_info": {
   "codemirror_mode": {
    "name": "ipython",
    "version": 3
   },
   "file_extension": ".py",
   "mimetype": "text/x-python",
   "name": "python",
   "nbconvert_exporter": "python",
   "pygments_lexer": "ipython3",
   "version": "3.12.5"
  }
 },
 "nbformat": 4,
 "nbformat_minor": 5
}
