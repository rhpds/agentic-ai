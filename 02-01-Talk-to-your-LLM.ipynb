{
 "cells": [
  {
   "cell_type": "markdown",
   "id": "e8987006-614e-41b7-9c2f-aa6359e8e231",
   "metadata": {},
   "source": [
    "# Getting started\n",
    "\n"
   ]
  },
  {
   "cell_type": "markdown",
   "id": "bb6c2522-09ff-439f-83c7-d752b6bbe7e7",
   "metadata": {},
   "source": [
    "Let's verify our environment - in a jupyer lab code cell preceding a command with `!` executes it eg `!pwd`"
   ]
  },
  {
   "cell_type": "code",
   "execution_count": 11,
   "id": "7698fc46-06b6-476b-8b88-46b97241b854",
   "metadata": {},
   "outputs": [
    {
     "name": "stdout",
     "output_type": "stream",
     "text": [
      "/Users/tok/Dropbox/PARAL/Projects/summit-2025-lb2806-agentic-ai/lab\n",
      "python is /Users/tok/virtual-envs/summit-agentic-ai/bin/python\n",
      "Python 3.12.10\n"
     ]
    }
   ],
   "source": [
    "!pwd\n",
    "!type python\n",
    "\n",
    "!python -V\n"
   ]
  },
  {
   "cell_type": "markdown",
   "id": "cc2a0130-f86d-4ff1-8250-01850c957905",
   "metadata": {},
   "source": [
    "You should see that you are actually running this notebook from inside the venv which is a common \n",
    "practice and hear we can add dependencies etc and experiment safely with no consequesnced of interfering with our default Sustyem Python\n",
    "\n",
    "NOTE: Whilst python venvs are used extensively in development in Production we would effectively \"bake\" these into stronly versioned containers and run on OpenShift via GitOps - typically via helm charts and ArgoCD."
   ]
  },
  {
   "cell_type": "markdown",
   "id": "b02b600f-406f-4ee6-acdb-ecf620c11e71",
   "metadata": {},
   "source": [
    "Next let's add the Python libraries we will need to get started.\n",
    "It is a **very good practice** to isolate these in a `requirements.txt` along with their versions eg\n",
    "We can take a look into the format by executing the cell below:"
   ]
  },
  {
   "cell_type": "code",
   "execution_count": 21,
   "id": "6d1e0b5f",
   "metadata": {},
   "outputs": [
    {
     "name": "stdout",
     "output_type": "stream",
     "text": [
      "annotated-types==0.7.0\n",
      "anyio==4.9.0\n",
      "argon2-cffi==23.1.0\n",
      "argon2-cffi-bindings==21.2.0\n",
      "arrow==1.3.0\n",
      "asttokens==3.0.0\n",
      "async-lru==2.0.5\n",
      "attrs==25.3.0\n",
      "babel==2.17.0\n",
      "beautifulsoup4==4.13.4\n"
     ]
    }
   ],
   "source": [
    "!head requirements.txt\n"
   ]
  },
  {
   "cell_type": "code",
   "execution_count": 22,
   "id": "b6b19562-d870-4176-b5ae-2747129036df",
   "metadata": {
    "collapsed": true,
    "jupyter": {
     "outputs_hidden": true
    }
   },
   "outputs": [
    {
     "name": "stdout",
     "output_type": "stream",
     "text": [
      "Requirement already satisfied: annotated-types==0.7.0 in /Users/tok/Dropbox/PARAL/Resources/virtual-envs/summit-agentic-ai/lib/python3.12/site-packages (from -r requirements.txt (line 1)) (0.7.0)\n",
      "Requirement already satisfied: anyio==4.9.0 in /Users/tok/Dropbox/PARAL/Resources/virtual-envs/summit-agentic-ai/lib/python3.12/site-packages (from -r requirements.txt (line 2)) (4.9.0)\n",
      "Requirement already satisfied: argon2-cffi==23.1.0 in /Users/tok/Dropbox/PARAL/Resources/virtual-envs/summit-agentic-ai/lib/python3.12/site-packages (from -r requirements.txt (line 3)) (23.1.0)\n",
      "Requirement already satisfied: argon2-cffi-bindings==21.2.0 in /Users/tok/Dropbox/PARAL/Resources/virtual-envs/summit-agentic-ai/lib/python3.12/site-packages (from -r requirements.txt (line 4)) (21.2.0)\n",
      "Requirement already satisfied: arrow==1.3.0 in /Users/tok/Dropbox/PARAL/Resources/virtual-envs/summit-agentic-ai/lib/python3.12/site-packages (from -r requirements.txt (line 5)) (1.3.0)\n",
      "Requirement already satisfied: asttokens==3.0.0 in /Users/tok/Dropbox/PARAL/Resources/virtual-envs/summit-agentic-ai/lib/python3.12/site-packages (from -r requirements.txt (line 6)) (3.0.0)\n",
      "Requirement already satisfied: async-lru==2.0.5 in /Users/tok/Dropbox/PARAL/Resources/virtual-envs/summit-agentic-ai/lib/python3.12/site-packages (from -r requirements.txt (line 7)) (2.0.5)\n",
      "Requirement already satisfied: attrs==25.3.0 in /Users/tok/Dropbox/PARAL/Resources/virtual-envs/summit-agentic-ai/lib/python3.12/site-packages (from -r requirements.txt (line 8)) (25.3.0)\n",
      "Requirement already satisfied: babel==2.17.0 in /Users/tok/Dropbox/PARAL/Resources/virtual-envs/summit-agentic-ai/lib/python3.12/site-packages (from -r requirements.txt (line 9)) (2.17.0)\n",
      "Requirement already satisfied: beautifulsoup4==4.13.4 in /Users/tok/Dropbox/PARAL/Resources/virtual-envs/summit-agentic-ai/lib/python3.12/site-packages (from -r requirements.txt (line 10)) (4.13.4)\n",
      "Requirement already satisfied: bleach==6.2.0 in /Users/tok/Dropbox/PARAL/Resources/virtual-envs/summit-agentic-ai/lib/python3.12/site-packages (from -r requirements.txt (line 11)) (6.2.0)\n",
      "Requirement already satisfied: certifi==2025.4.26 in /Users/tok/Dropbox/PARAL/Resources/virtual-envs/summit-agentic-ai/lib/python3.12/site-packages (from -r requirements.txt (line 12)) (2025.4.26)\n",
      "Requirement already satisfied: cffi==1.17.1 in /Users/tok/Dropbox/PARAL/Resources/virtual-envs/summit-agentic-ai/lib/python3.12/site-packages (from -r requirements.txt (line 13)) (1.17.1)\n",
      "Requirement already satisfied: charset-normalizer==3.4.1 in /Users/tok/Dropbox/PARAL/Resources/virtual-envs/summit-agentic-ai/lib/python3.12/site-packages (from -r requirements.txt (line 14)) (3.4.1)\n",
      "Requirement already satisfied: click==8.1.8 in /Users/tok/Dropbox/PARAL/Resources/virtual-envs/summit-agentic-ai/lib/python3.12/site-packages (from -r requirements.txt (line 15)) (8.1.8)\n",
      "Requirement already satisfied: comm==0.2.2 in /Users/tok/Dropbox/PARAL/Resources/virtual-envs/summit-agentic-ai/lib/python3.12/site-packages (from -r requirements.txt (line 16)) (0.2.2)\n",
      "Requirement already satisfied: debugpy==1.8.14 in /Users/tok/Dropbox/PARAL/Resources/virtual-envs/summit-agentic-ai/lib/python3.12/site-packages (from -r requirements.txt (line 17)) (1.8.14)\n",
      "Requirement already satisfied: decorator==5.2.1 in /Users/tok/Dropbox/PARAL/Resources/virtual-envs/summit-agentic-ai/lib/python3.12/site-packages (from -r requirements.txt (line 18)) (5.2.1)\n",
      "Requirement already satisfied: defusedxml==0.7.1 in /Users/tok/Dropbox/PARAL/Resources/virtual-envs/summit-agentic-ai/lib/python3.12/site-packages (from -r requirements.txt (line 19)) (0.7.1)\n",
      "Requirement already satisfied: distro==1.9.0 in /Users/tok/Dropbox/PARAL/Resources/virtual-envs/summit-agentic-ai/lib/python3.12/site-packages (from -r requirements.txt (line 20)) (1.9.0)\n",
      "Requirement already satisfied: executing==2.2.0 in /Users/tok/Dropbox/PARAL/Resources/virtual-envs/summit-agentic-ai/lib/python3.12/site-packages (from -r requirements.txt (line 21)) (2.2.0)\n",
      "Requirement already satisfied: fastjsonschema==2.21.1 in /Users/tok/Dropbox/PARAL/Resources/virtual-envs/summit-agentic-ai/lib/python3.12/site-packages (from -r requirements.txt (line 22)) (2.21.1)\n",
      "Requirement already satisfied: fqdn==1.5.1 in /Users/tok/Dropbox/PARAL/Resources/virtual-envs/summit-agentic-ai/lib/python3.12/site-packages (from -r requirements.txt (line 23)) (1.5.1)\n",
      "Requirement already satisfied: h11==0.16.0 in /Users/tok/Dropbox/PARAL/Resources/virtual-envs/summit-agentic-ai/lib/python3.12/site-packages (from -r requirements.txt (line 24)) (0.16.0)\n",
      "Requirement already satisfied: httpcore==1.0.9 in /Users/tok/Dropbox/PARAL/Resources/virtual-envs/summit-agentic-ai/lib/python3.12/site-packages (from -r requirements.txt (line 25)) (1.0.9)\n",
      "Requirement already satisfied: httpx==0.28.1 in /Users/tok/Dropbox/PARAL/Resources/virtual-envs/summit-agentic-ai/lib/python3.12/site-packages (from -r requirements.txt (line 26)) (0.28.1)\n",
      "Requirement already satisfied: idna==3.10 in /Users/tok/Dropbox/PARAL/Resources/virtual-envs/summit-agentic-ai/lib/python3.12/site-packages (from -r requirements.txt (line 27)) (3.10)\n",
      "Requirement already satisfied: ipykernel==6.29.5 in /Users/tok/Dropbox/PARAL/Resources/virtual-envs/summit-agentic-ai/lib/python3.12/site-packages (from -r requirements.txt (line 28)) (6.29.5)\n",
      "Requirement already satisfied: ipython==9.2.0 in /Users/tok/Dropbox/PARAL/Resources/virtual-envs/summit-agentic-ai/lib/python3.12/site-packages (from -r requirements.txt (line 29)) (9.2.0)\n",
      "Requirement already satisfied: ipython_pygments_lexers==1.1.1 in /Users/tok/Dropbox/PARAL/Resources/virtual-envs/summit-agentic-ai/lib/python3.12/site-packages (from -r requirements.txt (line 30)) (1.1.1)\n",
      "Requirement already satisfied: ipywidgets==8.1.6 in /Users/tok/Dropbox/PARAL/Resources/virtual-envs/summit-agentic-ai/lib/python3.12/site-packages (from -r requirements.txt (line 31)) (8.1.6)\n",
      "Requirement already satisfied: isoduration==20.11.0 in /Users/tok/Dropbox/PARAL/Resources/virtual-envs/summit-agentic-ai/lib/python3.12/site-packages (from -r requirements.txt (line 32)) (20.11.0)\n",
      "Requirement already satisfied: jedi==0.19.2 in /Users/tok/Dropbox/PARAL/Resources/virtual-envs/summit-agentic-ai/lib/python3.12/site-packages (from -r requirements.txt (line 33)) (0.19.2)\n",
      "Requirement already satisfied: Jinja2==3.1.6 in /Users/tok/Dropbox/PARAL/Resources/virtual-envs/summit-agentic-ai/lib/python3.12/site-packages (from -r requirements.txt (line 34)) (3.1.6)\n",
      "Requirement already satisfied: jiter==0.9.0 in /Users/tok/Dropbox/PARAL/Resources/virtual-envs/summit-agentic-ai/lib/python3.12/site-packages (from -r requirements.txt (line 35)) (0.9.0)\n",
      "Requirement already satisfied: json5==0.12.0 in /Users/tok/Dropbox/PARAL/Resources/virtual-envs/summit-agentic-ai/lib/python3.12/site-packages (from -r requirements.txt (line 36)) (0.12.0)\n",
      "Requirement already satisfied: jsonpointer==3.0.0 in /Users/tok/Dropbox/PARAL/Resources/virtual-envs/summit-agentic-ai/lib/python3.12/site-packages (from -r requirements.txt (line 37)) (3.0.0)\n",
      "Requirement already satisfied: jsonschema==4.23.0 in /Users/tok/Dropbox/PARAL/Resources/virtual-envs/summit-agentic-ai/lib/python3.12/site-packages (from -r requirements.txt (line 38)) (4.23.0)\n",
      "Requirement already satisfied: jsonschema-specifications==2025.4.1 in /Users/tok/Dropbox/PARAL/Resources/virtual-envs/summit-agentic-ai/lib/python3.12/site-packages (from -r requirements.txt (line 39)) (2025.4.1)\n",
      "Requirement already satisfied: jupyter==1.1.1 in /Users/tok/Dropbox/PARAL/Resources/virtual-envs/summit-agentic-ai/lib/python3.12/site-packages (from -r requirements.txt (line 40)) (1.1.1)\n",
      "Requirement already satisfied: jupyter-console==6.6.3 in /Users/tok/Dropbox/PARAL/Resources/virtual-envs/summit-agentic-ai/lib/python3.12/site-packages (from -r requirements.txt (line 41)) (6.6.3)\n",
      "Requirement already satisfied: jupyter-events==0.12.0 in /Users/tok/Dropbox/PARAL/Resources/virtual-envs/summit-agentic-ai/lib/python3.12/site-packages (from -r requirements.txt (line 42)) (0.12.0)\n",
      "Requirement already satisfied: jupyter-lsp==2.2.5 in /Users/tok/Dropbox/PARAL/Resources/virtual-envs/summit-agentic-ai/lib/python3.12/site-packages (from -r requirements.txt (line 43)) (2.2.5)\n",
      "Requirement already satisfied: jupyter_client==8.6.3 in /Users/tok/Dropbox/PARAL/Resources/virtual-envs/summit-agentic-ai/lib/python3.12/site-packages (from -r requirements.txt (line 44)) (8.6.3)\n",
      "Requirement already satisfied: jupyter_core==5.7.2 in /Users/tok/Dropbox/PARAL/Resources/virtual-envs/summit-agentic-ai/lib/python3.12/site-packages (from -r requirements.txt (line 45)) (5.7.2)\n",
      "Requirement already satisfied: jupyter_server==2.15.0 in /Users/tok/Dropbox/PARAL/Resources/virtual-envs/summit-agentic-ai/lib/python3.12/site-packages (from -r requirements.txt (line 46)) (2.15.0)\n",
      "Requirement already satisfied: jupyter_server_terminals==0.5.3 in /Users/tok/Dropbox/PARAL/Resources/virtual-envs/summit-agentic-ai/lib/python3.12/site-packages (from -r requirements.txt (line 47)) (0.5.3)\n",
      "Requirement already satisfied: jupyterlab==4.4.1 in /Users/tok/Dropbox/PARAL/Resources/virtual-envs/summit-agentic-ai/lib/python3.12/site-packages (from -r requirements.txt (line 48)) (4.4.1)\n",
      "Requirement already satisfied: jupyterlab_pygments==0.3.0 in /Users/tok/Dropbox/PARAL/Resources/virtual-envs/summit-agentic-ai/lib/python3.12/site-packages (from -r requirements.txt (line 49)) (0.3.0)\n",
      "Requirement already satisfied: jupyterlab_server==2.27.3 in /Users/tok/Dropbox/PARAL/Resources/virtual-envs/summit-agentic-ai/lib/python3.12/site-packages (from -r requirements.txt (line 50)) (2.27.3)\n",
      "Requirement already satisfied: jupyterlab_widgets==3.0.14 in /Users/tok/Dropbox/PARAL/Resources/virtual-envs/summit-agentic-ai/lib/python3.12/site-packages (from -r requirements.txt (line 51)) (3.0.14)\n",
      "Requirement already satisfied: llama_stack_client==0.2.4 in /Users/tok/Dropbox/PARAL/Resources/virtual-envs/summit-agentic-ai/lib/python3.12/site-packages (from -r requirements.txt (line 52)) (0.2.4)\n",
      "Requirement already satisfied: markdown-it-py==3.0.0 in /Users/tok/Dropbox/PARAL/Resources/virtual-envs/summit-agentic-ai/lib/python3.12/site-packages (from -r requirements.txt (line 53)) (3.0.0)\n",
      "Requirement already satisfied: MarkupSafe==3.0.2 in /Users/tok/Dropbox/PARAL/Resources/virtual-envs/summit-agentic-ai/lib/python3.12/site-packages (from -r requirements.txt (line 54)) (3.0.2)\n",
      "Requirement already satisfied: matplotlib-inline==0.1.7 in /Users/tok/Dropbox/PARAL/Resources/virtual-envs/summit-agentic-ai/lib/python3.12/site-packages (from -r requirements.txt (line 55)) (0.1.7)\n",
      "Requirement already satisfied: mdurl==0.1.2 in /Users/tok/Dropbox/PARAL/Resources/virtual-envs/summit-agentic-ai/lib/python3.12/site-packages (from -r requirements.txt (line 56)) (0.1.2)\n",
      "Requirement already satisfied: mistune==3.1.3 in /Users/tok/Dropbox/PARAL/Resources/virtual-envs/summit-agentic-ai/lib/python3.12/site-packages (from -r requirements.txt (line 57)) (3.1.3)\n",
      "Requirement already satisfied: nbclient==0.10.2 in /Users/tok/Dropbox/PARAL/Resources/virtual-envs/summit-agentic-ai/lib/python3.12/site-packages (from -r requirements.txt (line 58)) (0.10.2)\n",
      "Requirement already satisfied: nbconvert==7.16.6 in /Users/tok/Dropbox/PARAL/Resources/virtual-envs/summit-agentic-ai/lib/python3.12/site-packages (from -r requirements.txt (line 59)) (7.16.6)\n",
      "Requirement already satisfied: nbformat==5.10.4 in /Users/tok/Dropbox/PARAL/Resources/virtual-envs/summit-agentic-ai/lib/python3.12/site-packages (from -r requirements.txt (line 60)) (5.10.4)\n",
      "Requirement already satisfied: nest-asyncio==1.6.0 in /Users/tok/Dropbox/PARAL/Resources/virtual-envs/summit-agentic-ai/lib/python3.12/site-packages (from -r requirements.txt (line 61)) (1.6.0)\n",
      "Requirement already satisfied: notebook==7.4.1 in /Users/tok/Dropbox/PARAL/Resources/virtual-envs/summit-agentic-ai/lib/python3.12/site-packages (from -r requirements.txt (line 62)) (7.4.1)\n",
      "Requirement already satisfied: notebook_shim==0.2.4 in /Users/tok/Dropbox/PARAL/Resources/virtual-envs/summit-agentic-ai/lib/python3.12/site-packages (from -r requirements.txt (line 63)) (0.2.4)\n",
      "Requirement already satisfied: numpy==2.2.5 in /Users/tok/Dropbox/PARAL/Resources/virtual-envs/summit-agentic-ai/lib/python3.12/site-packages (from -r requirements.txt (line 64)) (2.2.5)\n",
      "Requirement already satisfied: openai==1.76.2 in /Users/tok/Dropbox/PARAL/Resources/virtual-envs/summit-agentic-ai/lib/python3.12/site-packages (from -r requirements.txt (line 65)) (1.76.2)\n",
      "Requirement already satisfied: overrides==7.7.0 in /Users/tok/Dropbox/PARAL/Resources/virtual-envs/summit-agentic-ai/lib/python3.12/site-packages (from -r requirements.txt (line 66)) (7.7.0)\n",
      "Requirement already satisfied: packaging==25.0 in /Users/tok/Dropbox/PARAL/Resources/virtual-envs/summit-agentic-ai/lib/python3.12/site-packages (from -r requirements.txt (line 67)) (25.0)\n",
      "Requirement already satisfied: pandas==2.2.3 in /Users/tok/Dropbox/PARAL/Resources/virtual-envs/summit-agentic-ai/lib/python3.12/site-packages (from -r requirements.txt (line 68)) (2.2.3)\n",
      "Requirement already satisfied: pandocfilters==1.5.1 in /Users/tok/Dropbox/PARAL/Resources/virtual-envs/summit-agentic-ai/lib/python3.12/site-packages (from -r requirements.txt (line 69)) (1.5.1)\n",
      "Requirement already satisfied: parso==0.8.4 in /Users/tok/Dropbox/PARAL/Resources/virtual-envs/summit-agentic-ai/lib/python3.12/site-packages (from -r requirements.txt (line 70)) (0.8.4)\n",
      "Requirement already satisfied: pexpect==4.9.0 in /Users/tok/Dropbox/PARAL/Resources/virtual-envs/summit-agentic-ai/lib/python3.12/site-packages (from -r requirements.txt (line 71)) (4.9.0)\n",
      "Requirement already satisfied: platformdirs==4.3.7 in /Users/tok/Dropbox/PARAL/Resources/virtual-envs/summit-agentic-ai/lib/python3.12/site-packages (from -r requirements.txt (line 72)) (4.3.7)\n",
      "Requirement already satisfied: prometheus_client==0.21.1 in /Users/tok/Dropbox/PARAL/Resources/virtual-envs/summit-agentic-ai/lib/python3.12/site-packages (from -r requirements.txt (line 73)) (0.21.1)\n",
      "Requirement already satisfied: prompt_toolkit==3.0.51 in /Users/tok/Dropbox/PARAL/Resources/virtual-envs/summit-agentic-ai/lib/python3.12/site-packages (from -r requirements.txt (line 74)) (3.0.51)\n",
      "Requirement already satisfied: psutil==7.0.0 in /Users/tok/Dropbox/PARAL/Resources/virtual-envs/summit-agentic-ai/lib/python3.12/site-packages (from -r requirements.txt (line 75)) (7.0.0)\n",
      "Requirement already satisfied: ptyprocess==0.7.0 in /Users/tok/Dropbox/PARAL/Resources/virtual-envs/summit-agentic-ai/lib/python3.12/site-packages (from -r requirements.txt (line 76)) (0.7.0)\n",
      "Requirement already satisfied: pure_eval==0.2.3 in /Users/tok/Dropbox/PARAL/Resources/virtual-envs/summit-agentic-ai/lib/python3.12/site-packages (from -r requirements.txt (line 77)) (0.2.3)\n",
      "Requirement already satisfied: pyaml==25.1.0 in /Users/tok/Dropbox/PARAL/Resources/virtual-envs/summit-agentic-ai/lib/python3.12/site-packages (from -r requirements.txt (line 78)) (25.1.0)\n",
      "Requirement already satisfied: pycparser==2.22 in /Users/tok/Dropbox/PARAL/Resources/virtual-envs/summit-agentic-ai/lib/python3.12/site-packages (from -r requirements.txt (line 79)) (2.22)\n",
      "Requirement already satisfied: pydantic==2.11.4 in /Users/tok/Dropbox/PARAL/Resources/virtual-envs/summit-agentic-ai/lib/python3.12/site-packages (from -r requirements.txt (line 80)) (2.11.4)\n",
      "Requirement already satisfied: pydantic_core==2.33.2 in /Users/tok/Dropbox/PARAL/Resources/virtual-envs/summit-agentic-ai/lib/python3.12/site-packages (from -r requirements.txt (line 81)) (2.33.2)\n",
      "Requirement already satisfied: Pygments==2.19.1 in /Users/tok/Dropbox/PARAL/Resources/virtual-envs/summit-agentic-ai/lib/python3.12/site-packages (from -r requirements.txt (line 82)) (2.19.1)\n",
      "Requirement already satisfied: python-dateutil==2.9.0.post0 in /Users/tok/Dropbox/PARAL/Resources/virtual-envs/summit-agentic-ai/lib/python3.12/site-packages (from -r requirements.txt (line 83)) (2.9.0.post0)\n",
      "Requirement already satisfied: python-json-logger==3.3.0 in /Users/tok/Dropbox/PARAL/Resources/virtual-envs/summit-agentic-ai/lib/python3.12/site-packages (from -r requirements.txt (line 84)) (3.3.0)\n",
      "Requirement already satisfied: pytz==2025.2 in /Users/tok/Dropbox/PARAL/Resources/virtual-envs/summit-agentic-ai/lib/python3.12/site-packages (from -r requirements.txt (line 85)) (2025.2)\n",
      "Requirement already satisfied: PyYAML==6.0.2 in /Users/tok/Dropbox/PARAL/Resources/virtual-envs/summit-agentic-ai/lib/python3.12/site-packages (from -r requirements.txt (line 86)) (6.0.2)\n",
      "Requirement already satisfied: pyzmq==26.4.0 in /Users/tok/Dropbox/PARAL/Resources/virtual-envs/summit-agentic-ai/lib/python3.12/site-packages (from -r requirements.txt (line 87)) (26.4.0)\n",
      "Requirement already satisfied: referencing==0.36.2 in /Users/tok/Dropbox/PARAL/Resources/virtual-envs/summit-agentic-ai/lib/python3.12/site-packages (from -r requirements.txt (line 88)) (0.36.2)\n",
      "Requirement already satisfied: requests==2.32.3 in /Users/tok/Dropbox/PARAL/Resources/virtual-envs/summit-agentic-ai/lib/python3.12/site-packages (from -r requirements.txt (line 89)) (2.32.3)\n",
      "Requirement already satisfied: rfc3339-validator==0.1.4 in /Users/tok/Dropbox/PARAL/Resources/virtual-envs/summit-agentic-ai/lib/python3.12/site-packages (from -r requirements.txt (line 90)) (0.1.4)\n",
      "Requirement already satisfied: rfc3986-validator==0.1.1 in /Users/tok/Dropbox/PARAL/Resources/virtual-envs/summit-agentic-ai/lib/python3.12/site-packages (from -r requirements.txt (line 91)) (0.1.1)\n",
      "Requirement already satisfied: rich==14.0.0 in /Users/tok/Dropbox/PARAL/Resources/virtual-envs/summit-agentic-ai/lib/python3.12/site-packages (from -r requirements.txt (line 92)) (14.0.0)\n",
      "Requirement already satisfied: rpds-py==0.24.0 in /Users/tok/Dropbox/PARAL/Resources/virtual-envs/summit-agentic-ai/lib/python3.12/site-packages (from -r requirements.txt (line 93)) (0.24.0)\n",
      "Requirement already satisfied: Send2Trash==1.8.3 in /Users/tok/Dropbox/PARAL/Resources/virtual-envs/summit-agentic-ai/lib/python3.12/site-packages (from -r requirements.txt (line 94)) (1.8.3)\n",
      "Requirement already satisfied: setuptools==80.0.0 in /Users/tok/Dropbox/PARAL/Resources/virtual-envs/summit-agentic-ai/lib/python3.12/site-packages (from -r requirements.txt (line 95)) (80.0.0)\n",
      "Requirement already satisfied: six==1.17.0 in /Users/tok/Dropbox/PARAL/Resources/virtual-envs/summit-agentic-ai/lib/python3.12/site-packages (from -r requirements.txt (line 96)) (1.17.0)\n",
      "Requirement already satisfied: sniffio==1.3.1 in /Users/tok/Dropbox/PARAL/Resources/virtual-envs/summit-agentic-ai/lib/python3.12/site-packages (from -r requirements.txt (line 97)) (1.3.1)\n",
      "Requirement already satisfied: soupsieve==2.7 in /Users/tok/Dropbox/PARAL/Resources/virtual-envs/summit-agentic-ai/lib/python3.12/site-packages (from -r requirements.txt (line 98)) (2.7)\n",
      "Requirement already satisfied: stack-data==0.6.3 in /Users/tok/Dropbox/PARAL/Resources/virtual-envs/summit-agentic-ai/lib/python3.12/site-packages (from -r requirements.txt (line 99)) (0.6.3)\n",
      "Requirement already satisfied: termcolor==3.1.0 in /Users/tok/Dropbox/PARAL/Resources/virtual-envs/summit-agentic-ai/lib/python3.12/site-packages (from -r requirements.txt (line 100)) (3.1.0)\n",
      "Requirement already satisfied: terminado==0.18.1 in /Users/tok/Dropbox/PARAL/Resources/virtual-envs/summit-agentic-ai/lib/python3.12/site-packages (from -r requirements.txt (line 101)) (0.18.1)\n",
      "Requirement already satisfied: tinycss2==1.4.0 in /Users/tok/Dropbox/PARAL/Resources/virtual-envs/summit-agentic-ai/lib/python3.12/site-packages (from -r requirements.txt (line 102)) (1.4.0)\n",
      "Requirement already satisfied: tornado==6.4.2 in /Users/tok/Dropbox/PARAL/Resources/virtual-envs/summit-agentic-ai/lib/python3.12/site-packages (from -r requirements.txt (line 103)) (6.4.2)\n",
      "Requirement already satisfied: tqdm==4.67.1 in /Users/tok/Dropbox/PARAL/Resources/virtual-envs/summit-agentic-ai/lib/python3.12/site-packages (from -r requirements.txt (line 104)) (4.67.1)\n",
      "Requirement already satisfied: traitlets==5.14.3 in /Users/tok/Dropbox/PARAL/Resources/virtual-envs/summit-agentic-ai/lib/python3.12/site-packages (from -r requirements.txt (line 105)) (5.14.3)\n",
      "Requirement already satisfied: types-python-dateutil==2.9.0.20241206 in /Users/tok/Dropbox/PARAL/Resources/virtual-envs/summit-agentic-ai/lib/python3.12/site-packages (from -r requirements.txt (line 106)) (2.9.0.20241206)\n",
      "Requirement already satisfied: typing-inspection==0.4.0 in /Users/tok/Dropbox/PARAL/Resources/virtual-envs/summit-agentic-ai/lib/python3.12/site-packages (from -r requirements.txt (line 107)) (0.4.0)\n",
      "Requirement already satisfied: typing_extensions==4.13.2 in /Users/tok/Dropbox/PARAL/Resources/virtual-envs/summit-agentic-ai/lib/python3.12/site-packages (from -r requirements.txt (line 108)) (4.13.2)\n",
      "Requirement already satisfied: tzdata==2025.2 in /Users/tok/Dropbox/PARAL/Resources/virtual-envs/summit-agentic-ai/lib/python3.12/site-packages (from -r requirements.txt (line 109)) (2025.2)\n",
      "Requirement already satisfied: uri-template==1.3.0 in /Users/tok/Dropbox/PARAL/Resources/virtual-envs/summit-agentic-ai/lib/python3.12/site-packages (from -r requirements.txt (line 110)) (1.3.0)\n",
      "Requirement already satisfied: urllib3==2.4.0 in /Users/tok/Dropbox/PARAL/Resources/virtual-envs/summit-agentic-ai/lib/python3.12/site-packages (from -r requirements.txt (line 111)) (2.4.0)\n",
      "Requirement already satisfied: wcwidth==0.2.13 in /Users/tok/Dropbox/PARAL/Resources/virtual-envs/summit-agentic-ai/lib/python3.12/site-packages (from -r requirements.txt (line 112)) (0.2.13)\n",
      "Requirement already satisfied: webcolors==24.11.1 in /Users/tok/Dropbox/PARAL/Resources/virtual-envs/summit-agentic-ai/lib/python3.12/site-packages (from -r requirements.txt (line 113)) (24.11.1)\n",
      "Requirement already satisfied: webencodings==0.5.1 in /Users/tok/Dropbox/PARAL/Resources/virtual-envs/summit-agentic-ai/lib/python3.12/site-packages (from -r requirements.txt (line 114)) (0.5.1)\n",
      "Requirement already satisfied: websocket-client==1.8.0 in /Users/tok/Dropbox/PARAL/Resources/virtual-envs/summit-agentic-ai/lib/python3.12/site-packages (from -r requirements.txt (line 115)) (1.8.0)\n",
      "Requirement already satisfied: widgetsnbextension==4.0.14 in /Users/tok/Dropbox/PARAL/Resources/virtual-envs/summit-agentic-ai/lib/python3.12/site-packages (from -r requirements.txt (line 116)) (4.0.14)\n",
      "Requirement already satisfied: appnope in /Users/tok/Dropbox/PARAL/Resources/virtual-envs/summit-agentic-ai/lib/python3.12/site-packages (from ipykernel==6.29.5->-r requirements.txt (line 28)) (0.1.4)\n",
      "\n",
      "\u001b[1m[\u001b[0m\u001b[34;49mnotice\u001b[0m\u001b[1;39;49m]\u001b[0m\u001b[39;49m A new release of pip is available: \u001b[0m\u001b[31;49m25.0.1\u001b[0m\u001b[39;49m -> \u001b[0m\u001b[32;49m25.1.1\u001b[0m\n",
      "\u001b[1m[\u001b[0m\u001b[34;49mnotice\u001b[0m\u001b[1;39;49m]\u001b[0m\u001b[39;49m To update, run: \u001b[0m\u001b[32;49mpip install --upgrade pip\u001b[0m\n",
      "Note: you may need to restart the kernel to use updated packages.\n"
     ]
    }
   ],
   "source": [
    "%pip install -r requirements.txt"
   ]
  },
  {
   "cell_type": "code",
   "execution_count": 23,
   "id": "201a5506-5b38-4fcb-a0c6-45e67a8ed5c1",
   "metadata": {},
   "outputs": [
    {
     "name": "stdout",
     "output_type": "stream",
     "text": [
      "Imports complete, Client initialized\n"
     ]
    }
   ],
   "source": [
    "import openai\n",
    "import re\n",
    "import httpx\n",
    "import os\n",
    "import rich\n",
    "import json\n",
    "from openai import OpenAI\n",
    "\n",
    "api_key = \"placeholder\"  \n",
    "model = \"mistral-small:latest\" # Other oprions here include \"qwen3:32b\"\n",
    "base_url = \"http://localhost:11434/v1/\" #openai/v1/\"\n",
    "\n",
    "client = OpenAI(\n",
    "    base_url=base_url,\n",
    "    api_key=api_key,\n",
    ")\n",
    "\n",
    "print(\"Imports complete, Client initialized\")\n"
   ]
  },
  {
   "cell_type": "markdown",
   "id": "c9b03798-76a7-4cb3-8d79-87badb18732e",
   "metadata": {},
   "source": [
    "## Now lets talk to the LLM programatically\n",
    "\n",
    "LLM runtimes such as `llama.cpp` support the OpenAI API we are using below\n",
    "\n",
    "Here we are using the OpenAI API's older `completions` API to talk to our model. Later we will use the more recent `responses` API"
   ]
  },
  {
   "cell_type": "code",
   "execution_count": 14,
   "id": "c7ad31f7-0caf-4925-a380-43d2e145abad",
   "metadata": {},
   "outputs": [
    {
     "name": "stdout",
     "output_type": "stream",
     "text": [
      "Certainly! Below is an example of a simple Python class called `User`. This class includes basic attributes like `username`, `email`, and `password`, along with methods to set and get these attributes.\n",
      "\n",
      "```python\n",
      "class User:\n",
      "    def __init__(self, username: str, email: str, password: str):\n",
      "        self.username = username\n",
      "        self.email = email\n",
      "        self.password = password\n",
      "\n",
      "    def set_username(self, username: str):\n",
      "        self.username = username\n",
      "\n",
      "    def get_username(self) -> str:\n",
      "        return self.username\n",
      "\n",
      "    def set_email(self, email: str):\n",
      "        self.email = email\n",
      "\n",
      "    def get_email(self) -> str:\n",
      "        return self.email\n",
      "\n",
      "    def set_password(self, password: str):\n",
      "        self.password = password\n",
      "\n",
      "    def get_password(self) -> str:\n",
      "        return self.password\n",
      "\n",
      "# Example usage\n",
      "if __name__ == \"__main__\":\n",
      "    user = User(\"johndoe\", \"john.doe@example.com\", \"securepassword\")\n",
      "\n",
      "    print(f\"Username: {user.get_username()}\")\n",
      "    print(f\"Email: {user.get_email()}\")\n",
      "    print(f\"Password: {user.get_password()}\")\n",
      "\n",
      "    user.set_username(\"janedoe\")\n",
      "    user.set_email(\"jane.doe@example.com\")\n",
      "    user.set_password(\"newsecurepassword\")\n",
      "\n",
      "    print(\"\\nUpdated User Information:\")\n",
      "    print(f\"Username: {user.get_username()}\")\n",
      "    print(f\"Email: {user.get_email()}\")  # Note: Password should be secured and not printed out in real scenarios.\n",
      "```\n",
      "\n",
      "### Explanation:\n",
      "- **Class Definition**: The `User` class is defined with an `__init__` method that initializes the attributes `username`, `email`, and `password`.\n",
      "- **Setter Methods**: These methods allow you to set the values of the user's username, email, and password.\n",
      "  - `set_username`\n",
      "  - `set_email`\n",
      "  - `set_password`\n",
      "- **Getter Methods**: These methods return the current values of the user's username, email, and password.\n",
      "  - `get_username`\n",
      "  - `get_email`\n",
      "  - `get_password`\n",
      "\n",
      "### Note:\n",
      "In real-world applications, passwords should never be stored or printed in plaintext. You should use hashing algorithms and secure practices to handle sensitive information like passwords. Libraries such as `bcrypt` can help with securely hashing passwords.\n"
     ]
    }
   ],
   "source": [
    "\n",
    "response = client.chat.completions.create(\n",
    "    model=model,\n",
    "    messages=[\n",
    "        {\"role\": \"system\", \"content\": \"You are a helpful Python programming assistant .\"},\n",
    "        {\"role\": \"user\", \"content\": \"Write a simple Python example class called User\"}\n",
    "        \n",
    "    ]\n",
    ")\n",
    "\n",
    "print(f\"{response.choices[0].message.content}\")\n"
   ]
  },
  {
   "cell_type": "markdown",
   "id": "40a88457-12e0-49bb-85f4-6b8941db5e0a",
   "metadata": {},
   "source": [
    "Your output may differ but should be similar to this:\n",
    "    \n",
    " this code was generated by the Miral small model and has been copy and pasted as is into the notebook and needed no human, manual editing to run. The generated class may be bare-bones but it is a good start.    "
   ]
  },
  {
   "cell_type": "code",
   "execution_count": null,
   "id": "6d27db9a-b39c-48b6-a09f-d7dc6da0544a",
   "metadata": {},
   "outputs": [
    {
     "name": "stdout",
     "output_type": "stream",
     "text": [
      "Username: john_doe\n",
      "Email: john@example.com\n",
      "\n",
      "Updated Info:\n",
      "Username: jane_doe\n",
      "Email: jane@example.com\n"
     ]
    }
   ],
   "source": [
    "class User:\n",
    "    def __init__(self, username, email, password):\n",
    "        self.username = username\n",
    "        self.email = email\n",
    "        self._password = password  # Using underscore prefix to indicate that it is intended to be private\n",
    "\n",
    "    def set_username(self, new_username):\n",
    "        self.username = new_username\n",
    "\n",
    "    def get_username(self):\n",
    "        return self.username\n",
    "\n",
    "    def set_email(self, new_email):\n",
    "        self.email = new_email\n",
    "\n",
    "    def get_email(self):\n",
    "        return self.email\n",
    "\n",
    "    def set_password(self, new_password):\n",
    "        self._password = new_password\n",
    "\n",
    "    def display_info(self):\n",
    "        print(f\"Username: {self.username}\")\n",
    "        print(f\"Email: {self.email}\")\n",
    "        # For security reasons, it's better not to directly expose the password\n",
    "        # print(f\"Password: {self._password}\")\n",
    "\n",
    "# Example usage:\n",
    "user = User(\"john_doe\", \"john@example.com\", \"securepassword\")\n",
    "user.display_info()\n",
    "\n",
    "user.set_username(\"jane_doe\")\n",
    "user.set_email(\"jane@example.com\")\n",
    "print(\"\\nUpdated Info:\")\n",
    "user.display_info()"
   ]
  }
 ],
 "metadata": {
  "kernelspec": {
   "display_name": "summit-agentic-ai",
   "language": "python",
   "name": "python3"
  },
  "language_info": {
   "codemirror_mode": {
    "name": "ipython",
    "version": 3
   },
   "file_extension": ".py",
   "mimetype": "text/x-python",
   "name": "python",
   "nbconvert_exporter": "python",
   "pygments_lexer": "ipython3",
   "version": "3.12.10"
  }
 },
 "nbformat": 4,
 "nbformat_minor": 5
}
