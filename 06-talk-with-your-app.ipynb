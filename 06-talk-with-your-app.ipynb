{
 "cells": [
  {
   "cell_type": "markdown",
   "id": "e8987006-614e-41b7-9c2f-aa6359e8e231",
   "metadata": {},
   "source": [
    "# Talk to your App\n",
    "\n",
    "In majority of the examples, LLM Usage is shown as a chat-bot or personal assistant. \n",
    "\n",
    "A more powerful usage of Agentic-AI are when they interact with the system in the background and enrich it or take autonomous actions. This is conceptually similar to streaming analytics - with analytics being processed by Agents powered by LLMs.\n",
    "\n",
    "You will see that for chat-bot type usage - if the AI infrastructure is down, things still work.\n",
    "However for the Agents in backend - if the AI system is down, then the system will suffer some down time.\n",
    "\n",
    "_Each module is typically dependent on the prior modules having been completed successfully_"
   ]
  },
  {
   "cell_type": "markdown",
   "id": "efdf1f4d-aa59-40a3-bd89-535ef72071f5",
   "metadata": {},
   "source": [
    "### Verifying Python Software Installation\n",
    "\n",
    "The following `pip install` command ensures all necessary Python software components (dependencies) are present. \n",
    "It's safe to run for verification, even if you've already completed Module 02 (which should have handled this)."
   ]
  },
  {
   "cell_type": "code",
   "execution_count": 1,
   "id": "40a7b6f9-130d-48d6-97bb-a3874996e982",
   "metadata": {
    "collapsed": true,
    "jupyter": {
     "outputs_hidden": true
    }
   },
   "outputs": [
    {
     "name": "stdout",
     "output_type": "stream",
     "text": [
      "Requirement already satisfied: annotated-types==0.7.0 in /Users/tok/Dropbox/PARAL/Resources/virtual-envs/summit-agentic-ai/lib/python3.12/site-packages (from -r requirements.txt (line 1)) (0.7.0)\n",
      "Requirement already satisfied: anyio==4.9.0 in /Users/tok/Dropbox/PARAL/Resources/virtual-envs/summit-agentic-ai/lib/python3.12/site-packages (from -r requirements.txt (line 2)) (4.9.0)\n",
      "Requirement already satisfied: argon2-cffi==23.1.0 in /Users/tok/Dropbox/PARAL/Resources/virtual-envs/summit-agentic-ai/lib/python3.12/site-packages (from -r requirements.txt (line 3)) (23.1.0)\n",
      "Requirement already satisfied: argon2-cffi-bindings==21.2.0 in /Users/tok/Dropbox/PARAL/Resources/virtual-envs/summit-agentic-ai/lib/python3.12/site-packages (from -r requirements.txt (line 4)) (21.2.0)\n",
      "Requirement already satisfied: arrow==1.3.0 in /Users/tok/Dropbox/PARAL/Resources/virtual-envs/summit-agentic-ai/lib/python3.12/site-packages (from -r requirements.txt (line 5)) (1.3.0)\n",
      "Requirement already satisfied: asttokens==3.0.0 in /Users/tok/Dropbox/PARAL/Resources/virtual-envs/summit-agentic-ai/lib/python3.12/site-packages (from -r requirements.txt (line 6)) (3.0.0)\n",
      "Requirement already satisfied: async-lru==2.0.5 in /Users/tok/Dropbox/PARAL/Resources/virtual-envs/summit-agentic-ai/lib/python3.12/site-packages (from -r requirements.txt (line 7)) (2.0.5)\n",
      "Requirement already satisfied: attrs==25.3.0 in /Users/tok/Dropbox/PARAL/Resources/virtual-envs/summit-agentic-ai/lib/python3.12/site-packages (from -r requirements.txt (line 8)) (25.3.0)\n",
      "Requirement already satisfied: babel==2.17.0 in /Users/tok/Dropbox/PARAL/Resources/virtual-envs/summit-agentic-ai/lib/python3.12/site-packages (from -r requirements.txt (line 9)) (2.17.0)\n",
      "Requirement already satisfied: beautifulsoup4==4.13.4 in /Users/tok/Dropbox/PARAL/Resources/virtual-envs/summit-agentic-ai/lib/python3.12/site-packages (from -r requirements.txt (line 10)) (4.13.4)\n",
      "Requirement already satisfied: bleach==6.2.0 in /Users/tok/Dropbox/PARAL/Resources/virtual-envs/summit-agentic-ai/lib/python3.12/site-packages (from -r requirements.txt (line 11)) (6.2.0)\n",
      "Requirement already satisfied: certifi==2025.4.26 in /Users/tok/Dropbox/PARAL/Resources/virtual-envs/summit-agentic-ai/lib/python3.12/site-packages (from -r requirements.txt (line 12)) (2025.4.26)\n",
      "Requirement already satisfied: cffi==1.17.1 in /Users/tok/Dropbox/PARAL/Resources/virtual-envs/summit-agentic-ai/lib/python3.12/site-packages (from -r requirements.txt (line 13)) (1.17.1)\n",
      "Requirement already satisfied: charset-normalizer==3.4.1 in /Users/tok/Dropbox/PARAL/Resources/virtual-envs/summit-agentic-ai/lib/python3.12/site-packages (from -r requirements.txt (line 14)) (3.4.1)\n",
      "Requirement already satisfied: click==8.1.8 in /Users/tok/Dropbox/PARAL/Resources/virtual-envs/summit-agentic-ai/lib/python3.12/site-packages (from -r requirements.txt (line 15)) (8.1.8)\n",
      "Requirement already satisfied: colorama==0.4.6 in /Users/tok/Dropbox/PARAL/Resources/virtual-envs/summit-agentic-ai/lib/python3.12/site-packages (from -r requirements.txt (line 16)) (0.4.6)\n",
      "Requirement already satisfied: comm==0.2.2 in /Users/tok/Dropbox/PARAL/Resources/virtual-envs/summit-agentic-ai/lib/python3.12/site-packages (from -r requirements.txt (line 17)) (0.2.2)\n",
      "Requirement already satisfied: debugpy==1.8.14 in /Users/tok/Dropbox/PARAL/Resources/virtual-envs/summit-agentic-ai/lib/python3.12/site-packages (from -r requirements.txt (line 18)) (1.8.14)\n",
      "Requirement already satisfied: decorator==5.2.1 in /Users/tok/Dropbox/PARAL/Resources/virtual-envs/summit-agentic-ai/lib/python3.12/site-packages (from -r requirements.txt (line 19)) (5.2.1)\n",
      "Requirement already satisfied: defusedxml==0.7.1 in /Users/tok/Dropbox/PARAL/Resources/virtual-envs/summit-agentic-ai/lib/python3.12/site-packages (from -r requirements.txt (line 20)) (0.7.1)\n",
      "Requirement already satisfied: distro==1.9.0 in /Users/tok/Dropbox/PARAL/Resources/virtual-envs/summit-agentic-ai/lib/python3.12/site-packages (from -r requirements.txt (line 21)) (1.9.0)\n",
      "Requirement already satisfied: executing==2.2.0 in /Users/tok/Dropbox/PARAL/Resources/virtual-envs/summit-agentic-ai/lib/python3.12/site-packages (from -r requirements.txt (line 22)) (2.2.0)\n",
      "Requirement already satisfied: fastjsonschema==2.21.1 in /Users/tok/Dropbox/PARAL/Resources/virtual-envs/summit-agentic-ai/lib/python3.12/site-packages (from -r requirements.txt (line 23)) (2.21.1)\n",
      "Requirement already satisfied: fqdn==1.5.1 in /Users/tok/Dropbox/PARAL/Resources/virtual-envs/summit-agentic-ai/lib/python3.12/site-packages (from -r requirements.txt (line 24)) (1.5.1)\n",
      "Requirement already satisfied: griffe==1.7.3 in /Users/tok/Dropbox/PARAL/Resources/virtual-envs/summit-agentic-ai/lib/python3.12/site-packages (from -r requirements.txt (line 25)) (1.7.3)\n",
      "Requirement already satisfied: h11==0.16.0 in /Users/tok/Dropbox/PARAL/Resources/virtual-envs/summit-agentic-ai/lib/python3.12/site-packages (from -r requirements.txt (line 26)) (0.16.0)\n",
      "Requirement already satisfied: httpcore==1.0.9 in /Users/tok/Dropbox/PARAL/Resources/virtual-envs/summit-agentic-ai/lib/python3.12/site-packages (from -r requirements.txt (line 27)) (1.0.9)\n",
      "Requirement already satisfied: httpx==0.28.1 in /Users/tok/Dropbox/PARAL/Resources/virtual-envs/summit-agentic-ai/lib/python3.12/site-packages (from -r requirements.txt (line 28)) (0.28.1)\n",
      "Requirement already satisfied: httpx-sse==0.4.0 in /Users/tok/Dropbox/PARAL/Resources/virtual-envs/summit-agentic-ai/lib/python3.12/site-packages (from -r requirements.txt (line 29)) (0.4.0)\n",
      "Requirement already satisfied: idna==3.10 in /Users/tok/Dropbox/PARAL/Resources/virtual-envs/summit-agentic-ai/lib/python3.12/site-packages (from -r requirements.txt (line 30)) (3.10)\n",
      "Requirement already satisfied: ipykernel==6.29.5 in /Users/tok/Dropbox/PARAL/Resources/virtual-envs/summit-agentic-ai/lib/python3.12/site-packages (from -r requirements.txt (line 31)) (6.29.5)\n",
      "Requirement already satisfied: ipython==9.2.0 in /Users/tok/Dropbox/PARAL/Resources/virtual-envs/summit-agentic-ai/lib/python3.12/site-packages (from -r requirements.txt (line 32)) (9.2.0)\n",
      "Requirement already satisfied: ipython_pygments_lexers==1.1.1 in /Users/tok/Dropbox/PARAL/Resources/virtual-envs/summit-agentic-ai/lib/python3.12/site-packages (from -r requirements.txt (line 33)) (1.1.1)\n",
      "Requirement already satisfied: ipywidgets==8.1.6 in /Users/tok/Dropbox/PARAL/Resources/virtual-envs/summit-agentic-ai/lib/python3.12/site-packages (from -r requirements.txt (line 34)) (8.1.6)\n",
      "Requirement already satisfied: isoduration==20.11.0 in /Users/tok/Dropbox/PARAL/Resources/virtual-envs/summit-agentic-ai/lib/python3.12/site-packages (from -r requirements.txt (line 35)) (20.11.0)\n",
      "Requirement already satisfied: jedi==0.19.2 in /Users/tok/Dropbox/PARAL/Resources/virtual-envs/summit-agentic-ai/lib/python3.12/site-packages (from -r requirements.txt (line 36)) (0.19.2)\n",
      "Requirement already satisfied: Jinja2==3.1.6 in /Users/tok/Dropbox/PARAL/Resources/virtual-envs/summit-agentic-ai/lib/python3.12/site-packages (from -r requirements.txt (line 37)) (3.1.6)\n",
      "Requirement already satisfied: jiter==0.9.0 in /Users/tok/Dropbox/PARAL/Resources/virtual-envs/summit-agentic-ai/lib/python3.12/site-packages (from -r requirements.txt (line 38)) (0.9.0)\n",
      "Requirement already satisfied: json5==0.12.0 in /Users/tok/Dropbox/PARAL/Resources/virtual-envs/summit-agentic-ai/lib/python3.12/site-packages (from -r requirements.txt (line 39)) (0.12.0)\n",
      "Requirement already satisfied: jsonpointer==3.0.0 in /Users/tok/Dropbox/PARAL/Resources/virtual-envs/summit-agentic-ai/lib/python3.12/site-packages (from -r requirements.txt (line 40)) (3.0.0)\n",
      "Requirement already satisfied: jsonschema==4.23.0 in /Users/tok/Dropbox/PARAL/Resources/virtual-envs/summit-agentic-ai/lib/python3.12/site-packages (from -r requirements.txt (line 41)) (4.23.0)\n",
      "Requirement already satisfied: jsonschema-specifications==2025.4.1 in /Users/tok/Dropbox/PARAL/Resources/virtual-envs/summit-agentic-ai/lib/python3.12/site-packages (from -r requirements.txt (line 42)) (2025.4.1)\n",
      "Requirement already satisfied: jupyter==1.1.1 in /Users/tok/Dropbox/PARAL/Resources/virtual-envs/summit-agentic-ai/lib/python3.12/site-packages (from -r requirements.txt (line 43)) (1.1.1)\n",
      "Requirement already satisfied: jupyter-console==6.6.3 in /Users/tok/Dropbox/PARAL/Resources/virtual-envs/summit-agentic-ai/lib/python3.12/site-packages (from -r requirements.txt (line 44)) (6.6.3)\n",
      "Requirement already satisfied: jupyter-events==0.12.0 in /Users/tok/Dropbox/PARAL/Resources/virtual-envs/summit-agentic-ai/lib/python3.12/site-packages (from -r requirements.txt (line 45)) (0.12.0)\n",
      "Requirement already satisfied: jupyter-lsp==2.2.5 in /Users/tok/Dropbox/PARAL/Resources/virtual-envs/summit-agentic-ai/lib/python3.12/site-packages (from -r requirements.txt (line 46)) (2.2.5)\n",
      "Requirement already satisfied: jupyter_client==8.6.3 in /Users/tok/Dropbox/PARAL/Resources/virtual-envs/summit-agentic-ai/lib/python3.12/site-packages (from -r requirements.txt (line 47)) (8.6.3)\n",
      "Requirement already satisfied: jupyter_core==5.7.2 in /Users/tok/Dropbox/PARAL/Resources/virtual-envs/summit-agentic-ai/lib/python3.12/site-packages (from -r requirements.txt (line 48)) (5.7.2)\n",
      "Requirement already satisfied: jupyter_server==2.15.0 in /Users/tok/Dropbox/PARAL/Resources/virtual-envs/summit-agentic-ai/lib/python3.12/site-packages (from -r requirements.txt (line 49)) (2.15.0)\n",
      "Requirement already satisfied: jupyter_server_terminals==0.5.3 in /Users/tok/Dropbox/PARAL/Resources/virtual-envs/summit-agentic-ai/lib/python3.12/site-packages (from -r requirements.txt (line 50)) (0.5.3)\n",
      "Requirement already satisfied: jupyterlab==4.4.1 in /Users/tok/Dropbox/PARAL/Resources/virtual-envs/summit-agentic-ai/lib/python3.12/site-packages (from -r requirements.txt (line 51)) (4.4.1)\n",
      "Requirement already satisfied: jupyterlab_pygments==0.3.0 in /Users/tok/Dropbox/PARAL/Resources/virtual-envs/summit-agentic-ai/lib/python3.12/site-packages (from -r requirements.txt (line 52)) (0.3.0)\n",
      "Requirement already satisfied: jupyterlab_server==2.27.3 in /Users/tok/Dropbox/PARAL/Resources/virtual-envs/summit-agentic-ai/lib/python3.12/site-packages (from -r requirements.txt (line 53)) (2.27.3)\n",
      "Requirement already satisfied: jupyterlab_widgets==3.0.14 in /Users/tok/Dropbox/PARAL/Resources/virtual-envs/summit-agentic-ai/lib/python3.12/site-packages (from -r requirements.txt (line 54)) (3.0.14)\n",
      "Requirement already satisfied: llama_stack_client==0.2.4 in /Users/tok/Dropbox/PARAL/Resources/virtual-envs/summit-agentic-ai/lib/python3.12/site-packages (from -r requirements.txt (line 55)) (0.2.4)\n",
      "Requirement already satisfied: markdown-it-py==3.0.0 in /Users/tok/Dropbox/PARAL/Resources/virtual-envs/summit-agentic-ai/lib/python3.12/site-packages (from -r requirements.txt (line 56)) (3.0.0)\n",
      "Requirement already satisfied: MarkupSafe==3.0.2 in /Users/tok/Dropbox/PARAL/Resources/virtual-envs/summit-agentic-ai/lib/python3.12/site-packages (from -r requirements.txt (line 57)) (3.0.2)\n",
      "Requirement already satisfied: matplotlib-inline==0.1.7 in /Users/tok/Dropbox/PARAL/Resources/virtual-envs/summit-agentic-ai/lib/python3.12/site-packages (from -r requirements.txt (line 58)) (0.1.7)\n",
      "Requirement already satisfied: mcp==1.8.1 in /Users/tok/Dropbox/PARAL/Resources/virtual-envs/summit-agentic-ai/lib/python3.12/site-packages (from -r requirements.txt (line 59)) (1.8.1)\n",
      "Requirement already satisfied: mdurl==0.1.2 in /Users/tok/Dropbox/PARAL/Resources/virtual-envs/summit-agentic-ai/lib/python3.12/site-packages (from -r requirements.txt (line 60)) (0.1.2)\n",
      "Requirement already satisfied: mistune==3.1.3 in /Users/tok/Dropbox/PARAL/Resources/virtual-envs/summit-agentic-ai/lib/python3.12/site-packages (from -r requirements.txt (line 61)) (3.1.3)\n",
      "Requirement already satisfied: nbclient==0.10.2 in /Users/tok/Dropbox/PARAL/Resources/virtual-envs/summit-agentic-ai/lib/python3.12/site-packages (from -r requirements.txt (line 62)) (0.10.2)\n",
      "Requirement already satisfied: nbconvert==7.16.6 in /Users/tok/Dropbox/PARAL/Resources/virtual-envs/summit-agentic-ai/lib/python3.12/site-packages (from -r requirements.txt (line 63)) (7.16.6)\n",
      "Requirement already satisfied: nbformat==5.10.4 in /Users/tok/Dropbox/PARAL/Resources/virtual-envs/summit-agentic-ai/lib/python3.12/site-packages (from -r requirements.txt (line 64)) (5.10.4)\n",
      "Requirement already satisfied: nest-asyncio==1.6.0 in /Users/tok/Dropbox/PARAL/Resources/virtual-envs/summit-agentic-ai/lib/python3.12/site-packages (from -r requirements.txt (line 65)) (1.6.0)\n",
      "Requirement already satisfied: notebook==7.4.1 in /Users/tok/Dropbox/PARAL/Resources/virtual-envs/summit-agentic-ai/lib/python3.12/site-packages (from -r requirements.txt (line 66)) (7.4.1)\n",
      "Requirement already satisfied: notebook_shim==0.2.4 in /Users/tok/Dropbox/PARAL/Resources/virtual-envs/summit-agentic-ai/lib/python3.12/site-packages (from -r requirements.txt (line 67)) (0.2.4)\n",
      "Requirement already satisfied: numpy==2.2.5 in /Users/tok/Dropbox/PARAL/Resources/virtual-envs/summit-agentic-ai/lib/python3.12/site-packages (from -r requirements.txt (line 68)) (2.2.5)\n",
      "Requirement already satisfied: openai==1.76.2 in /Users/tok/Dropbox/PARAL/Resources/virtual-envs/summit-agentic-ai/lib/python3.12/site-packages (from -r requirements.txt (line 69)) (1.76.2)\n",
      "Requirement already satisfied: openai-agents==0.0.13 in /Users/tok/Dropbox/PARAL/Resources/virtual-envs/summit-agentic-ai/lib/python3.12/site-packages (from -r requirements.txt (line 70)) (0.0.13)\n",
      "Requirement already satisfied: overrides==7.7.0 in /Users/tok/Dropbox/PARAL/Resources/virtual-envs/summit-agentic-ai/lib/python3.12/site-packages (from -r requirements.txt (line 71)) (7.7.0)\n",
      "Requirement already satisfied: packaging==25.0 in /Users/tok/Dropbox/PARAL/Resources/virtual-envs/summit-agentic-ai/lib/python3.12/site-packages (from -r requirements.txt (line 72)) (25.0)\n",
      "Requirement already satisfied: pandas==2.2.3 in /Users/tok/Dropbox/PARAL/Resources/virtual-envs/summit-agentic-ai/lib/python3.12/site-packages (from -r requirements.txt (line 73)) (2.2.3)\n",
      "Requirement already satisfied: pandocfilters==1.5.1 in /Users/tok/Dropbox/PARAL/Resources/virtual-envs/summit-agentic-ai/lib/python3.12/site-packages (from -r requirements.txt (line 74)) (1.5.1)\n",
      "Requirement already satisfied: parso==0.8.4 in /Users/tok/Dropbox/PARAL/Resources/virtual-envs/summit-agentic-ai/lib/python3.12/site-packages (from -r requirements.txt (line 75)) (0.8.4)\n",
      "Requirement already satisfied: pexpect==4.9.0 in /Users/tok/Dropbox/PARAL/Resources/virtual-envs/summit-agentic-ai/lib/python3.12/site-packages (from -r requirements.txt (line 76)) (4.9.0)\n",
      "Requirement already satisfied: platformdirs==4.3.7 in /Users/tok/Dropbox/PARAL/Resources/virtual-envs/summit-agentic-ai/lib/python3.12/site-packages (from -r requirements.txt (line 77)) (4.3.7)\n",
      "Requirement already satisfied: prometheus_client==0.21.1 in /Users/tok/Dropbox/PARAL/Resources/virtual-envs/summit-agentic-ai/lib/python3.12/site-packages (from -r requirements.txt (line 78)) (0.21.1)\n",
      "Requirement already satisfied: prompt_toolkit==3.0.51 in /Users/tok/Dropbox/PARAL/Resources/virtual-envs/summit-agentic-ai/lib/python3.12/site-packages (from -r requirements.txt (line 79)) (3.0.51)\n",
      "Requirement already satisfied: psutil==7.0.0 in /Users/tok/Dropbox/PARAL/Resources/virtual-envs/summit-agentic-ai/lib/python3.12/site-packages (from -r requirements.txt (line 80)) (7.0.0)\n",
      "Requirement already satisfied: ptyprocess==0.7.0 in /Users/tok/Dropbox/PARAL/Resources/virtual-envs/summit-agentic-ai/lib/python3.12/site-packages (from -r requirements.txt (line 81)) (0.7.0)\n",
      "Requirement already satisfied: pure_eval==0.2.3 in /Users/tok/Dropbox/PARAL/Resources/virtual-envs/summit-agentic-ai/lib/python3.12/site-packages (from -r requirements.txt (line 82)) (0.2.3)\n",
      "Requirement already satisfied: pyaml==25.1.0 in /Users/tok/Dropbox/PARAL/Resources/virtual-envs/summit-agentic-ai/lib/python3.12/site-packages (from -r requirements.txt (line 83)) (25.1.0)\n",
      "Requirement already satisfied: pycparser==2.22 in /Users/tok/Dropbox/PARAL/Resources/virtual-envs/summit-agentic-ai/lib/python3.12/site-packages (from -r requirements.txt (line 84)) (2.22)\n",
      "Requirement already satisfied: pydantic==2.11.4 in /Users/tok/Dropbox/PARAL/Resources/virtual-envs/summit-agentic-ai/lib/python3.12/site-packages (from -r requirements.txt (line 85)) (2.11.4)\n",
      "Requirement already satisfied: pydantic-settings==2.9.1 in /Users/tok/Dropbox/PARAL/Resources/virtual-envs/summit-agentic-ai/lib/python3.12/site-packages (from -r requirements.txt (line 86)) (2.9.1)\n",
      "Requirement already satisfied: pydantic_core==2.33.2 in /Users/tok/Dropbox/PARAL/Resources/virtual-envs/summit-agentic-ai/lib/python3.12/site-packages (from -r requirements.txt (line 87)) (2.33.2)\n",
      "Requirement already satisfied: Pygments==2.19.1 in /Users/tok/Dropbox/PARAL/Resources/virtual-envs/summit-agentic-ai/lib/python3.12/site-packages (from -r requirements.txt (line 88)) (2.19.1)\n",
      "Requirement already satisfied: python-dateutil==2.9.0.post0 in /Users/tok/Dropbox/PARAL/Resources/virtual-envs/summit-agentic-ai/lib/python3.12/site-packages (from -r requirements.txt (line 89)) (2.9.0.post0)\n",
      "Requirement already satisfied: python-dotenv==1.1.0 in /Users/tok/Dropbox/PARAL/Resources/virtual-envs/summit-agentic-ai/lib/python3.12/site-packages (from -r requirements.txt (line 90)) (1.1.0)\n",
      "Requirement already satisfied: python-json-logger==3.3.0 in /Users/tok/Dropbox/PARAL/Resources/virtual-envs/summit-agentic-ai/lib/python3.12/site-packages (from -r requirements.txt (line 91)) (3.3.0)\n",
      "Requirement already satisfied: python-multipart==0.0.20 in /Users/tok/Dropbox/PARAL/Resources/virtual-envs/summit-agentic-ai/lib/python3.12/site-packages (from -r requirements.txt (line 92)) (0.0.20)\n",
      "Requirement already satisfied: pytz==2025.2 in /Users/tok/Dropbox/PARAL/Resources/virtual-envs/summit-agentic-ai/lib/python3.12/site-packages (from -r requirements.txt (line 93)) (2025.2)\n",
      "Requirement already satisfied: PyYAML==6.0.2 in /Users/tok/Dropbox/PARAL/Resources/virtual-envs/summit-agentic-ai/lib/python3.12/site-packages (from -r requirements.txt (line 94)) (6.0.2)\n",
      "Requirement already satisfied: pyzmq==26.4.0 in /Users/tok/Dropbox/PARAL/Resources/virtual-envs/summit-agentic-ai/lib/python3.12/site-packages (from -r requirements.txt (line 95)) (26.4.0)\n",
      "Requirement already satisfied: referencing==0.36.2 in /Users/tok/Dropbox/PARAL/Resources/virtual-envs/summit-agentic-ai/lib/python3.12/site-packages (from -r requirements.txt (line 96)) (0.36.2)\n",
      "Requirement already satisfied: requests==2.32.3 in /Users/tok/Dropbox/PARAL/Resources/virtual-envs/summit-agentic-ai/lib/python3.12/site-packages (from -r requirements.txt (line 97)) (2.32.3)\n",
      "Requirement already satisfied: rfc3339-validator==0.1.4 in /Users/tok/Dropbox/PARAL/Resources/virtual-envs/summit-agentic-ai/lib/python3.12/site-packages (from -r requirements.txt (line 98)) (0.1.4)\n",
      "Requirement already satisfied: rfc3986-validator==0.1.1 in /Users/tok/Dropbox/PARAL/Resources/virtual-envs/summit-agentic-ai/lib/python3.12/site-packages (from -r requirements.txt (line 99)) (0.1.1)\n",
      "Requirement already satisfied: rich==14.0.0 in /Users/tok/Dropbox/PARAL/Resources/virtual-envs/summit-agentic-ai/lib/python3.12/site-packages (from -r requirements.txt (line 100)) (14.0.0)\n",
      "Requirement already satisfied: rpds-py==0.24.0 in /Users/tok/Dropbox/PARAL/Resources/virtual-envs/summit-agentic-ai/lib/python3.12/site-packages (from -r requirements.txt (line 101)) (0.24.0)\n",
      "Requirement already satisfied: Send2Trash==1.8.3 in /Users/tok/Dropbox/PARAL/Resources/virtual-envs/summit-agentic-ai/lib/python3.12/site-packages (from -r requirements.txt (line 102)) (1.8.3)\n",
      "Requirement already satisfied: setuptools==80.0.0 in /Users/tok/Dropbox/PARAL/Resources/virtual-envs/summit-agentic-ai/lib/python3.12/site-packages (from -r requirements.txt (line 103)) (80.0.0)\n",
      "Requirement already satisfied: six==1.17.0 in /Users/tok/Dropbox/PARAL/Resources/virtual-envs/summit-agentic-ai/lib/python3.12/site-packages (from -r requirements.txt (line 104)) (1.17.0)\n",
      "Requirement already satisfied: sniffio==1.3.1 in /Users/tok/Dropbox/PARAL/Resources/virtual-envs/summit-agentic-ai/lib/python3.12/site-packages (from -r requirements.txt (line 105)) (1.3.1)\n",
      "Requirement already satisfied: soupsieve==2.7 in /Users/tok/Dropbox/PARAL/Resources/virtual-envs/summit-agentic-ai/lib/python3.12/site-packages (from -r requirements.txt (line 106)) (2.7)\n",
      "Requirement already satisfied: sse-starlette==2.3.5 in /Users/tok/Dropbox/PARAL/Resources/virtual-envs/summit-agentic-ai/lib/python3.12/site-packages (from -r requirements.txt (line 107)) (2.3.5)\n",
      "Requirement already satisfied: stack-data==0.6.3 in /Users/tok/Dropbox/PARAL/Resources/virtual-envs/summit-agentic-ai/lib/python3.12/site-packages (from -r requirements.txt (line 108)) (0.6.3)\n",
      "Requirement already satisfied: starlette==0.46.2 in /Users/tok/Dropbox/PARAL/Resources/virtual-envs/summit-agentic-ai/lib/python3.12/site-packages (from -r requirements.txt (line 109)) (0.46.2)\n",
      "Requirement already satisfied: termcolor==3.1.0 in /Users/tok/Dropbox/PARAL/Resources/virtual-envs/summit-agentic-ai/lib/python3.12/site-packages (from -r requirements.txt (line 110)) (3.1.0)\n",
      "Requirement already satisfied: terminado==0.18.1 in /Users/tok/Dropbox/PARAL/Resources/virtual-envs/summit-agentic-ai/lib/python3.12/site-packages (from -r requirements.txt (line 111)) (0.18.1)\n",
      "Requirement already satisfied: tinycss2==1.4.0 in /Users/tok/Dropbox/PARAL/Resources/virtual-envs/summit-agentic-ai/lib/python3.12/site-packages (from -r requirements.txt (line 112)) (1.4.0)\n",
      "Requirement already satisfied: tornado==6.4.2 in /Users/tok/Dropbox/PARAL/Resources/virtual-envs/summit-agentic-ai/lib/python3.12/site-packages (from -r requirements.txt (line 113)) (6.4.2)\n",
      "Requirement already satisfied: tqdm==4.67.1 in /Users/tok/Dropbox/PARAL/Resources/virtual-envs/summit-agentic-ai/lib/python3.12/site-packages (from -r requirements.txt (line 114)) (4.67.1)\n",
      "Requirement already satisfied: traitlets==5.14.3 in /Users/tok/Dropbox/PARAL/Resources/virtual-envs/summit-agentic-ai/lib/python3.12/site-packages (from -r requirements.txt (line 115)) (5.14.3)\n",
      "Requirement already satisfied: types-python-dateutil==2.9.0.20241206 in /Users/tok/Dropbox/PARAL/Resources/virtual-envs/summit-agentic-ai/lib/python3.12/site-packages (from -r requirements.txt (line 116)) (2.9.0.20241206)\n",
      "Requirement already satisfied: types-requests==2.32.0.20250328 in /Users/tok/Dropbox/PARAL/Resources/virtual-envs/summit-agentic-ai/lib/python3.12/site-packages (from -r requirements.txt (line 117)) (2.32.0.20250328)\n",
      "Requirement already satisfied: typing-inspection==0.4.0 in /Users/tok/Dropbox/PARAL/Resources/virtual-envs/summit-agentic-ai/lib/python3.12/site-packages (from -r requirements.txt (line 118)) (0.4.0)\n",
      "Requirement already satisfied: typing_extensions==4.13.2 in /Users/tok/Dropbox/PARAL/Resources/virtual-envs/summit-agentic-ai/lib/python3.12/site-packages (from -r requirements.txt (line 119)) (4.13.2)\n",
      "Requirement already satisfied: tzdata==2025.2 in /Users/tok/Dropbox/PARAL/Resources/virtual-envs/summit-agentic-ai/lib/python3.12/site-packages (from -r requirements.txt (line 120)) (2025.2)\n",
      "Requirement already satisfied: uri-template==1.3.0 in /Users/tok/Dropbox/PARAL/Resources/virtual-envs/summit-agentic-ai/lib/python3.12/site-packages (from -r requirements.txt (line 121)) (1.3.0)\n",
      "Requirement already satisfied: urllib3==2.4.0 in /Users/tok/Dropbox/PARAL/Resources/virtual-envs/summit-agentic-ai/lib/python3.12/site-packages (from -r requirements.txt (line 122)) (2.4.0)\n",
      "Requirement already satisfied: uvicorn==0.34.2 in /Users/tok/Dropbox/PARAL/Resources/virtual-envs/summit-agentic-ai/lib/python3.12/site-packages (from -r requirements.txt (line 123)) (0.34.2)\n",
      "Requirement already satisfied: wcwidth==0.2.13 in /Users/tok/Dropbox/PARAL/Resources/virtual-envs/summit-agentic-ai/lib/python3.12/site-packages (from -r requirements.txt (line 124)) (0.2.13)\n",
      "Requirement already satisfied: webcolors==24.11.1 in /Users/tok/Dropbox/PARAL/Resources/virtual-envs/summit-agentic-ai/lib/python3.12/site-packages (from -r requirements.txt (line 125)) (24.11.1)\n",
      "Requirement already satisfied: webencodings==0.5.1 in /Users/tok/Dropbox/PARAL/Resources/virtual-envs/summit-agentic-ai/lib/python3.12/site-packages (from -r requirements.txt (line 126)) (0.5.1)\n",
      "Requirement already satisfied: websocket-client==1.8.0 in /Users/tok/Dropbox/PARAL/Resources/virtual-envs/summit-agentic-ai/lib/python3.12/site-packages (from -r requirements.txt (line 127)) (1.8.0)\n",
      "Requirement already satisfied: widgetsnbextension==4.0.14 in /Users/tok/Dropbox/PARAL/Resources/virtual-envs/summit-agentic-ai/lib/python3.12/site-packages (from -r requirements.txt (line 128)) (4.0.14)\n",
      "Requirement already satisfied: appnope in /Users/tok/Dropbox/PARAL/Resources/virtual-envs/summit-agentic-ai/lib/python3.12/site-packages (from ipykernel==6.29.5->-r requirements.txt (line 31)) (0.1.4)\n",
      "Note: you may need to restart the kernel to use updated packages.\n"
     ]
    }
   ],
   "source": [
    "%pip install -r requirements.txt"
   ]
  },
  {
   "cell_type": "code",
   "execution_count": 2,
   "id": "a049faf1-8a5c-4b36-a85c-7f7627635c4e",
   "metadata": {},
   "outputs": [
    {
     "data": {
      "text/html": [
       "<pre style=\"white-space:pre;overflow-x:auto;line-height:normal;font-family:Menlo,'DejaVu Sans Mono',consolas,'Courier New',monospace\"><span style=\"color: #008000; text-decoration-color: #008000\"> Model setup</span>\n",
       "</pre>\n"
      ],
      "text/plain": [
       "\u001b[32m Model setup\u001b[0m\n"
      ]
     },
     "metadata": {},
     "output_type": "display_data"
    }
   ],
   "source": [
    "import openai\n",
    "import re\n",
    "import httpx\n",
    "import os\n",
    "import rich\n",
    "import json\n",
    "from openai import OpenAI\n",
    "from agents import Agent, ModelSettings, function_tool,Runner,AsyncOpenAI,OpenAIChatCompletionsModel\n",
    "from dotenv import load_dotenv, find_dotenv\n",
    "from rich.pretty import pprint\n",
    "from rich import print\n",
    "\n",
    "api_key = \"sk-dummy_key\"\n",
    "os.environ[\"OPENAI_API_KEY\"] = api_key\n",
    "\n",
    "model = \"llama3.2:3b-instruct-fp16\" \n",
    "base_url = \"http://localhost:11434/v1/\"\n",
    "\n",
    "model = OpenAIChatCompletionsModel( \n",
    "    model=model,\n",
    "    openai_client=AsyncOpenAI(base_url=\"http://localhost:11434/v1\",api_key=api_key),\n",
    ")\n",
    "\n",
    "print(\"[green] Model setup[/green]\")"
   ]
  },
  {
   "cell_type": "markdown",
   "id": "7af63f69-2d06-40f9-9fa5-cc490cf11768",
   "metadata": {},
   "source": [
    "## Automated Error Handling\n",
    "\n",
    "1.The process is started when an ansible job log completion data comes in. (as of now, we simulate this as a user input)\n",
    "1. It examimes if there is any error. If no error, it ends\n",
    "1. If there is an error:\n",
    "    - Agent analyzes and recommends\n",
    "    - Agent opens a jira ticket\n",
    "    - Agent sends a slack message\n",
    "\n",
    "![Workflow](resources/images/agent_log_workflow.png)"
   ]
  },
  {
   "cell_type": "code",
   "execution_count": 3,
   "id": "3f956699-6763-4872-a4c5-8fe453c8165b",
   "metadata": {},
   "outputs": [
    {
     "data": {
      "text/html": [
       "<pre style=\"white-space:pre;overflow-x:auto;line-height:normal;font-family:Menlo,'DejaVu Sans Mono',consolas,'Courier New',monospace\"><span style=\"color: #008000; text-decoration-color: #008000\"> Agents setup</span>\n",
       "</pre>\n"
      ],
      "text/plain": [
       "\u001b[32m Agents setup\u001b[0m\n"
      ]
     },
     "metadata": {},
     "output_type": "display_data"
    }
   ],
   "source": [
    "from dataclasses import dataclass\n",
    "from typing import Literal\n",
    "\n",
    "from agents import Agent, ItemHelpers, Runner, TResponseInputItem, trace\n",
    "\n",
    "\n",
    "@dataclass\n",
    "class Advisor:\n",
    "    body: str\n",
    "\n",
    "@dataclass\n",
    "class Slacker:\n",
    "    body: str\n",
    "\n",
    "@dataclass\n",
    "class JIRAer:\n",
    "    body: str\n",
    "\n",
    "\n",
    "advisor_agent = Agent(\n",
    "    name=\"advisor_agent\",\n",
    "    instructions=(\n",
    "        \"You can look at the contents of an ansible log and spot the error.\\n\"\n",
    "        \"You will describe what the error is in a few crisp sentences so that a human can take corrective actions.\\n\"\n",
    "    ),\n",
    "    model = model,\n",
    "    output_type=Advisor,\n",
    "    model_settings=ModelSettings(temperature=0.0),\n",
    ")\n",
    "\n",
    "slack_agent = Agent(\n",
    "    name=\"slack_agent\",\n",
    "    instructions=(\n",
    "        \"If there is an error captured in the input message, you will always output - I have slacked the error message.\\n\"\n",
    "        \"Also add the contents that is the provided in the input. \\n\"\n",
    "        \"Give a made up slack link. \\n\"\n",
    "        \"If there is no error, then just say - All is well, there is nothing to be done.\\n\"\n",
    "    ),\n",
    "    model = model,\n",
    "    output_type=Slacker,\n",
    "    model_settings=ModelSettings(temperature=0.0),\n",
    ")\n",
    "\n",
    "jira_agent = Agent(\n",
    "    name=\"jira_agent\",\n",
    "    instructions=(\n",
    "        \"If there is an error captured in the input message, you will always output - I have created a JIRA issue.\\n\"\n",
    "        \"Also add the contents that is the provided in the input. \\n\"\n",
    "        \"Give a made up slack link. \\n\"\n",
    "        \"If there is no error, then just say - All is well, there is nothing to be done.\\n\"\n",
    "    ),\n",
    "    model = model,\n",
    "    output_type=JIRAer,\n",
    "    model_settings=ModelSettings(temperature=0.0),\n",
    ")\n",
    "\n",
    "print(\"[green] Agents setup[/green]\")"
   ]
  },
  {
   "cell_type": "code",
   "execution_count": 4,
   "id": "f07d1120-a9f5-4727-aaff-e2865f2a85d6",
   "metadata": {},
   "outputs": [
    {
     "data": {
      "text/html": [
       "<pre style=\"white-space:pre;overflow-x:auto;line-height:normal;font-family:Menlo,'DejaVu Sans Mono',consolas,'Courier New',monospace\">----------Advisor Output----------\n",
       "</pre>\n"
      ],
      "text/plain": [
       "----------Advisor Output----------\n"
      ]
     },
     "metadata": {},
     "output_type": "display_data"
    },
    {
     "data": {
      "text/html": [
       "<pre style=\"white-space:pre;overflow-x:auto;line-height:normal;font-family:Menlo,'DejaVu Sans Mono',consolas,'Courier New',monospace\">Connection refused\n",
       "\n",
       "Last failure occurred <span style=\"color: #008080; text-decoration-color: #008080; font-weight: bold\">1</span> minute and <span style=\"color: #008080; text-decoration-color: #008080; font-weight: bold\">30</span> seconds ago\n",
       "\n",
       "Failed to connect to host: Password has expired\n",
       "\n",
       "Last error: Password has expired\n",
       "\n",
       "Original exception: <span style=\"font-weight: bold\">&lt;</span><span style=\"color: #ff00ff; text-decoration-color: #ff00ff; font-weight: bold\">AnsibleError:</span><span style=\"color: #000000; text-decoration-color: #000000\"> </span><span style=\"color: #008000; text-decoration-color: #008000\">'Password has expired'</span>\n",
       "<span style=\"font-weight: bold\">&gt;</span> at <span style=\"color: #800080; text-decoration-color: #800080; font-weight: bold\">AnsibleInventoryItem._get_password_from_file</span><span style=\"font-weight: bold\">(</span>self, inventory_file<span style=\"font-weight: bold\">)</span>\n",
       " at <span style=\"color: #800080; text-decoration-color: #800080; font-weight: bold\">AnsibleInventoryItem.__init__</span><span style=\"font-weight: bold\">(</span>self, inventory_file, group_by, host_list<span style=\"font-weight: bold\">)</span>\n",
       " at <span style=\"color: #800080; text-decoration-color: #800080; font-weight: bold\">AnsibleInventoryItem.__init__</span><span style=\"font-weight: bold\">(</span>self, inventory_file, group_by, host_list<span style=\"font-weight: bold\">)</span>\n",
       " at <span style=\"color: #800080; text-decoration-color: #800080; font-weight: bold\">AnsibleInventoryFile.parse_inventory_file</span><span style=\"font-weight: bold\">(</span>self, inventory_file<span style=\"font-weight: bold\">)</span>\n",
       " at <span style=\"color: #800080; text-decoration-color: #800080; font-weight: bold\">AnsibleInventoryFile._parse_host_group</span><span style=\"font-weight: bold\">(</span>self, host_group<span style=\"font-weight: bold\">)</span>\n",
       " at <span style=\"color: #800080; text-decoration-color: #800080; font-weight: bold\">AnsibleInventoryFile._parse_host_group</span><span style=\"font-weight: bold\">(</span>self, host_group<span style=\"font-weight: bold\">)</span>\n",
       " at <span style=\"color: #800080; text-decoration-color: #800080; font-weight: bold\">AnsibleInventoryFile.parse_inventory_file</span><span style=\"font-weight: bold\">(</span>self, inventory_file<span style=\"font-weight: bold\">)</span>\n",
       "</pre>\n"
      ],
      "text/plain": [
       "Connection refused\n",
       "\n",
       "Last failure occurred \u001b[1;36m1\u001b[0m minute and \u001b[1;36m30\u001b[0m seconds ago\n",
       "\n",
       "Failed to connect to host: Password has expired\n",
       "\n",
       "Last error: Password has expired\n",
       "\n",
       "Original exception: \u001b[1m<\u001b[0m\u001b[1;95mAnsibleError:\u001b[0m\u001b[39m \u001b[0m\u001b[32m'Password has expired'\u001b[0m\n",
       "\u001b[1m>\u001b[0m at \u001b[1;35mAnsibleInventoryItem._get_password_from_file\u001b[0m\u001b[1m(\u001b[0mself, inventory_file\u001b[1m)\u001b[0m\n",
       " at \u001b[1;35mAnsibleInventoryItem.__init__\u001b[0m\u001b[1m(\u001b[0mself, inventory_file, group_by, host_list\u001b[1m)\u001b[0m\n",
       " at \u001b[1;35mAnsibleInventoryItem.__init__\u001b[0m\u001b[1m(\u001b[0mself, inventory_file, group_by, host_list\u001b[1m)\u001b[0m\n",
       " at \u001b[1;35mAnsibleInventoryFile.parse_inventory_file\u001b[0m\u001b[1m(\u001b[0mself, inventory_file\u001b[1m)\u001b[0m\n",
       " at \u001b[1;35mAnsibleInventoryFile._parse_host_group\u001b[0m\u001b[1m(\u001b[0mself, host_group\u001b[1m)\u001b[0m\n",
       " at \u001b[1;35mAnsibleInventoryFile._parse_host_group\u001b[0m\u001b[1m(\u001b[0mself, host_group\u001b[1m)\u001b[0m\n",
       " at \u001b[1;35mAnsibleInventoryFile.parse_inventory_file\u001b[0m\u001b[1m(\u001b[0mself, inventory_file\u001b[1m)\u001b[0m\n"
      ]
     },
     "metadata": {},
     "output_type": "display_data"
    },
    {
     "data": {
      "text/html": [
       "<pre style=\"white-space:pre;overflow-x:auto;line-height:normal;font-family:Menlo,'DejaVu Sans Mono',consolas,'Courier New',monospace\">----------JIRA Output----------\n",
       "</pre>\n"
      ],
      "text/plain": [
       "----------JIRA Output----------\n"
      ]
     },
     "metadata": {},
     "output_type": "display_data"
    },
    {
     "data": {
      "text/html": [
       "<pre style=\"white-space:pre;overflow-x:auto;line-height:normal;font-family:Menlo,'DejaVu Sans Mono',consolas,'Courier New',monospace\"><span style=\"font-weight: bold\">&lt;</span><span style=\"color: #ff00ff; text-decoration-color: #ff00ff; font-weight: bold\">html</span><span style=\"color: #000000; text-decoration-color: #000000\">&gt;&lt;body&gt;Connection refused&lt;</span><span style=\"color: #800080; text-decoration-color: #800080\">/</span><span style=\"color: #ff00ff; text-decoration-color: #ff00ff\">body</span><span style=\"color: #000000; text-decoration-color: #000000\">&gt;&lt;</span><span style=\"color: #800080; text-decoration-color: #800080\">/</span><span style=\"color: #ff00ff; text-decoration-color: #ff00ff\">html</span><span style=\"font-weight: bold\">&gt;</span>\n",
       "</pre>\n"
      ],
      "text/plain": [
       "\u001b[1m<\u001b[0m\u001b[1;95mhtml\u001b[0m\u001b[39m><body>Connection refused<\u001b[0m\u001b[35m/\u001b[0m\u001b[95mbody\u001b[0m\u001b[39m><\u001b[0m\u001b[35m/\u001b[0m\u001b[95mhtml\u001b[0m\u001b[1m>\u001b[0m\n"
      ]
     },
     "metadata": {},
     "output_type": "display_data"
    },
    {
     "data": {
      "text/html": [
       "<pre style=\"white-space:pre;overflow-x:auto;line-height:normal;font-family:Menlo,'DejaVu Sans Mono',consolas,'Courier New',monospace\">----------Slack Output----------\n",
       "</pre>\n"
      ],
      "text/plain": [
       "----------Slack Output----------\n"
      ]
     },
     "metadata": {},
     "output_type": "display_data"
    },
    {
     "data": {
      "text/html": [
       "<pre style=\"white-space:pre;overflow-x:auto;line-height:normal;font-family:Menlo,'DejaVu Sans Mono',consolas,'Courier New',monospace\"><span style=\"font-weight: bold\">&lt;</span><span style=\"color: #ff00ff; text-decoration-color: #ff00ff; font-weight: bold\">html</span><span style=\"color: #000000; text-decoration-color: #000000\">&gt;&lt;body&gt; &lt;h1&gt;Slack Error&lt;</span><span style=\"color: #800080; text-decoration-color: #800080\">/</span><span style=\"color: #ff00ff; text-decoration-color: #ff00ff\">h1</span><span style=\"color: #000000; text-decoration-color: #000000\">&gt; &lt;p&gt; I have slack'd the error message: Password has expired. &lt;</span><span style=\"color: #800080; text-decoration-color: #800080\">/</span><span style=\"color: #ff00ff; text-decoration-color: #ff00ff\">p</span><span style=\"color: #000000; text-decoration-color: #000000\">&gt; &lt;p&gt; The contents</span>\n",
       "<span style=\"color: #000000; text-decoration-color: #000000\">provided in the input were:&lt;</span><span style=\"color: #800080; text-decoration-color: #800080\">/</span><span style=\"color: #ff00ff; text-decoration-color: #ff00ff\">p</span><span style=\"color: #000000; text-decoration-color: #000000\">&gt; &lt;pre&gt;&lt;code&gt;Connection refused&lt;br&gt;Last failure occurred </span><span style=\"color: #008080; text-decoration-color: #008080; font-weight: bold\">1</span><span style=\"color: #000000; text-decoration-color: #000000\"> minute and </span><span style=\"color: #008080; text-decoration-color: #008080; font-weight: bold\">30</span><span style=\"color: #000000; text-decoration-color: #000000\"> seconds </span>\n",
       "<span style=\"color: #000000; text-decoration-color: #000000\">ago&lt;br&gt;Failed to connect to host: Password has expired&lt;br&gt;Last error: Password has expired&lt;br&gt;Original exception: </span>\n",
       "<span style=\"color: #000000; text-decoration-color: #000000\">&lt;AnsibleError: </span><span style=\"color: #008000; text-decoration-color: #008000\">'Password has expired'</span><span style=\"color: #000000; text-decoration-color: #000000\"> at </span><span style=\"color: #800080; text-decoration-color: #800080; font-weight: bold\">AnsibleInventoryItem._get_password_from_file</span><span style=\"color: #000000; text-decoration-color: #000000; font-weight: bold\">(</span><span style=\"color: #000000; text-decoration-color: #000000\">self, inventory_file</span><span style=\"color: #000000; text-decoration-color: #000000; font-weight: bold\">)</span><span style=\"color: #000000; text-decoration-color: #000000\"> at </span>\n",
       "<span style=\"color: #800080; text-decoration-color: #800080; font-weight: bold\">AnsibleInventoryItem.__init__</span><span style=\"color: #000000; text-decoration-color: #000000; font-weight: bold\">(</span><span style=\"color: #000000; text-decoration-color: #000000\">self, inventory_file, group_by, host_list</span><span style=\"color: #000000; text-decoration-color: #000000; font-weight: bold\">)</span><span style=\"color: #000000; text-decoration-color: #000000\"> at </span><span style=\"color: #800080; text-decoration-color: #800080; font-weight: bold\">AnsibleInventoryItem.__init__</span><span style=\"color: #000000; text-decoration-color: #000000; font-weight: bold\">(</span><span style=\"color: #000000; text-decoration-color: #000000\">self, </span>\n",
       "<span style=\"color: #000000; text-decoration-color: #000000\">inventory_file, group_by, host_list</span><span style=\"color: #000000; text-decoration-color: #000000; font-weight: bold\">)</span><span style=\"color: #000000; text-decoration-color: #000000\"> at </span><span style=\"color: #800080; text-decoration-color: #800080; font-weight: bold\">AnsibleInventoryFile.parse_inventory_file</span><span style=\"color: #000000; text-decoration-color: #000000; font-weight: bold\">(</span><span style=\"color: #000000; text-decoration-color: #000000\">self, inventory_file</span><span style=\"color: #000000; text-decoration-color: #000000; font-weight: bold\">)</span><span style=\"color: #000000; text-decoration-color: #000000\"> at </span>\n",
       "<span style=\"color: #800080; text-decoration-color: #800080; font-weight: bold\">AnsibleInventoryFile._parse_host_group</span><span style=\"color: #000000; text-decoration-color: #000000; font-weight: bold\">(</span><span style=\"color: #000000; text-decoration-color: #000000\">self, host_group</span><span style=\"color: #000000; text-decoration-color: #000000; font-weight: bold\">)</span><span style=\"color: #000000; text-decoration-color: #000000\"> at </span><span style=\"color: #800080; text-decoration-color: #800080; font-weight: bold\">AnsibleInventoryFile._parse_host_group</span><span style=\"color: #000000; text-decoration-color: #000000; font-weight: bold\">(</span><span style=\"color: #000000; text-decoration-color: #000000\">self, </span>\n",
       "<span style=\"color: #000000; text-decoration-color: #000000\">host_group</span><span style=\"color: #000000; text-decoration-color: #000000; font-weight: bold\">)</span><span style=\"color: #000000; text-decoration-color: #000000\"> at </span><span style=\"color: #800080; text-decoration-color: #800080; font-weight: bold\">AnsibleInventoryFile.parse_inventory_file</span><span style=\"color: #000000; text-decoration-color: #000000; font-weight: bold\">(</span><span style=\"color: #000000; text-decoration-color: #000000\">self, inventory_file</span><span style=\"color: #000000; text-decoration-color: #000000; font-weight: bold\">)</span><span style=\"color: #000000; text-decoration-color: #000000\">&lt;</span><span style=\"color: #800080; text-decoration-color: #800080\">/</span><span style=\"color: #ff00ff; text-decoration-color: #ff00ff\">code</span><span style=\"color: #000000; text-decoration-color: #000000\">&gt;&lt;</span><span style=\"color: #800080; text-decoration-color: #800080\">/</span><span style=\"color: #ff00ff; text-decoration-color: #ff00ff\">pre</span><span style=\"color: #000000; text-decoration-color: #000000\">&gt; &lt;p&gt; For more </span>\n",
       "<span style=\"color: #000000; text-decoration-color: #000000\">information, visit this link: </span><span style=\"color: #0000ff; text-decoration-color: #0000ff; text-decoration: underline\">https://example.com/slack-error</span><span style=\"color: #000000; text-decoration-color: #000000\"> &lt;</span><span style=\"color: #800080; text-decoration-color: #800080\">/</span><span style=\"color: #ff00ff; text-decoration-color: #ff00ff\">p</span><span style=\"color: #000000; text-decoration-color: #000000\">&gt; &lt;</span><span style=\"color: #800080; text-decoration-color: #800080\">/</span><span style=\"color: #ff00ff; text-decoration-color: #ff00ff\">body</span><span style=\"color: #000000; text-decoration-color: #000000\">&gt;&lt;</span><span style=\"color: #800080; text-decoration-color: #800080\">/</span><span style=\"color: #ff00ff; text-decoration-color: #ff00ff\">html</span><span style=\"font-weight: bold\">&gt;</span>\n",
       "</pre>\n"
      ],
      "text/plain": [
       "\u001b[1m<\u001b[0m\u001b[1;95mhtml\u001b[0m\u001b[39m><body> <h1>Slack Error<\u001b[0m\u001b[35m/\u001b[0m\u001b[95mh1\u001b[0m\u001b[39m> <p> I have slack'd the error message: Password has expired. <\u001b[0m\u001b[35m/\u001b[0m\u001b[95mp\u001b[0m\u001b[39m> <p> The contents\u001b[0m\n",
       "\u001b[39mprovided in the input were:<\u001b[0m\u001b[35m/\u001b[0m\u001b[95mp\u001b[0m\u001b[39m> <pre><code>Connection refused<br>Last failure occurred \u001b[0m\u001b[1;36m1\u001b[0m\u001b[39m minute and \u001b[0m\u001b[1;36m30\u001b[0m\u001b[39m seconds \u001b[0m\n",
       "\u001b[39mago<br>Failed to connect to host: Password has expired<br>Last error: Password has expired<br>Original exception: \u001b[0m\n",
       "\u001b[39m<AnsibleError: \u001b[0m\u001b[32m'Password has expired'\u001b[0m\u001b[39m at \u001b[0m\u001b[1;35mAnsibleInventoryItem._get_password_from_file\u001b[0m\u001b[1;39m(\u001b[0m\u001b[39mself, inventory_file\u001b[0m\u001b[1;39m)\u001b[0m\u001b[39m at \u001b[0m\n",
       "\u001b[1;35mAnsibleInventoryItem.__init__\u001b[0m\u001b[1;39m(\u001b[0m\u001b[39mself, inventory_file, group_by, host_list\u001b[0m\u001b[1;39m)\u001b[0m\u001b[39m at \u001b[0m\u001b[1;35mAnsibleInventoryItem.__init__\u001b[0m\u001b[1;39m(\u001b[0m\u001b[39mself, \u001b[0m\n",
       "\u001b[39minventory_file, group_by, host_list\u001b[0m\u001b[1;39m)\u001b[0m\u001b[39m at \u001b[0m\u001b[1;35mAnsibleInventoryFile.parse_inventory_file\u001b[0m\u001b[1;39m(\u001b[0m\u001b[39mself, inventory_file\u001b[0m\u001b[1;39m)\u001b[0m\u001b[39m at \u001b[0m\n",
       "\u001b[1;35mAnsibleInventoryFile._parse_host_group\u001b[0m\u001b[1;39m(\u001b[0m\u001b[39mself, host_group\u001b[0m\u001b[1;39m)\u001b[0m\u001b[39m at \u001b[0m\u001b[1;35mAnsibleInventoryFile._parse_host_group\u001b[0m\u001b[1;39m(\u001b[0m\u001b[39mself, \u001b[0m\n",
       "\u001b[39mhost_group\u001b[0m\u001b[1;39m)\u001b[0m\u001b[39m at \u001b[0m\u001b[1;35mAnsibleInventoryFile.parse_inventory_file\u001b[0m\u001b[1;39m(\u001b[0m\u001b[39mself, inventory_file\u001b[0m\u001b[1;39m)\u001b[0m\u001b[39m<\u001b[0m\u001b[35m/\u001b[0m\u001b[95mcode\u001b[0m\u001b[39m><\u001b[0m\u001b[35m/\u001b[0m\u001b[95mpre\u001b[0m\u001b[39m> <p> For more \u001b[0m\n",
       "\u001b[39minformation, visit this link: \u001b[0m\u001b[4;94mhttps://example.com/slack-error\u001b[0m\u001b[39m <\u001b[0m\u001b[35m/\u001b[0m\u001b[95mp\u001b[0m\u001b[39m> <\u001b[0m\u001b[35m/\u001b[0m\u001b[95mbody\u001b[0m\u001b[39m><\u001b[0m\u001b[35m/\u001b[0m\u001b[95mhtml\u001b[0m\u001b[1m>\u001b[0m\n"
      ]
     },
     "metadata": {},
     "output_type": "display_data"
    }
   ],
   "source": [
    "#msg = \"all tasks successfully finished\"\n",
    "msg = \"could not connect to the host as the password as expired. \"\n",
    "inputs = [{\"content\": msg, \"role\": \"user\"}]\n",
    "\n",
    "#with trace(\"Router\"):\n",
    "#    story_outline_result = await Runner.run(advisor_agent,inputs)\n",
    "#    #uncomment this to see the details\n",
    "#    pprint(story_outline_result)\n",
    "#    print(\"--------------------------\")\n",
    "#    print(story_outline_result.final_output)\n",
    "\n",
    "with trace(\"Workflow\"):\n",
    "    print(\"----------Advisor Output----------\")\n",
    "    advisor_result = await Runner.run(advisor_agent,inputs)\n",
    "    print(advisor_result.final_output.body)\n",
    "    advisor_output: Advisor = advisor_result.final_output\n",
    "    \n",
    "    print(\"----------JIRA Output----------\")\n",
    "    jira_result = await Runner.run(jira_agent,advisor_output.body)\n",
    "    print(jira_result.final_output.body)\n",
    "    \n",
    "    print(\"----------Slack Output----------\")\n",
    "    slack_result = await Runner.run(slack_agent,advisor_output.body)\n",
    "    print(slack_result.final_output.body)"
   ]
  },
  {
   "cell_type": "markdown",
   "id": "21b9ab57-7246-4c17-a9c1-2ccc9a7cc487",
   "metadata": {},
   "source": [
    "# Human-in-the-Loop\n",
    "But LLMs hallucinate!\n",
    "\n",
    "Yes, LLMs, just like traditional AI and human beings may not always give the right answer. To handle those kind of possible mistakes, we have processes in place.\n",
    "\n",
    "In the above example, we are seamlessly blending human-in-the-loop when we open a JIRA ticket or Slack a message. Even if the contents of these are not entirely accurate, we do not lose much because a person can check and correct if needed. \n",
    "\n",
    "In distributed systems, there are lots of similar examples - which has been around us for a long time - to take care of possible errors: for example those which arise out of CAP Theorem related inconsistencies. \n"
   ]
  },
  {
   "cell_type": "markdown",
   "id": "39fc062f-d913-4042-b4a3-2f0d6d075d55",
   "metadata": {},
   "source": [
    "## Extend the Debugging Agent capabilities to make it robust\n",
    "We shared in 05-agents.ipynb a debugger agent. Let us make it more robust. What happens if the answer given by the debugger has obvious gaps or hallucinates. Can we get another agent to review it and fix it? Let us see."
   ]
  },
  {
   "cell_type": "markdown",
   "id": "ae0c6be0-9da0-4219-92b6-caa5d6744d62",
   "metadata": {},
   "source": [
    "### This is a clone of the last lesson"
   ]
  },
  {
   "cell_type": "code",
   "execution_count": 5,
   "id": "780c5079-3470-4334-a74c-ec332bc4c35a",
   "metadata": {},
   "outputs": [
    {
     "data": {
      "text/html": [
       "<pre style=\"white-space:pre;overflow-x:auto;line-height:normal;font-family:Menlo,'DejaVu Sans Mono',consolas,'Courier New',monospace\"><span style=\"color: #008000; text-decoration-color: #008000\"> Agents setup</span>\n",
       "</pre>\n"
      ],
      "text/plain": [
       "\u001b[32m Agents setup\u001b[0m\n"
      ]
     },
     "metadata": {},
     "output_type": "display_data"
    }
   ],
   "source": [
    "@function_tool\n",
    "def get_dependency(service:str) ->list[str]:\n",
    "    dep_service=[\"ProductCatalogService\",\"CheckoutService\",\"UserProfileService\"] \n",
    "    return dep_service\n",
    "\n",
    "did_agent = Agent(\n",
    "    name=\"DependencyIdentifier Agent\",\n",
    "    instructions=(\n",
    "        \"An incident will be passed on.\\n\"\n",
    "        \"From that, firstly identify the affected service name only.\\n\"\n",
    "        \"Next, identify what are the service dependencies for that service.\\n\"\n",
    "        \"Just return all service names in a comma separated format like a python list[str]. Also include the affected service.\\n\"\n",
    "        \"And nothing else\"\n",
    "    ),\n",
    "    model=model,\n",
    "    tools=[get_dependency],\n",
    "    model_settings=ModelSettings(temperature=0.0),\n",
    ")\n",
    "\n",
    "@function_tool\n",
    "def get_changelog(service:list) ->list[str]:\n",
    "    change_log=[\"ProductCatalogService changed\",\"CheckoutService changed\"]\n",
    "    return change_log\n",
    "\n",
    "change_agent = Agent(\n",
    "    name=\"ChangeLog Agent\",\n",
    "    instructions=(\n",
    "        \"An array of service names will be passed on - like ['ProductCatalogService','CheckoutService','..'].\\n\"\n",
    "        \"Identify what has changed with these services and return them.\\n\"\n",
    "        \"Use available tools for this and do not generate data on our own.\\n\"\n",
    "        \"Just return all changes in a comma separated format like a python list[str].\\n\"\n",
    "        \"Do not return duplicate changes\"\n",
    "    ),\n",
    "    model= model,\n",
    "    tools=[get_changelog],\n",
    "    model_settings=ModelSettings(temperature=0.0),\n",
    ")\n",
    "\n",
    "@function_tool\n",
    "def get_errorlog(service:list) ->list[str]:\n",
    "    error_log=[\"ProductCatalogService is responding slowly\"]\n",
    "    return error_log\n",
    "\n",
    "error_agent = Agent(\n",
    "    name=\"Error Log Agent\",\n",
    "    instructions=(\n",
    "        \"An array of service names will be passed on - like ['ProductCatalogService','CheckoutService','..']. \\n\"\n",
    "        \"Note that all services may not have error messages and it is unlikely that same message appear in logs of all services. \\n\"\n",
    "        \"Use available tools for this and do not generate data on our own.\\n\"\n",
    "        \"The error messages will have service names in the messages. \\n\"\n",
    "        \"Identify which services have what kind of errors\"\n",
    "    ),\n",
    "    model=model,\n",
    "    tools=[get_errorlog],\n",
    "    model_settings=ModelSettings(temperature=0.0),\n",
    ")\n",
    "\n",
    "debugger_agent = Agent(\n",
    "    name=\"Debugger Agent\",\n",
    "    instructions=(\n",
    "        \"You will be given:\\n\"\n",
    "        \"1. Incident details.\\n\"\n",
    "        \"2. Services that could have been root cause of the problem.\\n\"\n",
    "        \"3. Services that were changed in the time interval.\\n\"\n",
    "        \"4. Services that had errors in the logs.\\n\"\n",
    "        \"Based on the above, loigically think through and conclude the most likely reason for this problem. \\n\"\n",
    "        \"Please lay down your thought process clearly that led you to the conclusion. \"\n",
    "    ),\n",
    "    model= model,\n",
    "    model_settings=ModelSettings(temperature=0.0),\n",
    ")\n",
    "print(\"[green] Agents setup[/green]\")"
   ]
  },
  {
   "cell_type": "markdown",
   "id": "39afeaab-4a33-4a8a-8eb7-3f7e8caef050",
   "metadata": {},
   "source": [
    "### Now let us add a new agent\n",
    "We add a Verification Agent whose sole job is to audit each diagnosis before you act on it. In practice this agent will:\n",
    "\n",
    "- Read the incident summary, the list of services, and the debugger’s reasoning\n",
    "- Check for mismatches or missing facts (e.g., a service name dropped or an error overlooked)\n",
    "- Flag any inconsistencies or confirm “All clear”\n",
    "\n",
    "By doing so, we get an extra safety net that catches accidental oversights or AI hallucinations. "
   ]
  },
  {
   "cell_type": "code",
   "execution_count": 6,
   "id": "7c5a17b3-def9-4052-8a3c-347504bf644a",
   "metadata": {},
   "outputs": [
    {
     "data": {
      "text/html": [
       "<pre style=\"white-space:pre;overflow-x:auto;line-height:normal;font-family:Menlo,'DejaVu Sans Mono',consolas,'Courier New',monospace\"><span style=\"color: #008000; text-decoration-color: #008000\"> Verification Agent setup</span>\n",
       "</pre>\n"
      ],
      "text/plain": [
       "\u001b[32m Verification Agent setup\u001b[0m\n"
      ]
     },
     "metadata": {},
     "output_type": "display_data"
    }
   ],
   "source": [
    "verification_agent = Agent(\n",
    "    name=\"Verification Agent\",\n",
    "    instructions=(\n",
    "        \"You’ll be given four parts:\\n\"\n",
    "        \"1) The incident description\\n\"\n",
    "        \"2) A list of services\\n\"\n",
    "        \"3) The debugger agent’s full reasoning and conclusion\\n\\n\"\n",
    "        \"Check for any of these issues:\\n\"\n",
    "        \" • References to services not in the original list\\n\"\n",
    "        \" • Conclusions that contradict the provided errors/changes\\n\"\n",
    "        \" • Missing any service that clearly had errors or changes\\n\\n\"\n",
    "        \"If everything is consistent, reply “Consistent”. Otherwise, list the problems.\"\n",
    "    ),\n",
    "    model=model,\n",
    "    model_settings=ModelSettings(temperature=0.0),\n",
    ")\n",
    "print(\"[green] Verification Agent setup[/green]\")"
   ]
  },
  {
   "cell_type": "markdown",
   "id": "fbb30817-5cd1-4dda-a44a-af1e9d87f397",
   "metadata": {},
   "source": [
    "### Notice the new section added under orchestrate\n",
    "Invokes the verification agent after debugger agent is done."
   ]
  },
  {
   "cell_type": "code",
   "execution_count": 7,
   "id": "ea7428cc-a2b1-47ef-80be-d07ff78512fc",
   "metadata": {},
   "outputs": [
    {
     "data": {
      "text/html": [
       "<pre style=\"white-space:pre;overflow-x:auto;line-height:normal;font-family:Menlo,'DejaVu Sans Mono',consolas,'Courier New',monospace\"><span style=\"color: #008000; text-decoration-color: #008000\"> Agent orchestration setup</span>\n",
       "</pre>\n"
      ],
      "text/plain": [
       "\u001b[32m Agent orchestration setup\u001b[0m\n"
      ]
     },
     "metadata": {},
     "output_type": "display_data"
    }
   ],
   "source": [
    "import asyncio\n",
    "async def orchestrate(input):\n",
    "    # Call the intermediate agents to gather the facts\n",
    "    # These all use tools heavily\n",
    "    dep_result = await Runner.run(did_agent,input)\n",
    "    change_result = await Runner.run(change_agent, dep_result.final_output)\n",
    "    error_result = await Runner.run(error_agent, dep_result.final_output)\n",
    "\n",
    "    services = dep_result.final_output               # e.g. [\"foo\",\"bar\",\"baz\"]\n",
    "    changes  = change_result.final_output             # e.g. [\"foo changed\",\"bar changed\"]\n",
    "    errors   = error_result.final_output              # e.g. [\"foo is responding slowly\"]\n",
    "\n",
    "    # Build a single prompt string:\n",
    "    message = (\n",
    "        \"Incident details: \" + input + \"\\n\"\n",
    "        \"Affected services: \" + services + \"\\n\"\n",
    "        \"Changes detected: \" + changes + \"\\n\"\n",
    "        \"Error logs: \" + errors + \"\\n\"\n",
    "        \"Based on the above, logically think through and conclude the most likely reason for this problem. \"\n",
    "        \"Please lay down your thought process clearly that led you to the conclusion.\"\n",
    "    )\n",
    "    print(\"\\n\")\n",
    "    print(\"Input to the Deubgger Agent: \")\n",
    "    print(\"-----------------------------\")\n",
    "    print(message)\n",
    "    print(\"\\n\")\n",
    "    # Invoke it:\n",
    "    debugger_result = await Runner.run(debugger_agent, message)\n",
    "    print(\"=== Debugger Thought Process & Conclusion ===\")\n",
    "    print(debugger_result.final_output)\n",
    "\n",
    "    # New Section:    \n",
    "    verification_prompt = (\n",
    "        \"Incident details: \" + input + \"\\n\"\n",
    "        \"Affected services: \" + services + \"\\n\"\n",
    "        f\"Debugger reasoning:\\n{debugger_result.final_output}\\n\\n\"\n",
    "        \"Please check:\\n\"\n",
    "        \" • Are all referenced services in the original list?\\n\"\n",
    "        \" • Does the conclusion contradict any errors/changes?\\n\"\n",
    "        \"If everything is consistent, just say “Consistent” and nothing else. \"\n",
    "        \"Otherwise list the issues you see.\"\n",
    "    )\n",
    "    \n",
    "    print(\"\\n\")\n",
    "    print(\"Input to the Verification Agent: \")\n",
    "    print(\"---------------------------------\")\n",
    "    print(verification_prompt)\n",
    "    print(\"\\n\")\n",
    "\n",
    "    verification_result = await Runner.run(verification_agent, verification_prompt)\n",
    "    #pprint(verification_result.final_output)\n",
    "    return verification_result.final_output\n",
    "\n",
    "print(\"[green] Agent orchestration setup[/green]\")"
   ]
  },
  {
   "cell_type": "markdown",
   "id": "16cf764e-5645-4ac5-a316-ea79f5afb6ed",
   "metadata": {},
   "source": [
    "### Calling the orchestration function as in the past"
   ]
  },
  {
   "cell_type": "code",
   "execution_count": 8,
   "id": "59d897a5-098f-4ea4-8757-1bbe66a364df",
   "metadata": {},
   "outputs": [
    {
     "data": {
      "text/html": [
       "<pre style=\"white-space:pre;overflow-x:auto;line-height:normal;font-family:Menlo,'DejaVu Sans Mono',consolas,'Courier New',monospace\">\n",
       "\n",
       "</pre>\n"
      ],
      "text/plain": [
       "\n",
       "\n"
      ]
     },
     "metadata": {},
     "output_type": "display_data"
    },
    {
     "data": {
      "text/html": [
       "<pre style=\"white-space:pre;overflow-x:auto;line-height:normal;font-family:Menlo,'DejaVu Sans Mono',consolas,'Courier New',monospace\">Input to the Deubgger Agent: \n",
       "</pre>\n"
      ],
      "text/plain": [
       "Input to the Deubgger Agent: \n"
      ]
     },
     "metadata": {},
     "output_type": "display_data"
    },
    {
     "data": {
      "text/html": [
       "<pre style=\"white-space:pre;overflow-x:auto;line-height:normal;font-family:Menlo,'DejaVu Sans Mono',consolas,'Courier New',monospace\">-----------------------------\n",
       "</pre>\n"
      ],
      "text/plain": [
       "-----------------------------\n"
      ]
     },
     "metadata": {},
     "output_type": "display_data"
    },
    {
     "data": {
      "text/html": [
       "<pre style=\"white-space:pre;overflow-x:auto;line-height:normal;font-family:Menlo,'DejaVu Sans Mono',consolas,'Courier New',monospace\">Incident details: Incident: ShoppingCart response time has increased to <span style=\"color: #008080; text-decoration-color: #008080; font-weight: bold\">10</span> sec\n",
       "Affected services: The affected service is ShoppingCart. The dependencies for this service are \n",
       "ProductCatalogService, CheckoutService, and UserProfileService.\n",
       "Changes detected: The changes for the affected service ShoppingCart are:\n",
       "\n",
       "ProductCatalogService changed, \n",
       "CheckoutService changed\n",
       "Error logs: It appears that the ProductCatalogService is experiencing slow response times. This could be causing \n",
       "issues with the ShoppingCart service, which relies on it.\n",
       "\n",
       "The CheckoutService and UserProfileService do not have any error messages in their logs at this time. \n",
       "\n",
       "Please note that you may want to investigate further into the cause of the slow response times on the \n",
       "ProductCatalogService to ensure it does not become a recurring issue.\n",
       "Based on the above, logically think through and conclude the most likely reason for this problem. Please lay down \n",
       "your thought process clearly that led you to the conclusion.\n",
       "</pre>\n"
      ],
      "text/plain": [
       "Incident details: Incident: ShoppingCart response time has increased to \u001b[1;36m10\u001b[0m sec\n",
       "Affected services: The affected service is ShoppingCart. The dependencies for this service are \n",
       "ProductCatalogService, CheckoutService, and UserProfileService.\n",
       "Changes detected: The changes for the affected service ShoppingCart are:\n",
       "\n",
       "ProductCatalogService changed, \n",
       "CheckoutService changed\n",
       "Error logs: It appears that the ProductCatalogService is experiencing slow response times. This could be causing \n",
       "issues with the ShoppingCart service, which relies on it.\n",
       "\n",
       "The CheckoutService and UserProfileService do not have any error messages in their logs at this time. \n",
       "\n",
       "Please note that you may want to investigate further into the cause of the slow response times on the \n",
       "ProductCatalogService to ensure it does not become a recurring issue.\n",
       "Based on the above, logically think through and conclude the most likely reason for this problem. Please lay down \n",
       "your thought process clearly that led you to the conclusion.\n"
      ]
     },
     "metadata": {},
     "output_type": "display_data"
    },
    {
     "data": {
      "text/html": [
       "<pre style=\"white-space:pre;overflow-x:auto;line-height:normal;font-family:Menlo,'DejaVu Sans Mono',consolas,'Courier New',monospace\">\n",
       "\n",
       "</pre>\n"
      ],
      "text/plain": [
       "\n",
       "\n"
      ]
     },
     "metadata": {},
     "output_type": "display_data"
    },
    {
     "data": {
      "text/html": [
       "<pre style=\"white-space:pre;overflow-x:auto;line-height:normal;font-family:Menlo,'DejaVu Sans Mono',consolas,'Courier New',monospace\">=== Debugger Thought Process &amp; Conclusion ===\n",
       "</pre>\n"
      ],
      "text/plain": [
       "=== Debugger Thought Process & Conclusion ===\n"
      ]
     },
     "metadata": {},
     "output_type": "display_data"
    },
    {
     "data": {
      "text/html": [
       "<pre style=\"white-space:pre;overflow-x:auto;line-height:normal;font-family:Menlo,'DejaVu Sans Mono',consolas,'Courier New',monospace\">Here's my thought process:\n",
       "\n",
       "**Step <span style=\"color: #008080; text-decoration-color: #008080; font-weight: bold\">1</span>: Identify the affected service**\n",
       "The incident is affecting the ShoppingCart service, which relies on three dependencies: ProductCatalogService, \n",
       "CheckoutService, and UserProfileService.\n",
       "\n",
       "**Step <span style=\"color: #008080; text-decoration-color: #008080; font-weight: bold\">2</span>: Analyze the changes detected**\n",
       "Two of the dependencies, ProductCatalogService and CheckoutService, have been changed recently. This suggests that \n",
       "these changes might be contributing to the issue with the ShoppingCart service.\n",
       "\n",
       "**Step <span style=\"color: #008080; text-decoration-color: #008080; font-weight: bold\">3</span>: Investigate error logs**\n",
       "The error log indicates that ProductCatalogService is experiencing slow response times, which could be causing \n",
       "issues with the ShoppingCart service. This is a strong indication of a potential root cause.\n",
       "\n",
       "**Step <span style=\"color: #008080; text-decoration-color: #008080; font-weight: bold\">4</span>: Eliminate unlikely causes**\n",
       "Although CheckoutService and UserProfileService have been changed recently, there are no error messages in their \n",
       "logs at this time. This suggests that they might not be contributing to the issue with the ShoppingCart service.\n",
       "\n",
       "**Step <span style=\"color: #008080; text-decoration-color: #008080; font-weight: bold\">5</span>: Draw conclusions**\n",
       "Based on the analysis, it is likely that the recent changes to ProductCatalogService are causing the slow response \n",
       "times and subsequent issues with the ShoppingCart service. The fact that CheckoutService and UserProfileService do \n",
       "not have error messages in their logs at this time suggests that they might be unaffected by these changes.\n",
       "\n",
       "**Conclusion**\n",
       "The most likely reason for the increased response time of the ShoppingCart service is the recent change to \n",
       "ProductCatalogService, which is experiencing slow response times. This change is likely causing a ripple effect, \n",
       "impacting the ShoppingCart service and its dependencies.\n",
       "\n",
       "Recommendation:\n",
       "To resolve this issue, I would recommend investigating further into the cause of the slow response times on the \n",
       "ProductCatalogService to ensure it does not become a recurring issue. Additionally, monitoring the performance of \n",
       "the ProductCatalogService and other affected services to prevent similar issues in the future.\n",
       "</pre>\n"
      ],
      "text/plain": [
       "Here's my thought process:\n",
       "\n",
       "**Step \u001b[1;36m1\u001b[0m: Identify the affected service**\n",
       "The incident is affecting the ShoppingCart service, which relies on three dependencies: ProductCatalogService, \n",
       "CheckoutService, and UserProfileService.\n",
       "\n",
       "**Step \u001b[1;36m2\u001b[0m: Analyze the changes detected**\n",
       "Two of the dependencies, ProductCatalogService and CheckoutService, have been changed recently. This suggests that \n",
       "these changes might be contributing to the issue with the ShoppingCart service.\n",
       "\n",
       "**Step \u001b[1;36m3\u001b[0m: Investigate error logs**\n",
       "The error log indicates that ProductCatalogService is experiencing slow response times, which could be causing \n",
       "issues with the ShoppingCart service. This is a strong indication of a potential root cause.\n",
       "\n",
       "**Step \u001b[1;36m4\u001b[0m: Eliminate unlikely causes**\n",
       "Although CheckoutService and UserProfileService have been changed recently, there are no error messages in their \n",
       "logs at this time. This suggests that they might not be contributing to the issue with the ShoppingCart service.\n",
       "\n",
       "**Step \u001b[1;36m5\u001b[0m: Draw conclusions**\n",
       "Based on the analysis, it is likely that the recent changes to ProductCatalogService are causing the slow response \n",
       "times and subsequent issues with the ShoppingCart service. The fact that CheckoutService and UserProfileService do \n",
       "not have error messages in their logs at this time suggests that they might be unaffected by these changes.\n",
       "\n",
       "**Conclusion**\n",
       "The most likely reason for the increased response time of the ShoppingCart service is the recent change to \n",
       "ProductCatalogService, which is experiencing slow response times. This change is likely causing a ripple effect, \n",
       "impacting the ShoppingCart service and its dependencies.\n",
       "\n",
       "Recommendation:\n",
       "To resolve this issue, I would recommend investigating further into the cause of the slow response times on the \n",
       "ProductCatalogService to ensure it does not become a recurring issue. Additionally, monitoring the performance of \n",
       "the ProductCatalogService and other affected services to prevent similar issues in the future.\n"
      ]
     },
     "metadata": {},
     "output_type": "display_data"
    },
    {
     "data": {
      "text/html": [
       "<pre style=\"white-space:pre;overflow-x:auto;line-height:normal;font-family:Menlo,'DejaVu Sans Mono',consolas,'Courier New',monospace\">\n",
       "\n",
       "</pre>\n"
      ],
      "text/plain": [
       "\n",
       "\n"
      ]
     },
     "metadata": {},
     "output_type": "display_data"
    },
    {
     "data": {
      "text/html": [
       "<pre style=\"white-space:pre;overflow-x:auto;line-height:normal;font-family:Menlo,'DejaVu Sans Mono',consolas,'Courier New',monospace\">Input to the Verification Agent: \n",
       "</pre>\n"
      ],
      "text/plain": [
       "Input to the Verification Agent: \n"
      ]
     },
     "metadata": {},
     "output_type": "display_data"
    },
    {
     "data": {
      "text/html": [
       "<pre style=\"white-space:pre;overflow-x:auto;line-height:normal;font-family:Menlo,'DejaVu Sans Mono',consolas,'Courier New',monospace\">---------------------------------\n",
       "</pre>\n"
      ],
      "text/plain": [
       "---------------------------------\n"
      ]
     },
     "metadata": {},
     "output_type": "display_data"
    },
    {
     "data": {
      "text/html": [
       "<pre style=\"white-space:pre;overflow-x:auto;line-height:normal;font-family:Menlo,'DejaVu Sans Mono',consolas,'Courier New',monospace\">Incident details: Incident: ShoppingCart response time has increased to <span style=\"color: #008080; text-decoration-color: #008080; font-weight: bold\">10</span> sec\n",
       "Affected services: The affected service is ShoppingCart. The dependencies for this service are \n",
       "ProductCatalogService, CheckoutService, and UserProfileService.\n",
       "Debugger reasoning:\n",
       "Here's my thought process:\n",
       "\n",
       "**Step <span style=\"color: #008080; text-decoration-color: #008080; font-weight: bold\">1</span>: Identify the affected service**\n",
       "The incident is affecting the ShoppingCart service, which relies on three dependencies: ProductCatalogService, \n",
       "CheckoutService, and UserProfileService.\n",
       "\n",
       "**Step <span style=\"color: #008080; text-decoration-color: #008080; font-weight: bold\">2</span>: Analyze the changes detected**\n",
       "Two of the dependencies, ProductCatalogService and CheckoutService, have been changed recently. This suggests that \n",
       "these changes might be contributing to the issue with the ShoppingCart service.\n",
       "\n",
       "**Step <span style=\"color: #008080; text-decoration-color: #008080; font-weight: bold\">3</span>: Investigate error logs**\n",
       "The error log indicates that ProductCatalogService is experiencing slow response times, which could be causing \n",
       "issues with the ShoppingCart service. This is a strong indication of a potential root cause.\n",
       "\n",
       "**Step <span style=\"color: #008080; text-decoration-color: #008080; font-weight: bold\">4</span>: Eliminate unlikely causes**\n",
       "Although CheckoutService and UserProfileService have been changed recently, there are no error messages in their \n",
       "logs at this time. This suggests that they might not be contributing to the issue with the ShoppingCart service.\n",
       "\n",
       "**Step <span style=\"color: #008080; text-decoration-color: #008080; font-weight: bold\">5</span>: Draw conclusions**\n",
       "Based on the analysis, it is likely that the recent changes to ProductCatalogService are causing the slow response \n",
       "times and subsequent issues with the ShoppingCart service. The fact that CheckoutService and UserProfileService do \n",
       "not have error messages in their logs at this time suggests that they might be unaffected by these changes.\n",
       "\n",
       "**Conclusion**\n",
       "The most likely reason for the increased response time of the ShoppingCart service is the recent change to \n",
       "ProductCatalogService, which is experiencing slow response times. This change is likely causing a ripple effect, \n",
       "impacting the ShoppingCart service and its dependencies.\n",
       "\n",
       "Recommendation:\n",
       "To resolve this issue, I would recommend investigating further into the cause of the slow response times on the \n",
       "ProductCatalogService to ensure it does not become a recurring issue. Additionally, monitoring the performance of \n",
       "the ProductCatalogService and other affected services to prevent similar issues in the future.\n",
       "\n",
       "Please check:\n",
       " • Are all referenced services in the original list?\n",
       " • Does the conclusion contradict any errors/changes?\n",
       "If everything is consistent, just say “Consistent” and nothing else. Otherwise list the issues you see.\n",
       "</pre>\n"
      ],
      "text/plain": [
       "Incident details: Incident: ShoppingCart response time has increased to \u001b[1;36m10\u001b[0m sec\n",
       "Affected services: The affected service is ShoppingCart. The dependencies for this service are \n",
       "ProductCatalogService, CheckoutService, and UserProfileService.\n",
       "Debugger reasoning:\n",
       "Here's my thought process:\n",
       "\n",
       "**Step \u001b[1;36m1\u001b[0m: Identify the affected service**\n",
       "The incident is affecting the ShoppingCart service, which relies on three dependencies: ProductCatalogService, \n",
       "CheckoutService, and UserProfileService.\n",
       "\n",
       "**Step \u001b[1;36m2\u001b[0m: Analyze the changes detected**\n",
       "Two of the dependencies, ProductCatalogService and CheckoutService, have been changed recently. This suggests that \n",
       "these changes might be contributing to the issue with the ShoppingCart service.\n",
       "\n",
       "**Step \u001b[1;36m3\u001b[0m: Investigate error logs**\n",
       "The error log indicates that ProductCatalogService is experiencing slow response times, which could be causing \n",
       "issues with the ShoppingCart service. This is a strong indication of a potential root cause.\n",
       "\n",
       "**Step \u001b[1;36m4\u001b[0m: Eliminate unlikely causes**\n",
       "Although CheckoutService and UserProfileService have been changed recently, there are no error messages in their \n",
       "logs at this time. This suggests that they might not be contributing to the issue with the ShoppingCart service.\n",
       "\n",
       "**Step \u001b[1;36m5\u001b[0m: Draw conclusions**\n",
       "Based on the analysis, it is likely that the recent changes to ProductCatalogService are causing the slow response \n",
       "times and subsequent issues with the ShoppingCart service. The fact that CheckoutService and UserProfileService do \n",
       "not have error messages in their logs at this time suggests that they might be unaffected by these changes.\n",
       "\n",
       "**Conclusion**\n",
       "The most likely reason for the increased response time of the ShoppingCart service is the recent change to \n",
       "ProductCatalogService, which is experiencing slow response times. This change is likely causing a ripple effect, \n",
       "impacting the ShoppingCart service and its dependencies.\n",
       "\n",
       "Recommendation:\n",
       "To resolve this issue, I would recommend investigating further into the cause of the slow response times on the \n",
       "ProductCatalogService to ensure it does not become a recurring issue. Additionally, monitoring the performance of \n",
       "the ProductCatalogService and other affected services to prevent similar issues in the future.\n",
       "\n",
       "Please check:\n",
       " • Are all referenced services in the original list?\n",
       " • Does the conclusion contradict any errors/changes?\n",
       "If everything is consistent, just say “Consistent” and nothing else. Otherwise list the issues you see.\n"
      ]
     },
     "metadata": {},
     "output_type": "display_data"
    },
    {
     "data": {
      "text/html": [
       "<pre style=\"white-space:pre;overflow-x:auto;line-height:normal;font-family:Menlo,'DejaVu Sans Mono',consolas,'Courier New',monospace\">\n",
       "\n",
       "</pre>\n"
      ],
      "text/plain": [
       "\n",
       "\n"
      ]
     },
     "metadata": {},
     "output_type": "display_data"
    },
    {
     "data": {
      "text/html": [
       "<pre style=\"white-space:pre;overflow-x:auto;line-height:normal;font-family:Menlo,'DejaVu Sans Mono',consolas,'Courier New',monospace\">=============================================\n",
       "</pre>\n"
      ],
      "text/plain": [
       "=============================================\n"
      ]
     },
     "metadata": {},
     "output_type": "display_data"
    },
    {
     "data": {
      "text/html": [
       "<pre style=\"white-space:pre;overflow-x:auto;line-height:normal;font-family:Menlo,'DejaVu Sans Mono',consolas,'Courier New',monospace\">=== Verifier Thought Process &amp; Conclusion ===\n",
       "</pre>\n"
      ],
      "text/plain": [
       "=== Verifier Thought Process & Conclusion ===\n"
      ]
     },
     "metadata": {},
     "output_type": "display_data"
    },
    {
     "data": {
      "text/html": [
       "<pre style=\"white-space:pre;overflow-x:auto;line-height:normal;font-family:Menlo,'DejaVu Sans Mono',consolas,'Courier New',monospace\">=============================================\n",
       "</pre>\n"
      ],
      "text/plain": [
       "=============================================\n"
      ]
     },
     "metadata": {},
     "output_type": "display_data"
    },
    {
     "data": {
      "text/html": [
       "<pre style=\"white-space:pre;overflow-x:auto;line-height:normal;font-family:Menlo,'DejaVu Sans Mono',consolas,'Courier New',monospace\">Consistent\n",
       "</pre>\n"
      ],
      "text/plain": [
       "Consistent\n"
      ]
     },
     "metadata": {},
     "output_type": "display_data"
    }
   ],
   "source": [
    "input = \"Incident: ShoppingCart response time has increased to 10 sec\"\n",
    "diagnosis = await orchestrate(input)\n",
    "print(\"=============================================\")\n",
    "print(\"=== Verifier Thought Process & Conclusion ===\")\n",
    "print(\"=============================================\")\n",
    "print(diagnosis)"
   ]
  },
  {
   "cell_type": "markdown",
   "id": "83663c41-0c58-4cce-b6c3-a40264facbf6",
   "metadata": {},
   "source": [
    "# Going into Production\n",
    "\n",
    "We have seen now how a so called output by AI can be cross checked. This is widely used pattern in Agentic workflows.\n",
    "\n",
    "One other important issue - how does the system Learn ?\n",
    "\n",
    "1. Let us say Agentic application gives a certain resolution to an incident.\n",
    "1. And the engineer verifies it to be correct.\n",
    "1. Or the engineer verifies it not be correct and knows the correct solution.\n",
    "\n",
    "How can we enhance our agentic application with this.\n",
    "\n",
    "## Learning\n",
    "### Integrate Human Feedback\n",
    "- Whenever the Verification Agent flags a problem, route the case to an engineer for review.\n",
    "- Provide a simple thumbs-up/thumbs-down or rating interface. Feed that rating back into your store.\n",
    "- Also think of allowing general text entry field allowing engineer to enter what was done, if it was a thumbs down\n",
    "\n",
    "### Capture and store outcomes\n",
    "- Capture the above data and store it in a database\n",
    "\n",
    "### Feedback the data\n",
    "- Provide this data as an additional context to the debugger agent (or perhaps add another agent) which looks at this data and fine tunes the recommendation.\n",
    "\n",
    "### Continuously refine your agents\n",
    "- Periodically pull the best-rated incident examples (and their human-approved diagnoses) to create few-shot prompts or even fine-tune a custom model.\n",
    "- Update agent instructions based on common failure modes (e.g. “always double-check inventory data”).\n",
    "\n",
    "Some of the other next steps could be -\n",
    "\n",
    "## Build visibility and dashboards\n",
    "- Surface the agents’ findings and verification results in a team dashboard—showing average time to diagnosis, verification pass rates, and automation success rates.\n",
    "- Use that data to spot gaps (e.g. Services that consistently fool the Debugger) and add new special-purpose agents.\n",
    "\n",
    "## Hook into real incident streams\n",
    "- Connect the orchestration function to the monitoring/alerting system (e.g. Prometheus Alertmanager, CloudWatch Alarms, PagerDuty webhooks). Therefore every time an alert fires for “shopping-cart latency,” the agents automatically kick off the dependency→change→error→debug→verify chain.\n",
    "\n",
    "## Future State\n",
    "- Let us imagine a state in future where there may be many agents that can gather data. In the above example it was confined to 3:\n",
    "  - discovering service dependency,\n",
    "  - looking at change log and\n",
    "  - looking at application logs.\n",
    "Let us say there are agents for metrics, anomaly detection, cluster health (for the cluster on which the service is running on etc).\n",
    "- In that case, the incident could go to a `Planner agent` that decides to breakdown the troubleshooting into steps and call agents for each steps.\n",
    "- And then hand over the summary to the Debugger Agent and Verifier agent as shown above."
   ]
  },
  {
   "cell_type": "code",
   "execution_count": null,
   "id": "0a08d242-e381-4802-83de-437f341c68a8",
   "metadata": {},
   "outputs": [],
   "source": []
  }
 ],
 "metadata": {
  "kernelspec": {
   "display_name": "Python 3 (ipykernel)",
   "language": "python",
   "name": "python3"
  },
  "language_info": {
   "codemirror_mode": {
    "name": "ipython",
    "version": 3
   },
   "file_extension": ".py",
   "mimetype": "text/x-python",
   "name": "python",
   "nbconvert_exporter": "python",
   "pygments_lexer": "ipython3",
   "version": "3.12.5"
  }
 },
 "nbformat": 4,
 "nbformat_minor": 5
}
