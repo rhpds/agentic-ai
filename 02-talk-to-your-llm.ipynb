{
 "cells": [
  {
   "cell_type": "markdown",
   "id": "e8987006-614e-41b7-9c2f-aa6359e8e231",
   "metadata": {},
   "source": [
    "# Getting Started with LLMs\n",
    "\n",
    "## Introduction to JupyterLab Environment\n",
    "\n",
    "Welcome to your first hands-on lab with Large Language Models (LLMs)! This notebook will guide you through the basics of connecting to and interacting with an LLM using Python code.\n",
    "\n",
    "## JupyterLab Basics\n",
    "\n",
    "JupyterLab is an interactive development environment where you can run code in \"cells\" and see the results immediately. Here's how to navigate:\n",
    "\n",
    "To execute a cell in Jupyter Lab, use one of the following methods:\n",
    "\n",
    "* Press <kbd>Shift</kbd> + <kbd>Enter</kbd> to run the current cell and move on to the next cell\n",
    "\n",
    "* Press <kbd>Ctrl</kbd> + <kbd>Enter</kbd> to run the cell and stay in the same cell.\n",
    "\n",
    "Run Button: Click the ▶️ \"Run\" button in the toolbar aboveit looks like a play button.\n",
    "\n",
    "## Shell Commands in JupyterLab\n",
    "\n",
    "In Jupyter, you can run shell commands by prefixing them with an exclamation mark (!). Let's use this to check our environment:"
   ]
  },
  {
   "cell_type": "code",
   "execution_count": 11,
   "id": "7698fc46-06b6-476b-8b88-46b97241b854",
   "metadata": {},
   "outputs": [
    {
     "name": "stdout",
     "output_type": "stream",
     "text": [
      "/home/dev/lab\n",
      "python is /home/dev/venv/bin/python\n",
      "Python 3.12.5\n"
     ]
    }
   ],
   "source": [
    "!pwd\n",
    "!type python\n",
    "!python -V"
   ]
  },
  {
   "cell_type": "markdown",
   "id": "a743c757-1df5-4a6f-ad06-c1cfb3faf4b7",
   "metadata": {},
   "source": [
    "## Python Virtual Environments\n",
    "\n",
    "You'll notice that you're running this notebook inside a Python Virtual Environment (or `venv`). This is a standard practice in Python development that allows us to:\n",
    "\n",
    "* Install specific package versions without affecting the system Python\n",
    "* Keep dependencies isolated for different projects\n",
    "* Experiment safely without breaking other applications\n",
    "\n",
    ">Note:\n",
    ">In production environments, we would typically package these environments into versioned containers and deploy them to platforms like OpenShift using GitOps practices (via helm charts and ArgoCD).\n",
    "\n",
    "## Managing Python Dependencies\n",
    "\n",
    "A fundamental best practice in Python development is to explicitly list all required libraries **with their versions** in a requirements.txt file.\n",
    "Let's examine what this file looks like:"
   ]
  },
  {
   "cell_type": "code",
   "execution_count": 12,
   "id": "6d1e0b5f",
   "metadata": {},
   "outputs": [
    {
     "name": "stdout",
     "output_type": "stream",
     "text": [
      "annotated-types==0.7.0\n",
      "anyio==4.9.0\n",
      "argon2-cffi==23.1.0\n",
      "argon2-cffi-bindings==21.2.0\n",
      "arrow==1.3.0\n",
      "asttokens==3.0.0\n",
      "async-lru==2.0.5\n",
      "attrs==25.3.0\n",
      "babel==2.17.0\n",
      "beautifulsoup4==4.13.4\n"
     ]
    }
   ],
   "source": [
    "!head requirements.txt"
   ]
  },
  {
   "cell_type": "markdown",
   "id": "790f441a-c3bf-4188-8e38-d228c30df4eb",
   "metadata": {},
   "source": [
    "> Now let's install all the required packages from this file:"
   ]
  },
  {
   "cell_type": "code",
   "execution_count": 13,
   "id": "b6b19562-d870-4176-b5ae-2747129036df",
   "metadata": {
    "scrolled": true
   },
   "outputs": [
    {
     "name": "stdout",
     "output_type": "stream",
     "text": [
      "Requirement already satisfied: annotated-types==0.7.0 in /home/dev/venv/lib64/python3.12/site-packages (from -r requirements.txt (line 1)) (0.7.0)\n",
      "Requirement already satisfied: anyio==4.9.0 in /home/dev/venv/lib64/python3.12/site-packages (from -r requirements.txt (line 2)) (4.9.0)\n",
      "Requirement already satisfied: argon2-cffi==23.1.0 in /home/dev/venv/lib64/python3.12/site-packages (from -r requirements.txt (line 3)) (23.1.0)\n",
      "Requirement already satisfied: argon2-cffi-bindings==21.2.0 in /home/dev/venv/lib64/python3.12/site-packages (from -r requirements.txt (line 4)) (21.2.0)\n",
      "Requirement already satisfied: arrow==1.3.0 in /home/dev/venv/lib64/python3.12/site-packages (from -r requirements.txt (line 5)) (1.3.0)\n",
      "Requirement already satisfied: asttokens==3.0.0 in /home/dev/venv/lib64/python3.12/site-packages (from -r requirements.txt (line 6)) (3.0.0)\n",
      "Requirement already satisfied: async-lru==2.0.5 in /home/dev/venv/lib64/python3.12/site-packages (from -r requirements.txt (line 7)) (2.0.5)\n",
      "Requirement already satisfied: attrs==25.3.0 in /home/dev/venv/lib64/python3.12/site-packages (from -r requirements.txt (line 8)) (25.3.0)\n",
      "Requirement already satisfied: babel==2.17.0 in /home/dev/venv/lib64/python3.12/site-packages (from -r requirements.txt (line 9)) (2.17.0)\n",
      "Requirement already satisfied: beautifulsoup4==4.13.4 in /home/dev/venv/lib64/python3.12/site-packages (from -r requirements.txt (line 10)) (4.13.4)\n",
      "Requirement already satisfied: bleach==6.2.0 in /home/dev/venv/lib64/python3.12/site-packages (from -r requirements.txt (line 11)) (6.2.0)\n",
      "Requirement already satisfied: certifi==2025.4.26 in /home/dev/venv/lib64/python3.12/site-packages (from -r requirements.txt (line 12)) (2025.4.26)\n",
      "Requirement already satisfied: cffi==1.17.1 in /home/dev/venv/lib64/python3.12/site-packages (from -r requirements.txt (line 13)) (1.17.1)\n",
      "Requirement already satisfied: charset-normalizer==3.4.1 in /home/dev/venv/lib64/python3.12/site-packages (from -r requirements.txt (line 14)) (3.4.1)\n",
      "Requirement already satisfied: click==8.1.8 in /home/dev/venv/lib64/python3.12/site-packages (from -r requirements.txt (line 15)) (8.1.8)\n",
      "Requirement already satisfied: colorama==0.4.6 in /home/dev/venv/lib64/python3.12/site-packages (from -r requirements.txt (line 16)) (0.4.6)\n",
      "Requirement already satisfied: comm==0.2.2 in /home/dev/venv/lib64/python3.12/site-packages (from -r requirements.txt (line 17)) (0.2.2)\n",
      "Requirement already satisfied: debugpy==1.8.14 in /home/dev/venv/lib64/python3.12/site-packages (from -r requirements.txt (line 18)) (1.8.14)\n",
      "Requirement already satisfied: decorator==5.2.1 in /home/dev/venv/lib64/python3.12/site-packages (from -r requirements.txt (line 19)) (5.2.1)\n",
      "Requirement already satisfied: defusedxml==0.7.1 in /home/dev/venv/lib64/python3.12/site-packages (from -r requirements.txt (line 20)) (0.7.1)\n",
      "Requirement already satisfied: distro==1.9.0 in /home/dev/venv/lib64/python3.12/site-packages (from -r requirements.txt (line 21)) (1.9.0)\n",
      "Requirement already satisfied: executing==2.2.0 in /home/dev/venv/lib64/python3.12/site-packages (from -r requirements.txt (line 22)) (2.2.0)\n",
      "Requirement already satisfied: fastjsonschema==2.21.1 in /home/dev/venv/lib64/python3.12/site-packages (from -r requirements.txt (line 23)) (2.21.1)\n",
      "Requirement already satisfied: fqdn==1.5.1 in /home/dev/venv/lib64/python3.12/site-packages (from -r requirements.txt (line 24)) (1.5.1)\n",
      "Requirement already satisfied: griffe==1.7.3 in /home/dev/venv/lib64/python3.12/site-packages (from -r requirements.txt (line 25)) (1.7.3)\n",
      "Requirement already satisfied: h11==0.16.0 in /home/dev/venv/lib64/python3.12/site-packages (from -r requirements.txt (line 26)) (0.16.0)\n",
      "Requirement already satisfied: httpcore==1.0.9 in /home/dev/venv/lib64/python3.12/site-packages (from -r requirements.txt (line 27)) (1.0.9)\n",
      "Requirement already satisfied: httpx==0.28.1 in /home/dev/venv/lib64/python3.12/site-packages (from -r requirements.txt (line 28)) (0.28.1)\n",
      "Requirement already satisfied: httpx-sse==0.4.0 in /home/dev/venv/lib64/python3.12/site-packages (from -r requirements.txt (line 29)) (0.4.0)\n",
      "Requirement already satisfied: idna==3.10 in /home/dev/venv/lib64/python3.12/site-packages (from -r requirements.txt (line 30)) (3.10)\n",
      "Requirement already satisfied: ipykernel==6.29.5 in /home/dev/venv/lib64/python3.12/site-packages (from -r requirements.txt (line 31)) (6.29.5)\n",
      "Requirement already satisfied: ipython==9.2.0 in /home/dev/venv/lib64/python3.12/site-packages (from -r requirements.txt (line 32)) (9.2.0)\n",
      "Requirement already satisfied: ipython_pygments_lexers==1.1.1 in /home/dev/venv/lib64/python3.12/site-packages (from -r requirements.txt (line 33)) (1.1.1)\n",
      "Requirement already satisfied: ipywidgets==8.1.6 in /home/dev/venv/lib64/python3.12/site-packages (from -r requirements.txt (line 34)) (8.1.6)\n",
      "Requirement already satisfied: isoduration==20.11.0 in /home/dev/venv/lib64/python3.12/site-packages (from -r requirements.txt (line 35)) (20.11.0)\n",
      "Requirement already satisfied: jedi==0.19.2 in /home/dev/venv/lib64/python3.12/site-packages (from -r requirements.txt (line 36)) (0.19.2)\n",
      "Requirement already satisfied: Jinja2==3.1.6 in /home/dev/venv/lib64/python3.12/site-packages (from -r requirements.txt (line 37)) (3.1.6)\n",
      "Requirement already satisfied: jiter==0.9.0 in /home/dev/venv/lib64/python3.12/site-packages (from -r requirements.txt (line 38)) (0.9.0)\n",
      "Requirement already satisfied: json5==0.12.0 in /home/dev/venv/lib64/python3.12/site-packages (from -r requirements.txt (line 39)) (0.12.0)\n",
      "Requirement already satisfied: jsonpointer==3.0.0 in /home/dev/venv/lib64/python3.12/site-packages (from -r requirements.txt (line 40)) (3.0.0)\n",
      "Requirement already satisfied: jsonschema==4.23.0 in /home/dev/venv/lib64/python3.12/site-packages (from -r requirements.txt (line 41)) (4.23.0)\n",
      "Requirement already satisfied: jsonschema-specifications==2025.4.1 in /home/dev/venv/lib64/python3.12/site-packages (from -r requirements.txt (line 42)) (2025.4.1)\n",
      "Requirement already satisfied: jupyter==1.1.1 in /home/dev/venv/lib64/python3.12/site-packages (from -r requirements.txt (line 43)) (1.1.1)\n",
      "Requirement already satisfied: jupyter-console==6.6.3 in /home/dev/venv/lib64/python3.12/site-packages (from -r requirements.txt (line 44)) (6.6.3)\n",
      "Requirement already satisfied: jupyter-events==0.12.0 in /home/dev/venv/lib64/python3.12/site-packages (from -r requirements.txt (line 45)) (0.12.0)\n",
      "Requirement already satisfied: jupyter-lsp==2.2.5 in /home/dev/venv/lib64/python3.12/site-packages (from -r requirements.txt (line 46)) (2.2.5)\n",
      "Requirement already satisfied: jupyter_client==8.6.3 in /home/dev/venv/lib64/python3.12/site-packages (from -r requirements.txt (line 47)) (8.6.3)\n",
      "Requirement already satisfied: jupyter_core==5.7.2 in /home/dev/venv/lib64/python3.12/site-packages (from -r requirements.txt (line 48)) (5.7.2)\n",
      "Requirement already satisfied: jupyter_server==2.15.0 in /home/dev/venv/lib64/python3.12/site-packages (from -r requirements.txt (line 49)) (2.15.0)\n",
      "Requirement already satisfied: jupyter_server_terminals==0.5.3 in /home/dev/venv/lib64/python3.12/site-packages (from -r requirements.txt (line 50)) (0.5.3)\n",
      "Requirement already satisfied: jupyterlab==4.4.1 in /home/dev/venv/lib64/python3.12/site-packages (from -r requirements.txt (line 51)) (4.4.1)\n",
      "Requirement already satisfied: jupyterlab_pygments==0.3.0 in /home/dev/venv/lib64/python3.12/site-packages (from -r requirements.txt (line 52)) (0.3.0)\n",
      "Requirement already satisfied: jupyterlab_server==2.27.3 in /home/dev/venv/lib64/python3.12/site-packages (from -r requirements.txt (line 53)) (2.27.3)\n",
      "Requirement already satisfied: jupyterlab_widgets==3.0.14 in /home/dev/venv/lib64/python3.12/site-packages (from -r requirements.txt (line 54)) (3.0.14)\n",
      "Requirement already satisfied: llama_stack_client==0.2.4 in /home/dev/venv/lib64/python3.12/site-packages (from -r requirements.txt (line 55)) (0.2.4)\n",
      "Requirement already satisfied: markdown-it-py==3.0.0 in /home/dev/venv/lib64/python3.12/site-packages (from -r requirements.txt (line 56)) (3.0.0)\n",
      "Requirement already satisfied: MarkupSafe==3.0.2 in /home/dev/venv/lib64/python3.12/site-packages (from -r requirements.txt (line 57)) (3.0.2)\n",
      "Requirement already satisfied: matplotlib-inline==0.1.7 in /home/dev/venv/lib64/python3.12/site-packages (from -r requirements.txt (line 58)) (0.1.7)\n",
      "Requirement already satisfied: mcp==1.8.1 in /home/dev/venv/lib64/python3.12/site-packages (from -r requirements.txt (line 59)) (1.8.1)\n",
      "Requirement already satisfied: mdurl==0.1.2 in /home/dev/venv/lib64/python3.12/site-packages (from -r requirements.txt (line 60)) (0.1.2)\n",
      "Requirement already satisfied: mistune==3.1.3 in /home/dev/venv/lib64/python3.12/site-packages (from -r requirements.txt (line 61)) (3.1.3)\n",
      "Requirement already satisfied: nbclient==0.10.2 in /home/dev/venv/lib64/python3.12/site-packages (from -r requirements.txt (line 62)) (0.10.2)\n",
      "Requirement already satisfied: nbconvert==7.16.6 in /home/dev/venv/lib64/python3.12/site-packages (from -r requirements.txt (line 63)) (7.16.6)\n",
      "Requirement already satisfied: nbformat==5.10.4 in /home/dev/venv/lib64/python3.12/site-packages (from -r requirements.txt (line 64)) (5.10.4)\n",
      "Requirement already satisfied: nest-asyncio==1.6.0 in /home/dev/venv/lib64/python3.12/site-packages (from -r requirements.txt (line 65)) (1.6.0)\n",
      "Requirement already satisfied: notebook==7.4.1 in /home/dev/venv/lib64/python3.12/site-packages (from -r requirements.txt (line 66)) (7.4.1)\n",
      "Requirement already satisfied: notebook_shim==0.2.4 in /home/dev/venv/lib64/python3.12/site-packages (from -r requirements.txt (line 67)) (0.2.4)\n",
      "Requirement already satisfied: numpy==2.2.5 in /home/dev/venv/lib64/python3.12/site-packages (from -r requirements.txt (line 68)) (2.2.5)\n",
      "Requirement already satisfied: openai==1.76.2 in /home/dev/venv/lib64/python3.12/site-packages (from -r requirements.txt (line 69)) (1.76.2)\n",
      "Requirement already satisfied: openai-agents==0.0.13 in /home/dev/venv/lib64/python3.12/site-packages (from -r requirements.txt (line 70)) (0.0.13)\n",
      "Requirement already satisfied: overrides==7.7.0 in /home/dev/venv/lib64/python3.12/site-packages (from -r requirements.txt (line 71)) (7.7.0)\n",
      "Requirement already satisfied: packaging==25.0 in /home/dev/venv/lib64/python3.12/site-packages (from -r requirements.txt (line 72)) (25.0)\n",
      "Requirement already satisfied: pandas==2.2.3 in /home/dev/venv/lib64/python3.12/site-packages (from -r requirements.txt (line 73)) (2.2.3)\n",
      "Requirement already satisfied: pandocfilters==1.5.1 in /home/dev/venv/lib64/python3.12/site-packages (from -r requirements.txt (line 74)) (1.5.1)\n",
      "Requirement already satisfied: parso==0.8.4 in /home/dev/venv/lib64/python3.12/site-packages (from -r requirements.txt (line 75)) (0.8.4)\n",
      "Requirement already satisfied: pexpect==4.9.0 in /home/dev/venv/lib64/python3.12/site-packages (from -r requirements.txt (line 76)) (4.9.0)\n",
      "Requirement already satisfied: platformdirs==4.3.7 in /home/dev/venv/lib64/python3.12/site-packages (from -r requirements.txt (line 77)) (4.3.7)\n",
      "Requirement already satisfied: prometheus_client==0.21.1 in /home/dev/venv/lib64/python3.12/site-packages (from -r requirements.txt (line 78)) (0.21.1)\n",
      "Requirement already satisfied: prompt_toolkit==3.0.51 in /home/dev/venv/lib64/python3.12/site-packages (from -r requirements.txt (line 79)) (3.0.51)\n",
      "Requirement already satisfied: psutil==7.0.0 in /home/dev/venv/lib64/python3.12/site-packages (from -r requirements.txt (line 80)) (7.0.0)\n",
      "Requirement already satisfied: ptyprocess==0.7.0 in /home/dev/venv/lib64/python3.12/site-packages (from -r requirements.txt (line 81)) (0.7.0)\n",
      "Requirement already satisfied: pure_eval==0.2.3 in /home/dev/venv/lib64/python3.12/site-packages (from -r requirements.txt (line 82)) (0.2.3)\n",
      "Requirement already satisfied: pyaml==25.1.0 in /home/dev/venv/lib64/python3.12/site-packages (from -r requirements.txt (line 83)) (25.1.0)\n",
      "Requirement already satisfied: pycparser==2.22 in /home/dev/venv/lib64/python3.12/site-packages (from -r requirements.txt (line 84)) (2.22)\n",
      "Requirement already satisfied: pydantic==2.11.4 in /home/dev/venv/lib64/python3.12/site-packages (from -r requirements.txt (line 85)) (2.11.4)\n",
      "Requirement already satisfied: pydantic-settings==2.9.1 in /home/dev/venv/lib64/python3.12/site-packages (from -r requirements.txt (line 86)) (2.9.1)\n",
      "Requirement already satisfied: pydantic_core==2.33.2 in /home/dev/venv/lib64/python3.12/site-packages (from -r requirements.txt (line 87)) (2.33.2)\n",
      "Requirement already satisfied: Pygments==2.19.1 in /home/dev/venv/lib64/python3.12/site-packages (from -r requirements.txt (line 88)) (2.19.1)\n",
      "Requirement already satisfied: python-dateutil==2.9.0.post0 in /home/dev/venv/lib64/python3.12/site-packages (from -r requirements.txt (line 89)) (2.9.0.post0)\n",
      "Requirement already satisfied: python-dotenv==1.1.0 in /home/dev/venv/lib64/python3.12/site-packages (from -r requirements.txt (line 90)) (1.1.0)\n",
      "Requirement already satisfied: python-json-logger==3.3.0 in /home/dev/venv/lib64/python3.12/site-packages (from -r requirements.txt (line 91)) (3.3.0)\n",
      "Requirement already satisfied: python-multipart==0.0.20 in /home/dev/venv/lib64/python3.12/site-packages (from -r requirements.txt (line 92)) (0.0.20)\n",
      "Requirement already satisfied: pytz==2025.2 in /home/dev/venv/lib64/python3.12/site-packages (from -r requirements.txt (line 93)) (2025.2)\n",
      "Requirement already satisfied: PyYAML==6.0.2 in /home/dev/venv/lib64/python3.12/site-packages (from -r requirements.txt (line 94)) (6.0.2)\n",
      "Requirement already satisfied: pyzmq==26.4.0 in /home/dev/venv/lib64/python3.12/site-packages (from -r requirements.txt (line 95)) (26.4.0)\n",
      "Requirement already satisfied: referencing==0.36.2 in /home/dev/venv/lib64/python3.12/site-packages (from -r requirements.txt (line 96)) (0.36.2)\n",
      "Requirement already satisfied: requests==2.32.3 in /home/dev/venv/lib64/python3.12/site-packages (from -r requirements.txt (line 97)) (2.32.3)\n",
      "Requirement already satisfied: rfc3339-validator==0.1.4 in /home/dev/venv/lib64/python3.12/site-packages (from -r requirements.txt (line 98)) (0.1.4)\n",
      "Requirement already satisfied: rfc3986-validator==0.1.1 in /home/dev/venv/lib64/python3.12/site-packages (from -r requirements.txt (line 99)) (0.1.1)\n",
      "Requirement already satisfied: rich==14.0.0 in /home/dev/venv/lib64/python3.12/site-packages (from -r requirements.txt (line 100)) (14.0.0)\n",
      "Requirement already satisfied: rpds-py==0.24.0 in /home/dev/venv/lib64/python3.12/site-packages (from -r requirements.txt (line 101)) (0.24.0)\n",
      "Requirement already satisfied: Send2Trash==1.8.3 in /home/dev/venv/lib64/python3.12/site-packages (from -r requirements.txt (line 102)) (1.8.3)\n",
      "Requirement already satisfied: setuptools==80.0.0 in /home/dev/venv/lib64/python3.12/site-packages (from -r requirements.txt (line 103)) (80.0.0)\n",
      "Requirement already satisfied: six==1.17.0 in /home/dev/venv/lib64/python3.12/site-packages (from -r requirements.txt (line 104)) (1.17.0)\n",
      "Requirement already satisfied: sniffio==1.3.1 in /home/dev/venv/lib64/python3.12/site-packages (from -r requirements.txt (line 105)) (1.3.1)\n",
      "Requirement already satisfied: soupsieve==2.7 in /home/dev/venv/lib64/python3.12/site-packages (from -r requirements.txt (line 106)) (2.7)\n",
      "Requirement already satisfied: sse-starlette==2.3.5 in /home/dev/venv/lib64/python3.12/site-packages (from -r requirements.txt (line 107)) (2.3.5)\n",
      "Requirement already satisfied: stack-data==0.6.3 in /home/dev/venv/lib64/python3.12/site-packages (from -r requirements.txt (line 108)) (0.6.3)\n",
      "Requirement already satisfied: starlette==0.46.2 in /home/dev/venv/lib64/python3.12/site-packages (from -r requirements.txt (line 109)) (0.46.2)\n",
      "Requirement already satisfied: termcolor==3.1.0 in /home/dev/venv/lib64/python3.12/site-packages (from -r requirements.txt (line 110)) (3.1.0)\n",
      "Requirement already satisfied: terminado==0.18.1 in /home/dev/venv/lib64/python3.12/site-packages (from -r requirements.txt (line 111)) (0.18.1)\n",
      "Requirement already satisfied: tinycss2==1.4.0 in /home/dev/venv/lib64/python3.12/site-packages (from -r requirements.txt (line 112)) (1.4.0)\n",
      "Requirement already satisfied: tornado==6.4.2 in /home/dev/venv/lib64/python3.12/site-packages (from -r requirements.txt (line 113)) (6.4.2)\n",
      "Requirement already satisfied: tqdm==4.67.1 in /home/dev/venv/lib64/python3.12/site-packages (from -r requirements.txt (line 114)) (4.67.1)\n",
      "Requirement already satisfied: traitlets==5.14.3 in /home/dev/venv/lib64/python3.12/site-packages (from -r requirements.txt (line 115)) (5.14.3)\n",
      "Requirement already satisfied: types-python-dateutil==2.9.0.20241206 in /home/dev/venv/lib64/python3.12/site-packages (from -r requirements.txt (line 116)) (2.9.0.20241206)\n",
      "Requirement already satisfied: types-requests==2.32.0.20250328 in /home/dev/venv/lib64/python3.12/site-packages (from -r requirements.txt (line 117)) (2.32.0.20250328)\n",
      "Requirement already satisfied: typing-inspection==0.4.0 in /home/dev/venv/lib64/python3.12/site-packages (from -r requirements.txt (line 118)) (0.4.0)\n",
      "Requirement already satisfied: typing_extensions==4.13.2 in /home/dev/venv/lib64/python3.12/site-packages (from -r requirements.txt (line 119)) (4.13.2)\n",
      "Requirement already satisfied: tzdata==2025.2 in /home/dev/venv/lib64/python3.12/site-packages (from -r requirements.txt (line 120)) (2025.2)\n",
      "Requirement already satisfied: uri-template==1.3.0 in /home/dev/venv/lib64/python3.12/site-packages (from -r requirements.txt (line 121)) (1.3.0)\n",
      "Requirement already satisfied: urllib3==2.4.0 in /home/dev/venv/lib64/python3.12/site-packages (from -r requirements.txt (line 122)) (2.4.0)\n",
      "Requirement already satisfied: uvicorn==0.34.2 in /home/dev/venv/lib64/python3.12/site-packages (from -r requirements.txt (line 123)) (0.34.2)\n",
      "Requirement already satisfied: wcwidth==0.2.13 in /home/dev/venv/lib64/python3.12/site-packages (from -r requirements.txt (line 124)) (0.2.13)\n",
      "Requirement already satisfied: webcolors==24.11.1 in /home/dev/venv/lib64/python3.12/site-packages (from -r requirements.txt (line 125)) (24.11.1)\n",
      "Requirement already satisfied: webencodings==0.5.1 in /home/dev/venv/lib64/python3.12/site-packages (from -r requirements.txt (line 126)) (0.5.1)\n",
      "Requirement already satisfied: websocket-client==1.8.0 in /home/dev/venv/lib64/python3.12/site-packages (from -r requirements.txt (line 127)) (1.8.0)\n",
      "Requirement already satisfied: widgetsnbextension==4.0.14 in /home/dev/venv/lib64/python3.12/site-packages (from -r requirements.txt (line 128)) (4.0.14)\n",
      "\n",
      "\u001b[1m[\u001b[0m\u001b[34;49mnotice\u001b[0m\u001b[1;39;49m]\u001b[0m\u001b[39;49m A new release of pip is available: \u001b[0m\u001b[31;49m23.2.1\u001b[0m\u001b[39;49m -> \u001b[0m\u001b[32;49m25.1.1\u001b[0m\n",
      "\u001b[1m[\u001b[0m\u001b[34;49mnotice\u001b[0m\u001b[1;39;49m]\u001b[0m\u001b[39;49m To update, run: \u001b[0m\u001b[32;49mpip install --upgrade pip\u001b[0m\n",
      "Note: you may need to restart the kernel to use updated packages.\n"
     ]
    }
   ],
   "source": [
    "%pip install -r requirements.txt"
   ]
  },
  {
   "cell_type": "markdown",
   "id": "e5bf75b9-14d2-493b-bc03-8e08f216cbb3",
   "metadata": {},
   "source": [
    "> You may need to collapse long outputs by clicking the arrow next to the cell output to keep your notebook clean and readable."
   ]
  },
  {
   "cell_type": "markdown",
   "id": "1def51a4-c247-449b-a9f2-d4a20dcbc2de",
   "metadata": {},
   "source": [
    "In the previous module, you communicated with an LLM using `curl` commands. Now we'll interact with it programmatically using Python.\n",
    "\n",
    "We'll use the OpenAI API format, which has become a standard interface for LLM interactions. We'll start with the `completions` API and later explore the newer `responses` API.\n",
    "\n",
    "The following cell sets up our connection to the LLM:"
   ]
  },
  {
   "cell_type": "code",
   "execution_count": 14,
   "id": "201a5506-5b38-4fcb-a0c6-45e67a8ed5c1",
   "metadata": {},
   "outputs": [
    {
     "data": {
      "text/html": [
       "<pre style=\"white-space:pre;overflow-x:auto;line-height:normal;font-family:Menlo,'DejaVu Sans Mono',consolas,'Courier New',monospace\"><span style=\"color: #008000; text-decoration-color: #008000\"> Imports complete, Client initialized, Model setup</span>\n",
       "</pre>\n"
      ],
      "text/plain": [
       "\u001b[32m Imports complete, Client initialized, Model setup\u001b[0m\n"
      ]
     },
     "metadata": {},
     "output_type": "display_data"
    }
   ],
   "source": [
    "import openai\n",
    "import re\n",
    "import httpx\n",
    "import os\n",
    "import json\n",
    "from openai import OpenAI\n",
    "from rich import print\n",
    "\n",
    "api_key = \"placeholder\"  \n",
    "base_url = \"http://localhost:11434/v1/\" \n",
    "\n",
    "model = \"llama3.2:3b-instruct-fp16\" \n",
    "\n",
    "client = OpenAI(\n",
    "    base_url=base_url,\n",
    "    api_key=api_key,\n",
    ")\n",
    "\n",
    "print(\"[green] Imports complete, Client initialized, Model setup[/green]\")"
   ]
  },
  {
   "cell_type": "markdown",
   "id": "38031820-e7fa-4885-a98a-da18112f2704",
   "metadata": {},
   "source": [
    "## Sending Your First Prompt to the LLM\n",
    "\n",
    "Let's now send a request to the LLM and see what it generates. We'll ask it to complete a simple Python Inference - ie ask the LLM for a Generateive AI completion or response:\n",
    "\n",
    "This may take a few moments to complete, your development system has a modest L4 GPU, too small for serious production use..\n",
    "\n",
    ">[NOTE]\n",
    ">See how the prompt begins `\"content\": \"\\no_think ...\"` Here we are turning off the thinking capability within the LLM `qwen3`, later we will need it for more complex prompts."
   ]
  },
  {
   "cell_type": "code",
   "execution_count": 15,
   "id": "1d286c70-6f25-4054-9675-edf1dfd2e022",
   "metadata": {},
   "outputs": [
    {
     "data": {
      "text/html": [
       "<pre style=\"white-space:pre;overflow-x:auto;line-height:normal;font-family:Menlo,'DejaVu Sans Mono',consolas,'Courier New',monospace\">Model: llama3.<span style=\"color: #00ff00; text-decoration-color: #00ff00; font-weight: bold\">2:3b</span>-instruct-fp16, different models will generate different responses with Reasoning models showing \n",
       "<span style=\"color: #008000; text-decoration-color: #008000\">\"their working\"</span>\n",
       "\n",
       "</pre>\n"
      ],
      "text/plain": [
       "Model: llama3.\u001b[1;92m2:3b\u001b[0m-instruct-fp16, different models will generate different responses with Reasoning models showing \n",
       "\u001b[32m\"their working\"\u001b[0m\n",
       "\n"
      ]
     },
     "metadata": {},
     "output_type": "display_data"
    },
    {
     "data": {
      "text/html": [
       "<pre style=\"white-space:pre;overflow-x:auto;line-height:normal;font-family:Menlo,'DejaVu Sans Mono',consolas,'Courier New',monospace\">class User:\n",
       "    <span style=\"color: #008000; text-decoration-color: #008000\">\"\"</span>\"\n",
       "    A simple class representing a user.\n",
       "\n",
       "    Attributes:\n",
       "        name <span style=\"font-weight: bold\">(</span>str<span style=\"font-weight: bold\">)</span>: The user's name.\n",
       "        email <span style=\"font-weight: bold\">(</span>str<span style=\"font-weight: bold\">)</span>: The user's email address.\n",
       "        age <span style=\"font-weight: bold\">(</span>int<span style=\"font-weight: bold\">)</span>: The user's age.\n",
       "    <span style=\"color: #008000; text-decoration-color: #008000\">\"\"</span>\"\n",
       "\n",
       "    def <span style=\"color: #800080; text-decoration-color: #800080; font-weight: bold\">__init__</span><span style=\"font-weight: bold\">(</span>self, name, email, age<span style=\"font-weight: bold\">)</span>:\n",
       "        <span style=\"color: #008000; text-decoration-color: #008000\">\"\"</span>\"\n",
       "        Initializes a new User object.\n",
       "\n",
       "        Args:\n",
       "            name <span style=\"font-weight: bold\">(</span>str<span style=\"font-weight: bold\">)</span>: The user's name.\n",
       "            email <span style=\"font-weight: bold\">(</span>str<span style=\"font-weight: bold\">)</span>: The user's email address.\n",
       "            age <span style=\"font-weight: bold\">(</span>int<span style=\"font-weight: bold\">)</span>: The user's age.\n",
       "        <span style=\"color: #008000; text-decoration-color: #008000\">\"\"</span>\"\n",
       "        self.name = name\n",
       "        self.email = email\n",
       "        self.age = age\n",
       "\n",
       "    def <span style=\"color: #800080; text-decoration-color: #800080; font-weight: bold\">__str__</span><span style=\"font-weight: bold\">(</span>self<span style=\"font-weight: bold\">)</span>:\n",
       "        <span style=\"color: #008000; text-decoration-color: #008000\">\"\"</span>\"\n",
       "        Returns a string representation of the User object.\n",
       "\n",
       "        Returns:\n",
       "            str: A string containing the user's name, email, and age.\n",
       "        <span style=\"color: #008000; text-decoration-color: #008000\">\"\"</span>\"\n",
       "        return f\"Name: <span style=\"font-weight: bold\">{</span>self.name<span style=\"font-weight: bold\">}</span>\\nEmail: <span style=\"font-weight: bold\">{</span>self.email<span style=\"font-weight: bold\">}</span>\\nAge: <span style=\"font-weight: bold\">{</span>self.age<span style=\"font-weight: bold\">}</span>\"\n",
       "\n",
       "# Example usage\n",
       "user = <span style=\"color: #800080; text-decoration-color: #800080; font-weight: bold\">User</span><span style=\"font-weight: bold\">(</span><span style=\"color: #008000; text-decoration-color: #008000\">\"John Doe\"</span>, <span style=\"color: #008000; text-decoration-color: #008000\">\"john@example.com\"</span>, <span style=\"color: #008080; text-decoration-color: #008080; font-weight: bold\">30</span><span style=\"font-weight: bold\">)</span>\n",
       "<span style=\"color: #800080; text-decoration-color: #800080; font-weight: bold\">print</span><span style=\"font-weight: bold\">(</span>user<span style=\"font-weight: bold\">)</span>\n",
       "</pre>\n"
      ],
      "text/plain": [
       "class User:\n",
       "    \u001b[32m\"\"\u001b[0m\"\n",
       "    A simple class representing a user.\n",
       "\n",
       "    Attributes:\n",
       "        name \u001b[1m(\u001b[0mstr\u001b[1m)\u001b[0m: The user's name.\n",
       "        email \u001b[1m(\u001b[0mstr\u001b[1m)\u001b[0m: The user's email address.\n",
       "        age \u001b[1m(\u001b[0mint\u001b[1m)\u001b[0m: The user's age.\n",
       "    \u001b[32m\"\"\u001b[0m\"\n",
       "\n",
       "    def \u001b[1;35m__init__\u001b[0m\u001b[1m(\u001b[0mself, name, email, age\u001b[1m)\u001b[0m:\n",
       "        \u001b[32m\"\"\u001b[0m\"\n",
       "        Initializes a new User object.\n",
       "\n",
       "        Args:\n",
       "            name \u001b[1m(\u001b[0mstr\u001b[1m)\u001b[0m: The user's name.\n",
       "            email \u001b[1m(\u001b[0mstr\u001b[1m)\u001b[0m: The user's email address.\n",
       "            age \u001b[1m(\u001b[0mint\u001b[1m)\u001b[0m: The user's age.\n",
       "        \u001b[32m\"\"\u001b[0m\"\n",
       "        self.name = name\n",
       "        self.email = email\n",
       "        self.age = age\n",
       "\n",
       "    def \u001b[1;35m__str__\u001b[0m\u001b[1m(\u001b[0mself\u001b[1m)\u001b[0m:\n",
       "        \u001b[32m\"\"\u001b[0m\"\n",
       "        Returns a string representation of the User object.\n",
       "\n",
       "        Returns:\n",
       "            str: A string containing the user's name, email, and age.\n",
       "        \u001b[32m\"\"\u001b[0m\"\n",
       "        return f\"Name: \u001b[1m{\u001b[0mself.name\u001b[1m}\u001b[0m\\nEmail: \u001b[1m{\u001b[0mself.email\u001b[1m}\u001b[0m\\nAge: \u001b[1m{\u001b[0mself.age\u001b[1m}\u001b[0m\"\n",
       "\n",
       "# Example usage\n",
       "user = \u001b[1;35mUser\u001b[0m\u001b[1m(\u001b[0m\u001b[32m\"John Doe\"\u001b[0m, \u001b[32m\"john@example.com\"\u001b[0m, \u001b[1;36m30\u001b[0m\u001b[1m)\u001b[0m\n",
       "\u001b[1;35mprint\u001b[0m\u001b[1m(\u001b[0muser\u001b[1m)\u001b[0m\n"
      ]
     },
     "metadata": {},
     "output_type": "display_data"
    }
   ],
   "source": [
    "# Quick test code - verify you can connect to your LLM (ollama/mistral-small)\n",
    "\n",
    "chat_completion = client.chat.completions.create(\n",
    "    model=model,\n",
    "    messages=[{\"role\": \"user\", \"content\": \"Write a simple Python example class called User\"}],\n",
    "    temperature=0,\n",
    ")\n",
    "print(f'Model: {model}, different models will generate different responses with Reasoning models showing \"their working\"\\n')\n",
    "print(f\"{chat_completion.choices[0].message.content}\")"
   ]
  },
  {
   "cell_type": "markdown",
   "id": "40a88457-12e0-49bb-85f4-6b8941db5e0a",
   "metadata": {},
   "source": [
    "## Examining the Generated Code\n",
    "\n",
    "The Python code you see was created by a Large Language Model (LLM); slight variations in the output are normal due to the AI's nature (a `temperature` setting can influence this). This `User` class, with its defined actions (\"methods\"), was generated directly by the AI and the code below runs without manual edits, providing a functional starting point. This demonstrates how AI can quickly bootstrap code for operational tasks."
   ]
  },
  {
   "cell_type": "code",
   "execution_count": 16,
   "id": "6d27db9a-b39c-48b6-a09f-d7dc6da0544a",
   "metadata": {},
   "outputs": [
    {
     "data": {
      "text/html": [
       "<pre style=\"white-space:pre;overflow-x:auto;line-height:normal;font-family:Menlo,'DejaVu Sans Mono',consolas,'Courier New',monospace\">Username: john_doe\n",
       "</pre>\n"
      ],
      "text/plain": [
       "Username: john_doe\n"
      ]
     },
     "metadata": {},
     "output_type": "display_data"
    },
    {
     "data": {
      "text/html": [
       "<pre style=\"white-space:pre;overflow-x:auto;line-height:normal;font-family:Menlo,'DejaVu Sans Mono',consolas,'Courier New',monospace\">Email: john@example.com\n",
       "</pre>\n"
      ],
      "text/plain": [
       "Email: john@example.com\n"
      ]
     },
     "metadata": {},
     "output_type": "display_data"
    },
    {
     "data": {
      "text/html": [
       "<pre style=\"white-space:pre;overflow-x:auto;line-height:normal;font-family:Menlo,'DejaVu Sans Mono',consolas,'Courier New',monospace\">\n",
       "Updated Info:\n",
       "</pre>\n"
      ],
      "text/plain": [
       "\n",
       "Updated Info:\n"
      ]
     },
     "metadata": {},
     "output_type": "display_data"
    },
    {
     "data": {
      "text/html": [
       "<pre style=\"white-space:pre;overflow-x:auto;line-height:normal;font-family:Menlo,'DejaVu Sans Mono',consolas,'Courier New',monospace\">Username: jane_doe\n",
       "</pre>\n"
      ],
      "text/plain": [
       "Username: jane_doe\n"
      ]
     },
     "metadata": {},
     "output_type": "display_data"
    },
    {
     "data": {
      "text/html": [
       "<pre style=\"white-space:pre;overflow-x:auto;line-height:normal;font-family:Menlo,'DejaVu Sans Mono',consolas,'Courier New',monospace\">Email: jane@example.com\n",
       "</pre>\n"
      ],
      "text/plain": [
       "Email: jane@example.com\n"
      ]
     },
     "metadata": {},
     "output_type": "display_data"
    }
   ],
   "source": [
    "class User:\n",
    "    def __init__(self, username, email, password):\n",
    "        self.username = username\n",
    "        self.email = email\n",
    "        self._password = password  # Using underscore prefix to indicate that it is intended to be private\n",
    "\n",
    "    def set_username(self, new_username):\n",
    "        self.username = new_username\n",
    "\n",
    "    def get_username(self):\n",
    "        return self.username\n",
    "\n",
    "    def set_email(self, new_email):\n",
    "        self.email = new_email\n",
    "\n",
    "    def get_email(self):\n",
    "        return self.email\n",
    "\n",
    "    def set_password(self, new_password):\n",
    "        self._password = new_password\n",
    "\n",
    "    def display_info(self):\n",
    "        print(f\"Username: {self.username}\")\n",
    "        print(f\"Email: {self.email}\")\n",
    "        # For security reasons, it's better not to directly expose the password\n",
    "        # print(f\"Password: {self._password}\")\n",
    "\n",
    "# Example usage:\n",
    "user = User(\"john_doe\", \"john@example.com\", \"securepassword\")\n",
    "user.display_info()\n",
    "\n",
    "user.set_username(\"jane_doe\")\n",
    "user.set_email(\"jane@example.com\")\n",
    "print(\"\\nUpdated Info:\")\n",
    "user.display_info()"
   ]
  },
  {
   "cell_type": "markdown",
   "id": "accdb6aa-6f59-4f65-9cd2-a966d00d38f8",
   "metadata": {},
   "source": [
    "## Summary\n",
    "\n",
    "In this first part of the module, we have:\n",
    "\n",
    "1. Set up our Python environment with the required libraries\n",
    "1. Connected to the LLM (`mistral-small`) via the OpenAI APIprovided through `ollama` and its underlying LLM runtime `llama.cpp`\n",
    "1. Generated a simple Python class using the LLM\n",
    "1. Executed the generated code to verify it works as expected\n",
    "\n",
    "Next, in Part 2 of this module, we'll explore Prompting—a fundamental skill for effectively interacting with LLMs and the foundation for developing Agentic AI applications."
   ]
  }
 ],
 "metadata": {
  "kernelspec": {
   "display_name": "Python 3 (ipykernel)",
   "language": "python",
   "name": "python3"
  },
  "language_info": {
   "codemirror_mode": {
    "name": "ipython",
    "version": 3
   },
   "file_extension": ".py",
   "mimetype": "text/x-python",
   "name": "python",
   "nbconvert_exporter": "python",
   "pygments_lexer": "ipython3",
   "version": "3.12.5"
  }
 },
 "nbformat": 4,
 "nbformat_minor": 5
}
