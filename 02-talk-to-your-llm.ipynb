{
 "cells": [
  {
   "cell_type": "markdown",
   "id": "e8987006-614e-41b7-9c2f-aa6359e8e231",
   "metadata": {},
   "source": [
    "# Getting Started with LLMs\n",
    "\n",
    "## Introduction to JupyterLab Environment\n",
    "\n",
    "Welcome to your first hands-on lab with Large Language Models (LLMs)! This notebook will guide you through the basics of connecting to and interacting with an LLM using Python code.\n",
    "\n",
    "## JupyterLab Basics\n",
    "\n",
    "JupyterLab is an interactive development environment where you can run code in \"cells\" and see the results immediately. Here's how to navigate:\n",
    "\n",
    "To execute a cell in Jupyter Lab, use one of the following methods:\n",
    "\n",
    "* Press <kbd>Shift</kbd> + <kbd>Enter</kbd> to run the current cell and move on to the next cell\n",
    "\n",
    "* Press <kbd>Ctrl</kbd> + <kbd>Enter</kbd> to run the cell and stay in the same cell.\n",
    "\n",
    "Run Button: Click the ▶️ \"Run\" button in the toolbar aboveit looks like a play button.\n",
    "\n",
    "## Shell Commands in JupyterLab\n",
    "\n",
    "In Jupyter, you can run shell commands by prefixing them with an exclamation mark (!). Let's use this to check our environment:"
   ]
  },
  {
   "cell_type": "code",
   "execution_count": 10,
   "id": "7698fc46-06b6-476b-8b88-46b97241b854",
   "metadata": {},
   "outputs": [
    {
     "name": "stdout",
     "output_type": "stream",
     "text": [
      "/Users/tok/Dropbox/PARAL/Projects/summit-2025-lb2806-agentic-ai/lab\n",
      "python is /Users/tok/Dropbox/PARAL/Resources/virtual-envs/summit-agentic-ai/bin/python\n",
      "Python 3.12.10\n"
     ]
    }
   ],
   "source": [
    "!pwd\n",
    "!type python\n",
    "!python -V"
   ]
  },
  {
   "cell_type": "markdown",
   "id": "a743c757-1df5-4a6f-ad06-c1cfb3faf4b7",
   "metadata": {},
   "source": [
    "## Python Virtual Environments\n",
    "\n",
    "You'll notice that you're running this notebook inside a Python Virtual Environment (or `venv`). This is a standard practice in Python development that allows us to:\n",
    "\n",
    "* Install specific package versions without affecting the system Python\n",
    "* Keep dependencies isolated for different projects\n",
    "* Experiment safely without breaking other applications\n",
    "\n",
    ">Note:\n",
    ">In production environments, we would typically package these environments into versioned containers and deploy them to platforms like OpenShift using GitOps practices (via helm charts and ArgoCD).\n",
    "\n",
    "## Managing Python Dependencies\n",
    "\n",
    "A fundamental best practice in Python development is to explicitly list all required libraries **with their versions** in a requirements.txt file.\n",
    "Let's examine what this file looks like:"
   ]
  },
  {
   "cell_type": "code",
   "execution_count": 2,
   "id": "6d1e0b5f",
   "metadata": {},
   "outputs": [
    {
     "name": "stdout",
     "output_type": "stream",
     "text": [
      "annotated-types==0.7.0\n",
      "anyio==4.9.0\n",
      "argon2-cffi==23.1.0\n",
      "argon2-cffi-bindings==21.2.0\n",
      "arrow==1.3.0\n",
      "asttokens==3.0.0\n",
      "async-lru==2.0.5\n",
      "attrs==25.3.0\n",
      "babel==2.17.0\n",
      "beautifulsoup4==4.13.4\n"
     ]
    }
   ],
   "source": [
    "!head requirements.txt"
   ]
  },
  {
   "cell_type": "markdown",
   "id": "790f441a-c3bf-4188-8e38-d228c30df4eb",
   "metadata": {},
   "source": [
    "> Now let's install all the required packages from this file:"
   ]
  },
  {
   "cell_type": "code",
   "execution_count": 8,
   "id": "b6b19562-d870-4176-b5ae-2747129036df",
   "metadata": {
    "scrolled": true
   },
   "outputs": [
    {
     "name": "stdout",
     "output_type": "stream",
     "text": [
      "Requirement already satisfied: annotated-types==0.7.0 in /Users/tok/Dropbox/PARAL/Resources/virtual-envs/summit-agentic-ai/lib/python3.12/site-packages (from -r requirements.txt (line 1)) (0.7.0)\n",
      "Requirement already satisfied: anyio==4.9.0 in /Users/tok/Dropbox/PARAL/Resources/virtual-envs/summit-agentic-ai/lib/python3.12/site-packages (from -r requirements.txt (line 2)) (4.9.0)\n",
      "Requirement already satisfied: argon2-cffi==23.1.0 in /Users/tok/Dropbox/PARAL/Resources/virtual-envs/summit-agentic-ai/lib/python3.12/site-packages (from -r requirements.txt (line 3)) (23.1.0)\n",
      "Requirement already satisfied: argon2-cffi-bindings==21.2.0 in /Users/tok/Dropbox/PARAL/Resources/virtual-envs/summit-agentic-ai/lib/python3.12/site-packages (from -r requirements.txt (line 4)) (21.2.0)\n",
      "Requirement already satisfied: arrow==1.3.0 in /Users/tok/Dropbox/PARAL/Resources/virtual-envs/summit-agentic-ai/lib/python3.12/site-packages (from -r requirements.txt (line 5)) (1.3.0)\n",
      "Requirement already satisfied: asttokens==3.0.0 in /Users/tok/Dropbox/PARAL/Resources/virtual-envs/summit-agentic-ai/lib/python3.12/site-packages (from -r requirements.txt (line 6)) (3.0.0)\n",
      "Requirement already satisfied: async-lru==2.0.5 in /Users/tok/Dropbox/PARAL/Resources/virtual-envs/summit-agentic-ai/lib/python3.12/site-packages (from -r requirements.txt (line 7)) (2.0.5)\n",
      "Requirement already satisfied: attrs==25.3.0 in /Users/tok/Dropbox/PARAL/Resources/virtual-envs/summit-agentic-ai/lib/python3.12/site-packages (from -r requirements.txt (line 8)) (25.3.0)\n",
      "Requirement already satisfied: babel==2.17.0 in /Users/tok/Dropbox/PARAL/Resources/virtual-envs/summit-agentic-ai/lib/python3.12/site-packages (from -r requirements.txt (line 9)) (2.17.0)\n",
      "Requirement already satisfied: beautifulsoup4==4.13.4 in /Users/tok/Dropbox/PARAL/Resources/virtual-envs/summit-agentic-ai/lib/python3.12/site-packages (from -r requirements.txt (line 10)) (4.13.4)\n",
      "Requirement already satisfied: bleach==6.2.0 in /Users/tok/Dropbox/PARAL/Resources/virtual-envs/summit-agentic-ai/lib/python3.12/site-packages (from -r requirements.txt (line 11)) (6.2.0)\n",
      "Requirement already satisfied: certifi==2025.4.26 in /Users/tok/Dropbox/PARAL/Resources/virtual-envs/summit-agentic-ai/lib/python3.12/site-packages (from -r requirements.txt (line 12)) (2025.4.26)\n",
      "Requirement already satisfied: cffi==1.17.1 in /Users/tok/Dropbox/PARAL/Resources/virtual-envs/summit-agentic-ai/lib/python3.12/site-packages (from -r requirements.txt (line 13)) (1.17.1)\n",
      "Requirement already satisfied: charset-normalizer==3.4.1 in /Users/tok/Dropbox/PARAL/Resources/virtual-envs/summit-agentic-ai/lib/python3.12/site-packages (from -r requirements.txt (line 14)) (3.4.1)\n",
      "Requirement already satisfied: click==8.1.8 in /Users/tok/Dropbox/PARAL/Resources/virtual-envs/summit-agentic-ai/lib/python3.12/site-packages (from -r requirements.txt (line 15)) (8.1.8)\n",
      "Requirement already satisfied: comm==0.2.2 in /Users/tok/Dropbox/PARAL/Resources/virtual-envs/summit-agentic-ai/lib/python3.12/site-packages (from -r requirements.txt (line 16)) (0.2.2)\n",
      "Requirement already satisfied: debugpy==1.8.14 in /Users/tok/Dropbox/PARAL/Resources/virtual-envs/summit-agentic-ai/lib/python3.12/site-packages (from -r requirements.txt (line 17)) (1.8.14)\n",
      "Requirement already satisfied: decorator==5.2.1 in /Users/tok/Dropbox/PARAL/Resources/virtual-envs/summit-agentic-ai/lib/python3.12/site-packages (from -r requirements.txt (line 18)) (5.2.1)\n",
      "Requirement already satisfied: defusedxml==0.7.1 in /Users/tok/Dropbox/PARAL/Resources/virtual-envs/summit-agentic-ai/lib/python3.12/site-packages (from -r requirements.txt (line 19)) (0.7.1)\n",
      "Requirement already satisfied: distro==1.9.0 in /Users/tok/Dropbox/PARAL/Resources/virtual-envs/summit-agentic-ai/lib/python3.12/site-packages (from -r requirements.txt (line 20)) (1.9.0)\n",
      "Requirement already satisfied: executing==2.2.0 in /Users/tok/Dropbox/PARAL/Resources/virtual-envs/summit-agentic-ai/lib/python3.12/site-packages (from -r requirements.txt (line 21)) (2.2.0)\n",
      "Requirement already satisfied: fastjsonschema==2.21.1 in /Users/tok/Dropbox/PARAL/Resources/virtual-envs/summit-agentic-ai/lib/python3.12/site-packages (from -r requirements.txt (line 22)) (2.21.1)\n",
      "Requirement already satisfied: fqdn==1.5.1 in /Users/tok/Dropbox/PARAL/Resources/virtual-envs/summit-agentic-ai/lib/python3.12/site-packages (from -r requirements.txt (line 23)) (1.5.1)\n",
      "Requirement already satisfied: h11==0.16.0 in /Users/tok/Dropbox/PARAL/Resources/virtual-envs/summit-agentic-ai/lib/python3.12/site-packages (from -r requirements.txt (line 24)) (0.16.0)\n",
      "Requirement already satisfied: httpcore==1.0.9 in /Users/tok/Dropbox/PARAL/Resources/virtual-envs/summit-agentic-ai/lib/python3.12/site-packages (from -r requirements.txt (line 25)) (1.0.9)\n",
      "Requirement already satisfied: httpx==0.28.1 in /Users/tok/Dropbox/PARAL/Resources/virtual-envs/summit-agentic-ai/lib/python3.12/site-packages (from -r requirements.txt (line 26)) (0.28.1)\n",
      "Requirement already satisfied: idna==3.10 in /Users/tok/Dropbox/PARAL/Resources/virtual-envs/summit-agentic-ai/lib/python3.12/site-packages (from -r requirements.txt (line 27)) (3.10)\n",
      "Requirement already satisfied: ipykernel==6.29.5 in /Users/tok/Dropbox/PARAL/Resources/virtual-envs/summit-agentic-ai/lib/python3.12/site-packages (from -r requirements.txt (line 28)) (6.29.5)\n",
      "Requirement already satisfied: ipython==9.2.0 in /Users/tok/Dropbox/PARAL/Resources/virtual-envs/summit-agentic-ai/lib/python3.12/site-packages (from -r requirements.txt (line 29)) (9.2.0)\n",
      "Requirement already satisfied: ipython_pygments_lexers==1.1.1 in /Users/tok/Dropbox/PARAL/Resources/virtual-envs/summit-agentic-ai/lib/python3.12/site-packages (from -r requirements.txt (line 30)) (1.1.1)\n",
      "Requirement already satisfied: ipywidgets==8.1.6 in /Users/tok/Dropbox/PARAL/Resources/virtual-envs/summit-agentic-ai/lib/python3.12/site-packages (from -r requirements.txt (line 31)) (8.1.6)\n",
      "Requirement already satisfied: isoduration==20.11.0 in /Users/tok/Dropbox/PARAL/Resources/virtual-envs/summit-agentic-ai/lib/python3.12/site-packages (from -r requirements.txt (line 32)) (20.11.0)\n",
      "Requirement already satisfied: jedi==0.19.2 in /Users/tok/Dropbox/PARAL/Resources/virtual-envs/summit-agentic-ai/lib/python3.12/site-packages (from -r requirements.txt (line 33)) (0.19.2)\n",
      "Requirement already satisfied: Jinja2==3.1.6 in /Users/tok/Dropbox/PARAL/Resources/virtual-envs/summit-agentic-ai/lib/python3.12/site-packages (from -r requirements.txt (line 34)) (3.1.6)\n",
      "Requirement already satisfied: jiter==0.9.0 in /Users/tok/Dropbox/PARAL/Resources/virtual-envs/summit-agentic-ai/lib/python3.12/site-packages (from -r requirements.txt (line 35)) (0.9.0)\n",
      "Requirement already satisfied: json5==0.12.0 in /Users/tok/Dropbox/PARAL/Resources/virtual-envs/summit-agentic-ai/lib/python3.12/site-packages (from -r requirements.txt (line 36)) (0.12.0)\n",
      "Requirement already satisfied: jsonpointer==3.0.0 in /Users/tok/Dropbox/PARAL/Resources/virtual-envs/summit-agentic-ai/lib/python3.12/site-packages (from -r requirements.txt (line 37)) (3.0.0)\n",
      "Requirement already satisfied: jsonschema==4.23.0 in /Users/tok/Dropbox/PARAL/Resources/virtual-envs/summit-agentic-ai/lib/python3.12/site-packages (from -r requirements.txt (line 38)) (4.23.0)\n",
      "Requirement already satisfied: jsonschema-specifications==2025.4.1 in /Users/tok/Dropbox/PARAL/Resources/virtual-envs/summit-agentic-ai/lib/python3.12/site-packages (from -r requirements.txt (line 39)) (2025.4.1)\n",
      "Requirement already satisfied: jupyter==1.1.1 in /Users/tok/Dropbox/PARAL/Resources/virtual-envs/summit-agentic-ai/lib/python3.12/site-packages (from -r requirements.txt (line 40)) (1.1.1)\n",
      "Requirement already satisfied: jupyter-console==6.6.3 in /Users/tok/Dropbox/PARAL/Resources/virtual-envs/summit-agentic-ai/lib/python3.12/site-packages (from -r requirements.txt (line 41)) (6.6.3)\n",
      "Requirement already satisfied: jupyter-events==0.12.0 in /Users/tok/Dropbox/PARAL/Resources/virtual-envs/summit-agentic-ai/lib/python3.12/site-packages (from -r requirements.txt (line 42)) (0.12.0)\n",
      "Requirement already satisfied: jupyter-lsp==2.2.5 in /Users/tok/Dropbox/PARAL/Resources/virtual-envs/summit-agentic-ai/lib/python3.12/site-packages (from -r requirements.txt (line 43)) (2.2.5)\n",
      "Requirement already satisfied: jupyter_client==8.6.3 in /Users/tok/Dropbox/PARAL/Resources/virtual-envs/summit-agentic-ai/lib/python3.12/site-packages (from -r requirements.txt (line 44)) (8.6.3)\n",
      "Requirement already satisfied: jupyter_core==5.7.2 in /Users/tok/Dropbox/PARAL/Resources/virtual-envs/summit-agentic-ai/lib/python3.12/site-packages (from -r requirements.txt (line 45)) (5.7.2)\n",
      "Requirement already satisfied: jupyter_server==2.15.0 in /Users/tok/Dropbox/PARAL/Resources/virtual-envs/summit-agentic-ai/lib/python3.12/site-packages (from -r requirements.txt (line 46)) (2.15.0)\n",
      "Requirement already satisfied: jupyter_server_terminals==0.5.3 in /Users/tok/Dropbox/PARAL/Resources/virtual-envs/summit-agentic-ai/lib/python3.12/site-packages (from -r requirements.txt (line 47)) (0.5.3)\n",
      "Requirement already satisfied: jupyterlab==4.4.1 in /Users/tok/Dropbox/PARAL/Resources/virtual-envs/summit-agentic-ai/lib/python3.12/site-packages (from -r requirements.txt (line 48)) (4.4.1)\n",
      "Requirement already satisfied: jupyterlab_pygments==0.3.0 in /Users/tok/Dropbox/PARAL/Resources/virtual-envs/summit-agentic-ai/lib/python3.12/site-packages (from -r requirements.txt (line 49)) (0.3.0)\n",
      "Requirement already satisfied: jupyterlab_server==2.27.3 in /Users/tok/Dropbox/PARAL/Resources/virtual-envs/summit-agentic-ai/lib/python3.12/site-packages (from -r requirements.txt (line 50)) (2.27.3)\n",
      "Requirement already satisfied: jupyterlab_widgets==3.0.14 in /Users/tok/Dropbox/PARAL/Resources/virtual-envs/summit-agentic-ai/lib/python3.12/site-packages (from -r requirements.txt (line 51)) (3.0.14)\n",
      "Requirement already satisfied: llama_stack_client==0.2.4 in /Users/tok/Dropbox/PARAL/Resources/virtual-envs/summit-agentic-ai/lib/python3.12/site-packages (from -r requirements.txt (line 52)) (0.2.4)\n",
      "Requirement already satisfied: markdown-it-py==3.0.0 in /Users/tok/Dropbox/PARAL/Resources/virtual-envs/summit-agentic-ai/lib/python3.12/site-packages (from -r requirements.txt (line 53)) (3.0.0)\n",
      "Requirement already satisfied: MarkupSafe==3.0.2 in /Users/tok/Dropbox/PARAL/Resources/virtual-envs/summit-agentic-ai/lib/python3.12/site-packages (from -r requirements.txt (line 54)) (3.0.2)\n",
      "Requirement already satisfied: matplotlib-inline==0.1.7 in /Users/tok/Dropbox/PARAL/Resources/virtual-envs/summit-agentic-ai/lib/python3.12/site-packages (from -r requirements.txt (line 55)) (0.1.7)\n",
      "Requirement already satisfied: mdurl==0.1.2 in /Users/tok/Dropbox/PARAL/Resources/virtual-envs/summit-agentic-ai/lib/python3.12/site-packages (from -r requirements.txt (line 56)) (0.1.2)\n",
      "Requirement already satisfied: mistune==3.1.3 in /Users/tok/Dropbox/PARAL/Resources/virtual-envs/summit-agentic-ai/lib/python3.12/site-packages (from -r requirements.txt (line 57)) (3.1.3)\n",
      "Requirement already satisfied: nbclient==0.10.2 in /Users/tok/Dropbox/PARAL/Resources/virtual-envs/summit-agentic-ai/lib/python3.12/site-packages (from -r requirements.txt (line 58)) (0.10.2)\n",
      "Requirement already satisfied: nbconvert==7.16.6 in /Users/tok/Dropbox/PARAL/Resources/virtual-envs/summit-agentic-ai/lib/python3.12/site-packages (from -r requirements.txt (line 59)) (7.16.6)\n",
      "Requirement already satisfied: nbformat==5.10.4 in /Users/tok/Dropbox/PARAL/Resources/virtual-envs/summit-agentic-ai/lib/python3.12/site-packages (from -r requirements.txt (line 60)) (5.10.4)\n",
      "Requirement already satisfied: nest-asyncio==1.6.0 in /Users/tok/Dropbox/PARAL/Resources/virtual-envs/summit-agentic-ai/lib/python3.12/site-packages (from -r requirements.txt (line 61)) (1.6.0)\n",
      "Requirement already satisfied: notebook==7.4.1 in /Users/tok/Dropbox/PARAL/Resources/virtual-envs/summit-agentic-ai/lib/python3.12/site-packages (from -r requirements.txt (line 62)) (7.4.1)\n",
      "Requirement already satisfied: notebook_shim==0.2.4 in /Users/tok/Dropbox/PARAL/Resources/virtual-envs/summit-agentic-ai/lib/python3.12/site-packages (from -r requirements.txt (line 63)) (0.2.4)\n",
      "Collecting numpy==2.2.5 (from -r requirements.txt (line 64))\n",
      "  Downloading numpy-2.2.5-cp312-cp312-macosx_14_0_arm64.whl.metadata (62 kB)\n",
      "Requirement already satisfied: openai==1.76.2 in /Users/tok/Dropbox/PARAL/Resources/virtual-envs/summit-agentic-ai/lib/python3.12/site-packages (from -r requirements.txt (line 65)) (1.76.2)\n",
      "Requirement already satisfied: overrides==7.7.0 in /Users/tok/Dropbox/PARAL/Resources/virtual-envs/summit-agentic-ai/lib/python3.12/site-packages (from -r requirements.txt (line 66)) (7.7.0)\n",
      "Requirement already satisfied: packaging==25.0 in /Users/tok/Dropbox/PARAL/Resources/virtual-envs/summit-agentic-ai/lib/python3.12/site-packages (from -r requirements.txt (line 67)) (25.0)\n",
      "Requirement already satisfied: pandas==2.2.3 in /Users/tok/Dropbox/PARAL/Resources/virtual-envs/summit-agentic-ai/lib/python3.12/site-packages (from -r requirements.txt (line 68)) (2.2.3)\n",
      "Requirement already satisfied: pandocfilters==1.5.1 in /Users/tok/Dropbox/PARAL/Resources/virtual-envs/summit-agentic-ai/lib/python3.12/site-packages (from -r requirements.txt (line 69)) (1.5.1)\n",
      "Requirement already satisfied: parso==0.8.4 in /Users/tok/Dropbox/PARAL/Resources/virtual-envs/summit-agentic-ai/lib/python3.12/site-packages (from -r requirements.txt (line 70)) (0.8.4)\n",
      "Requirement already satisfied: pexpect==4.9.0 in /Users/tok/Dropbox/PARAL/Resources/virtual-envs/summit-agentic-ai/lib/python3.12/site-packages (from -r requirements.txt (line 71)) (4.9.0)\n",
      "Requirement already satisfied: platformdirs==4.3.7 in /Users/tok/Dropbox/PARAL/Resources/virtual-envs/summit-agentic-ai/lib/python3.12/site-packages (from -r requirements.txt (line 72)) (4.3.7)\n",
      "Requirement already satisfied: prometheus_client==0.21.1 in /Users/tok/Dropbox/PARAL/Resources/virtual-envs/summit-agentic-ai/lib/python3.12/site-packages (from -r requirements.txt (line 73)) (0.21.1)\n",
      "Requirement already satisfied: prompt_toolkit==3.0.51 in /Users/tok/Dropbox/PARAL/Resources/virtual-envs/summit-agentic-ai/lib/python3.12/site-packages (from -r requirements.txt (line 74)) (3.0.51)\n",
      "Requirement already satisfied: psutil==7.0.0 in /Users/tok/Dropbox/PARAL/Resources/virtual-envs/summit-agentic-ai/lib/python3.12/site-packages (from -r requirements.txt (line 75)) (7.0.0)\n",
      "Requirement already satisfied: ptyprocess==0.7.0 in /Users/tok/Dropbox/PARAL/Resources/virtual-envs/summit-agentic-ai/lib/python3.12/site-packages (from -r requirements.txt (line 76)) (0.7.0)\n",
      "Requirement already satisfied: pure_eval==0.2.3 in /Users/tok/Dropbox/PARAL/Resources/virtual-envs/summit-agentic-ai/lib/python3.12/site-packages (from -r requirements.txt (line 77)) (0.2.3)\n",
      "Requirement already satisfied: pyaml==25.1.0 in /Users/tok/Dropbox/PARAL/Resources/virtual-envs/summit-agentic-ai/lib/python3.12/site-packages (from -r requirements.txt (line 78)) (25.1.0)\n",
      "Requirement already satisfied: pycparser==2.22 in /Users/tok/Dropbox/PARAL/Resources/virtual-envs/summit-agentic-ai/lib/python3.12/site-packages (from -r requirements.txt (line 79)) (2.22)\n",
      "Requirement already satisfied: pydantic==2.11.4 in /Users/tok/Dropbox/PARAL/Resources/virtual-envs/summit-agentic-ai/lib/python3.12/site-packages (from -r requirements.txt (line 80)) (2.11.4)\n",
      "Requirement already satisfied: pydantic_core==2.33.2 in /Users/tok/Dropbox/PARAL/Resources/virtual-envs/summit-agentic-ai/lib/python3.12/site-packages (from -r requirements.txt (line 81)) (2.33.2)\n",
      "Requirement already satisfied: Pygments==2.19.1 in /Users/tok/Dropbox/PARAL/Resources/virtual-envs/summit-agentic-ai/lib/python3.12/site-packages (from -r requirements.txt (line 82)) (2.19.1)\n",
      "Requirement already satisfied: python-dateutil==2.9.0.post0 in /Users/tok/Dropbox/PARAL/Resources/virtual-envs/summit-agentic-ai/lib/python3.12/site-packages (from -r requirements.txt (line 83)) (2.9.0.post0)\n",
      "Requirement already satisfied: python-json-logger==3.3.0 in /Users/tok/Dropbox/PARAL/Resources/virtual-envs/summit-agentic-ai/lib/python3.12/site-packages (from -r requirements.txt (line 84)) (3.3.0)\n",
      "Requirement already satisfied: pytz==2025.2 in /Users/tok/Dropbox/PARAL/Resources/virtual-envs/summit-agentic-ai/lib/python3.12/site-packages (from -r requirements.txt (line 85)) (2025.2)\n",
      "Requirement already satisfied: PyYAML==6.0.2 in /Users/tok/Dropbox/PARAL/Resources/virtual-envs/summit-agentic-ai/lib/python3.12/site-packages (from -r requirements.txt (line 86)) (6.0.2)\n",
      "Requirement already satisfied: pyzmq==26.4.0 in /Users/tok/Dropbox/PARAL/Resources/virtual-envs/summit-agentic-ai/lib/python3.12/site-packages (from -r requirements.txt (line 87)) (26.4.0)\n",
      "Requirement already satisfied: referencing==0.36.2 in /Users/tok/Dropbox/PARAL/Resources/virtual-envs/summit-agentic-ai/lib/python3.12/site-packages (from -r requirements.txt (line 88)) (0.36.2)\n",
      "Requirement already satisfied: requests==2.32.3 in /Users/tok/Dropbox/PARAL/Resources/virtual-envs/summit-agentic-ai/lib/python3.12/site-packages (from -r requirements.txt (line 89)) (2.32.3)\n",
      "Requirement already satisfied: rfc3339-validator==0.1.4 in /Users/tok/Dropbox/PARAL/Resources/virtual-envs/summit-agentic-ai/lib/python3.12/site-packages (from -r requirements.txt (line 90)) (0.1.4)\n",
      "Requirement already satisfied: rfc3986-validator==0.1.1 in /Users/tok/Dropbox/PARAL/Resources/virtual-envs/summit-agentic-ai/lib/python3.12/site-packages (from -r requirements.txt (line 91)) (0.1.1)\n",
      "Requirement already satisfied: rich==14.0.0 in /Users/tok/Dropbox/PARAL/Resources/virtual-envs/summit-agentic-ai/lib/python3.12/site-packages (from -r requirements.txt (line 92)) (14.0.0)\n",
      "Requirement already satisfied: rpds-py==0.24.0 in /Users/tok/Dropbox/PARAL/Resources/virtual-envs/summit-agentic-ai/lib/python3.12/site-packages (from -r requirements.txt (line 93)) (0.24.0)\n",
      "Requirement already satisfied: Send2Trash==1.8.3 in /Users/tok/Dropbox/PARAL/Resources/virtual-envs/summit-agentic-ai/lib/python3.12/site-packages (from -r requirements.txt (line 94)) (1.8.3)\n",
      "Requirement already satisfied: setuptools==80.0.0 in /Users/tok/Dropbox/PARAL/Resources/virtual-envs/summit-agentic-ai/lib/python3.12/site-packages (from -r requirements.txt (line 95)) (80.0.0)\n",
      "Requirement already satisfied: six==1.17.0 in /Users/tok/Dropbox/PARAL/Resources/virtual-envs/summit-agentic-ai/lib/python3.12/site-packages (from -r requirements.txt (line 96)) (1.17.0)\n",
      "Requirement already satisfied: sniffio==1.3.1 in /Users/tok/Dropbox/PARAL/Resources/virtual-envs/summit-agentic-ai/lib/python3.12/site-packages (from -r requirements.txt (line 97)) (1.3.1)\n",
      "Requirement already satisfied: soupsieve==2.7 in /Users/tok/Dropbox/PARAL/Resources/virtual-envs/summit-agentic-ai/lib/python3.12/site-packages (from -r requirements.txt (line 98)) (2.7)\n",
      "Requirement already satisfied: stack-data==0.6.3 in /Users/tok/Dropbox/PARAL/Resources/virtual-envs/summit-agentic-ai/lib/python3.12/site-packages (from -r requirements.txt (line 99)) (0.6.3)\n",
      "Requirement already satisfied: termcolor==3.1.0 in /Users/tok/Dropbox/PARAL/Resources/virtual-envs/summit-agentic-ai/lib/python3.12/site-packages (from -r requirements.txt (line 100)) (3.1.0)\n",
      "Requirement already satisfied: terminado==0.18.1 in /Users/tok/Dropbox/PARAL/Resources/virtual-envs/summit-agentic-ai/lib/python3.12/site-packages (from -r requirements.txt (line 101)) (0.18.1)\n",
      "Requirement already satisfied: tinycss2==1.4.0 in /Users/tok/Dropbox/PARAL/Resources/virtual-envs/summit-agentic-ai/lib/python3.12/site-packages (from -r requirements.txt (line 102)) (1.4.0)\n",
      "Requirement already satisfied: tornado==6.4.2 in /Users/tok/Dropbox/PARAL/Resources/virtual-envs/summit-agentic-ai/lib/python3.12/site-packages (from -r requirements.txt (line 103)) (6.4.2)\n",
      "Requirement already satisfied: tqdm==4.67.1 in /Users/tok/Dropbox/PARAL/Resources/virtual-envs/summit-agentic-ai/lib/python3.12/site-packages (from -r requirements.txt (line 104)) (4.67.1)\n",
      "Requirement already satisfied: traitlets==5.14.3 in /Users/tok/Dropbox/PARAL/Resources/virtual-envs/summit-agentic-ai/lib/python3.12/site-packages (from -r requirements.txt (line 105)) (5.14.3)\n",
      "Requirement already satisfied: types-python-dateutil==2.9.0.20241206 in /Users/tok/Dropbox/PARAL/Resources/virtual-envs/summit-agentic-ai/lib/python3.12/site-packages (from -r requirements.txt (line 106)) (2.9.0.20241206)\n",
      "Requirement already satisfied: typing-inspection==0.4.0 in /Users/tok/Dropbox/PARAL/Resources/virtual-envs/summit-agentic-ai/lib/python3.12/site-packages (from -r requirements.txt (line 107)) (0.4.0)\n",
      "Requirement already satisfied: typing_extensions==4.13.2 in /Users/tok/Dropbox/PARAL/Resources/virtual-envs/summit-agentic-ai/lib/python3.12/site-packages (from -r requirements.txt (line 108)) (4.13.2)\n",
      "Requirement already satisfied: tzdata==2025.2 in /Users/tok/Dropbox/PARAL/Resources/virtual-envs/summit-agentic-ai/lib/python3.12/site-packages (from -r requirements.txt (line 109)) (2025.2)\n",
      "Requirement already satisfied: uri-template==1.3.0 in /Users/tok/Dropbox/PARAL/Resources/virtual-envs/summit-agentic-ai/lib/python3.12/site-packages (from -r requirements.txt (line 110)) (1.3.0)\n",
      "Requirement already satisfied: urllib3==2.4.0 in /Users/tok/Dropbox/PARAL/Resources/virtual-envs/summit-agentic-ai/lib/python3.12/site-packages (from -r requirements.txt (line 111)) (2.4.0)\n",
      "Requirement already satisfied: wcwidth==0.2.13 in /Users/tok/Dropbox/PARAL/Resources/virtual-envs/summit-agentic-ai/lib/python3.12/site-packages (from -r requirements.txt (line 112)) (0.2.13)\n",
      "Requirement already satisfied: webcolors==24.11.1 in /Users/tok/Dropbox/PARAL/Resources/virtual-envs/summit-agentic-ai/lib/python3.12/site-packages (from -r requirements.txt (line 113)) (24.11.1)\n",
      "Requirement already satisfied: webencodings==0.5.1 in /Users/tok/Dropbox/PARAL/Resources/virtual-envs/summit-agentic-ai/lib/python3.12/site-packages (from -r requirements.txt (line 114)) (0.5.1)\n",
      "Requirement already satisfied: websocket-client==1.8.0 in /Users/tok/Dropbox/PARAL/Resources/virtual-envs/summit-agentic-ai/lib/python3.12/site-packages (from -r requirements.txt (line 115)) (1.8.0)\n",
      "Requirement already satisfied: widgetsnbextension==4.0.14 in /Users/tok/Dropbox/PARAL/Resources/virtual-envs/summit-agentic-ai/lib/python3.12/site-packages (from -r requirements.txt (line 116)) (4.0.14)\n",
      "Requirement already satisfied: appnope in /Users/tok/Dropbox/PARAL/Resources/virtual-envs/summit-agentic-ai/lib/python3.12/site-packages (from ipykernel==6.29.5->-r requirements.txt (line 28)) (0.1.4)\n",
      "Downloading numpy-2.2.5-cp312-cp312-macosx_14_0_arm64.whl (5.2 MB)\n",
      "\u001b[2K   \u001b[38;2;114;156;31m━━━━━━━━━━━━━━━━━━━━━━━━━━━━━━━━━━━━━━━━\u001b[0m \u001b[32m5.2/5.2 MB\u001b[0m \u001b[31m13.4 MB/s\u001b[0m eta \u001b[36m0:00:00\u001b[0m MB/s\u001b[0m eta \u001b[36m0:00:01\u001b[0m\n",
      "\u001b[?25hInstalling collected packages: numpy\n",
      "  Attempting uninstall: numpy\n",
      "    Found existing installation: numpy 2.1.3\n",
      "    Uninstalling numpy-2.1.3:\n",
      "      Successfully uninstalled numpy-2.1.3\n",
      "\u001b[31mERROR: pip's dependency resolver does not currently take into account all the packages that are installed. This behaviour is the source of the following dependency conflicts.\n",
      "tensorflow 2.19.0 requires numpy<2.2.0,>=1.26.0, but you have numpy 2.2.5 which is incompatible.\u001b[0m\u001b[31m\n",
      "\u001b[0mSuccessfully installed numpy-2.2.5\n",
      "Note: you may need to restart the kernel to use updated packages.\n"
     ]
    }
   ],
   "source": [
    "%pip install -r requirements.txt"
   ]
  },
  {
   "cell_type": "markdown",
   "id": "e5bf75b9-14d2-493b-bc03-8e08f216cbb3",
   "metadata": {},
   "source": [
    "> You may need to collapse long outputs by clicking the arrow next to the cell output to keep your notebook clean and readable."
   ]
  },
  {
   "cell_type": "markdown",
   "id": "1def51a4-c247-449b-a9f2-d4a20dcbc2de",
   "metadata": {},
   "source": [
    "In the previous module, you communicated with an LLM using `curl` commands. Now we'll interact with it programmatically using Python.\n",
    "\n",
    "We'll use the OpenAI API format, which has become a standard interface for LLM interactions. We'll start with the `completions` API and later explore the newer `responses` API.\n",
    "\n",
    "The following cell sets up our connection to the LLM:"
   ]
  },
  {
   "cell_type": "code",
   "execution_count": 1,
   "id": "201a5506-5b38-4fcb-a0c6-45e67a8ed5c1",
   "metadata": {},
   "outputs": [
    {
     "name": "stdout",
     "output_type": "stream",
     "text": [
      "Imports complete, Client initialized\n"
     ]
    }
   ],
   "source": [
    "import openai\n",
    "import re\n",
    "import httpx\n",
    "import os\n",
    "import json\n",
    "from openai import OpenAI\n",
    "# These libraries are just here to print the results from the agent in a more human-readable way\n",
    "# import rich\n",
    "from src.utils import step_printer\n",
    "from termcolor import cprint\n",
    "\n",
    "api_key = \"placeholder\"  \n",
    "model = \"mistral-small:latest\" # Other oprions here include \"qwen3:32b\"\n",
    "base_url = \"http://localhost:11434/v1/\" #openai/v1/\"\n",
    "\n",
    "client = OpenAI(\n",
    "    base_url=base_url,\n",
    "    api_key=api_key,\n",
    ")\n",
    "\n",
    "print(\"Imports complete, Client initialized\")\n"
   ]
  },
  {
   "cell_type": "markdown",
   "id": "38031820-e7fa-4885-a98a-da18112f2704",
   "metadata": {},
   "source": [
    "## Sending Your First Prompt to the LLM\n",
    "\n",
    "Let's now send a request to the LLM and see what it generates. We'll ask it to complete a simple Python Inference - ie ask the LLM for a Generateive AI completion or response:\n",
    "\n",
    "This may take a few moments to complete, your development system has a modest L4 GPU, too small for serious production use.."
   ]
  },
  {
   "cell_type": "markdown",
   "id": "40a88457-12e0-49bb-85f4-6b8941db5e0a",
   "metadata": {},
   "source": [
    "## Examining the Generated Code\n",
    "\n",
    "Your output may differ slightly, but it should be similar to the code in the next cell. The code was generated by the `mistral-small` model and has been copied \"as is\" into the notebook—no manual editing was required to make it run. While the generated class may be basic, it's a good starting point.\n",
    "When you run the generated code, you'll see that it creates a functional `User class with appropriate methods and outputs:\n"
   ]
  },
  {
   "cell_type": "code",
   "execution_count": 10,
   "id": "6d27db9a-b39c-48b6-a09f-d7dc6da0544a",
   "metadata": {},
   "outputs": [
    {
     "name": "stdout",
     "output_type": "stream",
     "text": [
      "Username: john_doe\n",
      "Email: john@example.com\n",
      "\n",
      "Updated Info:\n",
      "Username: jane_doe\n",
      "Email: jane@example.com\n"
     ]
    }
   ],
   "source": [
    "class User:\n",
    "    def __init__(self, username, email, password):\n",
    "        self.username = username\n",
    "        self.email = email\n",
    "        self._password = password  # Using underscore prefix to indicate that it is intended to be private\n",
    "\n",
    "    def set_username(self, new_username):\n",
    "        self.username = new_username\n",
    "\n",
    "    def get_username(self):\n",
    "        return self.username\n",
    "\n",
    "    def set_email(self, new_email):\n",
    "        self.email = new_email\n",
    "\n",
    "    def get_email(self):\n",
    "        return self.email\n",
    "\n",
    "    def set_password(self, new_password):\n",
    "        self._password = new_password\n",
    "\n",
    "    def display_info(self):\n",
    "        print(f\"Username: {self.username}\")\n",
    "        print(f\"Email: {self.email}\")\n",
    "        # For security reasons, it's better not to directly expose the password\n",
    "        # print(f\"Password: {self._password}\")\n",
    "\n",
    "# Example usage:\n",
    "user = User(\"john_doe\", \"john@example.com\", \"securepassword\")\n",
    "user.display_info()\n",
    "\n",
    "user.set_username(\"jane_doe\")\n",
    "user.set_email(\"jane@example.com\")\n",
    "print(\"\\nUpdated Info:\")\n",
    "user.display_info()"
   ]
  },
  {
   "cell_type": "markdown",
   "id": "accdb6aa-6f59-4f65-9cd2-a966d00d38f8",
   "metadata": {},
   "source": [
    "## Summary\n",
    "\n",
    "In this first part of the module, we have:\n",
    "\n",
    "1. Set up our Python environment with the required libraries\n",
    "1. Connected to the LLM (`mistral-small`) via the OpenAI API through `ollama` and its underlying runtime `llama.cpp`\n",
    "1. Generated a simple Python class using the LLM\n",
    "1. Executed the generated code to verify it works as expected\n",
    "\n",
    "Next, in Part 2 of this module, we'll explore Prompting—a fundamental skill for effectively interacting with LLMs and the foundation for developing Agentic AI applications."
   ]
  }
 ],
 "metadata": {
  "kernelspec": {
   "display_name": "Python 3 (ipykernel)",
   "language": "python",
   "name": "python3"
  },
  "language_info": {
   "codemirror_mode": {
    "name": "ipython",
    "version": 3
   },
   "file_extension": ".py",
   "mimetype": "text/x-python",
   "name": "python",
   "nbconvert_exporter": "python",
   "pygments_lexer": "ipython3",
   "version": "3.12.10"
  }
 },
 "nbformat": 4,
 "nbformat_minor": 5
}
