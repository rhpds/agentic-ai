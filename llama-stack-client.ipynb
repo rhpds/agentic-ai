{
 "cells": [
  {
   "cell_type": "markdown",
   "id": "2b074a7d-facf-440d-92ce-d9a22caedf23",
   "metadata": {},
   "source": [
    "## This notebook uses llama-stack-client to do handle the following flow - \n",
    "\n",
    "1. Notebook is started when an ansible job log completion data comes in.\n",
    "1. It examimes if there is any error. If no error, it ends\n",
    "1. If there is an error:\n",
    "    - Agent analyzes and recommends\n",
    "    - Agent opens a jira ticket\n",
    "    - Agent sends a slack message\n",
    "\n",
    "It uses client provided tools because running an MCP Server may prove to be an overdose.\n",
    "It also assumes that the audience need not worry about running a LLM and llama-stack server.\n",
    "\n",
    "TODO \n",
    "- structure the output of the tool\n",
    "- provide more description etc"
   ]
  },
  {
   "cell_type": "code",
   "execution_count": 1,
   "id": "2b49bb66-4009-4990-ae0f-ec3da7e18c51",
   "metadata": {},
   "outputs": [],
   "source": [
    "import asyncio\n",
    "import os\n",
    "\n",
    "from llama_stack_client import LlamaStackClient\n",
    "from llama_stack_client.lib.agents.client_tool import client_tool\n",
    "from llama_stack_client.lib.agents.agent import Agent\n",
    "from llama_stack_client.lib.agents.event_logger import EventLogger\n",
    "from rich.pretty import pprint\n",
    "import json\n",
    "import uuid\n",
    "from pydantic import BaseModel\n",
    "from typing import List\n",
    "#from llama_stack.distribution.library_client import LlamaStackAsLibraryClient\n",
    "\n",
    "from dotenv import load_dotenv\n",
    "\n",
    "load_dotenv()\n",
    "#BRAVE_SEARCH_API_KEY = os.environ[\"BRAVE_SEARCH_API_KEY\"]\n",
    "HOST=os.environ[\"HOST\"]\n",
    "PORT=os.environ[\"LLAMA_STACK_PORT\"]\n",
    "MODEL_NAME=os.environ[\"INFERENCE_MODEL\"]\n",
    "#TAVILY_SEARCH_API_KEY=os.environ[\"TAVILY_API_KEY\"]"
   ]
  },
  {
   "cell_type": "code",
   "execution_count": 2,
   "id": "2e6719fc-45e6-4ba1-a61c-1e701aeed281",
   "metadata": {},
   "outputs": [],
   "source": [
    "@client_tool\n",
    "def jiratool(error: str = \"error\", diagnosis: str = \"diagnosis\", title: str = \"Fishing Expedition\") :\n",
    "    \"\"\"\n",
    "    Creates a JIRA Ticket.\n",
    "\n",
    "    :param error: Pass the Error Message\n",
    "    :param diagnosis: Pass the suggested Diagnostic\n",
    "    :param title: Pass in the suggested name of the JIRA Ticket\n",
    "    :returns: Dictionary containing the JIRALink, Status of the operation and title of the ticket\n",
    "    \"\"\"\n",
    "    dummy_response = \"\"\"\n",
    "            JIRA Ticket has been created\n",
    "    \"\"\"\n",
    "    #dummy_response =  {\"JIRALink\": \"http://xx.yy.zz\", \"Status\": \"Success\", \"title\":title}\n",
    "    return dummy_response\n"
   ]
  },
  {
   "cell_type": "code",
   "execution_count": 3,
   "id": "531cfdc4-8627-4d83-840e-1eb45ef3ab30",
   "metadata": {},
   "outputs": [],
   "source": [
    "@client_tool\n",
    "def slacktool(channel: str = \"foo\", message: str = \"JIRA Ticket details\"):\n",
    "    \"\"\"\n",
    "    Creates a JIRA Ticket.\n",
    "\n",
    "    :param channel: Slack Channel Name to the send the message\n",
    "    :param message: JIRA Ticket details\n",
    "    :returns: Slack Message confirmation\n",
    "    \"\"\"\n",
    "    dummy_response = \"\"\"\n",
    "            Slack message has been sent.\n",
    "    \"\"\"\n",
    "    return dummy_response"
   ]
  },
  {
   "cell_type": "code",
   "execution_count": 4,
   "id": "5f45054a-4ac9-4d1b-81ce-e28ea7c04887",
   "metadata": {},
   "outputs": [],
   "source": [
    "client = LlamaStackClient(base_url=f\"http://{HOST}:{PORT}\")\n",
    "base_agent_config = dict(\n",
    "    model=MODEL_NAME,\n",
    "    instructions=\"You are a helpful assistant.\",\n",
    "    sampling_params={\n",
    "        \"strategy\": {\"type\": \"top_p\", \"temperature\": 0.01, \"top_p\": 0.99},\n",
    "    },\n",
    "    tools=[jiratool, slacktool],\n",
    ")\n"
   ]
  },
  {
   "cell_type": "code",
   "execution_count": 5,
   "id": "6f267dda-1a8b-43f4-9f82-00a0c9dec258",
   "metadata": {},
   "outputs": [],
   "source": [
    "data_processing_steps = [\n",
    "    \"\"\"You can look at the contents of an ansible log and spot the error. \n",
    "    You will describe what the error is in a few crisp sentences\n",
    "    so that a human can take corrective actions.\n",
    "    \n",
    "    Input: {input}\"\"\".strip()\n",
    "    ,\n",
    "    \n",
    "    \"\"\"Open a JIRA Ticket\n",
    "    \"\"\",\n",
    "    \n",
    "    \"\"\"Slack the details\n",
    "    \"\"\",\n",
    "    \n",
    "\n",
    "]"
   ]
  },
  {
   "cell_type": "code",
   "execution_count": 6,
   "id": "765f84a4-d0f4-4067-8de3-784e98d137aa",
   "metadata": {},
   "outputs": [],
   "source": [
    "vanilla_agent_config = {\n",
    "    **base_agent_config,\n",
    "}\n",
    "\n",
    "vanilla_agent = Agent(client, **vanilla_agent_config)\n",
    "workflow_session_id = vanilla_agent.create_session(session_name=f\"vanilla_agent_{uuid.uuid4()}\")\n"
   ]
  },
  {
   "cell_type": "code",
   "execution_count": 7,
   "id": "14a01348-d9f9-40f2-b9e8-5268956bec6a",
   "metadata": {},
   "outputs": [],
   "source": [
    "def chain(input: str, prompts: List[str]) -> str:\n",
    "    \"\"\"Chain multiple LLM calls sequentially, passing results between steps.\"\"\"\n",
    "\n",
    "    for i, prompt in enumerate(prompts):    \n",
    "        response = vanilla_agent.create_turn(\n",
    "            messages=[\n",
    "                {\n",
    "                    \"role\": \"user\",\n",
    "                    \"content\":f\"{prompt}\\nInput: {input}\"\n",
    "                }\n",
    "            ],\n",
    "        session_id=workflow_session_id,\n",
    "        stream=False,\n",
    "    )\n",
    "        print(\"========= Turn: \", i, \"=========\")\n",
    "        print(response)\n",
    "        print(\"========= Agent internal workings=========\")\n",
    "        print(response.output_message.content)\n",
    "        print(\"\\n\")\n",
    "    \n",
    "    #return result"
   ]
  },
  {
   "cell_type": "code",
   "execution_count": 8,
   "id": "5088b356-6999-434e-9eb3-20f30faeab90",
   "metadata": {},
   "outputs": [],
   "source": [
    "def route(input: str) -> str:\n",
    "    \"\"\"Route input to specialized prompt using content classification.\"\"\"\n",
    "    # First determine appropriate route using LLM with chain-of-thought\n",
    "    is_there_error = f\"\"\"\n",
    "    You can look at the contents of an ansible log and spot if there is any error. \n",
    "    If there is any error you will return Error. \n",
    "    If there is no error, you will return Success.\n",
    "    You are only allowed to return 2 words:\n",
    "    Error\n",
    "    Success\n",
    "    \n",
    "    Input: {input}\"\"\".strip()\n",
    "    \n",
    "    route_response = vanilla_agent.create_turn(\n",
    "        messages=[\n",
    "            {\n",
    "                \"role\": \"user\",\n",
    "                \"content\":f\"{is_there_error}\\nInput: {input}\"\n",
    "            }\n",
    "        ],\n",
    "        session_id=workflow_session_id,\n",
    "        stream=False,\n",
    "    )\n",
    "    \n",
    "    print(\"========= Agent internal workings=========\")\n",
    "    print(route_response)\n",
    "    print(\"========= Agent internal workings=========\")\n",
    "    print(\"Observed Status of job:\")\n",
    "    print(route_response.output_message.content)\n",
    "\n",
    "    return route_response.output_message.content"
   ]
  },
  {
   "cell_type": "code",
   "execution_count": 9,
   "id": "d378fb69-d936-4aa0-bbc2-6b43a34368f0",
   "metadata": {},
   "outputs": [],
   "source": [
    "def flow(input: str,prompts: List[str])-> str:\n",
    "    route_response = route(input)\n",
    "    \n",
    "    if route_response == \"Error\":\n",
    "        print(\"Examining the Error now\")\n",
    "        result = chain(input, prompts)\n",
    "    else:\n",
    "        result = \"No action Needed\"\n",
    "    return result"
   ]
  },
  {
   "cell_type": "code",
   "execution_count": 10,
   "id": "931d2d88-4b3b-4ef2-886d-e10e572fc32c",
   "metadata": {},
   "outputs": [
    {
     "name": "stdout",
     "output_type": "stream",
     "text": [
      "========= Agent internal workings=========\n",
      "Turn(input_messages=[UserMessage(content='You can look at the contents of an ansible log and spot if there is any error. \\n    If there is any error you will return Error. \\n    If there is no error, you will return Success.\\n    You are only allowed to return 2 words:\\n    Error\\n    Success\\n\\n    Input: \\ncould not connect to the host as the password as expired.\\nInput: \\ncould not connect to the host as the password as expired.\\n', role='user', context=None)], output_message=CompletionMessage(content='Error', role='assistant', stop_reason='end_of_turn', tool_calls=[]), session_id='ccb6cd50-5f2d-4a92-8b81-6e2654991bd5', started_at=datetime.datetime(2025, 3, 24, 18, 57, 14, 797416, tzinfo=TzInfo(-07:00)), steps=[InferenceStep(api_model_response=CompletionMessage(content='Error', role='assistant', stop_reason='end_of_turn', tool_calls=[]), step_id='44788052-be73-4548-a20a-bfeb9f599a5d', step_type='inference', turn_id='d5876df0-0fef-4c7f-a230-b5623347179f', completed_at=datetime.datetime(2025, 3, 24, 18, 57, 32, 992873, tzinfo=TzInfo(-07:00)), started_at=datetime.datetime(2025, 3, 24, 18, 57, 14, 798649, tzinfo=TzInfo(-07:00)))], turn_id='d5876df0-0fef-4c7f-a230-b5623347179f', completed_at=datetime.datetime(2025, 3, 24, 18, 57, 33, 6527, tzinfo=TzInfo(-07:00)), output_attachments=[])\n",
      "========= Agent internal workings=========\n",
      "Observed Status of job:\n",
      "Error\n",
      "Examining the Error now\n",
      "========= Turn:  0 =========\n",
      "Turn(input_messages=[UserMessage(content='You can look at the contents of an ansible log and spot the error. \\n    You will describe what the error is in a few crisp sentences\\n    so that a human can take corrective actions.\\n\\n    Input: {input}\\nInput: \\ncould not connect to the host as the password as expired.\\n', role='user', context=None)], output_message=CompletionMessage(content='Error: Ansible connection failed due to expired password, please update the password and retry.', role='assistant', stop_reason='end_of_turn', tool_calls=[]), session_id='ccb6cd50-5f2d-4a92-8b81-6e2654991bd5', started_at=datetime.datetime(2025, 3, 24, 18, 57, 33, 37046, tzinfo=TzInfo(-07:00)), steps=[InferenceStep(api_model_response=CompletionMessage(content='Error: Ansible connection failed due to expired password, please update the password and retry.', role='assistant', stop_reason='end_of_turn', tool_calls=[]), step_id='ff5cdce4-ff2d-428c-86d3-39032218f100', step_type='inference', turn_id='b754e3bc-7a59-4d2a-ba1b-255d0cf0d6f6', completed_at=datetime.datetime(2025, 3, 24, 18, 57, 34, 973852, tzinfo=TzInfo(-07:00)), started_at=datetime.datetime(2025, 3, 24, 18, 57, 33, 37309, tzinfo=TzInfo(-07:00)))], turn_id='b754e3bc-7a59-4d2a-ba1b-255d0cf0d6f6', completed_at=datetime.datetime(2025, 3, 24, 18, 57, 34, 985713, tzinfo=TzInfo(-07:00)), output_attachments=[])\n",
      "========= Agent internal workings=========\n",
      "Error: Ansible connection failed due to expired password, please update the password and retry.\n",
      "\n",
      "\n",
      "========= Turn:  1 =========\n",
      "Turn(input_messages=[UserMessage(content='Open a JIRA Ticket\\n    \\nInput: \\ncould not connect to the host as the password as expired.\\n', role='user', context=None), ToolResponseMessage(call_id='f871d6ff-b9ea-4771-8b5a-bb88b706a554', content='\"\\\\n            JIRA Ticket has been created\\\\n    \"', role='tool', tool_name='jiratool')], output_message=CompletionMessage(content='[jiratool(title=\"Ansible Connection Issue\", error=\"Password Expired\", diagnosis=\"Update password and try again\")]\\n\\nSuccess', role='assistant', stop_reason='end_of_turn', tool_calls=[]), session_id='ccb6cd50-5f2d-4a92-8b81-6e2654991bd5', started_at=datetime.datetime(2025, 3, 24, 18, 57, 35, 12491, tzinfo=TzInfo(-07:00)), steps=[InferenceStep(api_model_response=CompletionMessage(content='', role='assistant', stop_reason='end_of_turn', tool_calls=[ToolCall(arguments={'title': 'Ansible Connection Issue', 'error': 'Password Expired', 'diagnosis': 'Update password and try again'}, call_id='f871d6ff-b9ea-4771-8b5a-bb88b706a554', tool_name='jiratool')]), step_id='401649c9-8bc7-4530-a2d5-09262e8b9f5e', step_type='inference', turn_id='de536b5d-5b47-49a4-b7ee-b5254c6d4ef3', completed_at=datetime.datetime(2025, 3, 24, 18, 57, 37, 371730, tzinfo=TzInfo(-07:00)), started_at=datetime.datetime(2025, 3, 24, 18, 57, 35, 12706, tzinfo=TzInfo(-07:00))), ToolExecutionStep(step_id='24523590-79ae-4e99-a252-202fed65a31f', step_type='tool_execution', tool_calls=[ToolCall(arguments={'title': 'Ansible Connection Issue', 'error': 'Password Expired', 'diagnosis': 'Update password and try again'}, call_id='f871d6ff-b9ea-4771-8b5a-bb88b706a554', tool_name='jiratool')], tool_responses=[ToolResponse(call_id='f871d6ff-b9ea-4771-8b5a-bb88b706a554', content='\"\\\\n            JIRA Ticket has been created\\\\n    \"', tool_name='jiratool', metadata={})], turn_id='de536b5d-5b47-49a4-b7ee-b5254c6d4ef3', completed_at=datetime.datetime(2025, 3, 24, 18, 57, 37, 466810, tzinfo=TzInfo(-07:00)), started_at=datetime.datetime(2025, 3, 24, 18, 57, 37, 414387, tzinfo=TzInfo(-07:00))), InferenceStep(api_model_response=CompletionMessage(content='[jiratool(title=\"Ansible Connection Issue\", error=\"Password Expired\", diagnosis=\"Update password and try again\")]\\n\\nSuccess', role='assistant', stop_reason='end_of_turn', tool_calls=[]), step_id='15c3be1f-eb12-4e9a-aea1-25a6e81c6c49', step_type='inference', turn_id='de536b5d-5b47-49a4-b7ee-b5254c6d4ef3', completed_at=datetime.datetime(2025, 3, 24, 18, 57, 40, 98961, tzinfo=TzInfo(-07:00)), started_at=datetime.datetime(2025, 3, 24, 18, 57, 37, 479010, tzinfo=TzInfo(-07:00)))], turn_id='de536b5d-5b47-49a4-b7ee-b5254c6d4ef3', completed_at=datetime.datetime(2025, 3, 24, 18, 57, 40, 111160, tzinfo=TzInfo(-07:00)), output_attachments=[])\n",
      "========= Agent internal workings=========\n",
      "[jiratool(title=\"Ansible Connection Issue\", error=\"Password Expired\", diagnosis=\"Update password and try again\")]\n",
      "\n",
      "Success\n",
      "\n",
      "\n",
      "========= Turn:  2 =========\n",
      "Turn(input_messages=[UserMessage(content='Slack the details\\n    \\nInput: \\ncould not connect to the host as the password as expired.\\n', role='user', context=None), ToolResponseMessage(call_id='40568597-50ce-47f0-9e58-b1c06b5b6e82', content='\"\\\\n            Slack message has been sent.\\\\n    \"', role='tool', tool_name='slacktool')], output_message=CompletionMessage(content='[slacktool(channel=\"#ansible-errors\", message=\"Error: Could not connect to host due to expired password. Please update the password and retry.\")]\\n\\nSuccess', role='assistant', stop_reason='end_of_turn', tool_calls=[]), session_id='ccb6cd50-5f2d-4a92-8b81-6e2654991bd5', started_at=datetime.datetime(2025, 3, 24, 18, 57, 40, 149010, tzinfo=TzInfo(-07:00)), steps=[InferenceStep(api_model_response=CompletionMessage(content='', role='assistant', stop_reason='end_of_turn', tool_calls=[ToolCall(arguments={'channel': '#ansible-errors', 'message': 'Error: Could not connect to host due to expired password. Please update the password and retry.'}, call_id='40568597-50ce-47f0-9e58-b1c06b5b6e82', tool_name='slacktool')]), step_id='b86173b8-f6df-49c1-ad4b-55fb5814e4e3', step_type='inference', turn_id='fb76ac2a-c185-433c-a7f4-1096e5b71243', completed_at=datetime.datetime(2025, 3, 24, 18, 57, 42, 870990, tzinfo=TzInfo(-07:00)), started_at=datetime.datetime(2025, 3, 24, 18, 57, 40, 149076, tzinfo=TzInfo(-07:00))), ToolExecutionStep(step_id='ac1b363c-0142-4dc1-8158-0538f8ef83eb', step_type='tool_execution', tool_calls=[ToolCall(arguments={'channel': '#ansible-errors', 'message': 'Error: Could not connect to host due to expired password. Please update the password and retry.'}, call_id='40568597-50ce-47f0-9e58-b1c06b5b6e82', tool_name='slacktool')], tool_responses=[ToolResponse(call_id='40568597-50ce-47f0-9e58-b1c06b5b6e82', content='\"\\\\n            Slack message has been sent.\\\\n    \"', tool_name='slacktool', metadata={})], turn_id='fb76ac2a-c185-433c-a7f4-1096e5b71243', completed_at=datetime.datetime(2025, 3, 24, 18, 57, 42, 935005, tzinfo=TzInfo(-07:00)), started_at=datetime.datetime(2025, 3, 24, 18, 57, 42, 906784, tzinfo=TzInfo(-07:00))), InferenceStep(api_model_response=CompletionMessage(content='[slacktool(channel=\"#ansible-errors\", message=\"Error: Could not connect to host due to expired password. Please update the password and retry.\")]\\n\\nSuccess', role='assistant', stop_reason='end_of_turn', tool_calls=[]), step_id='329d6bfb-e3b4-4ca6-986f-a1fc4c4272ce', step_type='inference', turn_id='fb76ac2a-c185-433c-a7f4-1096e5b71243', completed_at=datetime.datetime(2025, 3, 24, 18, 57, 45, 743217, tzinfo=TzInfo(-07:00)), started_at=datetime.datetime(2025, 3, 24, 18, 57, 42, 946424, tzinfo=TzInfo(-07:00)))], turn_id='fb76ac2a-c185-433c-a7f4-1096e5b71243', completed_at=datetime.datetime(2025, 3, 24, 18, 57, 45, 759714, tzinfo=TzInfo(-07:00)), output_attachments=[])\n",
      "========= Agent internal workings=========\n",
      "[slacktool(channel=\"#ansible-errors\", message=\"Error: Could not connect to host due to expired password. Please update the password and retry.\")]\n",
      "\n",
      "Success\n",
      "\n",
      "\n"
     ]
    }
   ],
   "source": [
    "#could not connect to the host as the password as expired.\n",
    "#all tasks successfully finished\n",
    "\n",
    "input = \"\"\"\n",
    "could not connect to the host as the password as expired.\n",
    "\"\"\"\n",
    "flow(input,data_processing_steps)\n"
   ]
  },
  {
   "cell_type": "code",
   "execution_count": null,
   "id": "4aa69a76-1ceb-4535-8657-19485ced92e9",
   "metadata": {},
   "outputs": [],
   "source": []
  }
 ],
 "metadata": {
  "kernelspec": {
   "display_name": "Python 3 (ipykernel)",
   "language": "python",
   "name": "python3"
  },
  "language_info": {
   "codemirror_mode": {
    "name": "ipython",
    "version": 3
   },
   "file_extension": ".py",
   "mimetype": "text/x-python",
   "name": "python",
   "nbconvert_exporter": "python",
   "pygments_lexer": "ipython3",
   "version": "3.12.5"
  }
 },
 "nbformat": 4,
 "nbformat_minor": 5
}
