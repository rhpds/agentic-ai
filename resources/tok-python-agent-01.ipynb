{
 "cells": [
  {
   "cell_type": "code",
   "execution_count": 1,
   "id": "a1160b91-0b0c-4b70-87a9-de64f88a5e37",
   "metadata": {
    "collapsed": true,
    "jupyter": {
     "outputs_hidden": true
    }
   },
   "outputs": [
    {
     "name": "stdout",
     "output_type": "stream",
     "text": [
      "Requirement already satisfied: annotated-types==0.7.0 in /Users/tok/Dropbox/PARAL/Resources/virtual-envs/summit-agentic-ai/lib/python3.12/site-packages (from -r requirements.txt (line 1)) (0.7.0)\n",
      "Requirement already satisfied: anyio==4.9.0 in /Users/tok/Dropbox/PARAL/Resources/virtual-envs/summit-agentic-ai/lib/python3.12/site-packages (from -r requirements.txt (line 2)) (4.9.0)\n",
      "Requirement already satisfied: argon2-cffi==23.1.0 in /Users/tok/Dropbox/PARAL/Resources/virtual-envs/summit-agentic-ai/lib/python3.12/site-packages (from -r requirements.txt (line 3)) (23.1.0)\n",
      "Requirement already satisfied: argon2-cffi-bindings==21.2.0 in /Users/tok/Dropbox/PARAL/Resources/virtual-envs/summit-agentic-ai/lib/python3.12/site-packages (from -r requirements.txt (line 4)) (21.2.0)\n",
      "Requirement already satisfied: arrow==1.3.0 in /Users/tok/Dropbox/PARAL/Resources/virtual-envs/summit-agentic-ai/lib/python3.12/site-packages (from -r requirements.txt (line 5)) (1.3.0)\n",
      "Requirement already satisfied: asttokens==3.0.0 in /Users/tok/Dropbox/PARAL/Resources/virtual-envs/summit-agentic-ai/lib/python3.12/site-packages (from -r requirements.txt (line 6)) (3.0.0)\n",
      "Requirement already satisfied: async-lru==2.0.5 in /Users/tok/Dropbox/PARAL/Resources/virtual-envs/summit-agentic-ai/lib/python3.12/site-packages (from -r requirements.txt (line 7)) (2.0.5)\n",
      "Requirement already satisfied: attrs==25.3.0 in /Users/tok/Dropbox/PARAL/Resources/virtual-envs/summit-agentic-ai/lib/python3.12/site-packages (from -r requirements.txt (line 8)) (25.3.0)\n",
      "Requirement already satisfied: babel==2.17.0 in /Users/tok/Dropbox/PARAL/Resources/virtual-envs/summit-agentic-ai/lib/python3.12/site-packages (from -r requirements.txt (line 9)) (2.17.0)\n",
      "Requirement already satisfied: beautifulsoup4==4.13.4 in /Users/tok/Dropbox/PARAL/Resources/virtual-envs/summit-agentic-ai/lib/python3.12/site-packages (from -r requirements.txt (line 10)) (4.13.4)\n",
      "Requirement already satisfied: bleach==6.2.0 in /Users/tok/Dropbox/PARAL/Resources/virtual-envs/summit-agentic-ai/lib/python3.12/site-packages (from -r requirements.txt (line 11)) (6.2.0)\n",
      "Requirement already satisfied: certifi==2025.4.26 in /Users/tok/Dropbox/PARAL/Resources/virtual-envs/summit-agentic-ai/lib/python3.12/site-packages (from -r requirements.txt (line 12)) (2025.4.26)\n",
      "Requirement already satisfied: cffi==1.17.1 in /Users/tok/Dropbox/PARAL/Resources/virtual-envs/summit-agentic-ai/lib/python3.12/site-packages (from -r requirements.txt (line 13)) (1.17.1)\n",
      "Requirement already satisfied: charset-normalizer==3.4.1 in /Users/tok/Dropbox/PARAL/Resources/virtual-envs/summit-agentic-ai/lib/python3.12/site-packages (from -r requirements.txt (line 14)) (3.4.1)\n",
      "Requirement already satisfied: click==8.1.8 in /Users/tok/Dropbox/PARAL/Resources/virtual-envs/summit-agentic-ai/lib/python3.12/site-packages (from -r requirements.txt (line 15)) (8.1.8)\n",
      "Requirement already satisfied: comm==0.2.2 in /Users/tok/Dropbox/PARAL/Resources/virtual-envs/summit-agentic-ai/lib/python3.12/site-packages (from -r requirements.txt (line 16)) (0.2.2)\n",
      "Requirement already satisfied: debugpy==1.8.14 in /Users/tok/Dropbox/PARAL/Resources/virtual-envs/summit-agentic-ai/lib/python3.12/site-packages (from -r requirements.txt (line 17)) (1.8.14)\n",
      "Requirement already satisfied: decorator==5.2.1 in /Users/tok/Dropbox/PARAL/Resources/virtual-envs/summit-agentic-ai/lib/python3.12/site-packages (from -r requirements.txt (line 18)) (5.2.1)\n",
      "Requirement already satisfied: defusedxml==0.7.1 in /Users/tok/Dropbox/PARAL/Resources/virtual-envs/summit-agentic-ai/lib/python3.12/site-packages (from -r requirements.txt (line 19)) (0.7.1)\n",
      "Requirement already satisfied: distro==1.9.0 in /Users/tok/Dropbox/PARAL/Resources/virtual-envs/summit-agentic-ai/lib/python3.12/site-packages (from -r requirements.txt (line 20)) (1.9.0)\n",
      "Requirement already satisfied: executing==2.2.0 in /Users/tok/Dropbox/PARAL/Resources/virtual-envs/summit-agentic-ai/lib/python3.12/site-packages (from -r requirements.txt (line 21)) (2.2.0)\n",
      "Requirement already satisfied: fastjsonschema==2.21.1 in /Users/tok/Dropbox/PARAL/Resources/virtual-envs/summit-agentic-ai/lib/python3.12/site-packages (from -r requirements.txt (line 22)) (2.21.1)\n",
      "Requirement already satisfied: fqdn==1.5.1 in /Users/tok/Dropbox/PARAL/Resources/virtual-envs/summit-agentic-ai/lib/python3.12/site-packages (from -r requirements.txt (line 23)) (1.5.1)\n",
      "Requirement already satisfied: h11==0.16.0 in /Users/tok/Dropbox/PARAL/Resources/virtual-envs/summit-agentic-ai/lib/python3.12/site-packages (from -r requirements.txt (line 24)) (0.16.0)\n",
      "Requirement already satisfied: httpcore==1.0.9 in /Users/tok/Dropbox/PARAL/Resources/virtual-envs/summit-agentic-ai/lib/python3.12/site-packages (from -r requirements.txt (line 25)) (1.0.9)\n",
      "Requirement already satisfied: httpx==0.28.1 in /Users/tok/Dropbox/PARAL/Resources/virtual-envs/summit-agentic-ai/lib/python3.12/site-packages (from -r requirements.txt (line 26)) (0.28.1)\n",
      "Requirement already satisfied: idna==3.10 in /Users/tok/Dropbox/PARAL/Resources/virtual-envs/summit-agentic-ai/lib/python3.12/site-packages (from -r requirements.txt (line 27)) (3.10)\n",
      "Requirement already satisfied: ipykernel==6.29.5 in /Users/tok/Dropbox/PARAL/Resources/virtual-envs/summit-agentic-ai/lib/python3.12/site-packages (from -r requirements.txt (line 28)) (6.29.5)\n",
      "Requirement already satisfied: ipython==9.2.0 in /Users/tok/Dropbox/PARAL/Resources/virtual-envs/summit-agentic-ai/lib/python3.12/site-packages (from -r requirements.txt (line 29)) (9.2.0)\n",
      "Requirement already satisfied: ipython_pygments_lexers==1.1.1 in /Users/tok/Dropbox/PARAL/Resources/virtual-envs/summit-agentic-ai/lib/python3.12/site-packages (from -r requirements.txt (line 30)) (1.1.1)\n",
      "Requirement already satisfied: ipywidgets==8.1.6 in /Users/tok/Dropbox/PARAL/Resources/virtual-envs/summit-agentic-ai/lib/python3.12/site-packages (from -r requirements.txt (line 31)) (8.1.6)\n",
      "Requirement already satisfied: isoduration==20.11.0 in /Users/tok/Dropbox/PARAL/Resources/virtual-envs/summit-agentic-ai/lib/python3.12/site-packages (from -r requirements.txt (line 32)) (20.11.0)\n",
      "Requirement already satisfied: jedi==0.19.2 in /Users/tok/Dropbox/PARAL/Resources/virtual-envs/summit-agentic-ai/lib/python3.12/site-packages (from -r requirements.txt (line 33)) (0.19.2)\n",
      "Requirement already satisfied: Jinja2==3.1.6 in /Users/tok/Dropbox/PARAL/Resources/virtual-envs/summit-agentic-ai/lib/python3.12/site-packages (from -r requirements.txt (line 34)) (3.1.6)\n",
      "Requirement already satisfied: jiter==0.9.0 in /Users/tok/Dropbox/PARAL/Resources/virtual-envs/summit-agentic-ai/lib/python3.12/site-packages (from -r requirements.txt (line 35)) (0.9.0)\n",
      "Requirement already satisfied: json5==0.12.0 in /Users/tok/Dropbox/PARAL/Resources/virtual-envs/summit-agentic-ai/lib/python3.12/site-packages (from -r requirements.txt (line 36)) (0.12.0)\n",
      "Requirement already satisfied: jsonpointer==3.0.0 in /Users/tok/Dropbox/PARAL/Resources/virtual-envs/summit-agentic-ai/lib/python3.12/site-packages (from -r requirements.txt (line 37)) (3.0.0)\n",
      "Requirement already satisfied: jsonschema==4.23.0 in /Users/tok/Dropbox/PARAL/Resources/virtual-envs/summit-agentic-ai/lib/python3.12/site-packages (from -r requirements.txt (line 38)) (4.23.0)\n",
      "Requirement already satisfied: jsonschema-specifications==2025.4.1 in /Users/tok/Dropbox/PARAL/Resources/virtual-envs/summit-agentic-ai/lib/python3.12/site-packages (from -r requirements.txt (line 39)) (2025.4.1)\n",
      "Requirement already satisfied: jupyter==1.1.1 in /Users/tok/Dropbox/PARAL/Resources/virtual-envs/summit-agentic-ai/lib/python3.12/site-packages (from -r requirements.txt (line 40)) (1.1.1)\n",
      "Requirement already satisfied: jupyter-console==6.6.3 in /Users/tok/Dropbox/PARAL/Resources/virtual-envs/summit-agentic-ai/lib/python3.12/site-packages (from -r requirements.txt (line 41)) (6.6.3)\n",
      "Requirement already satisfied: jupyter-events==0.12.0 in /Users/tok/Dropbox/PARAL/Resources/virtual-envs/summit-agentic-ai/lib/python3.12/site-packages (from -r requirements.txt (line 42)) (0.12.0)\n",
      "Requirement already satisfied: jupyter-lsp==2.2.5 in /Users/tok/Dropbox/PARAL/Resources/virtual-envs/summit-agentic-ai/lib/python3.12/site-packages (from -r requirements.txt (line 43)) (2.2.5)\n",
      "Requirement already satisfied: jupyter_client==8.6.3 in /Users/tok/Dropbox/PARAL/Resources/virtual-envs/summit-agentic-ai/lib/python3.12/site-packages (from -r requirements.txt (line 44)) (8.6.3)\n",
      "Requirement already satisfied: jupyter_core==5.7.2 in /Users/tok/Dropbox/PARAL/Resources/virtual-envs/summit-agentic-ai/lib/python3.12/site-packages (from -r requirements.txt (line 45)) (5.7.2)\n",
      "Requirement already satisfied: jupyter_server==2.15.0 in /Users/tok/Dropbox/PARAL/Resources/virtual-envs/summit-agentic-ai/lib/python3.12/site-packages (from -r requirements.txt (line 46)) (2.15.0)\n",
      "Requirement already satisfied: jupyter_server_terminals==0.5.3 in /Users/tok/Dropbox/PARAL/Resources/virtual-envs/summit-agentic-ai/lib/python3.12/site-packages (from -r requirements.txt (line 47)) (0.5.3)\n",
      "Requirement already satisfied: jupyterlab==4.4.1 in /Users/tok/Dropbox/PARAL/Resources/virtual-envs/summit-agentic-ai/lib/python3.12/site-packages (from -r requirements.txt (line 48)) (4.4.1)\n",
      "Requirement already satisfied: jupyterlab_pygments==0.3.0 in /Users/tok/Dropbox/PARAL/Resources/virtual-envs/summit-agentic-ai/lib/python3.12/site-packages (from -r requirements.txt (line 49)) (0.3.0)\n",
      "Requirement already satisfied: jupyterlab_server==2.27.3 in /Users/tok/Dropbox/PARAL/Resources/virtual-envs/summit-agentic-ai/lib/python3.12/site-packages (from -r requirements.txt (line 50)) (2.27.3)\n",
      "Requirement already satisfied: jupyterlab_widgets==3.0.14 in /Users/tok/Dropbox/PARAL/Resources/virtual-envs/summit-agentic-ai/lib/python3.12/site-packages (from -r requirements.txt (line 51)) (3.0.14)\n",
      "Requirement already satisfied: llama_stack_client==0.2.4 in /Users/tok/Dropbox/PARAL/Resources/virtual-envs/summit-agentic-ai/lib/python3.12/site-packages (from -r requirements.txt (line 52)) (0.2.4)\n",
      "Requirement already satisfied: markdown-it-py==3.0.0 in /Users/tok/Dropbox/PARAL/Resources/virtual-envs/summit-agentic-ai/lib/python3.12/site-packages (from -r requirements.txt (line 53)) (3.0.0)\n",
      "Requirement already satisfied: MarkupSafe==3.0.2 in /Users/tok/Dropbox/PARAL/Resources/virtual-envs/summit-agentic-ai/lib/python3.12/site-packages (from -r requirements.txt (line 54)) (3.0.2)\n",
      "Requirement already satisfied: matplotlib-inline==0.1.7 in /Users/tok/Dropbox/PARAL/Resources/virtual-envs/summit-agentic-ai/lib/python3.12/site-packages (from -r requirements.txt (line 55)) (0.1.7)\n",
      "Requirement already satisfied: mdurl==0.1.2 in /Users/tok/Dropbox/PARAL/Resources/virtual-envs/summit-agentic-ai/lib/python3.12/site-packages (from -r requirements.txt (line 56)) (0.1.2)\n",
      "Requirement already satisfied: mistune==3.1.3 in /Users/tok/Dropbox/PARAL/Resources/virtual-envs/summit-agentic-ai/lib/python3.12/site-packages (from -r requirements.txt (line 57)) (3.1.3)\n",
      "Requirement already satisfied: nbclient==0.10.2 in /Users/tok/Dropbox/PARAL/Resources/virtual-envs/summit-agentic-ai/lib/python3.12/site-packages (from -r requirements.txt (line 58)) (0.10.2)\n",
      "Requirement already satisfied: nbconvert==7.16.6 in /Users/tok/Dropbox/PARAL/Resources/virtual-envs/summit-agentic-ai/lib/python3.12/site-packages (from -r requirements.txt (line 59)) (7.16.6)\n",
      "Requirement already satisfied: nbformat==5.10.4 in /Users/tok/Dropbox/PARAL/Resources/virtual-envs/summit-agentic-ai/lib/python3.12/site-packages (from -r requirements.txt (line 60)) (5.10.4)\n",
      "Requirement already satisfied: nest-asyncio==1.6.0 in /Users/tok/Dropbox/PARAL/Resources/virtual-envs/summit-agentic-ai/lib/python3.12/site-packages (from -r requirements.txt (line 61)) (1.6.0)\n",
      "Requirement already satisfied: notebook==7.4.1 in /Users/tok/Dropbox/PARAL/Resources/virtual-envs/summit-agentic-ai/lib/python3.12/site-packages (from -r requirements.txt (line 62)) (7.4.1)\n",
      "Requirement already satisfied: notebook_shim==0.2.4 in /Users/tok/Dropbox/PARAL/Resources/virtual-envs/summit-agentic-ai/lib/python3.12/site-packages (from -r requirements.txt (line 63)) (0.2.4)\n",
      "Requirement already satisfied: numpy==2.2.5 in /Users/tok/Dropbox/PARAL/Resources/virtual-envs/summit-agentic-ai/lib/python3.12/site-packages (from -r requirements.txt (line 64)) (2.2.5)\n",
      "Requirement already satisfied: openai==1.76.2 in /Users/tok/Dropbox/PARAL/Resources/virtual-envs/summit-agentic-ai/lib/python3.12/site-packages (from -r requirements.txt (line 65)) (1.76.2)\n",
      "Requirement already satisfied: overrides==7.7.0 in /Users/tok/Dropbox/PARAL/Resources/virtual-envs/summit-agentic-ai/lib/python3.12/site-packages (from -r requirements.txt (line 66)) (7.7.0)\n",
      "Requirement already satisfied: packaging==25.0 in /Users/tok/Dropbox/PARAL/Resources/virtual-envs/summit-agentic-ai/lib/python3.12/site-packages (from -r requirements.txt (line 67)) (25.0)\n",
      "Requirement already satisfied: pandas==2.2.3 in /Users/tok/Dropbox/PARAL/Resources/virtual-envs/summit-agentic-ai/lib/python3.12/site-packages (from -r requirements.txt (line 68)) (2.2.3)\n",
      "Requirement already satisfied: pandocfilters==1.5.1 in /Users/tok/Dropbox/PARAL/Resources/virtual-envs/summit-agentic-ai/lib/python3.12/site-packages (from -r requirements.txt (line 69)) (1.5.1)\n",
      "Requirement already satisfied: parso==0.8.4 in /Users/tok/Dropbox/PARAL/Resources/virtual-envs/summit-agentic-ai/lib/python3.12/site-packages (from -r requirements.txt (line 70)) (0.8.4)\n",
      "Requirement already satisfied: pexpect==4.9.0 in /Users/tok/Dropbox/PARAL/Resources/virtual-envs/summit-agentic-ai/lib/python3.12/site-packages (from -r requirements.txt (line 71)) (4.9.0)\n",
      "Requirement already satisfied: platformdirs==4.3.7 in /Users/tok/Dropbox/PARAL/Resources/virtual-envs/summit-agentic-ai/lib/python3.12/site-packages (from -r requirements.txt (line 72)) (4.3.7)\n",
      "Requirement already satisfied: prometheus_client==0.21.1 in /Users/tok/Dropbox/PARAL/Resources/virtual-envs/summit-agentic-ai/lib/python3.12/site-packages (from -r requirements.txt (line 73)) (0.21.1)\n",
      "Requirement already satisfied: prompt_toolkit==3.0.51 in /Users/tok/Dropbox/PARAL/Resources/virtual-envs/summit-agentic-ai/lib/python3.12/site-packages (from -r requirements.txt (line 74)) (3.0.51)\n",
      "Requirement already satisfied: psutil==7.0.0 in /Users/tok/Dropbox/PARAL/Resources/virtual-envs/summit-agentic-ai/lib/python3.12/site-packages (from -r requirements.txt (line 75)) (7.0.0)\n",
      "Requirement already satisfied: ptyprocess==0.7.0 in /Users/tok/Dropbox/PARAL/Resources/virtual-envs/summit-agentic-ai/lib/python3.12/site-packages (from -r requirements.txt (line 76)) (0.7.0)\n",
      "Requirement already satisfied: pure_eval==0.2.3 in /Users/tok/Dropbox/PARAL/Resources/virtual-envs/summit-agentic-ai/lib/python3.12/site-packages (from -r requirements.txt (line 77)) (0.2.3)\n",
      "Requirement already satisfied: pyaml==25.1.0 in /Users/tok/Dropbox/PARAL/Resources/virtual-envs/summit-agentic-ai/lib/python3.12/site-packages (from -r requirements.txt (line 78)) (25.1.0)\n",
      "Requirement already satisfied: pycparser==2.22 in /Users/tok/Dropbox/PARAL/Resources/virtual-envs/summit-agentic-ai/lib/python3.12/site-packages (from -r requirements.txt (line 79)) (2.22)\n",
      "Requirement already satisfied: pydantic==2.11.4 in /Users/tok/Dropbox/PARAL/Resources/virtual-envs/summit-agentic-ai/lib/python3.12/site-packages (from -r requirements.txt (line 80)) (2.11.4)\n",
      "Requirement already satisfied: pydantic_core==2.33.2 in /Users/tok/Dropbox/PARAL/Resources/virtual-envs/summit-agentic-ai/lib/python3.12/site-packages (from -r requirements.txt (line 81)) (2.33.2)\n",
      "Requirement already satisfied: Pygments==2.19.1 in /Users/tok/Dropbox/PARAL/Resources/virtual-envs/summit-agentic-ai/lib/python3.12/site-packages (from -r requirements.txt (line 82)) (2.19.1)\n",
      "Requirement already satisfied: python-dateutil==2.9.0.post0 in /Users/tok/Dropbox/PARAL/Resources/virtual-envs/summit-agentic-ai/lib/python3.12/site-packages (from -r requirements.txt (line 83)) (2.9.0.post0)\n",
      "Requirement already satisfied: python-json-logger==3.3.0 in /Users/tok/Dropbox/PARAL/Resources/virtual-envs/summit-agentic-ai/lib/python3.12/site-packages (from -r requirements.txt (line 84)) (3.3.0)\n",
      "Requirement already satisfied: pytz==2025.2 in /Users/tok/Dropbox/PARAL/Resources/virtual-envs/summit-agentic-ai/lib/python3.12/site-packages (from -r requirements.txt (line 85)) (2025.2)\n",
      "Requirement already satisfied: PyYAML==6.0.2 in /Users/tok/Dropbox/PARAL/Resources/virtual-envs/summit-agentic-ai/lib/python3.12/site-packages (from -r requirements.txt (line 86)) (6.0.2)\n",
      "Requirement already satisfied: pyzmq==26.4.0 in /Users/tok/Dropbox/PARAL/Resources/virtual-envs/summit-agentic-ai/lib/python3.12/site-packages (from -r requirements.txt (line 87)) (26.4.0)\n",
      "Requirement already satisfied: referencing==0.36.2 in /Users/tok/Dropbox/PARAL/Resources/virtual-envs/summit-agentic-ai/lib/python3.12/site-packages (from -r requirements.txt (line 88)) (0.36.2)\n",
      "Requirement already satisfied: requests==2.32.3 in /Users/tok/Dropbox/PARAL/Resources/virtual-envs/summit-agentic-ai/lib/python3.12/site-packages (from -r requirements.txt (line 89)) (2.32.3)\n",
      "Requirement already satisfied: rfc3339-validator==0.1.4 in /Users/tok/Dropbox/PARAL/Resources/virtual-envs/summit-agentic-ai/lib/python3.12/site-packages (from -r requirements.txt (line 90)) (0.1.4)\n",
      "Requirement already satisfied: rfc3986-validator==0.1.1 in /Users/tok/Dropbox/PARAL/Resources/virtual-envs/summit-agentic-ai/lib/python3.12/site-packages (from -r requirements.txt (line 91)) (0.1.1)\n",
      "Requirement already satisfied: rich==14.0.0 in /Users/tok/Dropbox/PARAL/Resources/virtual-envs/summit-agentic-ai/lib/python3.12/site-packages (from -r requirements.txt (line 92)) (14.0.0)\n",
      "Requirement already satisfied: rpds-py==0.24.0 in /Users/tok/Dropbox/PARAL/Resources/virtual-envs/summit-agentic-ai/lib/python3.12/site-packages (from -r requirements.txt (line 93)) (0.24.0)\n",
      "Requirement already satisfied: Send2Trash==1.8.3 in /Users/tok/Dropbox/PARAL/Resources/virtual-envs/summit-agentic-ai/lib/python3.12/site-packages (from -r requirements.txt (line 94)) (1.8.3)\n",
      "Requirement already satisfied: setuptools==80.0.0 in /Users/tok/Dropbox/PARAL/Resources/virtual-envs/summit-agentic-ai/lib/python3.12/site-packages (from -r requirements.txt (line 95)) (80.0.0)\n",
      "Requirement already satisfied: six==1.17.0 in /Users/tok/Dropbox/PARAL/Resources/virtual-envs/summit-agentic-ai/lib/python3.12/site-packages (from -r requirements.txt (line 96)) (1.17.0)\n",
      "Requirement already satisfied: sniffio==1.3.1 in /Users/tok/Dropbox/PARAL/Resources/virtual-envs/summit-agentic-ai/lib/python3.12/site-packages (from -r requirements.txt (line 97)) (1.3.1)\n",
      "Requirement already satisfied: soupsieve==2.7 in /Users/tok/Dropbox/PARAL/Resources/virtual-envs/summit-agentic-ai/lib/python3.12/site-packages (from -r requirements.txt (line 98)) (2.7)\n",
      "Requirement already satisfied: stack-data==0.6.3 in /Users/tok/Dropbox/PARAL/Resources/virtual-envs/summit-agentic-ai/lib/python3.12/site-packages (from -r requirements.txt (line 99)) (0.6.3)\n",
      "Requirement already satisfied: termcolor==3.1.0 in /Users/tok/Dropbox/PARAL/Resources/virtual-envs/summit-agentic-ai/lib/python3.12/site-packages (from -r requirements.txt (line 100)) (3.1.0)\n",
      "Requirement already satisfied: terminado==0.18.1 in /Users/tok/Dropbox/PARAL/Resources/virtual-envs/summit-agentic-ai/lib/python3.12/site-packages (from -r requirements.txt (line 101)) (0.18.1)\n",
      "Requirement already satisfied: tinycss2==1.4.0 in /Users/tok/Dropbox/PARAL/Resources/virtual-envs/summit-agentic-ai/lib/python3.12/site-packages (from -r requirements.txt (line 102)) (1.4.0)\n",
      "Requirement already satisfied: tornado==6.4.2 in /Users/tok/Dropbox/PARAL/Resources/virtual-envs/summit-agentic-ai/lib/python3.12/site-packages (from -r requirements.txt (line 103)) (6.4.2)\n",
      "Requirement already satisfied: tqdm==4.67.1 in /Users/tok/Dropbox/PARAL/Resources/virtual-envs/summit-agentic-ai/lib/python3.12/site-packages (from -r requirements.txt (line 104)) (4.67.1)\n",
      "Requirement already satisfied: traitlets==5.14.3 in /Users/tok/Dropbox/PARAL/Resources/virtual-envs/summit-agentic-ai/lib/python3.12/site-packages (from -r requirements.txt (line 105)) (5.14.3)\n",
      "Requirement already satisfied: types-python-dateutil==2.9.0.20241206 in /Users/tok/Dropbox/PARAL/Resources/virtual-envs/summit-agentic-ai/lib/python3.12/site-packages (from -r requirements.txt (line 106)) (2.9.0.20241206)\n",
      "Requirement already satisfied: typing-inspection==0.4.0 in /Users/tok/Dropbox/PARAL/Resources/virtual-envs/summit-agentic-ai/lib/python3.12/site-packages (from -r requirements.txt (line 107)) (0.4.0)\n",
      "Requirement already satisfied: typing_extensions==4.13.2 in /Users/tok/Dropbox/PARAL/Resources/virtual-envs/summit-agentic-ai/lib/python3.12/site-packages (from -r requirements.txt (line 108)) (4.13.2)\n",
      "Requirement already satisfied: tzdata==2025.2 in /Users/tok/Dropbox/PARAL/Resources/virtual-envs/summit-agentic-ai/lib/python3.12/site-packages (from -r requirements.txt (line 109)) (2025.2)\n",
      "Requirement already satisfied: uri-template==1.3.0 in /Users/tok/Dropbox/PARAL/Resources/virtual-envs/summit-agentic-ai/lib/python3.12/site-packages (from -r requirements.txt (line 110)) (1.3.0)\n",
      "Requirement already satisfied: urllib3==2.4.0 in /Users/tok/Dropbox/PARAL/Resources/virtual-envs/summit-agentic-ai/lib/python3.12/site-packages (from -r requirements.txt (line 111)) (2.4.0)\n",
      "Requirement already satisfied: wcwidth==0.2.13 in /Users/tok/Dropbox/PARAL/Resources/virtual-envs/summit-agentic-ai/lib/python3.12/site-packages (from -r requirements.txt (line 112)) (0.2.13)\n",
      "Requirement already satisfied: webcolors==24.11.1 in /Users/tok/Dropbox/PARAL/Resources/virtual-envs/summit-agentic-ai/lib/python3.12/site-packages (from -r requirements.txt (line 113)) (24.11.1)\n",
      "Requirement already satisfied: webencodings==0.5.1 in /Users/tok/Dropbox/PARAL/Resources/virtual-envs/summit-agentic-ai/lib/python3.12/site-packages (from -r requirements.txt (line 114)) (0.5.1)\n",
      "Requirement already satisfied: websocket-client==1.8.0 in /Users/tok/Dropbox/PARAL/Resources/virtual-envs/summit-agentic-ai/lib/python3.12/site-packages (from -r requirements.txt (line 115)) (1.8.0)\n",
      "Requirement already satisfied: widgetsnbextension==4.0.14 in /Users/tok/Dropbox/PARAL/Resources/virtual-envs/summit-agentic-ai/lib/python3.12/site-packages (from -r requirements.txt (line 116)) (4.0.14)\n",
      "Requirement already satisfied: appnope in /Users/tok/Dropbox/PARAL/Resources/virtual-envs/summit-agentic-ai/lib/python3.12/site-packages (from ipykernel==6.29.5->-r requirements.txt (line 28)) (0.1.4)\n",
      "Note: you may need to restart the kernel to use updated packages.\n"
     ]
    }
   ],
   "source": [
    "%pip install -r requirements.txt"
   ]
  },
  {
   "cell_type": "markdown",
   "id": "e8987006-614e-41b7-9c2f-aa6359e8e231",
   "metadata": {},
   "source": [
    "# Resources\n",
    "\n",
    "* [A simple Python implementation of the ReAct pattern for LLMs](https://arc.net/l/quote/duflzttq)\n",
    "  * Simon Willison Blog Article\n",
    "* [Deep Learning AI Course, AI Agents with LangGraph](https://learn.deeplearning.ai/courses/ai-agents-in-langgraph/lesson/1/introduction)\n",
    "\n",
    "### Assumptions\n",
    "\n",
    "* Pythons setup (I created a 3.11 venv)\n",
    "* OpenAI Key (Granite struggled but perhaps not a fair comparions ollama/grantite q4 8b v `gpt-4o`"
   ]
  },
  {
   "cell_type": "code",
   "execution_count": 18,
   "id": "a049faf1-8a5c-4b36-a85c-7f7627635c4e",
   "metadata": {},
   "outputs": [
    {
     "data": {
      "text/html": [
       "<pre style=\"white-space:pre;overflow-x:auto;line-height:normal;font-family:Menlo,'DejaVu Sans Mono',consolas,'Courier New',monospace\"><span style=\"color: #008000; text-decoration-color: #008000\"> Imports complete, Client initialized, Model setup</span>\n",
       "</pre>\n"
      ],
      "text/plain": [
       "\u001b[32m Imports complete, Client initialized, Model setup\u001b[0m\n"
      ]
     },
     "metadata": {},
     "output_type": "display_data"
    }
   ],
   "source": [
    "import openai\n",
    "import re\n",
    "import httpx\n",
    "import os\n",
    "# import rich\n",
    "\n",
    "from rich import print\n",
    "\n",
    "from openai import OpenAI\n",
    "\n",
    "api_key = \"placeholder\"  \n",
    "base_url = \"http://localhost:11434/v1/\" \n",
    "\n",
    "model = \"llama3.2:3b-instruct-fp16\" \n",
    "\n",
    "client = OpenAI(\n",
    "    base_url=base_url,\n",
    "    api_key=api_key,\n",
    ")\n",
    "\n",
    "print(\"[green] Imports complete, Client initialized, Model setup[/green]\")\n"
   ]
  },
  {
   "cell_type": "code",
   "execution_count": 21,
   "id": "8fff260b-2ee5-4ae9-b66b-4c313d5df9e7",
   "metadata": {},
   "outputs": [],
   "source": [
    "class Agent:\n",
    "    def __init__(self, system=\"\"):\n",
    "        self.system = system\n",
    "        self.messages = []\n",
    "        if self.system:\n",
    "            self.messages.append({\"role\": \"system\", \"content\": system})\n",
    "\n",
    "    def __call__(self, message):\n",
    "        self.messages.append({\"role\": \"user\", \"content\": message})\n",
    "        result = self.execute()\n",
    "        self.messages.append({\"role\": \"assistant\", \"content\": result})\n",
    "        return result\n",
    "\n",
    "    def execute(self):\n",
    "        completion = client.chat.completions.create(\n",
    "            model=model,\n",
    "            temperature=0,\n",
    "            messages=self.messages)\n",
    "        return completion.choices[0].message.content"
   ]
  },
  {
   "cell_type": "markdown",
   "id": "11a8eb9c-fe97-4ebe-9c72-566bd0f3a975",
   "metadata": {},
   "source": [
    "# ReAct Agent Prompt"
   ]
  },
  {
   "cell_type": "code",
   "execution_count": 43,
   "id": "049bda6e-d2b2-4b99-9ab9-5471161a8736",
   "metadata": {},
   "outputs": [],
   "source": [
    "prompt = \"\"\"\n",
    "You run in a loop of Thought, Action, PAUSE, Observation.\n",
    "At the end of the loop you output an Answer\n",
    "Use Thought to describe your thoughts about the question you have been asked.\n",
    "Use Action to run through one of the actions available to you - then return PAUSE.\n",
    "Observation will be the result of running those actions.\n",
    "\n",
    "Your available actions, or tools, are:\n",
    "\n",
    "get_deployment_provision_status:\n",
    "e.g. get_deployment_provision_status(guid)\n",
    "returns the status of a cloud deployment such as a virtual machine when gived a guid (globally unique identifier)\n",
    "\n",
    "log_deployment_error_status:\n",
    "e.g log_deployment_error_status(status)\n",
    "When a guid has a provision_status ERROR call this with the return value of get_deployment_provision_status\n",
    "\n",
    "log_deployment_status\n",
    "e.g log_deployment_status(status)\n",
    "When a guid does not have an ERROR status call this with the return value of get_deployment_provision_status\n",
    "\n",
    "Example session:\n",
    "\n",
    "Question: What is the staus of cloud deployment with guid <guid>\n",
    "Thought: I should look up the status with get_deployment_provision_status \n",
    "Action: get_deployment_provision_status: guid \n",
    "PAUSE:\n",
    "\n",
    "You will be called again with this:\n",
    "\n",
    "Observation: Guid status \"SUCCESS: Completed\"\n",
    "\n",
    "You then call any necessary logging tools before outputing the status:\n",
    "\n",
    "Answer: Guid status \"SUCCESS: Completed\"\n",
    "\"\"\".strip()"
   ]
  },
  {
   "cell_type": "code",
   "execution_count": 44,
   "id": "65f2cf93-87b3-430e-9a4b-0bec9eb9e004",
   "metadata": {},
   "outputs": [],
   "source": [
    "import random\n",
    "\n",
    "'''\n",
    "First of the *fake* functions to test if the LLM/Prompt will ReAct correctly\n",
    "taking different paths on different results\n",
    "'''\n",
    "\n",
    "def get_deployment_provision_status(guid):\n",
    "\n",
    "    #// call to MCP Server AAP2 Controller\n",
    "    # // foo = bar()\n",
    "    \n",
    "    status_messages = [\n",
    "        \"INFO: Initializing\",\n",
    "        \"INFO: In progress\",\n",
    "        \"ERROR: Failed\",\n",
    "        \"ERROR: API Timeout\",\n",
    "        \"ERROR: Rate Limited\",\n",
    "        \"WARNING: Minor errors\",\n",
    "        \"SUCCESS: Completed\"\n",
    "    ]\n",
    "        # \"INFO: Finalizing\",\n",
    "    # return random.choice(f\"{guid} status: {status_messages}\")\n",
    "    status = random.choice(status_messages)\n",
    "    return f\"{guid} status: {status}\"\n",
    "\n",
    "\n",
    "def log_deployment_error_status(status):\n",
    "    print(f\"Logged {status} status to Slack.\")\n",
    "    print(f\"Logged {status} Opened Jira Ticket with Status.\")\n",
    "    return 0\n",
    "\n",
    "def log_deployment_status(status):\n",
    "    print(f\"{status} Logged status to Slack.\")\n",
    "    return 0 \n",
    "\n",
    "known_actions = {\n",
    "   \"log_deployment_status\": log_deployment_status,\n",
    "   \"log_deployment_error_status\": log_deployment_error_status,\n",
    "   \"get_deployment_provision_status\": get_deployment_provision_status,\n",
    "}\n"
   ]
  },
  {
   "cell_type": "code",
   "execution_count": 45,
   "id": "d47df89b-5030-4e6a-a3bd-d16e72655bd3",
   "metadata": {},
   "outputs": [],
   "source": [
    "abot = Agent(prompt)"
   ]
  },
  {
   "cell_type": "code",
   "execution_count": 46,
   "id": "df37b053-6f9e-42ef-aa18-915bd47d6f14",
   "metadata": {
    "scrolled": true
   },
   "outputs": [
    {
     "data": {
      "text/html": [
       "<pre style=\"white-space:pre;overflow-x:auto;line-height:normal;font-family:Menlo,'DejaVu Sans Mono',consolas,'Courier New',monospace\">Step <span style=\"color: #008080; text-decoration-color: #008080; font-weight: bold\">0</span>: App -&gt; LLM:\n",
       "\n",
       "</pre>\n"
      ],
      "text/plain": [
       "Step \u001b[1;36m0\u001b[0m: App -> LLM:\n",
       "\n"
      ]
     },
     "metadata": {},
     "output_type": "display_data"
    },
    {
     "data": {
      "text/html": [
       "<pre style=\"white-space:pre;overflow-x:auto;line-height:normal;font-family:Menlo,'DejaVu Sans Mono',consolas,'Courier New',monospace\">Role: system\n",
       "Content:\n",
       "\n",
       "You run in a loop of Thought, Action, PAUSE, Observation.\n",
       "At the end of the loop you output an Answer\n",
       "Use Thought to describe your thoughts about the question you have been asked.\n",
       "Use Action to run through one of the actions available to you - then return PAUSE.\n",
       "Observation will be the result of running those actions.\n",
       "\n",
       "Your available actions, or tools, are:\n",
       "\n",
       "get_deployment_provision_status:\n",
       "e.g. <span style=\"color: #800080; text-decoration-color: #800080; font-weight: bold\">get_deployment_provision_status</span><span style=\"font-weight: bold\">(</span>guid<span style=\"font-weight: bold\">)</span>\n",
       "returns the status of a cloud deployment such as a virtual machine when gived a guid <span style=\"font-weight: bold\">(</span>globally unique identifier<span style=\"font-weight: bold\">)</span>\n",
       "\n",
       "log_deployment_error_status:\n",
       "e.g <span style=\"color: #800080; text-decoration-color: #800080; font-weight: bold\">log_deployment_error_status</span><span style=\"font-weight: bold\">(</span>status<span style=\"font-weight: bold\">)</span>\n",
       "When a guid has a provision_status ERROR call this with the return value of get_deployment_provision_status\n",
       "\n",
       "log_deployment_status\n",
       "e.g <span style=\"color: #800080; text-decoration-color: #800080; font-weight: bold\">log_deployment_status</span><span style=\"font-weight: bold\">(</span>status<span style=\"font-weight: bold\">)</span>\n",
       "When a guid does not have an ERROR status call this with the return value of get_deployment_provision_status\n",
       "\n",
       "Example session:\n",
       "\n",
       "Question: What is the staus of cloud deployment with guid <span style=\"font-weight: bold\">&lt;</span><span style=\"color: #ff00ff; text-decoration-color: #ff00ff; font-weight: bold\">guid</span><span style=\"font-weight: bold\">&gt;</span>\n",
       "Thought: I should look up the status with get_deployment_provision_status \n",
       "Action: get_deployment_provision_status: guid \n",
       "PAUSE:\n",
       "\n",
       "You will be called again with this:\n",
       "\n",
       "Observation: Guid status <span style=\"color: #008000; text-decoration-color: #008000\">\"SUCCESS: Completed\"</span>\n",
       "\n",
       "You then call any necessary logging tools before outputing the status:\n",
       "\n",
       "Answer: Guid status <span style=\"color: #008000; text-decoration-color: #008000\">\"SUCCESS: Completed\"</span>\n",
       "\n",
       "\n",
       "\n",
       "</pre>\n"
      ],
      "text/plain": [
       "Role: system\n",
       "Content:\n",
       "\n",
       "You run in a loop of Thought, Action, PAUSE, Observation.\n",
       "At the end of the loop you output an Answer\n",
       "Use Thought to describe your thoughts about the question you have been asked.\n",
       "Use Action to run through one of the actions available to you - then return PAUSE.\n",
       "Observation will be the result of running those actions.\n",
       "\n",
       "Your available actions, or tools, are:\n",
       "\n",
       "get_deployment_provision_status:\n",
       "e.g. \u001b[1;35mget_deployment_provision_status\u001b[0m\u001b[1m(\u001b[0mguid\u001b[1m)\u001b[0m\n",
       "returns the status of a cloud deployment such as a virtual machine when gived a guid \u001b[1m(\u001b[0mglobally unique identifier\u001b[1m)\u001b[0m\n",
       "\n",
       "log_deployment_error_status:\n",
       "e.g \u001b[1;35mlog_deployment_error_status\u001b[0m\u001b[1m(\u001b[0mstatus\u001b[1m)\u001b[0m\n",
       "When a guid has a provision_status ERROR call this with the return value of get_deployment_provision_status\n",
       "\n",
       "log_deployment_status\n",
       "e.g \u001b[1;35mlog_deployment_status\u001b[0m\u001b[1m(\u001b[0mstatus\u001b[1m)\u001b[0m\n",
       "When a guid does not have an ERROR status call this with the return value of get_deployment_provision_status\n",
       "\n",
       "Example session:\n",
       "\n",
       "Question: What is the staus of cloud deployment with guid \u001b[1m<\u001b[0m\u001b[1;95mguid\u001b[0m\u001b[1m>\u001b[0m\n",
       "Thought: I should look up the status with get_deployment_provision_status \n",
       "Action: get_deployment_provision_status: guid \n",
       "PAUSE:\n",
       "\n",
       "You will be called again with this:\n",
       "\n",
       "Observation: Guid status \u001b[32m\"SUCCESS: Completed\"\u001b[0m\n",
       "\n",
       "You then call any necessary logging tools before outputing the status:\n",
       "\n",
       "Answer: Guid status \u001b[32m\"SUCCESS: Completed\"\u001b[0m\n",
       "\n",
       "\n",
       "\n"
      ]
     },
     "metadata": {},
     "output_type": "display_data"
    }
   ],
   "source": [
    "for i, message in  enumerate(abot.messages):\n",
    "    if message[\"role\"] != \"assistant\":\n",
    "        print(f\"Step {i}: App -> LLM:\\n\")\n",
    "    else:\n",
    "        print(f\"Step {i}: App <- LLM:\\n\")\n",
    "    print(f\"Role: {message['role']}\\nContent:\\n\\n{message['content']}\\n\\n\\n\")"
   ]
  },
  {
   "cell_type": "code",
   "execution_count": 47,
   "id": "966d030e-9050-4b31-b1f5-2585948d9869",
   "metadata": {},
   "outputs": [
    {
     "data": {
      "text/plain": [
       "[{'role': 'system',\n",
       "  'content': 'You run in a loop of Thought, Action, PAUSE, Observation.\\nAt the end of the loop you output an Answer\\nUse Thought to describe your thoughts about the question you have been asked.\\nUse Action to run through one of the actions available to you - then return PAUSE.\\nObservation will be the result of running those actions.\\n\\nYour available actions, or tools, are:\\n\\nget_deployment_provision_status:\\ne.g. get_deployment_provision_status(guid)\\nreturns the status of a cloud deployment such as a virtual machine when gived a guid (globally unique identifier)\\n\\nlog_deployment_error_status:\\ne.g log_deployment_error_status(status)\\nWhen a guid has a provision_status ERROR call this with the return value of get_deployment_provision_status\\n\\nlog_deployment_status\\ne.g log_deployment_status(status)\\nWhen a guid does not have an ERROR status call this with the return value of get_deployment_provision_status\\n\\nExample session:\\n\\nQuestion: What is the staus of cloud deployment with guid <guid>\\nThought: I should look up the status with get_deployment_provision_status \\nAction: get_deployment_provision_status: guid \\nPAUSE:\\n\\nYou will be called again with this:\\n\\nObservation: Guid status \"SUCCESS: Completed\"\\n\\nYou then call any necessary logging tools before outputing the status:\\n\\nAnswer: Guid status \"SUCCESS: Completed\"'}]"
      ]
     },
     "execution_count": 47,
     "metadata": {},
     "output_type": "execute_result"
    }
   ],
   "source": [
    "abot = Agent(prompt)\n",
    "abot.messages"
   ]
  },
  {
   "cell_type": "code",
   "execution_count": 48,
   "id": "73d1a91f-48cf-4440-ba51-77b17316637a",
   "metadata": {
    "scrolled": true
   },
   "outputs": [
    {
     "data": {
      "text/html": [
       "<pre style=\"white-space:pre;overflow-x:auto;line-height:normal;font-family:Menlo,'DejaVu Sans Mono',consolas,'Courier New',monospace\">Step <span style=\"color: #008080; text-decoration-color: #008080; font-weight: bold\">0</span>: App -&gt; LLM:\n",
       "\n",
       "</pre>\n"
      ],
      "text/plain": [
       "Step \u001b[1;36m0\u001b[0m: App -> LLM:\n",
       "\n"
      ]
     },
     "metadata": {},
     "output_type": "display_data"
    },
    {
     "data": {
      "text/html": [
       "<pre style=\"white-space:pre;overflow-x:auto;line-height:normal;font-family:Menlo,'DejaVu Sans Mono',consolas,'Courier New',monospace\">Role: system\n",
       "Content:\n",
       "\n",
       "You run in a loop of Thought, Action, PAUSE, Observation.\n",
       "At the end of the loop you output an Answer\n",
       "Use Thought to describe your thoughts about the question you have been asked.\n",
       "Use Action to run through one of the actions available to you - then return PAUSE.\n",
       "Observation will be the result of running those actions.\n",
       "\n",
       "Your available actions, or tools, are:\n",
       "\n",
       "get_deployment_provision_status:\n",
       "e.g. <span style=\"color: #800080; text-decoration-color: #800080; font-weight: bold\">get_deployment_provision_status</span><span style=\"font-weight: bold\">(</span>guid<span style=\"font-weight: bold\">)</span>\n",
       "returns the status of a cloud deployment such as a virtual machine when gived a guid <span style=\"font-weight: bold\">(</span>globally unique identifier<span style=\"font-weight: bold\">)</span>\n",
       "\n",
       "log_deployment_error_status:\n",
       "e.g <span style=\"color: #800080; text-decoration-color: #800080; font-weight: bold\">log_deployment_error_status</span><span style=\"font-weight: bold\">(</span>status<span style=\"font-weight: bold\">)</span>\n",
       "When a guid has a provision_status ERROR call this with the return value of get_deployment_provision_status\n",
       "\n",
       "log_deployment_status\n",
       "e.g <span style=\"color: #800080; text-decoration-color: #800080; font-weight: bold\">log_deployment_status</span><span style=\"font-weight: bold\">(</span>status<span style=\"font-weight: bold\">)</span>\n",
       "When a guid does not have an ERROR status call this with the return value of get_deployment_provision_status\n",
       "\n",
       "Example session:\n",
       "\n",
       "Question: What is the staus of cloud deployment with guid <span style=\"font-weight: bold\">&lt;</span><span style=\"color: #ff00ff; text-decoration-color: #ff00ff; font-weight: bold\">guid</span><span style=\"font-weight: bold\">&gt;</span>\n",
       "Thought: I should look up the status with get_deployment_provision_status \n",
       "Action: get_deployment_provision_status: guid \n",
       "PAUSE:\n",
       "\n",
       "You will be called again with this:\n",
       "\n",
       "Observation: Guid status <span style=\"color: #008000; text-decoration-color: #008000\">\"SUCCESS: Completed\"</span>\n",
       "\n",
       "You then call any necessary logging tools before outputing the status:\n",
       "\n",
       "Answer: Guid status <span style=\"color: #008000; text-decoration-color: #008000\">\"SUCCESS: Completed\"</span>\n",
       "\n",
       "\n",
       "\n",
       "</pre>\n"
      ],
      "text/plain": [
       "Role: system\n",
       "Content:\n",
       "\n",
       "You run in a loop of Thought, Action, PAUSE, Observation.\n",
       "At the end of the loop you output an Answer\n",
       "Use Thought to describe your thoughts about the question you have been asked.\n",
       "Use Action to run through one of the actions available to you - then return PAUSE.\n",
       "Observation will be the result of running those actions.\n",
       "\n",
       "Your available actions, or tools, are:\n",
       "\n",
       "get_deployment_provision_status:\n",
       "e.g. \u001b[1;35mget_deployment_provision_status\u001b[0m\u001b[1m(\u001b[0mguid\u001b[1m)\u001b[0m\n",
       "returns the status of a cloud deployment such as a virtual machine when gived a guid \u001b[1m(\u001b[0mglobally unique identifier\u001b[1m)\u001b[0m\n",
       "\n",
       "log_deployment_error_status:\n",
       "e.g \u001b[1;35mlog_deployment_error_status\u001b[0m\u001b[1m(\u001b[0mstatus\u001b[1m)\u001b[0m\n",
       "When a guid has a provision_status ERROR call this with the return value of get_deployment_provision_status\n",
       "\n",
       "log_deployment_status\n",
       "e.g \u001b[1;35mlog_deployment_status\u001b[0m\u001b[1m(\u001b[0mstatus\u001b[1m)\u001b[0m\n",
       "When a guid does not have an ERROR status call this with the return value of get_deployment_provision_status\n",
       "\n",
       "Example session:\n",
       "\n",
       "Question: What is the staus of cloud deployment with guid \u001b[1m<\u001b[0m\u001b[1;95mguid\u001b[0m\u001b[1m>\u001b[0m\n",
       "Thought: I should look up the status with get_deployment_provision_status \n",
       "Action: get_deployment_provision_status: guid \n",
       "PAUSE:\n",
       "\n",
       "You will be called again with this:\n",
       "\n",
       "Observation: Guid status \u001b[32m\"SUCCESS: Completed\"\u001b[0m\n",
       "\n",
       "You then call any necessary logging tools before outputing the status:\n",
       "\n",
       "Answer: Guid status \u001b[32m\"SUCCESS: Completed\"\u001b[0m\n",
       "\n",
       "\n",
       "\n"
      ]
     },
     "metadata": {},
     "output_type": "display_data"
    }
   ],
   "source": [
    "for i, message in  enumerate(abot.messages):\n",
    "    if message[\"role\"] != \"assistant\":\n",
    "        print(f\"Step {i}: App -> LLM:\\n\")\n",
    "    else:\n",
    "        print(f\"Step {i}: App <- LLM:\\n\")\n",
    "    print(f\"Role: {message['role']}\\nContent:\\n\\n{message['content']}\\n\\n\\n\")"
   ]
  },
  {
   "cell_type": "markdown",
   "id": "57606abf-1465-4c3d-a8fa-787d64da0826",
   "metadata": {},
   "source": [
    "# So far a bit to much \"Human in the Loop\"\n",
    "\n",
    "Let's automate all this"
   ]
  },
  {
   "cell_type": "code",
   "execution_count": 49,
   "id": "d6a22524-fb84-4803-a9e3-c9504378d42b",
   "metadata": {},
   "outputs": [],
   "source": [
    "action_re = re.compile(r\"^Action: (\\w+): (.*)$\")\n",
    "\n",
    "\n",
    "def query(question, max_turns=5):\n",
    "    i = 0\n",
    "    bot = Agent(prompt)\n",
    "    next_prompt = question\n",
    "    print(\"Step 0\")\n",
    "    while i < max_turns:\n",
    "        i += 1\n",
    "        result = bot(next_prompt)\n",
    "        print(result)\n",
    "        actions = [\n",
    "            action_re.match(a)\n",
    "            for a in result.split('\\n')\n",
    "            if action_re.match(a)\n",
    "        ]\n",
    "        if actions:\n",
    "            print(f\"\\nStep {i}\")\n",
    "            # print(f\"Actions:\\n\\n{actions}\")\n",
    "            action, action_inputs = actions[0].groups()\n",
    "            if action not in known_actions:\n",
    "                raise Exception(f\"Unknown action: {action}: -- running {action} {action_inputs}\")\n",
    "            observation = known_actions[action](action_inputs)\n",
    "            print(f\"Observation: {observation}\")\n",
    "            next_prompt = f\"Observation: {observation}\"\n",
    "        else:\n",
    "            return\n",
    "        "
   ]
  },
  {
   "cell_type": "code",
   "execution_count": null,
   "id": "98d9646e-eea8-41bb-a2ea-fad299ffebff",
   "metadata": {
    "scrolled": true
   },
   "outputs": [],
   "source": [
    "question = \"\"\"\n",
    "I have a deployments running with guid: 1adr4 what is its status and log via the correct tool\n",
    "\"\"\"\n",
    "\n",
    "query(question)"
   ]
  },
  {
   "cell_type": "code",
   "execution_count": null,
   "id": "6bb3bd2e-d259-4351-a7a0-4a57c2cbd5e8",
   "metadata": {},
   "outputs": [
    {
     "data": {
      "text/html": [
       "<pre style=\"white-space:pre;overflow-x:auto;line-height:normal;font-family:Menlo,'DejaVu Sans Mono',consolas,'Courier New',monospace\">Step <span style=\"color: #008080; text-decoration-color: #008080; font-weight: bold\">0</span>\n",
       "</pre>\n"
      ],
      "text/plain": [
       "Step \u001b[1;36m0\u001b[0m\n"
      ]
     },
     "metadata": {},
     "output_type": "display_data"
    }
   ],
   "source": [
    "\n",
    "question = \"\"\"\n",
    "I have deployments running with guids: 1adr4, aabf5, 45663, and 45ghb\n",
    "First get each provision status and log to any services that need to know\n",
    "Once finished with all deployments output their guids, status, and logging services:\n",
    "\n",
    "* In a simple table\n",
    "* As JSON \n",
    "\"\"\"\n",
    "\n",
    "# question = \"\"\"\n",
    "# I have deployments running with guids: 1adr4, aabf5, 45663, and 45ghb\n",
    "# For each\n",
    "# * determine each provision status \n",
    "# * log to the correct logging service\n",
    "# * Output your actions\n",
    "\n",
    "# Once finished with all deployments output their guids, status, and logging services:\n",
    "\n",
    "# * In a simple table\n",
    "# * As JSON \n",
    "# \"\"\"\n",
    "\n",
    "query(question, max_turns=10)"
   ]
  },
  {
   "cell_type": "code",
   "execution_count": null,
   "id": "e9f202e6-e0e8-4e2a-bb4c-e4a655b9bc8d",
   "metadata": {},
   "outputs": [],
   "source": []
  }
 ],
 "metadata": {
  "kernelspec": {
   "display_name": "Python 3 (ipykernel)",
   "language": "python",
   "name": "python3"
  },
  "language_info": {
   "codemirror_mode": {
    "name": "ipython",
    "version": 3
   },
   "file_extension": ".py",
   "mimetype": "text/x-python",
   "name": "python",
   "nbconvert_exporter": "python",
   "pygments_lexer": "ipython3",
   "version": "3.12.10"
  }
 },
 "nbformat": 4,
 "nbformat_minor": 5
}
