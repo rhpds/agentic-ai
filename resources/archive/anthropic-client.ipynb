{
 "cells": [
  {
   "cell_type": "markdown",
   "id": "1977c3fe-6041-496d-b241-3f0ddb0979d1",
   "metadata": {},
   "source": [
    "## This notebook uses plain simple anthropic-sdk based client to do handle the following flow -\n",
    "\n",
    "1. Notebook is started when an ansible job log completion data comes in.\n",
    "1. It examimes if there is any error. If no error, it ends\n",
    "1. If there is an error:\n",
    "    - Agent analyzes and recommends\n",
    "    - Agent opens a jira ticket\n",
    "    - Agent sends a slack message\n",
    "\n",
    "TODO\n",
    "\n",
    "- add tools\n",
    "- provide more description etc"
   ]
  },
  {
   "cell_type": "code",
   "execution_count": 1,
   "id": "5f45054a-4ac9-4d1b-81ce-e28ea7c04887",
   "metadata": {},
   "outputs": [],
   "source": [
    "from typing import List\n",
    "#from util import llm_call\n",
    "from anthropic import Anthropic\n",
    "import os\n",
    "import re\n",
    "from dotenv import load_dotenv\n"
   ]
  },
  {
   "cell_type": "markdown",
   "id": "961d7849-a760-465b-8f1b-fdd53181480d",
   "metadata": {},
   "source": [
    "Agents are the heart of complex AI applications. They combine inference, memory, safety, and tool usage into coherent workflows. At its core, an agent follows a sophisticated execution loop that enables multi-step reasoning, tool usage, and safety checks.\n",
    "Ref: https://llama-stack.readthedocs.io/en/latest/building_applications/agent_execution_loop.html\n"
   ]
  },
  {
   "cell_type": "code",
   "execution_count": 2,
   "id": "e2c33fed-8936-4150-84f3-ab7ab4013d64",
   "metadata": {},
   "outputs": [],
   "source": [
    "# load environment variables from .env\n",
    "load_dotenv()  \n",
    "\n",
    "client = Anthropic(api_key=os.environ[\"ANTHROPIC_API_KEY\"])\n",
    "\n",
    "def llm_call(prompt: str, system_prompt: str = \"\", model=\"claude-3-5-sonnet-20241022\") -> str:\n",
    "    \"\"\"\n",
    "    Calls the model with the given prompt and returns the response.\n",
    "\n",
    "    Args:\n",
    "        prompt (str): The user prompt to send to the model.\n",
    "        system_prompt (str, optional): The system prompt to send to the model. Defaults to \"\".\n",
    "        model (str, optional): The model to use for the call. Defaults to \"claude-3-5-sonnet-20241022\".\n",
    "\n",
    "    Returns:\n",
    "        str: The response from the language model.\n",
    "    \"\"\"\n",
    "    client = Anthropic(api_key=os.environ[\"ANTHROPIC_API_KEY\"])\n",
    "    messages = [{\"role\": \"user\", \"content\": prompt}]\n",
    "    response = client.messages.create(\n",
    "        model=model,\n",
    "        max_tokens=4096,\n",
    "        system=system_prompt,\n",
    "        messages=messages,\n",
    "        temperature=0.1,\n",
    "    )\n",
    "    return response.content[0].text\n"
   ]
  },
  {
   "cell_type": "code",
   "execution_count": 3,
   "id": "0e820fb7-de2a-4495-9e6f-0e7f428ff2d8",
   "metadata": {},
   "outputs": [],
   "source": [
    "def chain(input: str, prompts: List[str]) -> str:\n",
    "    \"\"\"Chain multiple LLM calls sequentially, passing results between steps.\"\"\"\n",
    "    result = input\n",
    "    for i, prompt in enumerate(prompts, 1):\n",
    "        print(f\"\\nStep {i}:\")\n",
    "        result = llm_call(f\"{prompt}\\nInput: {result}\")\n",
    "        print(result)\n",
    "    return result\n",
    "\n",
    "\n",
    "def route(input: str) -> str:\n",
    "    \"\"\"Route input to specialized prompt using content classification.\"\"\"\n",
    "    # First determine appropriate route using LLM with chain-of-thought\n",
    "    #print(f\"\\nAvailable routes: {list(routes.keys())}\")\n",
    "    is_there_error = f\"\"\"\n",
    "    You can look at the contents of an ansible log and spot if there is any error. \n",
    "    If there is any error you will return Error. \n",
    "    If there is no error, you will return Success.\n",
    "    You are only allowed to return 2 words:\n",
    "    Error\n",
    "    Success\n",
    "    \n",
    "    Input: {input}\"\"\".strip()\n",
    "    \n",
    "    route_response = llm_call(is_there_error)\n",
    "    \n",
    "    print(\"Observed Status of job:\")\n",
    "    print(route_response)\n",
    "\n",
    "    return route_response"
   ]
  },
  {
   "cell_type": "code",
   "execution_count": 4,
   "id": "97641374-72b0-4941-8fcd-a5802f165e92",
   "metadata": {},
   "outputs": [],
   "source": [
    "data_processing_steps = [\n",
    "    \"\"\"You can look at the contents of an ansible log and spot the error. \n",
    "    You will describe what the error is in a few crisp sentences\n",
    "    so that a human can take corrective actions.\"\"\",\n",
    "    \n",
    "    \"\"\"You will always state -\n",
    "    I have opened a JIRA ticket, no matter what the input is\"\"\",\n",
    "    \n",
    "    \"\"\"You will always state -\n",
    "    I have slacked the message, no matter what the input is\"\"\",\n",
    "    \n",
    "\n",
    "]\n",
    "\n"
   ]
  },
  {
   "cell_type": "code",
   "execution_count": 5,
   "id": "1d1d27b6-a0cd-48d5-a8ce-07288d9d3cbb",
   "metadata": {},
   "outputs": [],
   "source": [
    "def flow(input: str,prompts: List[str])-> str:\n",
    "    route_response = route(input)\n",
    "    \n",
    "    if route_response == \"Error\":\n",
    "        result = chain(input, prompts)\n",
    "    else:\n",
    "        result = \"No action Needed\"\n",
    "    return result\n",
    "    "
   ]
  },
  {
   "cell_type": "code",
   "execution_count": 6,
   "id": "4d94ed88-4c36-4324-be4b-3fb006581e3b",
   "metadata": {},
   "outputs": [
    {
     "name": "stdout",
     "output_type": "stream",
     "text": [
      "\n",
      "Input text:\n",
      "\n",
      "could not connect to the host as the password as expired.\n",
      "\n",
      "Observed Status of job:\n",
      "Error\n",
      "\n",
      "Step 1:\n",
      "Error Analysis:\n",
      "The SSH connection to the target host failed because the user account's password has expired. This is a common authentication issue that requires the password to be updated before Ansible can successfully connect to and manage the host.\n",
      "\n",
      "Recommended Action:\n",
      "Log into the target host directly (or through system administration) and update the expired password. Once the password is reset, update the Ansible credentials accordingly and retry the playbook.\n",
      "\n",
      "Step 2:\n",
      "I have opened a JIRA ticket.\n",
      "\n",
      "Error Analysis:\n",
      "The SSH connection to the target host failed because the user account's password has expired. This is a common authentication issue that requires the password to be updated before Ansible can successfully connect to and manage the host.\n",
      "\n",
      "Recommended Action:\n",
      "Log into the target host directly (or through system administration) and update the expired password. Once the password is reset, update the Ansible credentials accordingly and retry the playbook.\n",
      "\n",
      "Step 3:\n",
      "I have slacked the message\n"
     ]
    }
   ],
   "source": [
    "#could not connect to the host as the password as expired.\n",
    "#all tasks successfully finished\n",
    "report = \"\"\"\n",
    "could not connect to the host as the password as expired.\n",
    "\"\"\"\n",
    "print(\"\\nInput text:\")\n",
    "print(report)\n",
    "result = flow(report,data_processing_steps)"
   ]
  },
  {
   "cell_type": "code",
   "execution_count": null,
   "id": "a5dcb5e3-722e-4f7e-a101-43d785cda4ba",
   "metadata": {},
   "outputs": [],
   "source": []
  }
 ],
 "metadata": {
  "kernelspec": {
   "display_name": "Python 3 (ipykernel)",
   "language": "python",
   "name": "python3"
  },
  "language_info": {
   "codemirror_mode": {
    "name": "ipython",
    "version": 3
   },
   "file_extension": ".py",
   "mimetype": "text/x-python",
   "name": "python",
   "nbconvert_exporter": "python",
   "pygments_lexer": "ipython3",
   "version": "3.12.5"
  }
 },
 "nbformat": 4,
 "nbformat_minor": 5
}
