{
 "cells": [
  {
   "cell_type": "markdown",
   "id": "e8987006-614e-41b7-9c2f-aa6359e8e231",
   "metadata": {},
   "source": [
    "# Talk to your App\n",
    "\n",
    "In majority of the examples, LLM Usage is shown as a chat-bot or personal assistant. \n",
    "\n",
    "A more powerful usage of Agentic-AI are when they interact with the system in the background and enrich it or take autonomous actions. This is conceptually similar to streaming analytics - with analytics being processed by Agents powered by LLMs.\n",
    "\n",
    "You will see that for chat-bot type usage - if the AI infrastructure is down, things still work.\n",
    "However for the Agents in backend - if the AI system is down, then the system will suffer some down time.\n",
    "\n",
    "_Each module is typically dependent on the prior modules having been completed successfully_"
   ]
  },
  {
   "cell_type": "code",
   "execution_count": 17,
   "id": "a049faf1-8a5c-4b36-a85c-7f7627635c4e",
   "metadata": {},
   "outputs": [
    {
     "data": {
      "text/html": [
       "<pre style=\"white-space:pre;overflow-x:auto;line-height:normal;font-family:Menlo,'DejaVu Sans Mono',consolas,'Courier New',monospace\"><span style=\"color: #008000; text-decoration-color: #008000\"> Model setup</span>\n",
       "</pre>\n"
      ],
      "text/plain": [
       "\u001b[32m Model setup\u001b[0m\n"
      ]
     },
     "metadata": {},
     "output_type": "display_data"
    }
   ],
   "source": [
    "import openai\n",
    "import re\n",
    "import httpx\n",
    "import os\n",
    "import rich\n",
    "import json\n",
    "from openai import OpenAI\n",
    "from agents import Agent, ModelSettings, function_tool,Runner,AsyncOpenAI,OpenAIChatCompletionsModel\n",
    "from dotenv import load_dotenv, find_dotenv\n",
    "from rich.pretty import pprint\n",
    "from rich import print\n",
    "\n",
    "api_key = \"dummy_key\"\n",
    "os.environ[\"OPENAI_API_KEY\"] = api_key\n",
    "\n",
    "model = \"llama3.2:3b-instruct-fp16\" \n",
    "base_url = \"http://localhost:11434/v1/\"\n",
    "\n",
    "model = OpenAIChatCompletionsModel( \n",
    "    model=model,\n",
    "    openai_client=AsyncOpenAI(base_url=\"http://localhost:11434/v1\",api_key = api_key),\n",
    ")\n",
    "\n",
    "print(\"[green] Model setup[/green]\")"
   ]
  },
  {
   "cell_type": "markdown",
   "id": "7af63f69-2d06-40f9-9fa5-cc490cf11768",
   "metadata": {},
   "source": [
    "## Automated Error Handling\n",
    "\n",
    "1.The process is started when an ansible job log completion data comes in. (as of now, we simulate this as a user input)\n",
    "1. It examimes if there is any error. If no error, it ends\n",
    "1. If there is an error:\n",
    "    - Agent analyzes and recommends\n",
    "    - Agent opens a jira ticket\n",
    "    - Agent sends a slack message\n",
    "\n",
    "![Workflow](resources/images/agent_log_workflow.png)"
   ]
  },
  {
   "cell_type": "code",
   "execution_count": 18,
   "id": "3f956699-6763-4872-a4c5-8fe453c8165b",
   "metadata": {},
   "outputs": [],
   "source": [
    "from dataclasses import dataclass\n",
    "from typing import Literal\n",
    "\n",
    "from agents import Agent, ItemHelpers, Runner, TResponseInputItem, trace\n",
    "\n",
    "\n",
    "@dataclass\n",
    "class Advisor:\n",
    "    body: str\n",
    "\n",
    "@dataclass\n",
    "class Slacker:\n",
    "    body: str\n",
    "\n",
    "@dataclass\n",
    "class JIRAer:\n",
    "    body: str\n",
    "\n",
    "\n",
    "advisor_agent = Agent(\n",
    "    name=\"advisor_agent\",\n",
    "    instructions=\"You can look at the contents of an ansible log and spot the error. You will describe what the error is in a few crisp sentences so that a human can take corrective actions.\",\n",
    "    model = model,\n",
    "    output_type=Advisor,\n",
    ")\n",
    "\n",
    "slack_agent = Agent(\n",
    "    name=\"slack_agent\",\n",
    "    instructions=\"If there is an error captured in the input, you will always state - I have slacked the message. Also add the contents that in the provided input. Give a made up slack link. If there is no error, then just say - All is well, there is nothing to be done.\",\n",
    "    model = model,\n",
    "    output_type=Slacker,\n",
    ")\n",
    "\n",
    "jira_agent = Agent(\n",
    "    name=\"jira_agent\",\n",
    "    instructions=\"If there is an error captured in the input, you will always state - I have opened a JIRA ticket. Also add the contents that in the provided input. Give a made up JIRA Handle. If there is no error, then just say - All is well, there is nothing to be done.\",\n",
    "    model = model,\n",
    "    output_type=JIRAer,\n",
    ")\n",
    "\n"
   ]
  },
  {
   "cell_type": "code",
   "execution_count": 19,
   "id": "f07d1120-a9f5-4727-aaff-e2865f2a85d6",
   "metadata": {},
   "outputs": [
    {
     "data": {
      "text/html": [
       "<pre style=\"white-space:pre;overflow-x:auto;line-height:normal;font-family:Menlo,'DejaVu Sans Mono',consolas,'Courier New',monospace\">----------Advisor Output----------\n",
       "</pre>\n"
      ],
      "text/plain": [
       "----------Advisor Output----------\n"
      ]
     },
     "metadata": {},
     "output_type": "display_data"
    },
    {
     "data": {
      "text/html": [
       "<pre style=\"white-space:pre;overflow-x:auto;line-height:normal;font-family:Menlo,'DejaVu Sans Mono',consolas,'Courier New',monospace\">Password expired for connection, please update password: <span style=\"font-weight: bold\">&lt;</span><span style=\"color: #ff00ff; text-decoration-color: #ff00ff; font-weight: bold\">ip</span><span style=\"color: #000000; text-decoration-color: #000000\"> address</span><span style=\"font-weight: bold\">&gt;</span> <span style=\"font-weight: bold\">(</span><span style=\"color: #008080; text-decoration-color: #008080; font-weight: bold\">14</span> seconds ago<span style=\"font-weight: bold\">)</span> <span style=\"font-weight: bold\">{</span><span style=\"color: #008000; text-decoration-color: #008000\">\"date\"</span>: <span style=\"color: #008000; text-decoration-color: #008000\">\"Sun Feb 12 </span>\n",
       "<span style=\"color: #008000; text-decoration-color: #008000\">15:02:05 2023\"</span>,<span style=\"color: #008000; text-decoration-color: #008000\">\"msg\"</span>: <span style=\"color: #008000; text-decoration-color: #008000\">\"Connection timed out\"</span><span style=\"font-weight: bold\">}}}</span>\n",
       "</pre>\n"
      ],
      "text/plain": [
       "Password expired for connection, please update password: \u001b[1m<\u001b[0m\u001b[1;95mip\u001b[0m\u001b[39m address\u001b[0m\u001b[1m>\u001b[0m \u001b[1m(\u001b[0m\u001b[1;36m14\u001b[0m seconds ago\u001b[1m)\u001b[0m \u001b[1m{\u001b[0m\u001b[32m\"date\"\u001b[0m: \u001b[32m\"Sun Feb 12 \u001b[0m\n",
       "\u001b[32m15:02:05 2023\"\u001b[0m,\u001b[32m\"msg\"\u001b[0m: \u001b[32m\"Connection timed out\"\u001b[0m\u001b[1m}\u001b[0m\u001b[1m}\u001b[0m\u001b[1m}\u001b[0m\n"
      ]
     },
     "metadata": {},
     "output_type": "display_data"
    },
    {
     "data": {
      "text/html": [
       "<pre style=\"white-space:pre;overflow-x:auto;line-height:normal;font-family:Menlo,'DejaVu Sans Mono',consolas,'Courier New',monospace\">----------JIRA Output----------\n",
       "</pre>\n"
      ],
      "text/plain": [
       "----------JIRA Output----------\n"
      ]
     },
     "metadata": {},
     "output_type": "display_data"
    },
    {
     "data": {
      "text/html": [
       "<pre style=\"white-space:pre;overflow-x:auto;line-height:normal;font-family:Menlo,'DejaVu Sans Mono',consolas,'Courier New',monospace\"><span style=\"font-weight: bold\">&lt;</span><span style=\"color: #ff00ff; text-decoration-color: #ff00ff; font-weight: bold\">username</span><span style=\"font-weight: bold\">&gt;</span>: IP address <span style=\"color: #008080; text-decoration-color: #008080; font-weight: bold\">14</span> seconds ago <span style=\"font-weight: bold\">{</span>\n",
       "</pre>\n"
      ],
      "text/plain": [
       "\u001b[1m<\u001b[0m\u001b[1;95musername\u001b[0m\u001b[1m>\u001b[0m: IP address \u001b[1;36m14\u001b[0m seconds ago \u001b[1m{\u001b[0m\n"
      ]
     },
     "metadata": {},
     "output_type": "display_data"
    },
    {
     "data": {
      "text/html": [
       "<pre style=\"white-space:pre;overflow-x:auto;line-height:normal;font-family:Menlo,'DejaVu Sans Mono',consolas,'Courier New',monospace\">----------Slack Output----------\n",
       "</pre>\n"
      ],
      "text/plain": [
       "----------Slack Output----------\n"
      ]
     },
     "metadata": {},
     "output_type": "display_data"
    },
    {
     "data": {
      "text/html": [
       "<pre style=\"white-space:pre;overflow-x:auto;line-height:normal;font-family:Menlo,'DejaVu Sans Mono',consolas,'Courier New',monospace\"><span style=\"font-weight: bold\">&lt;</span><span style=\"color: #ff00ff; text-decoration-color: #ff00ff; font-weight: bold\">I</span><span style=\"color: #000000; text-decoration-color: #000000\"> have slacked the message&gt;</span>\n",
       "\n",
       "<span style=\"color: #000000; text-decoration-color: #000000\">Content:</span>\n",
       "<span style=\"color: #000000; text-decoration-color: #000000\">&lt;</span><span style=\"color: #008080; text-decoration-color: #008080; font-weight: bold\">14</span><span style=\"color: #000000; text-decoration-color: #000000\"> seconds ago&gt; &lt;ip address&gt;: Password expired for connection, please update password:</span>\n",
       "\n",
       "<span style=\"color: #000000; text-decoration-color: #000000\">&lt;</span><span style=\"color: #000000; text-decoration-color: #000000; font-weight: bold\">{</span>\n",
       "<span style=\"color: #000000; text-decoration-color: #000000\">  </span><span style=\"color: #008000; text-decoration-color: #008000\">\"date\"</span><span style=\"color: #000000; text-decoration-color: #000000\">: </span><span style=\"color: #008000; text-decoration-color: #008000\">\"Sun Feb 12 15:02:05 2023\"</span><span style=\"color: #000000; text-decoration-color: #000000\">,</span>\n",
       "<span style=\"color: #000000; text-decoration-color: #000000\">  </span><span style=\"color: #008000; text-decoration-color: #008000\">\"msg\"</span><span style=\"color: #000000; text-decoration-color: #000000\">: </span><span style=\"color: #008000; text-decoration-color: #008000\">\"Connection timed out\"</span>\n",
       "<span style=\"color: #000000; text-decoration-color: #000000; font-weight: bold\">}</span>\n",
       "<span style=\"font-weight: bold\">&gt;</span> \n",
       "\n",
       "Made up Slack link: <span style=\"color: #0000ff; text-decoration-color: #0000ff; text-decoration: underline\">https://example.slack.com/connections/expired</span>\n",
       "</pre>\n"
      ],
      "text/plain": [
       "\u001b[1m<\u001b[0m\u001b[1;95mI\u001b[0m\u001b[39m have slacked the message>\u001b[0m\n",
       "\n",
       "\u001b[39mContent:\u001b[0m\n",
       "\u001b[39m<\u001b[0m\u001b[1;36m14\u001b[0m\u001b[39m seconds ago> <ip address>: Password expired for connection, please update password:\u001b[0m\n",
       "\n",
       "\u001b[39m<\u001b[0m\u001b[1;39m{\u001b[0m\n",
       "\u001b[39m  \u001b[0m\u001b[32m\"date\"\u001b[0m\u001b[39m: \u001b[0m\u001b[32m\"Sun Feb 12 15:02:05 2023\"\u001b[0m\u001b[39m,\u001b[0m\n",
       "\u001b[39m  \u001b[0m\u001b[32m\"msg\"\u001b[0m\u001b[39m: \u001b[0m\u001b[32m\"Connection timed out\"\u001b[0m\n",
       "\u001b[1;39m}\u001b[0m\n",
       "\u001b[1m>\u001b[0m \n",
       "\n",
       "Made up Slack link: \u001b[4;94mhttps://example.slack.com/connections/expired\u001b[0m\n"
      ]
     },
     "metadata": {},
     "output_type": "display_data"
    }
   ],
   "source": [
    "#msg = \"all tasks successfully finished\"\n",
    "msg = \"could not connect to the host as the password as expired. \"\n",
    "inputs = [{\"content\": msg, \"role\": \"user\"}]\n",
    "\n",
    "#with trace(\"Router\"):\n",
    "#    story_outline_result = await Runner.run(advisor_agent,inputs)\n",
    "#    #uncomment this to see the details\n",
    "#    pprint(story_outline_result)\n",
    "#    print(\"--------------------------\")\n",
    "#    print(story_outline_result.final_output)\n",
    "\n",
    "with trace(\"Workflow\"):\n",
    "    print(\"----------Advisor Output----------\")\n",
    "    advisor_result = await Runner.run(advisor_agent,inputs)\n",
    "    print(advisor_result.final_output.body)\n",
    "    advisor_output: Advisor = advisor_result.final_output\n",
    "    \n",
    "    print(\"----------JIRA Output----------\")\n",
    "    jira_result = await Runner.run(jira_agent,advisor_output.body)\n",
    "    print(jira_result.final_output.body)\n",
    "    \n",
    "    print(\"----------Slack Output----------\")\n",
    "    slack_result = await Runner.run(slack_agent,advisor_output.body)\n",
    "    print(slack_result.final_output.body)"
   ]
  },
  {
   "cell_type": "markdown",
   "id": "21b9ab57-7246-4c17-a9c1-2ccc9a7cc487",
   "metadata": {},
   "source": [
    "# Human-in-the-Loop\n",
    "But LLMs hallucinate!\n",
    "\n",
    "Yes, LLMs, just like traditional AI and human beings may not always give the right answer. To handle those kind of possible mistakes, we have processes in place.\n",
    "\n",
    "In the above example, we are seamlessly blending human-in-the-loop when we open a JIRA ticket or Slack a message. Even if the contents of these are not entirely accurate, we do not lose much because a person can check and correct if needed. \n",
    "\n",
    "In distributed systems, there are lots of similar examples - which has been around us for a long time - to take care of possible errors: for example those which arise out of CAP Theorem related inconsistencies. \n"
   ]
  },
  {
   "cell_type": "markdown",
   "id": "39fc062f-d913-4042-b4a3-2f0d6d075d55",
   "metadata": {},
   "source": [
    "## Extend the Debugging Agent capabilities to make it robust\n",
    "We shared in 05-agents.ipynb a debugger agent. Let us make it more robust. What happens if the answer given by the debugger has obvious gaps or hallucinates. Can we get another agent to review it and fix it? Let us see."
   ]
  },
  {
   "cell_type": "markdown",
   "id": "ae0c6be0-9da0-4219-92b6-caa5d6744d62",
   "metadata": {},
   "source": [
    "### This is a clone of the last lesson"
   ]
  },
  {
   "cell_type": "code",
   "execution_count": 21,
   "id": "780c5079-3470-4334-a74c-ec332bc4c35a",
   "metadata": {},
   "outputs": [],
   "source": [
    "@function_tool\n",
    "def get_dependency(service:str) ->list[str]:\n",
    "    dep_service=[\"ProductCatalogService\",\"CheckoutService\",\"UserProfileService\"] \n",
    "    return dep_service\n",
    "\n",
    "did_agent = Agent(\n",
    "    name=\"DependencyIdentifier Agent\",\n",
    "    instructions=(\n",
    "        \"An incident will be passed on.\\n\"\n",
    "        \"From that, firstly identify the affected service name only.\\n\"\n",
    "        \"Next, identify what are the service dependencies for that service.\\n\"\n",
    "        \"Just return all service names in a comma separated format like a python list[str]. Also include the affected service.\\n\"\n",
    "        \"And nothing else\"\n",
    "    ),\n",
    "    model=model,\n",
    "    tools=[get_dependency],\n",
    ")\n",
    "\n",
    "@function_tool\n",
    "def get_changelog(service:list) ->list[str]:\n",
    "    change_log=[\"ProductCatalogService changed\",\"CheckoutService changed\"]\n",
    "    return change_log\n",
    "\n",
    "change_agent = Agent(\n",
    "    name=\"ChangeLog Agent\",\n",
    "    instructions=(\n",
    "        \"An array of service names will be passed on.\\n\"\n",
    "        \"Identify what has changed with these services and return them.\\n\"\n",
    "        \"Just return all changes in a comma separated format like a python list[str].\\n\"\n",
    "        \"Do not return duplicate changes\"\n",
    "    ),\n",
    "    model= model,\n",
    "    tools=[get_changelog],\n",
    ")\n",
    "\n",
    "@function_tool\n",
    "def get_errorlog(service:list) ->list[str]:\n",
    "    error_log=[\"ProductCatalogService is responding slowly\"]\n",
    "    return error_log\n",
    "\n",
    "error_agent = Agent(\n",
    "    name=\"Error Log Agent\",\n",
    "    instructions=(\n",
    "        \"An array of service names will be passed on. \\n\"\n",
    "        \"Note that all services may not have error messages and it is unlikely that same message appear in logs of all services. \\n\"\n",
    "        \"The error messages will have service names in the messages. \\n\"\n",
    "        \"Identify the error messages in the logs if any and corresponding service name in which the error happens\"\n",
    "    ),\n",
    "    model=model,\n",
    "    tools=[get_errorlog],\n",
    ")\n",
    "\n",
    "debugger_agent = Agent(\n",
    "    name=\"Debugger Agent\",\n",
    "    instructions=(\n",
    "        \"You will be given:\\n\"\n",
    "        \"1. Incident details.\\n\"\n",
    "        \"2. Services that could have been root cause of the problem.\\n\"\n",
    "        \"3. Services that were changed in the time interval.\\n\"\n",
    "        \"4. Services that had errors in the logs.\\n\"\n",
    "        \"Based on the above, loigically think through and conclude the most likely reason for this problem. \\n\"\n",
    "        \"Please lay down your thought process clearly that led you to the conclusion. \"\n",
    "    ),\n",
    "    model= model\n",
    ")\n"
   ]
  },
  {
   "cell_type": "markdown",
   "id": "39afeaab-4a33-4a8a-8eb7-3f7e8caef050",
   "metadata": {},
   "source": [
    "### Now let us add a new agent\n",
    "We add a Verification Agent whose sole job is to audit each diagnosis before you act on it. In practice this agent will:\n",
    "\n",
    "- Read the incident summary, the list of services, and the debugger’s reasoning\n",
    "- Check for mismatches or missing facts (e.g., a service name dropped or an error overlooked)\n",
    "- Flag any inconsistencies or confirm “All clear”\n",
    "\n",
    "By doing so, we get an extra safety net that catches accidental oversights or AI hallucinations. "
   ]
  },
  {
   "cell_type": "code",
   "execution_count": 22,
   "id": "7c5a17b3-def9-4052-8a3c-347504bf644a",
   "metadata": {},
   "outputs": [],
   "source": [
    "verification_agent = Agent(\n",
    "    name=\"Verification Agent\",\n",
    "    instructions=(\n",
    "        \"You’ll be given four parts:\\n\"\n",
    "        \"1) The incident description\\n\"\n",
    "        \"2) A list of services\\n\"\n",
    "        \"3) The debugger agent’s full reasoning and conclusion\\n\\n\"\n",
    "        \"Check for any of these issues:\\n\"\n",
    "        \" • References to services not in the original list\\n\"\n",
    "        \" • Conclusions that contradict the provided errors/changes\\n\"\n",
    "        \" • Missing any service that clearly had errors or changes\\n\\n\"\n",
    "        \"If everything is consistent, reply “Consistent”. Otherwise, list the problems.\"\n",
    "    ),\n",
    "    model=model\n",
    ")\n"
   ]
  },
  {
   "cell_type": "markdown",
   "id": "fbb30817-5cd1-4dda-a44a-af1e9d87f397",
   "metadata": {},
   "source": [
    "### Notice the new section added under orchestrate\n",
    "Invokes the verification agent after debugger agent is done."
   ]
  },
  {
   "cell_type": "code",
   "execution_count": 23,
   "id": "ea7428cc-a2b1-47ef-80be-d07ff78512fc",
   "metadata": {},
   "outputs": [],
   "source": [
    "import asyncio\n",
    "async def orchestrate(input):\n",
    "    # Call the intermediate agents to gather the facts\n",
    "    # These all use tools heavily\n",
    "    dep_result = await Runner.run(did_agent,input)\n",
    "    change_result = await Runner.run(change_agent, dep_result.final_output)\n",
    "    error_result = await Runner.run(error_agent, dep_result.final_output)\n",
    "\n",
    "    services = dep_result.final_output               # e.g. [\"foo\",\"bar\",\"baz\"]\n",
    "    changes  = change_result.final_output             # e.g. [\"foo changed\",\"bar changed\"]\n",
    "    errors   = error_result.final_output              # e.g. [\"foo is responding slowly\"]\n",
    "\n",
    "    # Build a single prompt string:\n",
    "    message = (\n",
    "        \"Incident details: \" + input + \"\\n\"\n",
    "        \"Affected services: \" + services + \"\\n\"\n",
    "        \"Changes detected: \" + changes + \"\\n\"\n",
    "        \"Error logs: \" + errors + \"\\n\"\n",
    "        \"Based on the above, logically think through and conclude the most likely reason for this problem. \"\n",
    "        \"Please lay down your thought process clearly that led you to the conclusion.\"\n",
    "    )\n",
    "    print(\"\\n\")\n",
    "    print(\"Input to the Deubgger Agent: \")\n",
    "    print(\"-----------------------------\")\n",
    "    print(message)\n",
    "    print(\"\\n\")\n",
    "    # Invoke it:\n",
    "    debugger_result = await Runner.run(debugger_agent, message)\n",
    "    return debugger_result.final_output"
   ]
  },
  {
   "cell_type": "markdown",
   "id": "16cf764e-5645-4ac5-a316-ea79f5afb6ed",
   "metadata": {},
   "source": [
    "### Calling the orchestration function as in the past"
   ]
  },
  {
   "cell_type": "code",
   "execution_count": 24,
   "id": "59d897a5-098f-4ea4-8757-1bbe66a364df",
   "metadata": {},
   "outputs": [
    {
     "data": {
      "text/html": [
       "<pre style=\"white-space:pre;overflow-x:auto;line-height:normal;font-family:Menlo,'DejaVu Sans Mono',consolas,'Courier New',monospace\">\n",
       "\n",
       "</pre>\n"
      ],
      "text/plain": [
       "\n",
       "\n"
      ]
     },
     "metadata": {},
     "output_type": "display_data"
    },
    {
     "data": {
      "text/html": [
       "<pre style=\"white-space:pre;overflow-x:auto;line-height:normal;font-family:Menlo,'DejaVu Sans Mono',consolas,'Courier New',monospace\">Input to the Deubgger Agent: \n",
       "</pre>\n"
      ],
      "text/plain": [
       "Input to the Deubgger Agent: \n"
      ]
     },
     "metadata": {},
     "output_type": "display_data"
    },
    {
     "data": {
      "text/html": [
       "<pre style=\"white-space:pre;overflow-x:auto;line-height:normal;font-family:Menlo,'DejaVu Sans Mono',consolas,'Courier New',monospace\">-----------------------------\n",
       "</pre>\n"
      ],
      "text/plain": [
       "-----------------------------\n"
      ]
     },
     "metadata": {},
     "output_type": "display_data"
    },
    {
     "data": {
      "text/html": [
       "<pre style=\"white-space:pre;overflow-x:auto;line-height:normal;font-family:Menlo,'DejaVu Sans Mono',consolas,'Courier New',monospace\">Incident details: Incident: ShoppingCart response time has increased to <span style=\"color: #008080; text-decoration-color: #008080; font-weight: bold\">10</span> sec\n",
       "Affected services: Affected Service: ShoppingCart \n",
       "Dependencies: ProductCatalogService, CheckoutService, UserProfileService\n",
       "Changes detected: <span style=\"font-weight: bold\">{</span><span style=\"color: #008000; text-decoration-color: #008000\">\"name\"</span>:<span style=\"color: #008000; text-decoration-color: #008000\">\"get_changelog\"</span>,<span style=\"color: #008000; text-decoration-color: #008000\">\"parameters {\"</span>service\":<span style=\"font-weight: bold\">[</span><span style=\"color: #008000; text-decoration-color: #008000\">\"ShoppingCart\"</span><span style=\"font-weight: bold\">]}</span>\n",
       "Error logs: Based on the error log, it appears that the `ProductCatalogService` is not responding quickly enough.\n",
       "\n",
       "**Error Message:** ProductCatalogService is responding slowly\n",
       "**Affected Service:** ShoppingCart \n",
       "**Dependencies Affected:** ProductCatalogService \n",
       "\n",
       "The error message <span style=\"color: #008000; text-decoration-color: #008000\">\"ProductCatalogService is responding slowly\"</span> indicates a potential issue with the performance of \n",
       "this service. This could be causing delays in the shopping cart functionality.\n",
       "\n",
       "**Recommended Next Steps:**\n",
       "\n",
       "<span style=\"color: #008080; text-decoration-color: #008080; font-weight: bold\">1</span>. Investigate the issue with the ProductCatalogService to determine its root cause.\n",
       "<span style=\"color: #008080; text-decoration-color: #008080; font-weight: bold\">2</span>. Optimize or troubleshoot the service's architecture and performance as needed.\n",
       "<span style=\"color: #008080; text-decoration-color: #008080; font-weight: bold\">3</span>. Verify that other dependent services are functioning correctly to ensure a smooth overall system operation.\n",
       "\n",
       "If you'd like, I can try to investigate the issue further or provide additional recommendations.\n",
       "Based on the above, logically think through and conclude the most likely reason for this problem. Please lay down \n",
       "your thought process clearly that led you to the conclusion.\n",
       "</pre>\n"
      ],
      "text/plain": [
       "Incident details: Incident: ShoppingCart response time has increased to \u001b[1;36m10\u001b[0m sec\n",
       "Affected services: Affected Service: ShoppingCart \n",
       "Dependencies: ProductCatalogService, CheckoutService, UserProfileService\n",
       "Changes detected: \u001b[1m{\u001b[0m\u001b[32m\"name\"\u001b[0m:\u001b[32m\"get_changelog\"\u001b[0m,\u001b[32m\"parameters \u001b[0m\u001b[32m{\u001b[0m\u001b[32m\"\u001b[0mservice\":\u001b[1m[\u001b[0m\u001b[32m\"ShoppingCart\"\u001b[0m\u001b[1m]\u001b[0m\u001b[1m}\u001b[0m\n",
       "Error logs: Based on the error log, it appears that the `ProductCatalogService` is not responding quickly enough.\n",
       "\n",
       "**Error Message:** ProductCatalogService is responding slowly\n",
       "**Affected Service:** ShoppingCart \n",
       "**Dependencies Affected:** ProductCatalogService \n",
       "\n",
       "The error message \u001b[32m\"ProductCatalogService is responding slowly\"\u001b[0m indicates a potential issue with the performance of \n",
       "this service. This could be causing delays in the shopping cart functionality.\n",
       "\n",
       "**Recommended Next Steps:**\n",
       "\n",
       "\u001b[1;36m1\u001b[0m. Investigate the issue with the ProductCatalogService to determine its root cause.\n",
       "\u001b[1;36m2\u001b[0m. Optimize or troubleshoot the service's architecture and performance as needed.\n",
       "\u001b[1;36m3\u001b[0m. Verify that other dependent services are functioning correctly to ensure a smooth overall system operation.\n",
       "\n",
       "If you'd like, I can try to investigate the issue further or provide additional recommendations.\n",
       "Based on the above, logically think through and conclude the most likely reason for this problem. Please lay down \n",
       "your thought process clearly that led you to the conclusion.\n"
      ]
     },
     "metadata": {},
     "output_type": "display_data"
    },
    {
     "data": {
      "text/html": [
       "<pre style=\"white-space:pre;overflow-x:auto;line-height:normal;font-family:Menlo,'DejaVu Sans Mono',consolas,'Courier New',monospace\">\n",
       "\n",
       "</pre>\n"
      ],
      "text/plain": [
       "\n",
       "\n"
      ]
     },
     "metadata": {},
     "output_type": "display_data"
    },
    {
     "data": {
      "text/html": [
       "<pre style=\"white-space:pre;overflow-x:auto;line-height:normal;font-family:Menlo,'DejaVu Sans Mono',consolas,'Courier New',monospace\">=============================================\n",
       "</pre>\n"
      ],
      "text/plain": [
       "=============================================\n"
      ]
     },
     "metadata": {},
     "output_type": "display_data"
    },
    {
     "data": {
      "text/html": [
       "<pre style=\"white-space:pre;overflow-x:auto;line-height:normal;font-family:Menlo,'DejaVu Sans Mono',consolas,'Courier New',monospace\">=== Verifier Thought Process &amp; Conclusion ===\n",
       "</pre>\n"
      ],
      "text/plain": [
       "=== Verifier Thought Process & Conclusion ===\n"
      ]
     },
     "metadata": {},
     "output_type": "display_data"
    },
    {
     "data": {
      "text/html": [
       "<pre style=\"white-space:pre;overflow-x:auto;line-height:normal;font-family:Menlo,'DejaVu Sans Mono',consolas,'Courier New',monospace\">=============================================\n",
       "</pre>\n"
      ],
      "text/plain": [
       "=============================================\n"
      ]
     },
     "metadata": {},
     "output_type": "display_data"
    },
    {
     "data": {
      "text/html": [
       "<pre style=\"white-space:pre;overflow-x:auto;line-height:normal;font-family:Menlo,'DejaVu Sans Mono',consolas,'Courier New',monospace\">Here's my thought process leading me to a conclusion:\n",
       "\n",
       "**Step <span style=\"color: #008080; text-decoration-color: #008080; font-weight: bold\">1</span>: Identify Affected Service and Dependencies**\n",
       "\n",
       "The affected service is ShoppingCart, which depends on ProductCatalogService, CheckoutService, and \n",
       "UserProfileService. This tells us that we need to look at how changes in these dependent services could impact the \n",
       "ShoppingCart.\n",
       "\n",
       "**Step <span style=\"color: #008080; text-decoration-color: #008080; font-weight: bold\">2</span>: Analyze Changes Detected**\n",
       "\n",
       "The changes detected only mentioned the `ProductCatalogService`, indicating a focused issue with this specific \n",
       "service. This is helpful to isolate the problem, but we should also keep an eye on other impacted services.\n",
       "\n",
       "**Step <span style=\"color: #008080; text-decoration-color: #008080; font-weight: bold\">3</span>: Review Error Logs and Messages**\n",
       "\n",
       "The error log message clearly points to <span style=\"color: #008000; text-decoration-color: #008000\">\"ProductCatalogService\"</span> as the root cause of the problem. The critical \n",
       "phrase <span style=\"color: #008000; text-decoration-color: #008000\">\"is responding slowly\"</span> highlights a performance issue in this service that could be contributing to the \n",
       "prolonged response time of ShoppingCart.\n",
       "\n",
       "**Step <span style=\"color: #008080; text-decoration-color: #008080; font-weight: bold\">4</span>: Eliminate Irrelevant Information**\n",
       "\n",
       "While the changes detected and error logs do indicate a focus on `ProductCatalogService`, there's no direct link \n",
       "between these findings and the overall system. There are other dependent services <span style=\"font-weight: bold\">(</span>CheckoutService and \n",
       "UserProfileService<span style=\"font-weight: bold\">)</span> that aren't explicitly affected by the changes or mentioned in the error logs.\n",
       "\n",
       "**Conclusion:**\n",
       "\n",
       "Given the analysis, I conclude that **the most likely reason for the Shopping Cart response time increase is the \n",
       "slow performance of the `ProductCatalogService`.** The clear mention of this service's slowness in the error log \n",
       "message and its dependency on other services in the system make it a direct contributor to the problem.\n",
       "\n",
       "Therefore, addressing the root cause issue with ProductCatalogService should have the greatest impact in resolving \n",
       "the prolonged response time of the ShoppingCart. Other services can be reviewed for interactions or dependencies \n",
       "but don't directly appear to contribute to this specific issue at this point.\n",
       "\n",
       "Recommendation: Investigate and address the performance issues in `ProductCatalogService` first using steps <span style=\"color: #008080; text-decoration-color: #008080; font-weight: bold\">1</span>, <span style=\"color: #008080; text-decoration-color: #008080; font-weight: bold\">2</span>, \n",
       "and <span style=\"color: #008080; text-decoration-color: #008080; font-weight: bold\">3</span> mentioned earlier, followed by verifying other dependent services <span style=\"font-weight: bold\">(</span>if necessary<span style=\"font-weight: bold\">)</span> to ensure a smooth overall \n",
       "system operation.\n",
       "</pre>\n"
      ],
      "text/plain": [
       "Here's my thought process leading me to a conclusion:\n",
       "\n",
       "**Step \u001b[1;36m1\u001b[0m: Identify Affected Service and Dependencies**\n",
       "\n",
       "The affected service is ShoppingCart, which depends on ProductCatalogService, CheckoutService, and \n",
       "UserProfileService. This tells us that we need to look at how changes in these dependent services could impact the \n",
       "ShoppingCart.\n",
       "\n",
       "**Step \u001b[1;36m2\u001b[0m: Analyze Changes Detected**\n",
       "\n",
       "The changes detected only mentioned the `ProductCatalogService`, indicating a focused issue with this specific \n",
       "service. This is helpful to isolate the problem, but we should also keep an eye on other impacted services.\n",
       "\n",
       "**Step \u001b[1;36m3\u001b[0m: Review Error Logs and Messages**\n",
       "\n",
       "The error log message clearly points to \u001b[32m\"ProductCatalogService\"\u001b[0m as the root cause of the problem. The critical \n",
       "phrase \u001b[32m\"is responding slowly\"\u001b[0m highlights a performance issue in this service that could be contributing to the \n",
       "prolonged response time of ShoppingCart.\n",
       "\n",
       "**Step \u001b[1;36m4\u001b[0m: Eliminate Irrelevant Information**\n",
       "\n",
       "While the changes detected and error logs do indicate a focus on `ProductCatalogService`, there's no direct link \n",
       "between these findings and the overall system. There are other dependent services \u001b[1m(\u001b[0mCheckoutService and \n",
       "UserProfileService\u001b[1m)\u001b[0m that aren't explicitly affected by the changes or mentioned in the error logs.\n",
       "\n",
       "**Conclusion:**\n",
       "\n",
       "Given the analysis, I conclude that **the most likely reason for the Shopping Cart response time increase is the \n",
       "slow performance of the `ProductCatalogService`.** The clear mention of this service's slowness in the error log \n",
       "message and its dependency on other services in the system make it a direct contributor to the problem.\n",
       "\n",
       "Therefore, addressing the root cause issue with ProductCatalogService should have the greatest impact in resolving \n",
       "the prolonged response time of the ShoppingCart. Other services can be reviewed for interactions or dependencies \n",
       "but don't directly appear to contribute to this specific issue at this point.\n",
       "\n",
       "Recommendation: Investigate and address the performance issues in `ProductCatalogService` first using steps \u001b[1;36m1\u001b[0m, \u001b[1;36m2\u001b[0m, \n",
       "and \u001b[1;36m3\u001b[0m mentioned earlier, followed by verifying other dependent services \u001b[1m(\u001b[0mif necessary\u001b[1m)\u001b[0m to ensure a smooth overall \n",
       "system operation.\n"
      ]
     },
     "metadata": {},
     "output_type": "display_data"
    }
   ],
   "source": [
    "input = \"Incident: ShoppingCart response time has increased to 10 sec\"\n",
    "diagnosis = await orchestrate(input)\n",
    "print(\"=============================================\")\n",
    "print(\"=== Verifier Thought Process & Conclusion ===\")\n",
    "print(\"=============================================\")\n",
    "print(diagnosis)"
   ]
  },
  {
   "cell_type": "markdown",
   "id": "83663c41-0c58-4cce-b6c3-a40264facbf6",
   "metadata": {},
   "source": [
    "# Going into Production\n",
    "\n",
    "We have seen now how a so called output by AI can be cross checked. This is widely used pattern in Agentic workflows.\n",
    "\n",
    "One other important issue - how does the system Learn ?\n",
    "\n",
    "1. Let us say Agentic application gives a certain resolution to an incident.\n",
    "1. And the engineer verifies it to be correct.\n",
    "1. Or the engineer verifies it not be correct and knows the correct solution.\n",
    "\n",
    "How can we enhance our agentic application with this.\n",
    "\n",
    "## Learning\n",
    "### Integrate Human Feedback\n",
    "- Whenever the Verification Agent flags a problem, route the case to an engineer for review.\n",
    "- Provide a simple thumbs-up/thumbs-down or rating interface. Feed that rating back into your store.\n",
    "- Also think of allowing general text entry field allowing engineer to enter what was done, if it was a thumbs down\n",
    "\n",
    "### Capture and store outcomes\n",
    "- Capture the above data and store it in a database\n",
    "\n",
    "### Feedback the data\n",
    "- Provide this data as an additional context to the debugger agent (or perhaps add another agent) which looks at this data and fine tunes the recommendation.\n",
    "\n",
    "### Continuously refine your agents\n",
    "- Periodically pull the best-rated incident examples (and their human-approved diagnoses) to create few-shot prompts or even fine-tune a custom model.\n",
    "- Update agent instructions based on common failure modes (e.g. “always double-check inventory data”).\n",
    "\n",
    "Some of the other next steps could be -\n",
    "\n",
    "## Build visibility and dashboards\n",
    "- Surface the agents’ findings and verification results in a team dashboard—showing average time to diagnosis, verification pass rates, and automation success rates.\n",
    "- Use that data to spot gaps (e.g. Services that consistently fool the Debugger) and add new special-purpose agents.\n",
    "\n",
    "## Hook into real incident streams\n",
    "- Connect the orchestration function to the monitoring/alerting system (e.g. Prometheus Alertmanager, CloudWatch Alarms, PagerDuty webhooks). Therefore every time an alert fires for “shopping-cart latency,” the agents automatically kick off the dependency→change→error→debug→verify chain.\n",
    "\n",
    "## Future State\n",
    "- Let us imagine a state in future where there may be many agents that can gather data. In the above example it was confined to 3:\n",
    "  - discovering service dependency,\n",
    "  - looking at change log and\n",
    "  - looking at application logs.\n",
    "Let us say there are agents for metrics, anomaly detection, cluster health (for the cluster on which the service is running on etc).\n",
    "- In that case, the incident could go to a `Planner agent` that decides to breakdown the troubleshooting into steps and call agents for each steps.\n",
    "- And then hand over the summary to the Debugger Agent and Verifier agent as shown above."
   ]
  },
  {
   "cell_type": "code",
   "execution_count": null,
   "id": "0a08d242-e381-4802-83de-437f341c68a8",
   "metadata": {},
   "outputs": [],
   "source": []
  }
 ],
 "metadata": {
  "kernelspec": {
   "display_name": "Python 3 (ipykernel)",
   "language": "python",
   "name": "python3"
  },
  "language_info": {
   "codemirror_mode": {
    "name": "ipython",
    "version": 3
   },
   "file_extension": ".py",
   "mimetype": "text/x-python",
   "name": "python",
   "nbconvert_exporter": "python",
   "pygments_lexer": "ipython3",
   "version": "3.12.5"
  }
 },
 "nbformat": 4,
 "nbformat_minor": 5
}
