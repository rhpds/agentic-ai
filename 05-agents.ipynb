{
 "cells": [
  {
   "cell_type": "markdown",
   "id": "e8987006-614e-41b7-9c2f-aa6359e8e231",
   "metadata": {},
   "source": [
    "# Agents\n",
    "\n",
    "In the last lab\n",
    "- we looked at a basic agent structure and agent calling tools.\n",
    "- we also got introduced to the different agentic patterns.\n",
    "\n",
    "In this lab, we see concrete implementation of these patterns.\n",
    "\n",
    "_Each module is typically dependent on the prior modules having been completed successfully_\n"
   ]
  },
  {
   "cell_type": "markdown",
   "id": "5d1c4592-3bff-4ae6-a9be-2ee3aeccba32",
   "metadata": {},
   "source": [
    "As we go into the Agents Module we need a new Python dependancy, which may need to be installed"
   ]
  },
  {
   "cell_type": "code",
   "execution_count": 1,
   "id": "6e0155f8-667a-4894-b760-31a966261838",
   "metadata": {
    "collapsed": true,
    "jupyter": {
     "outputs_hidden": true
    }
   },
   "outputs": [
    {
     "name": "stdout",
     "output_type": "stream",
     "text": [
      "Requirement already satisfied: openai-agents==0.0.13 in /Users/tok/Dropbox/PARAL/Resources/virtual-envs/summit-agentic-ai/lib/python3.12/site-packages (0.0.13)\n",
      "Requirement already satisfied: annotated-types==0.7.0 in /Users/tok/Dropbox/PARAL/Resources/virtual-envs/summit-agentic-ai/lib/python3.12/site-packages (from -r requirements.txt (line 1)) (0.7.0)\n",
      "Requirement already satisfied: anyio==4.9.0 in /Users/tok/Dropbox/PARAL/Resources/virtual-envs/summit-agentic-ai/lib/python3.12/site-packages (from -r requirements.txt (line 2)) (4.9.0)\n",
      "Requirement already satisfied: argon2-cffi==23.1.0 in /Users/tok/Dropbox/PARAL/Resources/virtual-envs/summit-agentic-ai/lib/python3.12/site-packages (from -r requirements.txt (line 3)) (23.1.0)\n",
      "Requirement already satisfied: argon2-cffi-bindings==21.2.0 in /Users/tok/Dropbox/PARAL/Resources/virtual-envs/summit-agentic-ai/lib/python3.12/site-packages (from -r requirements.txt (line 4)) (21.2.0)\n",
      "Requirement already satisfied: arrow==1.3.0 in /Users/tok/Dropbox/PARAL/Resources/virtual-envs/summit-agentic-ai/lib/python3.12/site-packages (from -r requirements.txt (line 5)) (1.3.0)\n",
      "Requirement already satisfied: asttokens==3.0.0 in /Users/tok/Dropbox/PARAL/Resources/virtual-envs/summit-agentic-ai/lib/python3.12/site-packages (from -r requirements.txt (line 6)) (3.0.0)\n",
      "Requirement already satisfied: async-lru==2.0.5 in /Users/tok/Dropbox/PARAL/Resources/virtual-envs/summit-agentic-ai/lib/python3.12/site-packages (from -r requirements.txt (line 7)) (2.0.5)\n",
      "Requirement already satisfied: attrs==25.3.0 in /Users/tok/Dropbox/PARAL/Resources/virtual-envs/summit-agentic-ai/lib/python3.12/site-packages (from -r requirements.txt (line 8)) (25.3.0)\n",
      "Requirement already satisfied: babel==2.17.0 in /Users/tok/Dropbox/PARAL/Resources/virtual-envs/summit-agentic-ai/lib/python3.12/site-packages (from -r requirements.txt (line 9)) (2.17.0)\n",
      "Requirement already satisfied: beautifulsoup4==4.13.4 in /Users/tok/Dropbox/PARAL/Resources/virtual-envs/summit-agentic-ai/lib/python3.12/site-packages (from -r requirements.txt (line 10)) (4.13.4)\n",
      "Requirement already satisfied: bleach==6.2.0 in /Users/tok/Dropbox/PARAL/Resources/virtual-envs/summit-agentic-ai/lib/python3.12/site-packages (from -r requirements.txt (line 11)) (6.2.0)\n",
      "Requirement already satisfied: certifi==2025.4.26 in /Users/tok/Dropbox/PARAL/Resources/virtual-envs/summit-agentic-ai/lib/python3.12/site-packages (from -r requirements.txt (line 12)) (2025.4.26)\n",
      "Requirement already satisfied: cffi==1.17.1 in /Users/tok/Dropbox/PARAL/Resources/virtual-envs/summit-agentic-ai/lib/python3.12/site-packages (from -r requirements.txt (line 13)) (1.17.1)\n",
      "Requirement already satisfied: charset-normalizer==3.4.1 in /Users/tok/Dropbox/PARAL/Resources/virtual-envs/summit-agentic-ai/lib/python3.12/site-packages (from -r requirements.txt (line 14)) (3.4.1)\n",
      "Requirement already satisfied: click==8.1.8 in /Users/tok/Dropbox/PARAL/Resources/virtual-envs/summit-agentic-ai/lib/python3.12/site-packages (from -r requirements.txt (line 15)) (8.1.8)\n",
      "Requirement already satisfied: colorama==0.4.6 in /Users/tok/Dropbox/PARAL/Resources/virtual-envs/summit-agentic-ai/lib/python3.12/site-packages (from -r requirements.txt (line 16)) (0.4.6)\n",
      "Requirement already satisfied: comm==0.2.2 in /Users/tok/Dropbox/PARAL/Resources/virtual-envs/summit-agentic-ai/lib/python3.12/site-packages (from -r requirements.txt (line 17)) (0.2.2)\n",
      "Requirement already satisfied: debugpy==1.8.14 in /Users/tok/Dropbox/PARAL/Resources/virtual-envs/summit-agentic-ai/lib/python3.12/site-packages (from -r requirements.txt (line 18)) (1.8.14)\n",
      "Requirement already satisfied: decorator==5.2.1 in /Users/tok/Dropbox/PARAL/Resources/virtual-envs/summit-agentic-ai/lib/python3.12/site-packages (from -r requirements.txt (line 19)) (5.2.1)\n",
      "Requirement already satisfied: defusedxml==0.7.1 in /Users/tok/Dropbox/PARAL/Resources/virtual-envs/summit-agentic-ai/lib/python3.12/site-packages (from -r requirements.txt (line 20)) (0.7.1)\n",
      "Requirement already satisfied: distro==1.9.0 in /Users/tok/Dropbox/PARAL/Resources/virtual-envs/summit-agentic-ai/lib/python3.12/site-packages (from -r requirements.txt (line 21)) (1.9.0)\n",
      "Requirement already satisfied: executing==2.2.0 in /Users/tok/Dropbox/PARAL/Resources/virtual-envs/summit-agentic-ai/lib/python3.12/site-packages (from -r requirements.txt (line 22)) (2.2.0)\n",
      "Requirement already satisfied: fastjsonschema==2.21.1 in /Users/tok/Dropbox/PARAL/Resources/virtual-envs/summit-agentic-ai/lib/python3.12/site-packages (from -r requirements.txt (line 23)) (2.21.1)\n",
      "Requirement already satisfied: fqdn==1.5.1 in /Users/tok/Dropbox/PARAL/Resources/virtual-envs/summit-agentic-ai/lib/python3.12/site-packages (from -r requirements.txt (line 24)) (1.5.1)\n",
      "Requirement already satisfied: griffe==1.7.3 in /Users/tok/Dropbox/PARAL/Resources/virtual-envs/summit-agentic-ai/lib/python3.12/site-packages (from -r requirements.txt (line 25)) (1.7.3)\n",
      "Requirement already satisfied: h11==0.16.0 in /Users/tok/Dropbox/PARAL/Resources/virtual-envs/summit-agentic-ai/lib/python3.12/site-packages (from -r requirements.txt (line 26)) (0.16.0)\n",
      "Requirement already satisfied: httpcore==1.0.9 in /Users/tok/Dropbox/PARAL/Resources/virtual-envs/summit-agentic-ai/lib/python3.12/site-packages (from -r requirements.txt (line 27)) (1.0.9)\n",
      "Requirement already satisfied: httpx==0.28.1 in /Users/tok/Dropbox/PARAL/Resources/virtual-envs/summit-agentic-ai/lib/python3.12/site-packages (from -r requirements.txt (line 28)) (0.28.1)\n",
      "Requirement already satisfied: httpx-sse==0.4.0 in /Users/tok/Dropbox/PARAL/Resources/virtual-envs/summit-agentic-ai/lib/python3.12/site-packages (from -r requirements.txt (line 29)) (0.4.0)\n",
      "Requirement already satisfied: idna==3.10 in /Users/tok/Dropbox/PARAL/Resources/virtual-envs/summit-agentic-ai/lib/python3.12/site-packages (from -r requirements.txt (line 30)) (3.10)\n",
      "Requirement already satisfied: ipykernel==6.29.5 in /Users/tok/Dropbox/PARAL/Resources/virtual-envs/summit-agentic-ai/lib/python3.12/site-packages (from -r requirements.txt (line 31)) (6.29.5)\n",
      "Requirement already satisfied: ipython==9.2.0 in /Users/tok/Dropbox/PARAL/Resources/virtual-envs/summit-agentic-ai/lib/python3.12/site-packages (from -r requirements.txt (line 32)) (9.2.0)\n",
      "Requirement already satisfied: ipython_pygments_lexers==1.1.1 in /Users/tok/Dropbox/PARAL/Resources/virtual-envs/summit-agentic-ai/lib/python3.12/site-packages (from -r requirements.txt (line 33)) (1.1.1)\n",
      "Requirement already satisfied: ipywidgets==8.1.6 in /Users/tok/Dropbox/PARAL/Resources/virtual-envs/summit-agentic-ai/lib/python3.12/site-packages (from -r requirements.txt (line 34)) (8.1.6)\n",
      "Requirement already satisfied: isoduration==20.11.0 in /Users/tok/Dropbox/PARAL/Resources/virtual-envs/summit-agentic-ai/lib/python3.12/site-packages (from -r requirements.txt (line 35)) (20.11.0)\n",
      "Requirement already satisfied: jedi==0.19.2 in /Users/tok/Dropbox/PARAL/Resources/virtual-envs/summit-agentic-ai/lib/python3.12/site-packages (from -r requirements.txt (line 36)) (0.19.2)\n",
      "Requirement already satisfied: Jinja2==3.1.6 in /Users/tok/Dropbox/PARAL/Resources/virtual-envs/summit-agentic-ai/lib/python3.12/site-packages (from -r requirements.txt (line 37)) (3.1.6)\n",
      "Requirement already satisfied: jiter==0.9.0 in /Users/tok/Dropbox/PARAL/Resources/virtual-envs/summit-agentic-ai/lib/python3.12/site-packages (from -r requirements.txt (line 38)) (0.9.0)\n",
      "Requirement already satisfied: json5==0.12.0 in /Users/tok/Dropbox/PARAL/Resources/virtual-envs/summit-agentic-ai/lib/python3.12/site-packages (from -r requirements.txt (line 39)) (0.12.0)\n",
      "Requirement already satisfied: jsonpointer==3.0.0 in /Users/tok/Dropbox/PARAL/Resources/virtual-envs/summit-agentic-ai/lib/python3.12/site-packages (from -r requirements.txt (line 40)) (3.0.0)\n",
      "Requirement already satisfied: jsonschema==4.23.0 in /Users/tok/Dropbox/PARAL/Resources/virtual-envs/summit-agentic-ai/lib/python3.12/site-packages (from -r requirements.txt (line 41)) (4.23.0)\n",
      "Requirement already satisfied: jsonschema-specifications==2025.4.1 in /Users/tok/Dropbox/PARAL/Resources/virtual-envs/summit-agentic-ai/lib/python3.12/site-packages (from -r requirements.txt (line 42)) (2025.4.1)\n",
      "Requirement already satisfied: jupyter==1.1.1 in /Users/tok/Dropbox/PARAL/Resources/virtual-envs/summit-agentic-ai/lib/python3.12/site-packages (from -r requirements.txt (line 43)) (1.1.1)\n",
      "Requirement already satisfied: jupyter-console==6.6.3 in /Users/tok/Dropbox/PARAL/Resources/virtual-envs/summit-agentic-ai/lib/python3.12/site-packages (from -r requirements.txt (line 44)) (6.6.3)\n",
      "Requirement already satisfied: jupyter-events==0.12.0 in /Users/tok/Dropbox/PARAL/Resources/virtual-envs/summit-agentic-ai/lib/python3.12/site-packages (from -r requirements.txt (line 45)) (0.12.0)\n",
      "Requirement already satisfied: jupyter-lsp==2.2.5 in /Users/tok/Dropbox/PARAL/Resources/virtual-envs/summit-agentic-ai/lib/python3.12/site-packages (from -r requirements.txt (line 46)) (2.2.5)\n",
      "Requirement already satisfied: jupyter_client==8.6.3 in /Users/tok/Dropbox/PARAL/Resources/virtual-envs/summit-agentic-ai/lib/python3.12/site-packages (from -r requirements.txt (line 47)) (8.6.3)\n",
      "Requirement already satisfied: jupyter_core==5.7.2 in /Users/tok/Dropbox/PARAL/Resources/virtual-envs/summit-agentic-ai/lib/python3.12/site-packages (from -r requirements.txt (line 48)) (5.7.2)\n",
      "Requirement already satisfied: jupyter_server==2.15.0 in /Users/tok/Dropbox/PARAL/Resources/virtual-envs/summit-agentic-ai/lib/python3.12/site-packages (from -r requirements.txt (line 49)) (2.15.0)\n",
      "Requirement already satisfied: jupyter_server_terminals==0.5.3 in /Users/tok/Dropbox/PARAL/Resources/virtual-envs/summit-agentic-ai/lib/python3.12/site-packages (from -r requirements.txt (line 50)) (0.5.3)\n",
      "Requirement already satisfied: jupyterlab==4.4.1 in /Users/tok/Dropbox/PARAL/Resources/virtual-envs/summit-agentic-ai/lib/python3.12/site-packages (from -r requirements.txt (line 51)) (4.4.1)\n",
      "Requirement already satisfied: jupyterlab_pygments==0.3.0 in /Users/tok/Dropbox/PARAL/Resources/virtual-envs/summit-agentic-ai/lib/python3.12/site-packages (from -r requirements.txt (line 52)) (0.3.0)\n",
      "Requirement already satisfied: jupyterlab_server==2.27.3 in /Users/tok/Dropbox/PARAL/Resources/virtual-envs/summit-agentic-ai/lib/python3.12/site-packages (from -r requirements.txt (line 53)) (2.27.3)\n",
      "Requirement already satisfied: jupyterlab_widgets==3.0.14 in /Users/tok/Dropbox/PARAL/Resources/virtual-envs/summit-agentic-ai/lib/python3.12/site-packages (from -r requirements.txt (line 54)) (3.0.14)\n",
      "Requirement already satisfied: llama_stack_client==0.2.4 in /Users/tok/Dropbox/PARAL/Resources/virtual-envs/summit-agentic-ai/lib/python3.12/site-packages (from -r requirements.txt (line 55)) (0.2.4)\n",
      "Requirement already satisfied: markdown-it-py==3.0.0 in /Users/tok/Dropbox/PARAL/Resources/virtual-envs/summit-agentic-ai/lib/python3.12/site-packages (from -r requirements.txt (line 56)) (3.0.0)\n",
      "Requirement already satisfied: MarkupSafe==3.0.2 in /Users/tok/Dropbox/PARAL/Resources/virtual-envs/summit-agentic-ai/lib/python3.12/site-packages (from -r requirements.txt (line 57)) (3.0.2)\n",
      "Requirement already satisfied: matplotlib-inline==0.1.7 in /Users/tok/Dropbox/PARAL/Resources/virtual-envs/summit-agentic-ai/lib/python3.12/site-packages (from -r requirements.txt (line 58)) (0.1.7)\n",
      "Requirement already satisfied: mcp==1.8.1 in /Users/tok/Dropbox/PARAL/Resources/virtual-envs/summit-agentic-ai/lib/python3.12/site-packages (from -r requirements.txt (line 59)) (1.8.1)\n",
      "Requirement already satisfied: mdurl==0.1.2 in /Users/tok/Dropbox/PARAL/Resources/virtual-envs/summit-agentic-ai/lib/python3.12/site-packages (from -r requirements.txt (line 60)) (0.1.2)\n",
      "Requirement already satisfied: mistune==3.1.3 in /Users/tok/Dropbox/PARAL/Resources/virtual-envs/summit-agentic-ai/lib/python3.12/site-packages (from -r requirements.txt (line 61)) (3.1.3)\n",
      "Requirement already satisfied: nbclient==0.10.2 in /Users/tok/Dropbox/PARAL/Resources/virtual-envs/summit-agentic-ai/lib/python3.12/site-packages (from -r requirements.txt (line 62)) (0.10.2)\n",
      "Requirement already satisfied: nbconvert==7.16.6 in /Users/tok/Dropbox/PARAL/Resources/virtual-envs/summit-agentic-ai/lib/python3.12/site-packages (from -r requirements.txt (line 63)) (7.16.6)\n",
      "Requirement already satisfied: nbformat==5.10.4 in /Users/tok/Dropbox/PARAL/Resources/virtual-envs/summit-agentic-ai/lib/python3.12/site-packages (from -r requirements.txt (line 64)) (5.10.4)\n",
      "Requirement already satisfied: nest-asyncio==1.6.0 in /Users/tok/Dropbox/PARAL/Resources/virtual-envs/summit-agentic-ai/lib/python3.12/site-packages (from -r requirements.txt (line 65)) (1.6.0)\n",
      "Requirement already satisfied: notebook==7.4.1 in /Users/tok/Dropbox/PARAL/Resources/virtual-envs/summit-agentic-ai/lib/python3.12/site-packages (from -r requirements.txt (line 66)) (7.4.1)\n",
      "Requirement already satisfied: notebook_shim==0.2.4 in /Users/tok/Dropbox/PARAL/Resources/virtual-envs/summit-agentic-ai/lib/python3.12/site-packages (from -r requirements.txt (line 67)) (0.2.4)\n",
      "Requirement already satisfied: numpy==2.2.5 in /Users/tok/Dropbox/PARAL/Resources/virtual-envs/summit-agentic-ai/lib/python3.12/site-packages (from -r requirements.txt (line 68)) (2.2.5)\n",
      "Requirement already satisfied: openai==1.76.2 in /Users/tok/Dropbox/PARAL/Resources/virtual-envs/summit-agentic-ai/lib/python3.12/site-packages (from -r requirements.txt (line 69)) (1.76.2)\n",
      "Requirement already satisfied: overrides==7.7.0 in /Users/tok/Dropbox/PARAL/Resources/virtual-envs/summit-agentic-ai/lib/python3.12/site-packages (from -r requirements.txt (line 71)) (7.7.0)\n",
      "Requirement already satisfied: packaging==25.0 in /Users/tok/Dropbox/PARAL/Resources/virtual-envs/summit-agentic-ai/lib/python3.12/site-packages (from -r requirements.txt (line 72)) (25.0)\n",
      "Requirement already satisfied: pandas==2.2.3 in /Users/tok/Dropbox/PARAL/Resources/virtual-envs/summit-agentic-ai/lib/python3.12/site-packages (from -r requirements.txt (line 73)) (2.2.3)\n",
      "Requirement already satisfied: pandocfilters==1.5.1 in /Users/tok/Dropbox/PARAL/Resources/virtual-envs/summit-agentic-ai/lib/python3.12/site-packages (from -r requirements.txt (line 74)) (1.5.1)\n",
      "Requirement already satisfied: parso==0.8.4 in /Users/tok/Dropbox/PARAL/Resources/virtual-envs/summit-agentic-ai/lib/python3.12/site-packages (from -r requirements.txt (line 75)) (0.8.4)\n",
      "Requirement already satisfied: pexpect==4.9.0 in /Users/tok/Dropbox/PARAL/Resources/virtual-envs/summit-agentic-ai/lib/python3.12/site-packages (from -r requirements.txt (line 76)) (4.9.0)\n",
      "Requirement already satisfied: platformdirs==4.3.7 in /Users/tok/Dropbox/PARAL/Resources/virtual-envs/summit-agentic-ai/lib/python3.12/site-packages (from -r requirements.txt (line 77)) (4.3.7)\n",
      "Requirement already satisfied: prometheus_client==0.21.1 in /Users/tok/Dropbox/PARAL/Resources/virtual-envs/summit-agentic-ai/lib/python3.12/site-packages (from -r requirements.txt (line 78)) (0.21.1)\n",
      "Requirement already satisfied: prompt_toolkit==3.0.51 in /Users/tok/Dropbox/PARAL/Resources/virtual-envs/summit-agentic-ai/lib/python3.12/site-packages (from -r requirements.txt (line 79)) (3.0.51)\n",
      "Requirement already satisfied: psutil==7.0.0 in /Users/tok/Dropbox/PARAL/Resources/virtual-envs/summit-agentic-ai/lib/python3.12/site-packages (from -r requirements.txt (line 80)) (7.0.0)\n",
      "Requirement already satisfied: ptyprocess==0.7.0 in /Users/tok/Dropbox/PARAL/Resources/virtual-envs/summit-agentic-ai/lib/python3.12/site-packages (from -r requirements.txt (line 81)) (0.7.0)\n",
      "Requirement already satisfied: pure_eval==0.2.3 in /Users/tok/Dropbox/PARAL/Resources/virtual-envs/summit-agentic-ai/lib/python3.12/site-packages (from -r requirements.txt (line 82)) (0.2.3)\n",
      "Requirement already satisfied: pyaml==25.1.0 in /Users/tok/Dropbox/PARAL/Resources/virtual-envs/summit-agentic-ai/lib/python3.12/site-packages (from -r requirements.txt (line 83)) (25.1.0)\n",
      "Requirement already satisfied: pycparser==2.22 in /Users/tok/Dropbox/PARAL/Resources/virtual-envs/summit-agentic-ai/lib/python3.12/site-packages (from -r requirements.txt (line 84)) (2.22)\n",
      "Requirement already satisfied: pydantic==2.11.4 in /Users/tok/Dropbox/PARAL/Resources/virtual-envs/summit-agentic-ai/lib/python3.12/site-packages (from -r requirements.txt (line 85)) (2.11.4)\n",
      "Requirement already satisfied: pydantic-settings==2.9.1 in /Users/tok/Dropbox/PARAL/Resources/virtual-envs/summit-agentic-ai/lib/python3.12/site-packages (from -r requirements.txt (line 86)) (2.9.1)\n",
      "Requirement already satisfied: pydantic_core==2.33.2 in /Users/tok/Dropbox/PARAL/Resources/virtual-envs/summit-agentic-ai/lib/python3.12/site-packages (from -r requirements.txt (line 87)) (2.33.2)\n",
      "Requirement already satisfied: Pygments==2.19.1 in /Users/tok/Dropbox/PARAL/Resources/virtual-envs/summit-agentic-ai/lib/python3.12/site-packages (from -r requirements.txt (line 88)) (2.19.1)\n",
      "Requirement already satisfied: python-dateutil==2.9.0.post0 in /Users/tok/Dropbox/PARAL/Resources/virtual-envs/summit-agentic-ai/lib/python3.12/site-packages (from -r requirements.txt (line 89)) (2.9.0.post0)\n",
      "Requirement already satisfied: python-dotenv==1.1.0 in /Users/tok/Dropbox/PARAL/Resources/virtual-envs/summit-agentic-ai/lib/python3.12/site-packages (from -r requirements.txt (line 90)) (1.1.0)\n",
      "Requirement already satisfied: python-json-logger==3.3.0 in /Users/tok/Dropbox/PARAL/Resources/virtual-envs/summit-agentic-ai/lib/python3.12/site-packages (from -r requirements.txt (line 91)) (3.3.0)\n",
      "Requirement already satisfied: python-multipart==0.0.20 in /Users/tok/Dropbox/PARAL/Resources/virtual-envs/summit-agentic-ai/lib/python3.12/site-packages (from -r requirements.txt (line 92)) (0.0.20)\n",
      "Requirement already satisfied: pytz==2025.2 in /Users/tok/Dropbox/PARAL/Resources/virtual-envs/summit-agentic-ai/lib/python3.12/site-packages (from -r requirements.txt (line 93)) (2025.2)\n",
      "Requirement already satisfied: PyYAML==6.0.2 in /Users/tok/Dropbox/PARAL/Resources/virtual-envs/summit-agentic-ai/lib/python3.12/site-packages (from -r requirements.txt (line 94)) (6.0.2)\n",
      "Requirement already satisfied: pyzmq==26.4.0 in /Users/tok/Dropbox/PARAL/Resources/virtual-envs/summit-agentic-ai/lib/python3.12/site-packages (from -r requirements.txt (line 95)) (26.4.0)\n",
      "Requirement already satisfied: referencing==0.36.2 in /Users/tok/Dropbox/PARAL/Resources/virtual-envs/summit-agentic-ai/lib/python3.12/site-packages (from -r requirements.txt (line 96)) (0.36.2)\n",
      "Requirement already satisfied: requests==2.32.3 in /Users/tok/Dropbox/PARAL/Resources/virtual-envs/summit-agentic-ai/lib/python3.12/site-packages (from -r requirements.txt (line 97)) (2.32.3)\n",
      "Requirement already satisfied: rfc3339-validator==0.1.4 in /Users/tok/Dropbox/PARAL/Resources/virtual-envs/summit-agentic-ai/lib/python3.12/site-packages (from -r requirements.txt (line 98)) (0.1.4)\n",
      "Requirement already satisfied: rfc3986-validator==0.1.1 in /Users/tok/Dropbox/PARAL/Resources/virtual-envs/summit-agentic-ai/lib/python3.12/site-packages (from -r requirements.txt (line 99)) (0.1.1)\n",
      "Requirement already satisfied: rich==14.0.0 in /Users/tok/Dropbox/PARAL/Resources/virtual-envs/summit-agentic-ai/lib/python3.12/site-packages (from -r requirements.txt (line 100)) (14.0.0)\n",
      "Requirement already satisfied: rpds-py==0.24.0 in /Users/tok/Dropbox/PARAL/Resources/virtual-envs/summit-agentic-ai/lib/python3.12/site-packages (from -r requirements.txt (line 101)) (0.24.0)\n",
      "Requirement already satisfied: Send2Trash==1.8.3 in /Users/tok/Dropbox/PARAL/Resources/virtual-envs/summit-agentic-ai/lib/python3.12/site-packages (from -r requirements.txt (line 102)) (1.8.3)\n",
      "Requirement already satisfied: setuptools==80.0.0 in /Users/tok/Dropbox/PARAL/Resources/virtual-envs/summit-agentic-ai/lib/python3.12/site-packages (from -r requirements.txt (line 103)) (80.0.0)\n",
      "Requirement already satisfied: six==1.17.0 in /Users/tok/Dropbox/PARAL/Resources/virtual-envs/summit-agentic-ai/lib/python3.12/site-packages (from -r requirements.txt (line 104)) (1.17.0)\n",
      "Requirement already satisfied: sniffio==1.3.1 in /Users/tok/Dropbox/PARAL/Resources/virtual-envs/summit-agentic-ai/lib/python3.12/site-packages (from -r requirements.txt (line 105)) (1.3.1)\n",
      "Requirement already satisfied: soupsieve==2.7 in /Users/tok/Dropbox/PARAL/Resources/virtual-envs/summit-agentic-ai/lib/python3.12/site-packages (from -r requirements.txt (line 106)) (2.7)\n",
      "Requirement already satisfied: sse-starlette==2.3.5 in /Users/tok/Dropbox/PARAL/Resources/virtual-envs/summit-agentic-ai/lib/python3.12/site-packages (from -r requirements.txt (line 107)) (2.3.5)\n",
      "Requirement already satisfied: stack-data==0.6.3 in /Users/tok/Dropbox/PARAL/Resources/virtual-envs/summit-agentic-ai/lib/python3.12/site-packages (from -r requirements.txt (line 108)) (0.6.3)\n",
      "Requirement already satisfied: starlette==0.46.2 in /Users/tok/Dropbox/PARAL/Resources/virtual-envs/summit-agentic-ai/lib/python3.12/site-packages (from -r requirements.txt (line 109)) (0.46.2)\n",
      "Requirement already satisfied: termcolor==3.1.0 in /Users/tok/Dropbox/PARAL/Resources/virtual-envs/summit-agentic-ai/lib/python3.12/site-packages (from -r requirements.txt (line 110)) (3.1.0)\n",
      "Requirement already satisfied: terminado==0.18.1 in /Users/tok/Dropbox/PARAL/Resources/virtual-envs/summit-agentic-ai/lib/python3.12/site-packages (from -r requirements.txt (line 111)) (0.18.1)\n",
      "Requirement already satisfied: tinycss2==1.4.0 in /Users/tok/Dropbox/PARAL/Resources/virtual-envs/summit-agentic-ai/lib/python3.12/site-packages (from -r requirements.txt (line 112)) (1.4.0)\n",
      "Requirement already satisfied: tornado==6.4.2 in /Users/tok/Dropbox/PARAL/Resources/virtual-envs/summit-agentic-ai/lib/python3.12/site-packages (from -r requirements.txt (line 113)) (6.4.2)\n",
      "Requirement already satisfied: tqdm==4.67.1 in /Users/tok/Dropbox/PARAL/Resources/virtual-envs/summit-agentic-ai/lib/python3.12/site-packages (from -r requirements.txt (line 114)) (4.67.1)\n",
      "Requirement already satisfied: traitlets==5.14.3 in /Users/tok/Dropbox/PARAL/Resources/virtual-envs/summit-agentic-ai/lib/python3.12/site-packages (from -r requirements.txt (line 115)) (5.14.3)\n",
      "Requirement already satisfied: types-python-dateutil==2.9.0.20241206 in /Users/tok/Dropbox/PARAL/Resources/virtual-envs/summit-agentic-ai/lib/python3.12/site-packages (from -r requirements.txt (line 116)) (2.9.0.20241206)\n",
      "Requirement already satisfied: types-requests==2.32.0.20250328 in /Users/tok/Dropbox/PARAL/Resources/virtual-envs/summit-agentic-ai/lib/python3.12/site-packages (from -r requirements.txt (line 117)) (2.32.0.20250328)\n",
      "Requirement already satisfied: typing-inspection==0.4.0 in /Users/tok/Dropbox/PARAL/Resources/virtual-envs/summit-agentic-ai/lib/python3.12/site-packages (from -r requirements.txt (line 118)) (0.4.0)\n",
      "Requirement already satisfied: typing_extensions==4.13.2 in /Users/tok/Dropbox/PARAL/Resources/virtual-envs/summit-agentic-ai/lib/python3.12/site-packages (from -r requirements.txt (line 119)) (4.13.2)\n",
      "Requirement already satisfied: tzdata==2025.2 in /Users/tok/Dropbox/PARAL/Resources/virtual-envs/summit-agentic-ai/lib/python3.12/site-packages (from -r requirements.txt (line 120)) (2025.2)\n",
      "Requirement already satisfied: uri-template==1.3.0 in /Users/tok/Dropbox/PARAL/Resources/virtual-envs/summit-agentic-ai/lib/python3.12/site-packages (from -r requirements.txt (line 121)) (1.3.0)\n",
      "Requirement already satisfied: urllib3==2.4.0 in /Users/tok/Dropbox/PARAL/Resources/virtual-envs/summit-agentic-ai/lib/python3.12/site-packages (from -r requirements.txt (line 122)) (2.4.0)\n",
      "Requirement already satisfied: uvicorn==0.34.2 in /Users/tok/Dropbox/PARAL/Resources/virtual-envs/summit-agentic-ai/lib/python3.12/site-packages (from -r requirements.txt (line 123)) (0.34.2)\n",
      "Requirement already satisfied: wcwidth==0.2.13 in /Users/tok/Dropbox/PARAL/Resources/virtual-envs/summit-agentic-ai/lib/python3.12/site-packages (from -r requirements.txt (line 124)) (0.2.13)\n",
      "Requirement already satisfied: webcolors==24.11.1 in /Users/tok/Dropbox/PARAL/Resources/virtual-envs/summit-agentic-ai/lib/python3.12/site-packages (from -r requirements.txt (line 125)) (24.11.1)\n",
      "Requirement already satisfied: webencodings==0.5.1 in /Users/tok/Dropbox/PARAL/Resources/virtual-envs/summit-agentic-ai/lib/python3.12/site-packages (from -r requirements.txt (line 126)) (0.5.1)\n",
      "Requirement already satisfied: websocket-client==1.8.0 in /Users/tok/Dropbox/PARAL/Resources/virtual-envs/summit-agentic-ai/lib/python3.12/site-packages (from -r requirements.txt (line 127)) (1.8.0)\n",
      "Requirement already satisfied: widgetsnbextension==4.0.14 in /Users/tok/Dropbox/PARAL/Resources/virtual-envs/summit-agentic-ai/lib/python3.12/site-packages (from -r requirements.txt (line 128)) (4.0.14)\n",
      "Requirement already satisfied: appnope in /Users/tok/Dropbox/PARAL/Resources/virtual-envs/summit-agentic-ai/lib/python3.12/site-packages (from ipykernel==6.29.5->-r requirements.txt (line 31)) (0.1.4)\n",
      "Note: you may need to restart the kernel to use updated packages.\n"
     ]
    }
   ],
   "source": [
    "%pip install openai-agents==0.0.13 -r requirements.txt"
   ]
  },
  {
   "cell_type": "code",
   "execution_count": 9,
   "id": "d7bd7a3d-b43b-4bc2-91b0-b0a0403ea0c8",
   "metadata": {},
   "outputs": [
    {
     "data": {
      "text/html": [
       "<pre style=\"white-space:pre;overflow-x:auto;line-height:normal;font-family:Menlo,'DejaVu Sans Mono',consolas,'Courier New',monospace\"><span style=\"color: #008000; text-decoration-color: #008000\"> Model setup</span>\n",
       "</pre>\n"
      ],
      "text/plain": [
       "\u001b[32m Model setup\u001b[0m\n"
      ]
     },
     "metadata": {},
     "output_type": "display_data"
    }
   ],
   "source": [
    "import openai\n",
    "import re\n",
    "import httpx\n",
    "import os\n",
    "import requests\n",
    "import rich\n",
    "import json\n",
    "from openai import OpenAI\n",
    "import requests\n",
    "from agents import Agent, ModelSettings, function_tool, Runner, AsyncOpenAI, OpenAIChatCompletionsModel\n",
    "\n",
    "\n",
    "os.environ[\"OPENAI_API_KEY\"] = \"sk-dummy_key\" \n",
    "api_key = \"placeholder\" \n",
    "base_url = \"http://localhost:11434/v1/\"\n",
    "model = \"llama3.2:3b-instruct-fp16\" \n",
    "\n",
    "# Configure the model\n",
    "model = OpenAIChatCompletionsModel( \n",
    "     model=model,\n",
    "     openai_client=AsyncOpenAI(base_url=base_url, api_key=openai.api_key),\n",
    " )\n",
    "\n",
    "from rich import print\n",
    "print(\"[green] Model setup[/green]\")"
   ]
  },
  {
   "cell_type": "markdown",
   "id": "3660bec5-d54d-473f-9f03-0604120fdbd1",
   "metadata": {},
   "source": [
    "## Agents participating in a Trouble shooting Workflow\n",
    "1. The investigation into four specialized “agents” that work together like a miniature on-call team. \n",
    "1. First, the Dependency Identifier agent figures out which backend services power the shopping cart. \n",
    "1. Next, the Change Tracker agent looks at those services to see what code or configuration changes went out recently. \n",
    "1. Then the Error Finder agent scans their logs to pull out any real-time error messages. \n",
    "1. Finally, the Debugger agent takes those three fact-sets—dependencies, changes, and errors—and reasons through them step by step to deliver a clear, human-friendly diagnosis of the most likely root cause.\n",
    "\n",
    "_This will be agentic workflow will be improved further in the next lesson_"
   ]
  },
  {
   "cell_type": "code",
   "execution_count": 3,
   "id": "3d8cd8f5-e4c4-472a-a765-2f0240dc0216",
   "metadata": {},
   "outputs": [
    {
     "data": {
      "text/html": [
       "<pre style=\"white-space:pre;overflow-x:auto;line-height:normal;font-family:Menlo,'DejaVu Sans Mono',consolas,'Courier New',monospace\"><span style=\"color: #008000; text-decoration-color: #008000\"> DependencyIdentifier Agent setup</span>\n",
       "</pre>\n"
      ],
      "text/plain": [
       "\u001b[32m DependencyIdentifier Agent setup\u001b[0m\n"
      ]
     },
     "metadata": {},
     "output_type": "display_data"
    }
   ],
   "source": [
    "@function_tool\n",
    "def get_dependency(service:str) ->list[str]:\n",
    "    dep_service=[\"ProductCatalogService\",\"CheckoutService\",\"UserProfileService\"]\n",
    "    return dep_service\n",
    "\n",
    "did_agent = Agent(\n",
    "    name=\"DependencyIdentifier Agent\",\n",
    "    instructions=(\n",
    "        \"An incident will be passed on.\\n\"\n",
    "        \"From that, firstly identify the affected service name only.\\n\"\n",
    "        \"Next, identify what are the service dependencies for that service.\\n\"\n",
    "        \"Just return all service names in a comma separated format like a python list[str]. Also include the affected service.\\n\"\n",
    "        \"And nothing else\"\n",
    "    ),\n",
    "    model= model,\n",
    "    tools=[get_dependency],\n",
    "    model_settings=ModelSettings(temperature=0.0),\n",
    ")\n",
    "\n",
    "#Useful for debugging individual agents\n",
    "#dep_result = await Runner.run(did_agent, \"Incident: Shopping cart response time has increased to 10 sec\")\n",
    "#print(dep_result.final_output)\n",
    "\n",
    "print(\"[green] DependencyIdentifier Agent setup[/green]\")"
   ]
  },
  {
   "cell_type": "code",
   "execution_count": 4,
   "id": "86ec7e0c-f611-40ea-a1c2-8fef3a294af6",
   "metadata": {},
   "outputs": [
    {
     "data": {
      "text/html": [
       "<pre style=\"white-space:pre;overflow-x:auto;line-height:normal;font-family:Menlo,'DejaVu Sans Mono',consolas,'Courier New',monospace\"><span style=\"color: #008000; text-decoration-color: #008000\"> ChangeLog Agent setup</span>\n",
       "</pre>\n"
      ],
      "text/plain": [
       "\u001b[32m ChangeLog Agent setup\u001b[0m\n"
      ]
     },
     "metadata": {},
     "output_type": "display_data"
    }
   ],
   "source": [
    "@function_tool\n",
    "def get_changelog(service:list) ->list[str]:\n",
    "    change_log=[\"ProductCatalogService changed\",\"CheckoutService changed\"]\n",
    "    return change_log\n",
    "\n",
    "change_agent = Agent(\n",
    "    name=\"ChangeLog Agent\",\n",
    "    instructions=(\n",
    "        \"An array of service names will be passed on - like ['ProductCatalogService','CheckoutService','..'].\\n\"\n",
    "        \"Identify what has changed with these services and return them.\\n\"\n",
    "        \"Use available tools for this and do not generate data on our own.\\n\"\n",
    "        \"Just return all changes in a comma separated format like a python list[str].\\n\"\n",
    "        \"Do not return duplicate changes\"\n",
    "    ),\n",
    "    model= model,\n",
    "    tools=[get_changelog],\n",
    "    model_settings=ModelSettings(temperature=0.0),\n",
    ")\n",
    "print(\"[green] ChangeLog Agent setup[/green]\")"
   ]
  },
  {
   "cell_type": "code",
   "execution_count": 5,
   "id": "42e39bb8-fa31-493a-b551-b5467728d61e",
   "metadata": {},
   "outputs": [
    {
     "data": {
      "text/html": [
       "<pre style=\"white-space:pre;overflow-x:auto;line-height:normal;font-family:Menlo,'DejaVu Sans Mono',consolas,'Courier New',monospace\"><span style=\"color: #008000; text-decoration-color: #008000\"> ErrorLog Agent setup</span>\n",
       "</pre>\n"
      ],
      "text/plain": [
       "\u001b[32m ErrorLog Agent setup\u001b[0m\n"
      ]
     },
     "metadata": {},
     "output_type": "display_data"
    }
   ],
   "source": [
    "@function_tool\n",
    "def get_errorlog(service:list) ->list[str]:\n",
    "    error_log=[\"ProductCatalogService is responding slowly\"]\n",
    "    return error_log\n",
    "\n",
    "error_agent = Agent(\n",
    "    name=\"Error Log Agent\",\n",
    "    instructions=(\n",
    "        \"An array of service names will be passed on - like ['ProductCatalogService','CheckoutService','..']. \\n\"\n",
    "        \"Note that all services may not have error messages and it is unlikely that same message appear in logs of all services. \\n\"\n",
    "        \"Use available tools for this and do not generate data on our own.\\n\"\n",
    "        \"The error messages will have service names in the messages. \\n\"\n",
    "        \"Identify which services have what kind of errors\"\n",
    "    ),\n",
    "    model= model,\n",
    "    tools=[get_errorlog],\n",
    "    model_settings=ModelSettings(temperature=0.0),\n",
    ")\n",
    "print(\"[green] ErrorLog Agent setup[/green]\")"
   ]
  },
  {
   "cell_type": "markdown",
   "id": "45fbf22f-e277-43e0-b225-d6981187ec50",
   "metadata": {},
   "source": [
    "The Debugger Agent takes all the facts you’ve gathered and asks the LLM to reason about root cause. This does not use tool calling.\n",
    "\n"
   ]
  },
  {
   "cell_type": "code",
   "execution_count": 6,
   "id": "5ff69f17-c445-4883-b59e-62e3103f515e",
   "metadata": {},
   "outputs": [
    {
     "data": {
      "text/html": [
       "<pre style=\"white-space:pre;overflow-x:auto;line-height:normal;font-family:Menlo,'DejaVu Sans Mono',consolas,'Courier New',monospace\"><span style=\"color: #008000; text-decoration-color: #008000\"> Debugger Agent setup</span>\n",
       "</pre>\n"
      ],
      "text/plain": [
       "\u001b[32m Debugger Agent setup\u001b[0m\n"
      ]
     },
     "metadata": {},
     "output_type": "display_data"
    }
   ],
   "source": [
    "debugger_agent = Agent(\n",
    "    name=\"Debugger Agent\",\n",
    "    instructions=(\n",
    "        \"You will be given:\\n\"\n",
    "        \"1. Incident details.\\n\"\n",
    "        \"2. Services that could have been root cause of the problem.\\n\"\n",
    "        \"3. Services that were changed in the time interval.\\n\"\n",
    "        \"4. Services that had errors in the logs.\\n\"\n",
    "        \"Based on the above, logically think through and conclude the most likely reason for this problem. \\n\"\n",
    "        \"Please lay down your thought process clearly that led you to the conclusion. \"\n",
    "    ),\n",
    "    model= model,\n",
    "    model_settings=ModelSettings(temperature=0.0),\n",
    ")\n",
    "print(\"[green] Debugger Agent setup[/green]\")"
   ]
  },
  {
   "cell_type": "markdown",
   "id": "4d5ae34d-9029-4776-8569-9398c540dfa2",
   "metadata": {},
   "source": [
    "This is the orchestration function\n"
   ]
  },
  {
   "cell_type": "code",
   "execution_count": 7,
   "id": "496dd932-1330-4749-aee5-e909e112b948",
   "metadata": {},
   "outputs": [
    {
     "data": {
      "text/html": [
       "<pre style=\"white-space:pre;overflow-x:auto;line-height:normal;font-family:Menlo,'DejaVu Sans Mono',consolas,'Courier New',monospace\"><span style=\"color: #008000; text-decoration-color: #008000\"> Agent orchestration setup</span>\n",
       "</pre>\n"
      ],
      "text/plain": [
       "\u001b[32m Agent orchestration setup\u001b[0m\n"
      ]
     },
     "metadata": {},
     "output_type": "display_data"
    }
   ],
   "source": [
    "import asyncio\n",
    "async def orchestrate(input):\n",
    "    # Call the intermediate agents to gather the facts\n",
    "    # These all use tools heavily\n",
    "    dep_result = await Runner.run(did_agent,input)\n",
    "    change_result = await Runner.run(change_agent, dep_result.final_output)\n",
    "    error_result = await Runner.run(error_agent, dep_result.final_output)\n",
    "\n",
    "    services = dep_result.final_output               # e.g. [\"foo\",\"bar\",\"baz\"]\n",
    "    changes  = change_result.final_output             # e.g. [\"foo changed\",\"bar changed\"]\n",
    "    errors   = error_result.final_output              # e.g. [\"foo is responding slowly\"]\n",
    "\n",
    "    # Build a single prompt string:\n",
    "    message = (\n",
    "        \"Incident details: \" + input + \"\\n\"\n",
    "        \"Affected services: \" + services + \"\\n\"\n",
    "        \"Changes detected: \" + changes + \"\\n\"\n",
    "        \"Error logs: \" + errors + \"\\n\"\n",
    "        \"Based on the above, logically think through and conclude the most likely reason for this problem. \"\n",
    "        \"Please lay down your thought process clearly that led you to the conclusion.\"\n",
    "    )\n",
    "    print(\"\\n\")\n",
    "    print(\"Input to the Deubgger Agent: \")\n",
    "    print(\"-----------------------------\")\n",
    "    print(message)\n",
    "    print(\"\\n\")\n",
    "    # Invoke it:\n",
    "    debugger_result = await Runner.run(debugger_agent, message)\n",
    "    return debugger_result.final_output\n",
    "print(\"[green] Agent orchestration setup[/green]\")"
   ]
  },
  {
   "cell_type": "markdown",
   "id": "c169e674-c954-4226-bc28-66e983dee53e",
   "metadata": {},
   "source": [
    "## Invoking the agentic workflow\n",
    "\n",
    "Expect this to take a few moments"
   ]
  },
  {
   "cell_type": "code",
   "execution_count": 8,
   "id": "9b12d30b-4e12-48cf-8baf-3cbc2449fba2",
   "metadata": {},
   "outputs": [
    {
     "data": {
      "text/html": [
       "<pre style=\"white-space:pre;overflow-x:auto;line-height:normal;font-family:Menlo,'DejaVu Sans Mono',consolas,'Courier New',monospace\">\n",
       "\n",
       "</pre>\n"
      ],
      "text/plain": [
       "\n",
       "\n"
      ]
     },
     "metadata": {},
     "output_type": "display_data"
    },
    {
     "data": {
      "text/html": [
       "<pre style=\"white-space:pre;overflow-x:auto;line-height:normal;font-family:Menlo,'DejaVu Sans Mono',consolas,'Courier New',monospace\">Input to the Deubgger Agent: \n",
       "</pre>\n"
      ],
      "text/plain": [
       "Input to the Deubgger Agent: \n"
      ]
     },
     "metadata": {},
     "output_type": "display_data"
    },
    {
     "data": {
      "text/html": [
       "<pre style=\"white-space:pre;overflow-x:auto;line-height:normal;font-family:Menlo,'DejaVu Sans Mono',consolas,'Courier New',monospace\">-----------------------------\n",
       "</pre>\n"
      ],
      "text/plain": [
       "-----------------------------\n"
      ]
     },
     "metadata": {},
     "output_type": "display_data"
    },
    {
     "data": {
      "text/html": [
       "<pre style=\"white-space:pre;overflow-x:auto;line-height:normal;font-family:Menlo,'DejaVu Sans Mono',consolas,'Courier New',monospace\">Incident details: Incident: ShoppingCart  response time has increased to <span style=\"color: #008080; text-decoration-color: #008080; font-weight: bold\">10</span> sec\n",
       "Affected services: The affected service is ShoppingCart, and its dependencies are ProductCatalogService, \n",
       "CheckoutService, and UserProfileService.\n",
       "Changes detected: The changes to the affected service <span style=\"color: #008000; text-decoration-color: #008000\">'ShoppingCart'</span> are:\n",
       "\n",
       "ProductCatalogService changed, \n",
       "CheckoutService changed\n",
       "Error logs: It appears that the ProductCatalogService is experiencing slow response times. This could be causing \n",
       "issues with the ShoppingCart service, which relies on it.\n",
       "\n",
       "The CheckoutService and UserProfileService do not have any error messages in their logs at this time. However, it's\n",
       "worth noting that the ShoppingCart service itself has an error message indicating that it is affected by the issue \n",
       "with ProductCatalogService.\n",
       "\n",
       "Here is a summary of the error messages:\n",
       "\n",
       "* ProductCatalogService: slow response times\n",
       "* ShoppingCart: affected by slow response times of ProductCatalogService\n",
       "Based on the above, logically think through and conclude the most likely reason for this problem. Please lay down \n",
       "your thought process clearly that led you to the conclusion.\n",
       "</pre>\n"
      ],
      "text/plain": [
       "Incident details: Incident: ShoppingCart  response time has increased to \u001b[1;36m10\u001b[0m sec\n",
       "Affected services: The affected service is ShoppingCart, and its dependencies are ProductCatalogService, \n",
       "CheckoutService, and UserProfileService.\n",
       "Changes detected: The changes to the affected service \u001b[32m'ShoppingCart'\u001b[0m are:\n",
       "\n",
       "ProductCatalogService changed, \n",
       "CheckoutService changed\n",
       "Error logs: It appears that the ProductCatalogService is experiencing slow response times. This could be causing \n",
       "issues with the ShoppingCart service, which relies on it.\n",
       "\n",
       "The CheckoutService and UserProfileService do not have any error messages in their logs at this time. However, it's\n",
       "worth noting that the ShoppingCart service itself has an error message indicating that it is affected by the issue \n",
       "with ProductCatalogService.\n",
       "\n",
       "Here is a summary of the error messages:\n",
       "\n",
       "* ProductCatalogService: slow response times\n",
       "* ShoppingCart: affected by slow response times of ProductCatalogService\n",
       "Based on the above, logically think through and conclude the most likely reason for this problem. Please lay down \n",
       "your thought process clearly that led you to the conclusion.\n"
      ]
     },
     "metadata": {},
     "output_type": "display_data"
    },
    {
     "data": {
      "text/html": [
       "<pre style=\"white-space:pre;overflow-x:auto;line-height:normal;font-family:Menlo,'DejaVu Sans Mono',consolas,'Courier New',monospace\">\n",
       "\n",
       "</pre>\n"
      ],
      "text/plain": [
       "\n",
       "\n"
      ]
     },
     "metadata": {},
     "output_type": "display_data"
    },
    {
     "data": {
      "text/html": [
       "<pre style=\"white-space:pre;overflow-x:auto;line-height:normal;font-family:Menlo,'DejaVu Sans Mono',consolas,'Courier New',monospace\">=============================================\n",
       "</pre>\n"
      ],
      "text/plain": [
       "=============================================\n"
      ]
     },
     "metadata": {},
     "output_type": "display_data"
    },
    {
     "data": {
      "text/html": [
       "<pre style=\"white-space:pre;overflow-x:auto;line-height:normal;font-family:Menlo,'DejaVu Sans Mono',consolas,'Courier New',monospace\">=== Debugger Thought Process &amp; Conclusion ===\n",
       "</pre>\n"
      ],
      "text/plain": [
       "=== Debugger Thought Process & Conclusion ===\n"
      ]
     },
     "metadata": {},
     "output_type": "display_data"
    },
    {
     "data": {
      "text/html": [
       "<pre style=\"white-space:pre;overflow-x:auto;line-height:normal;font-family:Menlo,'DejaVu Sans Mono',consolas,'Courier New',monospace\">=============================================\n",
       "</pre>\n"
      ],
      "text/plain": [
       "=============================================\n"
      ]
     },
     "metadata": {},
     "output_type": "display_data"
    },
    {
     "data": {
      "text/html": [
       "<pre style=\"white-space:pre;overflow-x:auto;line-height:normal;font-family:Menlo,'DejaVu Sans Mono',consolas,'Courier New',monospace\">To determine the most likely cause of the increased response time in the ShoppingCart service, I will analyze the \n",
       "given information step by step.\n",
       "\n",
       "**Step <span style=\"color: #008080; text-decoration-color: #008080; font-weight: bold\">1</span>: Identify the affected services**\n",
       "\n",
       "The affected services are:\n",
       "\n",
       "* ShoppingCart\n",
       "* ProductCatalogService <span style=\"font-weight: bold\">(</span>which is a dependency of ShoppingCart<span style=\"font-weight: bold\">)</span>\n",
       "* CheckoutService <span style=\"font-weight: bold\">(</span>which is also a dependency of ShoppingCart<span style=\"font-weight: bold\">)</span>\n",
       "\n",
       "**Step <span style=\"color: #008080; text-decoration-color: #008080; font-weight: bold\">2</span>: Analyze the changes detected**\n",
       "\n",
       "Changes were detected in two services that are dependencies of ShoppingCart:\n",
       "\n",
       "* ProductCatalogService was changed\n",
       "* CheckoutService was changed\n",
       "\n",
       "These changes could potentially impact the performance of ShoppingCart.\n",
       "\n",
       "**Step <span style=\"color: #008080; text-decoration-color: #008080; font-weight: bold\">3</span>: Examine the error logs**\n",
       "\n",
       "The error logs indicate that:\n",
       "\n",
       "* ProductCatalogService is experiencing slow response times, which could be causing issues with ShoppingCart.\n",
       "* The ShoppingCart service itself has an error message indicating that it is affected by the issue with \n",
       "ProductCatalogService.\n",
       "\n",
       "This suggests a direct causal relationship between the changes to ProductCatalogService and the performance issue \n",
       "in ShoppingCart.\n",
       "\n",
       "**Step <span style=\"color: #008080; text-decoration-color: #008080; font-weight: bold\">4</span>: Eliminate other potential causes**\n",
       "\n",
       "Although CheckoutService was also changed, there are no error messages in its logs. This reduces the likelihood of \n",
       "CheckoutService being the primary cause of the problem.\n",
       "\n",
       "UserProfileService is not mentioned as having any issues or changes, so it can be ruled out as a contributing \n",
       "factor.\n",
       "\n",
       "**Conclusion**\n",
       "\n",
       "Based on the analysis, I conclude that the most likely reason for the increased response time in the ShoppingCart \n",
       "service is the change to ProductCatalogService. The slow response times in ProductCatalogService are causing issues\n",
       "with ShoppingCart, which relies on it. This conclusion is supported by the direct causal relationship between the \n",
       "changes to ProductCatalogService and the performance issue in ShoppingCart.\n",
       "\n",
       "Therefore, I would recommend investigating and resolving the issue with ProductCatalogService as the primary cause \n",
       "of the problem.\n",
       "</pre>\n"
      ],
      "text/plain": [
       "To determine the most likely cause of the increased response time in the ShoppingCart service, I will analyze the \n",
       "given information step by step.\n",
       "\n",
       "**Step \u001b[1;36m1\u001b[0m: Identify the affected services**\n",
       "\n",
       "The affected services are:\n",
       "\n",
       "* ShoppingCart\n",
       "* ProductCatalogService \u001b[1m(\u001b[0mwhich is a dependency of ShoppingCart\u001b[1m)\u001b[0m\n",
       "* CheckoutService \u001b[1m(\u001b[0mwhich is also a dependency of ShoppingCart\u001b[1m)\u001b[0m\n",
       "\n",
       "**Step \u001b[1;36m2\u001b[0m: Analyze the changes detected**\n",
       "\n",
       "Changes were detected in two services that are dependencies of ShoppingCart:\n",
       "\n",
       "* ProductCatalogService was changed\n",
       "* CheckoutService was changed\n",
       "\n",
       "These changes could potentially impact the performance of ShoppingCart.\n",
       "\n",
       "**Step \u001b[1;36m3\u001b[0m: Examine the error logs**\n",
       "\n",
       "The error logs indicate that:\n",
       "\n",
       "* ProductCatalogService is experiencing slow response times, which could be causing issues with ShoppingCart.\n",
       "* The ShoppingCart service itself has an error message indicating that it is affected by the issue with \n",
       "ProductCatalogService.\n",
       "\n",
       "This suggests a direct causal relationship between the changes to ProductCatalogService and the performance issue \n",
       "in ShoppingCart.\n",
       "\n",
       "**Step \u001b[1;36m4\u001b[0m: Eliminate other potential causes**\n",
       "\n",
       "Although CheckoutService was also changed, there are no error messages in its logs. This reduces the likelihood of \n",
       "CheckoutService being the primary cause of the problem.\n",
       "\n",
       "UserProfileService is not mentioned as having any issues or changes, so it can be ruled out as a contributing \n",
       "factor.\n",
       "\n",
       "**Conclusion**\n",
       "\n",
       "Based on the analysis, I conclude that the most likely reason for the increased response time in the ShoppingCart \n",
       "service is the change to ProductCatalogService. The slow response times in ProductCatalogService are causing issues\n",
       "with ShoppingCart, which relies on it. This conclusion is supported by the direct causal relationship between the \n",
       "changes to ProductCatalogService and the performance issue in ShoppingCart.\n",
       "\n",
       "Therefore, I would recommend investigating and resolving the issue with ProductCatalogService as the primary cause \n",
       "of the problem.\n"
      ]
     },
     "metadata": {},
     "output_type": "display_data"
    }
   ],
   "source": [
    "input = \"Incident: ShoppingCart  response time has increased to 10 sec\"\n",
    "diagnosis = await orchestrate(input)\n",
    "print(\"=============================================\")\n",
    "print(\"=== Debugger Thought Process & Conclusion ===\")\n",
    "print(\"=============================================\")\n",
    "print(diagnosis)"
   ]
  },
  {
   "cell_type": "markdown",
   "id": "38efe065-d4e6-41a6-bb4b-60ce7734f102",
   "metadata": {},
   "source": [
    "# Microservices\n",
    "\n",
    "There are several meaningful similarities between LLM-based AI agents and microservices:\n",
    "\n",
    "## Similarities\n",
    "#### Specialized functionality: \n",
    "Both are designed to handle specific tasks or domains. Microservices focus on particular business capabilities, while AI agents can be specialized for specific types of interactions or knowledge domains.\n",
    "### Independent operation: \n",
    "Both can operate autonomously within their defined scope. Once configured, they can process requests without requiring constant supervision.\n",
    "### Communication patterns: \n",
    "Both typically communicate via messages/APIs. Microservices use REST/gRPC/messaging protocols, while AI agents receive prompts and return responses through APIs.\n",
    "### Composability: \n",
    "Both can be combined to build larger systems. Microservices can be orchestrated to create complex applications; similarly, multiple AI agents can work together in a workflow.\n",
    "### Statelessness vs. statefulness: \n",
    "Basic implementations of both can be stateless, but more sophisticated versions maintain state. The Agent class you showed maintains conversation history, similar to how some microservices maintain session state.\n",
    "### Scaling considerations: \n",
    "Both face similar operational challenges around scaling, monitoring, and versioning.\n",
    "\n",
    "## Key differences:\n",
    "\n",
    "### Implementation: \n",
    "Microservices are traditional code with deterministic logic, while LLM agents use probabilistic models. MCP Servers which expose tools to be used by Agents could be totally traditional code with deterministic logic.\n",
    "### Predictability: \n",
    "Microservices have more predictable outputs for given inputs, while LLM responses can vary.\n"
   ]
  },
  {
   "cell_type": "markdown",
   "id": "21b9ab57-7246-4c17-a9c1-2ccc9a7cc487",
   "metadata": {},
   "source": [
    "# AFTERWORD\n",
    "Agents are an extremely powerful construct in the field of Generative AI:\n",
    "1. You can achieve complex tasks designing appropriate agents and tools and driving interaction between the different agents.\n",
    "1. There are known ways by which we can improve accuracy of the output. Much like human beings help check one another's work, agents can do the same.\n",
    "1. External data retrieval and queries are carried out through the tools.\n",
    "1. If agent processing needs to be vetted, make sure humans are used (human-in-the-loop) to are used to vet the agent output before it moves to the next step. Really, this is no different to how we operate in our real life with human beings - we have review and approval processes etc."
   ]
  }
 ],
 "metadata": {
  "kernelspec": {
   "display_name": "Python 3 (ipykernel)",
   "language": "python",
   "name": "python3"
  },
  "language_info": {
   "codemirror_mode": {
    "name": "ipython",
    "version": 3
   },
   "file_extension": ".py",
   "mimetype": "text/x-python",
   "name": "python",
   "nbconvert_exporter": "python",
   "pygments_lexer": "ipython3",
   "version": "3.12.10"
  }
 },
 "nbformat": 4,
 "nbformat_minor": 5
}
