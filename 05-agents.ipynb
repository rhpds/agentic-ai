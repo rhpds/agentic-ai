{
 "cells": [
  {
   "cell_type": "markdown",
   "id": "e8987006-614e-41b7-9c2f-aa6359e8e231",
   "metadata": {},
   "source": [
    "# Agents\n",
    "\n",
    "In the last lab\n",
    "- we looked at a basic agent structure and agent calling tools.\n",
    "- we also got introduced to the different agentic patterns.\n",
    "\n",
    "In this lab, we see concrete implementation of these patterns.\n",
    "\n",
    "_Each module is typically dependent on the prior modules having been completed successfully_\n"
   ]
  },
  {
   "cell_type": "markdown",
   "id": "5d1c4592-3bff-4ae6-a9be-2ee3aeccba32",
   "metadata": {},
   "source": [
    "As we go intot the Agents Module we need a new Python dependancy"
   ]
  },
  {
   "cell_type": "code",
   "execution_count": 1,
   "id": "6e0155f8-667a-4894-b760-31a966261838",
   "metadata": {},
   "outputs": [
    {
     "name": "stdout",
     "output_type": "stream",
     "text": [
      "Requirement already satisfied: openai-agents==0.0.13 in /home/dev/venv/lib64/python3.12/site-packages (0.0.13)\n",
      "Requirement already satisfied: griffe<2,>=1.5.6 in /home/dev/venv/lib64/python3.12/site-packages (from openai-agents==0.0.13) (1.7.3)\n",
      "Requirement already satisfied: mcp<2,>=1.6.0 in /home/dev/venv/lib64/python3.12/site-packages (from openai-agents==0.0.13) (1.8.1)\n",
      "Requirement already satisfied: openai>=1.76.0 in /home/dev/venv/lib64/python3.12/site-packages (from openai-agents==0.0.13) (1.76.2)\n",
      "Requirement already satisfied: pydantic<3,>=2.10 in /home/dev/venv/lib64/python3.12/site-packages (from openai-agents==0.0.13) (2.11.4)\n",
      "Requirement already satisfied: requests<3,>=2.0 in /home/dev/venv/lib64/python3.12/site-packages (from openai-agents==0.0.13) (2.32.3)\n",
      "Requirement already satisfied: types-requests<3,>=2.0 in /home/dev/venv/lib64/python3.12/site-packages (from openai-agents==0.0.13) (2.32.0.20250515)\n",
      "Requirement already satisfied: typing-extensions<5,>=4.12.2 in /home/dev/venv/lib64/python3.12/site-packages (from openai-agents==0.0.13) (4.13.2)\n",
      "Requirement already satisfied: colorama>=0.4 in /home/dev/venv/lib64/python3.12/site-packages (from griffe<2,>=1.5.6->openai-agents==0.0.13) (0.4.6)\n",
      "Requirement already satisfied: anyio>=4.5 in /home/dev/venv/lib64/python3.12/site-packages (from mcp<2,>=1.6.0->openai-agents==0.0.13) (4.9.0)\n",
      "Requirement already satisfied: httpx-sse>=0.4 in /home/dev/venv/lib64/python3.12/site-packages (from mcp<2,>=1.6.0->openai-agents==0.0.13) (0.4.0)\n",
      "Requirement already satisfied: httpx>=0.27 in /home/dev/venv/lib64/python3.12/site-packages (from mcp<2,>=1.6.0->openai-agents==0.0.13) (0.28.1)\n",
      "Requirement already satisfied: pydantic-settings>=2.5.2 in /home/dev/venv/lib64/python3.12/site-packages (from mcp<2,>=1.6.0->openai-agents==0.0.13) (2.9.1)\n",
      "Requirement already satisfied: python-multipart>=0.0.9 in /home/dev/venv/lib64/python3.12/site-packages (from mcp<2,>=1.6.0->openai-agents==0.0.13) (0.0.20)\n",
      "Requirement already satisfied: sse-starlette>=1.6.1 in /home/dev/venv/lib64/python3.12/site-packages (from mcp<2,>=1.6.0->openai-agents==0.0.13) (2.3.5)\n",
      "Requirement already satisfied: starlette>=0.27 in /home/dev/venv/lib64/python3.12/site-packages (from mcp<2,>=1.6.0->openai-agents==0.0.13) (0.46.2)\n",
      "Requirement already satisfied: uvicorn>=0.23.1 in /home/dev/venv/lib64/python3.12/site-packages (from mcp<2,>=1.6.0->openai-agents==0.0.13) (0.34.2)\n",
      "Requirement already satisfied: distro<2,>=1.7.0 in /home/dev/venv/lib64/python3.12/site-packages (from openai>=1.76.0->openai-agents==0.0.13) (1.9.0)\n",
      "Requirement already satisfied: jiter<1,>=0.4.0 in /home/dev/venv/lib64/python3.12/site-packages (from openai>=1.76.0->openai-agents==0.0.13) (0.9.0)\n",
      "Requirement already satisfied: sniffio in /home/dev/venv/lib64/python3.12/site-packages (from openai>=1.76.0->openai-agents==0.0.13) (1.3.1)\n",
      "Requirement already satisfied: tqdm>4 in /home/dev/venv/lib64/python3.12/site-packages (from openai>=1.76.0->openai-agents==0.0.13) (4.67.1)\n",
      "Requirement already satisfied: annotated-types>=0.6.0 in /home/dev/venv/lib64/python3.12/site-packages (from pydantic<3,>=2.10->openai-agents==0.0.13) (0.7.0)\n",
      "Requirement already satisfied: pydantic-core==2.33.2 in /home/dev/venv/lib64/python3.12/site-packages (from pydantic<3,>=2.10->openai-agents==0.0.13) (2.33.2)\n",
      "Requirement already satisfied: typing-inspection>=0.4.0 in /home/dev/venv/lib64/python3.12/site-packages (from pydantic<3,>=2.10->openai-agents==0.0.13) (0.4.0)\n",
      "Requirement already satisfied: charset-normalizer<4,>=2 in /home/dev/venv/lib64/python3.12/site-packages (from requests<3,>=2.0->openai-agents==0.0.13) (3.4.1)\n",
      "Requirement already satisfied: idna<4,>=2.5 in /home/dev/venv/lib64/python3.12/site-packages (from requests<3,>=2.0->openai-agents==0.0.13) (3.10)\n",
      "Requirement already satisfied: urllib3<3,>=1.21.1 in /home/dev/venv/lib64/python3.12/site-packages (from requests<3,>=2.0->openai-agents==0.0.13) (2.4.0)\n",
      "Requirement already satisfied: certifi>=2017.4.17 in /home/dev/venv/lib64/python3.12/site-packages (from requests<3,>=2.0->openai-agents==0.0.13) (2025.4.26)\n",
      "Requirement already satisfied: httpcore==1.* in /home/dev/venv/lib64/python3.12/site-packages (from httpx>=0.27->mcp<2,>=1.6.0->openai-agents==0.0.13) (1.0.9)\n",
      "Requirement already satisfied: h11>=0.16 in /home/dev/venv/lib64/python3.12/site-packages (from httpcore==1.*->httpx>=0.27->mcp<2,>=1.6.0->openai-agents==0.0.13) (0.16.0)\n",
      "Requirement already satisfied: python-dotenv>=0.21.0 in /home/dev/venv/lib64/python3.12/site-packages (from pydantic-settings>=2.5.2->mcp<2,>=1.6.0->openai-agents==0.0.13) (1.1.0)\n",
      "Requirement already satisfied: click>=7.0 in /home/dev/venv/lib64/python3.12/site-packages (from uvicorn>=0.23.1->mcp<2,>=1.6.0->openai-agents==0.0.13) (8.1.8)\n",
      "\n",
      "\u001b[1m[\u001b[0m\u001b[34;49mnotice\u001b[0m\u001b[1;39;49m]\u001b[0m\u001b[39;49m A new release of pip is available: \u001b[0m\u001b[31;49m23.2.1\u001b[0m\u001b[39;49m -> \u001b[0m\u001b[32;49m25.1.1\u001b[0m\n",
      "\u001b[1m[\u001b[0m\u001b[34;49mnotice\u001b[0m\u001b[1;39;49m]\u001b[0m\u001b[39;49m To update, run: \u001b[0m\u001b[32;49mpip install --upgrade pip\u001b[0m\n",
      "Note: you may need to restart the kernel to use updated packages.\n"
     ]
    }
   ],
   "source": [
    "%pip install openai-agents==0.0.13"
   ]
  },
  {
   "cell_type": "code",
   "execution_count": null,
   "id": "d7bd7a3d-b43b-4bc2-91b0-b0a0403ea0c8",
   "metadata": {},
   "outputs": [
    {
     "data": {
      "text/html": [
       "<pre style=\"white-space:pre;overflow-x:auto;line-height:normal;font-family:Menlo,'DejaVu Sans Mono',consolas,'Courier New',monospace\"><span style=\"color: #008000; text-decoration-color: #008000\"> Model setup</span>\n",
       "</pre>\n"
      ],
      "text/plain": [
       "\u001b[32m Model setup\u001b[0m\n"
      ]
     },
     "metadata": {},
     "output_type": "display_data"
    }
   ],
   "source": [
    "import openai\n",
    "import re\n",
    "import httpx\n",
    "import os\n",
    "import requests\n",
    "import rich\n",
    "import json\n",
    "from openai import OpenAI\n",
    "import requests\n",
    "from agents import Agent, ModelSettings, function_tool, Runner, AsyncOpenAI, OpenAIChatCompletionsModel\n",
    "\n",
    "\n",
    "os.environ[\"OPENAI_API_KEY\"] = \"dummy_key\" \n",
    "api_key = \"placeholder\" \n",
    "base_url = \"http://localhost:11434/v1/\"\n",
    "model = \"llama3.2:3b-instruct-fp16\" \n",
    "\n",
    "# Configure the model\n",
    "model = OpenAIChatCompletionsModel( \n",
    "     model=model,\n",
    "     openai_client=AsyncOpenAI(base_url=base_url, api_key=openai.api_key),\n",
    " )\n",
    "\n",
    "from rich import print\n",
    "print(\"[green] Model setup[/green]\")"
   ]
  },
  {
   "cell_type": "markdown",
   "id": "3660bec5-d54d-473f-9f03-0604120fdbd1",
   "metadata": {},
   "source": [
    "## Agents participating in a Trouble shooting Workflow\n",
    "1. The investigation into four specialized “agents” that work together like a miniature on-call team. \n",
    "1. First, the Dependency Identifier agent figures out which backend services power the shopping cart. \n",
    "1. Next, the Change Tracker agent looks at those services to see what code or configuration changes went out recently. \n",
    "1. Then the Error Finder agent scans their logs to pull out any real-time error messages. \n",
    "1. Finally, the Debugger agent takes those three fact-sets—dependencies, changes, and errors—and reasons through them step by step to deliver a clear, human-friendly diagnosis of the most likely root cause.\n",
    "\n",
    "_This will be agentic workflow will be improved further in the next lesson_"
   ]
  },
  {
   "cell_type": "code",
   "execution_count": 109,
   "id": "3d8cd8f5-e4c4-472a-a765-2f0240dc0216",
   "metadata": {},
   "outputs": [
    {
     "data": {
      "text/html": [
       "<pre style=\"white-space:pre;overflow-x:auto;line-height:normal;font-family:Menlo,'DejaVu Sans Mono',consolas,'Courier New',monospace\"><span style=\"color: #008000; text-decoration-color: #008000\"> DependencyIdentifier Agent setup</span>\n",
       "</pre>\n"
      ],
      "text/plain": [
       "\u001b[32m DependencyIdentifier Agent setup\u001b[0m\n"
      ]
     },
     "metadata": {},
     "output_type": "display_data"
    }
   ],
   "source": [
    "@function_tool\n",
    "def get_dependency(service:str) ->list[str]:\n",
    "    dep_service=[\"ProductCatalogService\",\"CheckoutService\",\"UserProfileService\"]\n",
    "    return dep_service\n",
    "\n",
    "did_agent = Agent(\n",
    "    name=\"DependencyIdentifier Agent\",\n",
    "    instructions=(\n",
    "        \"An incident will be passed on.\\n\"\n",
    "        \"From that, firstly identify the affected service name only.\\n\"\n",
    "        \"Next, identify what are the service dependencies for that service.\\n\"\n",
    "        \"Just return all service names in a comma separated format like a python list[str]. Also include the affected service.\\n\"\n",
    "        \"And nothing else\"\n",
    "    ),\n",
    "    model= model,\n",
    "    tools=[get_dependency],\n",
    "    model_settings=ModelSettings(temperature=0.0),\n",
    ")\n",
    "\n",
    "#Useful for debugging individual agents\n",
    "#dep_result = await Runner.run(did_agent, \"Incident: Shopping cart response time has increased to 10 sec\")\n",
    "#print(dep_result.final_output)\n",
    "\n",
    "print(\"[green] DependencyIdentifier Agent setup[/green]\")"
   ]
  },
  {
   "cell_type": "code",
   "execution_count": 110,
   "id": "86ec7e0c-f611-40ea-a1c2-8fef3a294af6",
   "metadata": {},
   "outputs": [
    {
     "data": {
      "text/html": [
       "<pre style=\"white-space:pre;overflow-x:auto;line-height:normal;font-family:Menlo,'DejaVu Sans Mono',consolas,'Courier New',monospace\"><span style=\"color: #008000; text-decoration-color: #008000\"> ChangeLog Agent setup</span>\n",
       "</pre>\n"
      ],
      "text/plain": [
       "\u001b[32m ChangeLog Agent setup\u001b[0m\n"
      ]
     },
     "metadata": {},
     "output_type": "display_data"
    }
   ],
   "source": [
    "@function_tool\n",
    "def get_changelog(service:list) ->list[str]:\n",
    "    change_log=[\"ProductCatalogService changed\",\"CheckoutService changed\"]\n",
    "    return change_log\n",
    "\n",
    "change_agent = Agent(\n",
    "    name=\"ChangeLog Agent\",\n",
    "    instructions=(\n",
    "        \"An array of service names will be passed on - like ['ProductCatalogService','CheckoutService','..'].\\n\"\n",
    "        \"Identify what has changed with these services and return them.\\n\"\n",
    "        \"Use available tools for this and do not generate data on our own.\\n\"\n",
    "        \"Just return all changes in a comma separated format like a python list[str].\\n\"\n",
    "        \"Do not return duplicate changes\"\n",
    "    ),\n",
    "    model= model,\n",
    "    tools=[get_changelog],\n",
    "    model_settings=ModelSettings(temperature=0.0),\n",
    ")\n",
    "print(\"[green] ChangeLog Agent setup[/green]\")"
   ]
  },
  {
   "cell_type": "code",
   "execution_count": 8,
   "id": "42e39bb8-fa31-493a-b551-b5467728d61e",
   "metadata": {},
   "outputs": [
    {
     "data": {
      "text/html": [
       "<pre style=\"white-space:pre;overflow-x:auto;line-height:normal;font-family:Menlo,'DejaVu Sans Mono',consolas,'Courier New',monospace\"><span style=\"color: #008000; text-decoration-color: #008000\"> ErrorLog Agent setup</span>\n",
       "</pre>\n"
      ],
      "text/plain": [
       "\u001b[32m ErrorLog Agent setup\u001b[0m\n"
      ]
     },
     "metadata": {},
     "output_type": "display_data"
    }
   ],
   "source": [
    "@function_tool\n",
    "def get_errorlog(service:list) ->list[str]:\n",
    "    error_log=[\"ProductCatalogService is responding slowly\"]\n",
    "    return error_log\n",
    "\n",
    "error_agent = Agent(\n",
    "    name=\"Error Log Agent\",\n",
    "    instructions=(\n",
    "        \"An array of service names will be passed on - like ['ProductCatalogService','CheckoutService','..']. \\n\"\n",
    "        \"Note that all services may not have error messages and it is unlikely that same message appear in logs of all services. \\n\"\n",
    "        \"Use available tools for this and do not generate data on our own.\\n\"\n",
    "        \"The error messages will have service names in the messages. \\n\"\n",
    "        \"Identify which services have what kind of errors\"\n",
    "    ),\n",
    "    model= model,\n",
    "    tools=[get_errorlog],\n",
    "    model_settings=ModelSettings(temperature=0.0),\n",
    ")\n",
    "print(\"[green] ErrorLog Agent setup[/green]\")"
   ]
  },
  {
   "cell_type": "markdown",
   "id": "45fbf22f-e277-43e0-b225-d6981187ec50",
   "metadata": {},
   "source": [
    "The Debugger Agent takes all the facts you’ve gathered and asks the LLM to reason about root cause. This does not use tool calling.\n",
    "\n"
   ]
  },
  {
   "cell_type": "code",
   "execution_count": 111,
   "id": "5ff69f17-c445-4883-b59e-62e3103f515e",
   "metadata": {},
   "outputs": [
    {
     "data": {
      "text/html": [
       "<pre style=\"white-space:pre;overflow-x:auto;line-height:normal;font-family:Menlo,'DejaVu Sans Mono',consolas,'Courier New',monospace\"><span style=\"color: #008000; text-decoration-color: #008000\"> Debugger Agent setup</span>\n",
       "</pre>\n"
      ],
      "text/plain": [
       "\u001b[32m Debugger Agent setup\u001b[0m\n"
      ]
     },
     "metadata": {},
     "output_type": "display_data"
    }
   ],
   "source": [
    "debugger_agent = Agent(\n",
    "    name=\"Debugger Agent\",\n",
    "    instructions=(\n",
    "        \"You will be given:\\n\"\n",
    "        \"1. Incident details.\\n\"\n",
    "        \"2. Services that could have been root cause of the problem.\\n\"\n",
    "        \"3. Services that were changed in the time interval.\\n\"\n",
    "        \"4. Services that had errors in the logs.\\n\"\n",
    "        \"Based on the above, logically think through and conclude the most likely reason for this problem. \\n\"\n",
    "        \"Please lay down your thought process clearly that led you to the conclusion. \"\n",
    "    ),\n",
    "    model= model,\n",
    "    model_settings=ModelSettings(temperature=0.0),\n",
    ")\n",
    "print(\"[green] Debugger Agent setup[/green]\")"
   ]
  },
  {
   "cell_type": "markdown",
   "id": "4d5ae34d-9029-4776-8569-9398c540dfa2",
   "metadata": {},
   "source": [
    "This is the orchestration function\n"
   ]
  },
  {
   "cell_type": "code",
   "execution_count": 112,
   "id": "496dd932-1330-4749-aee5-e909e112b948",
   "metadata": {},
   "outputs": [
    {
     "data": {
      "text/html": [
       "<pre style=\"white-space:pre;overflow-x:auto;line-height:normal;font-family:Menlo,'DejaVu Sans Mono',consolas,'Courier New',monospace\"><span style=\"color: #008000; text-decoration-color: #008000\"> Agent orchestration setup</span>\n",
       "</pre>\n"
      ],
      "text/plain": [
       "\u001b[32m Agent orchestration setup\u001b[0m\n"
      ]
     },
     "metadata": {},
     "output_type": "display_data"
    }
   ],
   "source": [
    "import asyncio\n",
    "async def orchestrate(input):\n",
    "    # Call the intermediate agents to gather the facts\n",
    "    # These all use tools heavily\n",
    "    dep_result = await Runner.run(did_agent,input)\n",
    "    change_result = await Runner.run(change_agent, dep_result.final_output)\n",
    "    error_result = await Runner.run(error_agent, dep_result.final_output)\n",
    "\n",
    "    services = dep_result.final_output               # e.g. [\"foo\",\"bar\",\"baz\"]\n",
    "    changes  = change_result.final_output             # e.g. [\"foo changed\",\"bar changed\"]\n",
    "    errors   = error_result.final_output              # e.g. [\"foo is responding slowly\"]\n",
    "\n",
    "    # Build a single prompt string:\n",
    "    message = (\n",
    "        \"Incident details: \" + input + \"\\n\"\n",
    "        \"Affected services: \" + services + \"\\n\"\n",
    "        \"Changes detected: \" + changes + \"\\n\"\n",
    "        \"Error logs: \" + errors + \"\\n\"\n",
    "        \"Based on the above, logically think through and conclude the most likely reason for this problem. \"\n",
    "        \"Please lay down your thought process clearly that led you to the conclusion.\"\n",
    "    )\n",
    "    print(\"\\n\")\n",
    "    print(\"Input to the Deubgger Agent: \")\n",
    "    print(\"-----------------------------\")\n",
    "    print(message)\n",
    "    print(\"\\n\")\n",
    "    # Invoke it:\n",
    "    debugger_result = await Runner.run(debugger_agent, message)\n",
    "    return debugger_result.final_output\n",
    "print(\"[green] Agent orchestration setup[/green]\")"
   ]
  },
  {
   "cell_type": "markdown",
   "id": "c169e674-c954-4226-bc28-66e983dee53e",
   "metadata": {},
   "source": [
    "## Invoking the agentic workflow\n"
   ]
  },
  {
   "cell_type": "code",
   "execution_count": 113,
   "id": "9b12d30b-4e12-48cf-8baf-3cbc2449fba2",
   "metadata": {},
   "outputs": [
    {
     "data": {
      "text/html": [
       "<pre style=\"white-space:pre;overflow-x:auto;line-height:normal;font-family:Menlo,'DejaVu Sans Mono',consolas,'Courier New',monospace\">\n",
       "\n",
       "</pre>\n"
      ],
      "text/plain": [
       "\n",
       "\n"
      ]
     },
     "metadata": {},
     "output_type": "display_data"
    },
    {
     "data": {
      "text/html": [
       "<pre style=\"white-space:pre;overflow-x:auto;line-height:normal;font-family:Menlo,'DejaVu Sans Mono',consolas,'Courier New',monospace\">Input to the Deubgger Agent: \n",
       "</pre>\n"
      ],
      "text/plain": [
       "Input to the Deubgger Agent: \n"
      ]
     },
     "metadata": {},
     "output_type": "display_data"
    },
    {
     "data": {
      "text/html": [
       "<pre style=\"white-space:pre;overflow-x:auto;line-height:normal;font-family:Menlo,'DejaVu Sans Mono',consolas,'Courier New',monospace\">-----------------------------\n",
       "</pre>\n"
      ],
      "text/plain": [
       "-----------------------------\n"
      ]
     },
     "metadata": {},
     "output_type": "display_data"
    },
    {
     "data": {
      "text/html": [
       "<pre style=\"white-space:pre;overflow-x:auto;line-height:normal;font-family:Menlo,'DejaVu Sans Mono',consolas,'Courier New',monospace\">Incident details: Incident: ShoppingCart  response time has increased to <span style=\"color: #008080; text-decoration-color: #008080; font-weight: bold\">10</span> sec\n",
       "Affected services: The affected service is ShoppingCart, and its dependencies are ProductCatalogService, \n",
       "CheckoutService, and UserProfileService.\n",
       "Changes detected: The changes to the affected service <span style=\"color: #008000; text-decoration-color: #008000\">'ShoppingCart'</span> are:\n",
       "\n",
       "ProductCatalogService changed, \n",
       "CheckoutService changed\n",
       "Error logs: <span style=\"font-weight: bold\">{</span><span style=\"color: #008000; text-decoration-color: #008000\">\"name\"</span>:<span style=\"color: #008000; text-decoration-color: #008000\">\"get_errorlog\"</span>,<span style=\"color: #008000; text-decoration-color: #008000\">\"parameters\"</span>:<span style=\"font-weight: bold\">{</span><span style=\"color: #008000; text-decoration-color: #008000\">\"service\"</span>:<span style=\"font-weight: bold\">[</span><span style=\"color: #008000; text-decoration-color: #008000\">\"[\"</span><span style=\"font-weight: bold\">}}</span>\n",
       "Based on the above, logically think through and conclude the most likely reason for this problem. Please lay down \n",
       "your thought process clearly that led you to the conclusion.\n",
       "</pre>\n"
      ],
      "text/plain": [
       "Incident details: Incident: ShoppingCart  response time has increased to \u001b[1;36m10\u001b[0m sec\n",
       "Affected services: The affected service is ShoppingCart, and its dependencies are ProductCatalogService, \n",
       "CheckoutService, and UserProfileService.\n",
       "Changes detected: The changes to the affected service \u001b[32m'ShoppingCart'\u001b[0m are:\n",
       "\n",
       "ProductCatalogService changed, \n",
       "CheckoutService changed\n",
       "Error logs: \u001b[1m{\u001b[0m\u001b[32m\"name\"\u001b[0m:\u001b[32m\"get_errorlog\"\u001b[0m,\u001b[32m\"parameters\"\u001b[0m:\u001b[1m{\u001b[0m\u001b[32m\"service\"\u001b[0m:\u001b[1m[\u001b[0m\u001b[32m\"\u001b[0m\u001b[32m[\u001b[0m\u001b[32m\"\u001b[0m\u001b[1m}\u001b[0m\u001b[1m}\u001b[0m\n",
       "Based on the above, logically think through and conclude the most likely reason for this problem. Please lay down \n",
       "your thought process clearly that led you to the conclusion.\n"
      ]
     },
     "metadata": {},
     "output_type": "display_data"
    },
    {
     "data": {
      "text/html": [
       "<pre style=\"white-space:pre;overflow-x:auto;line-height:normal;font-family:Menlo,'DejaVu Sans Mono',consolas,'Courier New',monospace\">\n",
       "\n",
       "</pre>\n"
      ],
      "text/plain": [
       "\n",
       "\n"
      ]
     },
     "metadata": {},
     "output_type": "display_data"
    },
    {
     "data": {
      "text/html": [
       "<pre style=\"white-space:pre;overflow-x:auto;line-height:normal;font-family:Menlo,'DejaVu Sans Mono',consolas,'Courier New',monospace\">=============================================\n",
       "</pre>\n"
      ],
      "text/plain": [
       "=============================================\n"
      ]
     },
     "metadata": {},
     "output_type": "display_data"
    },
    {
     "data": {
      "text/html": [
       "<pre style=\"white-space:pre;overflow-x:auto;line-height:normal;font-family:Menlo,'DejaVu Sans Mono',consolas,'Courier New',monospace\">=== Debugger Thought Process &amp; Conclusion ===\n",
       "</pre>\n"
      ],
      "text/plain": [
       "=== Debugger Thought Process & Conclusion ===\n"
      ]
     },
     "metadata": {},
     "output_type": "display_data"
    },
    {
     "data": {
      "text/html": [
       "<pre style=\"white-space:pre;overflow-x:auto;line-height:normal;font-family:Menlo,'DejaVu Sans Mono',consolas,'Courier New',monospace\">=============================================\n",
       "</pre>\n"
      ],
      "text/plain": [
       "=============================================\n"
      ]
     },
     "metadata": {},
     "output_type": "display_data"
    },
    {
     "data": {
      "text/html": [
       "<pre style=\"white-space:pre;overflow-x:auto;line-height:normal;font-family:Menlo,'DejaVu Sans Mono',consolas,'Courier New',monospace\">To determine the most likely reason for the increased response time of the ShoppingCart service, I'll analyze the \n",
       "given information step by step.\n",
       "\n",
       "**Step <span style=\"color: #008080; text-decoration-color: #008080; font-weight: bold\">1</span>: Identify the affected services**\n",
       "\n",
       "The affected services are:\n",
       "\n",
       "* ShoppingCart\n",
       "* ProductCatalogService\n",
       "* CheckoutService\n",
       "* UserProfileService\n",
       "\n",
       "These services are interconnected, and changes to one service can impact others. However, since the response time \n",
       "of the ShoppingCart service has increased significantly <span style=\"font-weight: bold\">(</span><span style=\"color: #008080; text-decoration-color: #008080; font-weight: bold\">10</span> seconds<span style=\"font-weight: bold\">)</span>, it's likely that the issue is related to this\n",
       "service.\n",
       "\n",
       "**Step <span style=\"color: #008080; text-decoration-color: #008080; font-weight: bold\">2</span>: Analyze the changes detected**\n",
       "\n",
       "The changes detected in the time interval before the incident occurred are:\n",
       "\n",
       "* ProductCatalogService changed\n",
       "* CheckoutService changed\n",
       "\n",
       "These changes suggest that there might be a ripple effect on the ShoppingCart service, as it depends on these \n",
       "services. However, we need to consider other factors as well.\n",
       "\n",
       "**Step <span style=\"color: #008080; text-decoration-color: #008080; font-weight: bold\">3</span>: Examine the error logs**\n",
       "\n",
       "The error log provided is incomplete and doesn't provide much information about the specific issue. The log only \n",
       "mentions that an error occurred in the <span style=\"color: #008000; text-decoration-color: #008000\">\"get_errorlog\"</span> function, but it's unclear what this function does or how it \n",
       "relates to the ShoppingCart service.\n",
       "\n",
       "However, since we're looking for a logical explanation, let's assume that the error logs might be related to one of\n",
       "the services involved. Given the changes detected earlier, I'll focus on ProductCatalogService and CheckoutService \n",
       "as potential causes.\n",
       "\n",
       "**Step <span style=\"color: #008080; text-decoration-color: #008080; font-weight: bold\">4</span>: Consider possible connections between services**\n",
       "\n",
       "Based on the dependencies between services:\n",
       "\n",
       "* ShoppingCart depends on ProductCatalogService for product data.\n",
       "* ShoppingCart depends on CheckoutService for payment processing.\n",
       "* ProductCatalogService might be affected by changes in the database or data storage.\n",
       "* CheckoutService might be affected by changes in payment gateways or payment processing algorithms.\n",
       "\n",
       "Considering these connections, I'll propose a possible explanation:\n",
       "\n",
       "**Most likely reason:**\n",
       "\n",
       "The increased response time of the ShoppingCart service is likely due to issues with the ProductCatalogService. The\n",
       "change to this service might have caused delays in retrieving product data, which is then used by the ShoppingCart \n",
       "service. This delay could be due to various reasons such as:\n",
       "\n",
       "* Database or data storage issues\n",
       "* Slow query performance\n",
       "* Network connectivity problems\n",
       "\n",
       "As a result, the ShoppingCart service is taking longer to process requests and respond with the expected results.\n",
       "\n",
       "**Alternative explanation:**\n",
       "\n",
       "Another possible explanation is that the changes to CheckoutService caused an issue in payment processing, which \n",
       "affected the ShoppingCart service. However, this would require more information about the specific error logs or \n",
       "changes made to CheckoutService to support this claim.\n",
       "\n",
       "In conclusion, based on the given information and logical analysis, I believe that the most likely reason for the \n",
       "increased response time of the ShoppingCart service is related to issues with the ProductCatalogService.\n",
       "</pre>\n"
      ],
      "text/plain": [
       "To determine the most likely reason for the increased response time of the ShoppingCart service, I'll analyze the \n",
       "given information step by step.\n",
       "\n",
       "**Step \u001b[1;36m1\u001b[0m: Identify the affected services**\n",
       "\n",
       "The affected services are:\n",
       "\n",
       "* ShoppingCart\n",
       "* ProductCatalogService\n",
       "* CheckoutService\n",
       "* UserProfileService\n",
       "\n",
       "These services are interconnected, and changes to one service can impact others. However, since the response time \n",
       "of the ShoppingCart service has increased significantly \u001b[1m(\u001b[0m\u001b[1;36m10\u001b[0m seconds\u001b[1m)\u001b[0m, it's likely that the issue is related to this\n",
       "service.\n",
       "\n",
       "**Step \u001b[1;36m2\u001b[0m: Analyze the changes detected**\n",
       "\n",
       "The changes detected in the time interval before the incident occurred are:\n",
       "\n",
       "* ProductCatalogService changed\n",
       "* CheckoutService changed\n",
       "\n",
       "These changes suggest that there might be a ripple effect on the ShoppingCart service, as it depends on these \n",
       "services. However, we need to consider other factors as well.\n",
       "\n",
       "**Step \u001b[1;36m3\u001b[0m: Examine the error logs**\n",
       "\n",
       "The error log provided is incomplete and doesn't provide much information about the specific issue. The log only \n",
       "mentions that an error occurred in the \u001b[32m\"get_errorlog\"\u001b[0m function, but it's unclear what this function does or how it \n",
       "relates to the ShoppingCart service.\n",
       "\n",
       "However, since we're looking for a logical explanation, let's assume that the error logs might be related to one of\n",
       "the services involved. Given the changes detected earlier, I'll focus on ProductCatalogService and CheckoutService \n",
       "as potential causes.\n",
       "\n",
       "**Step \u001b[1;36m4\u001b[0m: Consider possible connections between services**\n",
       "\n",
       "Based on the dependencies between services:\n",
       "\n",
       "* ShoppingCart depends on ProductCatalogService for product data.\n",
       "* ShoppingCart depends on CheckoutService for payment processing.\n",
       "* ProductCatalogService might be affected by changes in the database or data storage.\n",
       "* CheckoutService might be affected by changes in payment gateways or payment processing algorithms.\n",
       "\n",
       "Considering these connections, I'll propose a possible explanation:\n",
       "\n",
       "**Most likely reason:**\n",
       "\n",
       "The increased response time of the ShoppingCart service is likely due to issues with the ProductCatalogService. The\n",
       "change to this service might have caused delays in retrieving product data, which is then used by the ShoppingCart \n",
       "service. This delay could be due to various reasons such as:\n",
       "\n",
       "* Database or data storage issues\n",
       "* Slow query performance\n",
       "* Network connectivity problems\n",
       "\n",
       "As a result, the ShoppingCart service is taking longer to process requests and respond with the expected results.\n",
       "\n",
       "**Alternative explanation:**\n",
       "\n",
       "Another possible explanation is that the changes to CheckoutService caused an issue in payment processing, which \n",
       "affected the ShoppingCart service. However, this would require more information about the specific error logs or \n",
       "changes made to CheckoutService to support this claim.\n",
       "\n",
       "In conclusion, based on the given information and logical analysis, I believe that the most likely reason for the \n",
       "increased response time of the ShoppingCart service is related to issues with the ProductCatalogService.\n"
      ]
     },
     "metadata": {},
     "output_type": "display_data"
    }
   ],
   "source": [
    "input = \"Incident: ShoppingCart  response time has increased to 10 sec\"\n",
    "diagnosis = await orchestrate(input)\n",
    "print(\"=============================================\")\n",
    "print(\"=== Debugger Thought Process & Conclusion ===\")\n",
    "print(\"=============================================\")\n",
    "print(diagnosis)"
   ]
  },
  {
   "cell_type": "markdown",
   "id": "38efe065-d4e6-41a6-bb4b-60ce7734f102",
   "metadata": {},
   "source": [
    "# Microservices\n",
    "\n",
    "There are several meaningful similarities between LLM-based AI agents and microservices:\n",
    "\n",
    "## Similarities\n",
    "#### Specialized functionality: \n",
    "Both are designed to handle specific tasks or domains. Microservices focus on particular business capabilities, while AI agents can be specialized for specific types of interactions or knowledge domains.\n",
    "### Independent operation: \n",
    "Both can operate autonomously within their defined scope. Once configured, they can process requests without requiring constant supervision.\n",
    "### Communication patterns: \n",
    "Both typically communicate via messages/APIs. Microservices use REST/gRPC/messaging protocols, while AI agents receive prompts and return responses through APIs.\n",
    "### Composability: \n",
    "Both can be combined to build larger systems. Microservices can be orchestrated to create complex applications; similarly, multiple AI agents can work together in a workflow.\n",
    "### Statelessness vs. statefulness: \n",
    "Basic implementations of both can be stateless, but more sophisticated versions maintain state. The Agent class you showed maintains conversation history, similar to how some microservices maintain session state.\n",
    "### Scaling considerations: \n",
    "Both face similar operational challenges around scaling, monitoring, and versioning.\n",
    "\n",
    "## Key differences:\n",
    "\n",
    "### Implementation: \n",
    "Microservices are traditional code with deterministic logic, while LLM agents use probabilistic models. MCP Servers which expose tools to be used by Agents could be totally traditional code with deterministic logic.\n",
    "### Predictability: \n",
    "Microservices have more predictable outputs for given inputs, while LLM responses can vary.\n"
   ]
  },
  {
   "cell_type": "markdown",
   "id": "21b9ab57-7246-4c17-a9c1-2ccc9a7cc487",
   "metadata": {},
   "source": [
    "# AFTERWORD\n",
    "Agents are an extremely powerful construct in the field of Generative AI:\n",
    "1. You can achieve complex tasks designing appropriate agents and tools and driving interaction between the different agents.\n",
    "1. There are known ways by which we can improve accuracy of the output. Much like human beings help check one another's work, agents can do the same.\n",
    "1. External data retrieval and queries are carried out through the tools.\n",
    "1. If agent processing needs to be vetted, make sure humans are used (human-in-the-loop) to are used to vet the agent output before it moves to the next step. Really, this is no different to how we operate in our real life with human beings - we have review and approval processes etc."
   ]
  },
  {
   "cell_type": "code",
   "execution_count": null,
   "id": "78716910-84ca-42b6-9f2b-faa39f4df1fd",
   "metadata": {},
   "outputs": [],
   "source": []
  }
 ],
 "metadata": {
  "kernelspec": {
   "display_name": "Python 3 (ipykernel)",
   "language": "python",
   "name": "python3"
  },
  "language_info": {
   "codemirror_mode": {
    "name": "ipython",
    "version": 3
   },
   "file_extension": ".py",
   "mimetype": "text/x-python",
   "name": "python",
   "nbconvert_exporter": "python",
   "pygments_lexer": "ipython3",
   "version": "3.12.5"
  }
 },
 "nbformat": 4,
 "nbformat_minor": 5
}
